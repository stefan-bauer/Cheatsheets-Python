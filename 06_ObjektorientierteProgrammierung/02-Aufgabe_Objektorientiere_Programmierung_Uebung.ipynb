{
 "cells": [
  {
   "cell_type": "markdown",
   "metadata": {
    "collapsed": true
   },
   "source": [
    "# Objektorientierte Programmierung Übung - Aufgabe\n",
    "\n",
    "Quelle:Datamics\n",
    "\n",
    "## Aufgabe 1\n",
    "\n",
    "Fülle die `Linien` Klasse Methoden aus, um Koordinaten als Paar von Tupeln zu akzeptieren und Steigung sowie Distanz zu berechnen."
   ]
  },
  {
   "cell_type": "code",
   "execution_count": 1,
   "metadata": {
    "collapsed": true
   },
   "outputs": [],
   "source": [
    "class Linie(object):\n",
    "    \n",
    "    def __init__(self,koor1,koor2):\n",
    "        pass\n",
    "    \n",
    "    def distanz(self):\n",
    "        pass\n",
    "    \n",
    "    def steigung(self):\n",
    "        pass"
   ]
  },
  {
   "cell_type": "code",
   "execution_count": 2,
   "metadata": {
    "collapsed": true
   },
   "outputs": [],
   "source": [
    "# Beispielhaftes Ergebnis\n",
    "\n",
    "koordinate1 = (3,2)\n",
    "koordinate2 = (8,10)\n",
    "\n",
    "li = Linie(koordinate1,koordinate2)"
   ]
  },
  {
   "cell_type": "code",
   "execution_count": 3,
   "metadata": {
    "collapsed": true
   },
   "outputs": [],
   "source": [
    "li.distanz()"
   ]
  },
  {
   "cell_type": "code",
   "execution_count": 4,
   "metadata": {
    "collapsed": true
   },
   "outputs": [],
   "source": [
    "li.steigung()"
   ]
  },
  {
   "cell_type": "markdown",
   "metadata": {},
   "source": [
    "## Aufgabe 2\n",
    "\n",
    "Fülle die Klasse aus."
   ]
  },
  {
   "cell_type": "code",
   "execution_count": 6,
   "metadata": {
    "collapsed": true
   },
   "outputs": [],
   "source": [
    "class Zylinder(object):\n",
    "    def __init__(self,hoehe=1,radius=1):\n",
    "        pass\n",
    "    \n",
    "    def volumen(self):\n",
    "        pass\n",
    "    \n",
    "    def oberflaeche(self):\n",
    "        pass"
   ]
  },
  {
   "cell_type": "code",
   "execution_count": 8,
   "metadata": {
    "collapsed": true
   },
   "outputs": [],
   "source": [
    "# Beispielhaftes Ergebnis\n",
    "c = Zylinder(2,3)"
   ]
  },
  {
   "cell_type": "code",
   "execution_count": 9,
   "metadata": {
    "collapsed": true
   },
   "outputs": [],
   "source": [
    "c.volumen()"
   ]
  },
  {
   "cell_type": "code",
   "execution_count": 10,
   "metadata": {
    "collapsed": true
   },
   "outputs": [],
   "source": [
    "c.oberflaeche()"
   ]
  }
 ],
 "metadata": {
  "kernelspec": {
   "display_name": "Python 3",
   "language": "python",
   "name": "python3"
  },
  "language_info": {
   "codemirror_mode": {
    "name": "ipython",
    "version": 3
   },
   "file_extension": ".py",
   "mimetype": "text/x-python",
   "name": "python",
   "nbconvert_exporter": "python",
   "pygments_lexer": "ipython3",
   "version": "3.8.5"
  }
 },
 "nbformat": 4,
 "nbformat_minor": 2
}