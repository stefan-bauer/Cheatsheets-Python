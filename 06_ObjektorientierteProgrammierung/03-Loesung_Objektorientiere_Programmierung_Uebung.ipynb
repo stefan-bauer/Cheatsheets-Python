{
 "cells": [
  {
   "cell_type": "markdown",
   "metadata": {
    "collapsed": true
   },
   "source": [
    "# Objektorientierte Programmierung Übung - Lösung\n",
    "\n",
    "Quelle:Datamics\n",
    "\n",
    "## Aufgabe 1\n",
    "\n",
    "Fülle die `Linien` Klasse Methoden aus, um Koordinaten als Paar von Tupeln zu akzeptieren und Steigung sowie Distanz zu berechnen."
   ]
  },
  {
   "cell_type": "code",
   "execution_count": 1,
   "metadata": {
    "collapsed": true
   },
   "outputs": [],
   "source": [
    "class Linie(object):\n",
    "    \n",
    "    def __init__(self,koor1,koor2):\n",
    "        self.koor1 = koor1\n",
    "        self.koor2 = koor2\n",
    "    \n",
    "    def distanz(self):\n",
    "        x1,y1 = self.koor1\n",
    "        x2,y2 = self.koor2\n",
    "        return ( (x2-x1)**2 + (y2-y1)**2)**0.5\n",
    "    \n",
    "    def steigung(self):\n",
    "        x1,y1 = self.koor1\n",
    "        x2,y2 = self.koor2\n",
    "        return (y2-y1)/(x2-x1)"
   ]
  },
  {
   "cell_type": "code",
   "execution_count": 2,
   "metadata": {
    "collapsed": true
   },
   "outputs": [],
   "source": [
    "# Beispielhaftes Ergebnis\n",
    "\n",
    "koordinate1 = (3,2)\n",
    "koordinate2 = (8,10)\n",
    "\n",
    "li = Linie(koordinate1,koordinate2)"
   ]
  },
  {
   "cell_type": "code",
   "execution_count": 3,
   "metadata": {},
   "outputs": [
    {
     "output_type": "execute_result",
     "data": {
      "text/plain": [
       "9.433981132056603"
      ]
     },
     "metadata": {},
     "execution_count": 3
    }
   ],
   "source": [
    "li.distanz()"
   ]
  },
  {
   "cell_type": "code",
   "execution_count": 4,
   "metadata": {},
   "outputs": [
    {
     "output_type": "execute_result",
     "data": {
      "text/plain": [
       "1.6"
      ]
     },
     "metadata": {},
     "execution_count": 4
    }
   ],
   "source": [
    "li.steigung()"
   ]
  },
  {
   "cell_type": "markdown",
   "metadata": {},
   "source": [
    "## Aufgabe 2\n",
    "\n",
    "Fülle die Klasse aus."
   ]
  },
  {
   "cell_type": "code",
   "execution_count": 5,
   "metadata": {
    "collapsed": true
   },
   "outputs": [],
   "source": [
    "class Zylinder(object):\n",
    "    def __init__(self,hoehe=1,radius=1):\n",
    "        self.hoehe = hoehe\n",
    "        self.radius = radius\n",
    "    \n",
    "    def volumen(self):\n",
    "        return self.hoehe * (3.14) * (self.radius)**2\n",
    "    \n",
    "    def oberflaeche(self):\n",
    "        top = (3.14)*(self.radius)**2\n",
    "        return 2*top + 2*3.14*self.radius*self.hoehe"
   ]
  },
  {
   "cell_type": "code",
   "execution_count": 6,
   "metadata": {
    "collapsed": true
   },
   "outputs": [],
   "source": [
    "# Beispielhaftes Ergebnis\n",
    "c = Zylinder(2,3)"
   ]
  },
  {
   "cell_type": "code",
   "execution_count": 7,
   "metadata": {},
   "outputs": [
    {
     "output_type": "execute_result",
     "data": {
      "text/plain": [
       "56.52"
      ]
     },
     "metadata": {},
     "execution_count": 7
    }
   ],
   "source": [
    "c.volumen()"
   ]
  },
  {
   "cell_type": "code",
   "execution_count": 8,
   "metadata": {},
   "outputs": [
    {
     "output_type": "execute_result",
     "data": {
      "text/plain": [
       "94.2"
      ]
     },
     "metadata": {},
     "execution_count": 8
    }
   ],
   "source": [
    "c.oberflaeche()"
   ]
  }
 ],
 "metadata": {
  "kernelspec": {
   "display_name": "Python 3",
   "language": "python",
   "name": "python3"
  },
  "language_info": {
   "codemirror_mode": {
    "name": "ipython",
    "version": 3
   },
   "file_extension": ".py",
   "mimetype": "text/x-python",
   "name": "python",
   "nbconvert_exporter": "python",
   "pygments_lexer": "ipython3",
   "version": "3.8.5"
  }
 },
 "nbformat": 4,
 "nbformat_minor": 2
}