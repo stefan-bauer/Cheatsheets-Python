{
 "cells": [
  {
   "cell_type": "markdown",
   "metadata": {},
   "source": [
    "# Meilenstein Projekt 1: Schritt-für-Schritt Notebook\n",
    "\n",
    "Quelle: Datamics\n",
    "\n",
    "Hier findet ihr die Schritte, die euch den Weg zur Lösung weisen sollen:\n",
    "\n",
    "**Schritt 1**: Schreibt eine Funktion, die das Spielfeld ausgeben kann. Setzt euer Spielfeld als Liste auf, deren Indizes 1-9 mit den Nummern auf dem Zahlenfeld korrespondieren. So erhaltet ihr ein 3 x 3 Feld."
   ]
  },
  {
   "cell_type": "code",
   "execution_count": 1,
   "metadata": {
    "collapsed": true
   },
   "outputs": [],
   "source": [
    "from IPython.display import clear_output\n",
    "def spielfeld_anzeigen(spielfeld):\n",
    "    \n",
    "    pass"
   ]
  },
  {
   "cell_type": "markdown",
   "metadata": {},
   "source": [
    "**Schritt 2**: Schreibe eine Funktion, die die Eingabe des Spielers aufnehmen kann und deren Markierung als 'X' oder 'O' zuweist. Ihr könntet bspw. eine while Schleife verwenden, um so lange zu fragen, bis eine korrekte Antwort gegeben wurde.\n",
    "\n",
    "*Tipp*: Nutzereingaben kann man mit der Funktion `input()` abfragen. Mehr erfahrt ihr in der [Dokumentation](https://docs.python.org/3/library/functions.html#input)."
   ]
  },
  {
   "cell_type": "code",
   "execution_count": 2,
   "metadata": {
    "collapsed": true
   },
   "outputs": [],
   "source": [
    "def spieler_eingabe():\n",
    "    \n",
    "    pass"
   ]
  },
  {
   "cell_type": "markdown",
   "metadata": {},
   "source": [
    "**Schritt 3**: Schreibe eine Funktion, die im Spielfeld Listen Objekt eine Markierung ('X' oder 'O') und eine gewünschte Position (Nummer 1-9) nimmt, und sie dem Spielfeld zuweist."
   ]
  },
  {
   "cell_type": "code",
   "execution_count": 4,
   "metadata": {
    "collapsed": true
   },
   "outputs": [],
   "source": [
    "def markierung_setzen(spielfeld, markierung, position):\n",
    "    \n",
    "    pass"
   ]
  },
  {
   "cell_type": "markdown",
   "metadata": {},
   "source": [
    "**Schritt 4**: Schreibt eine Funktion, die das Spielfeld und eine Markierung ('X' oder 'O') nimmt, und überprüft, ob diese Markierung gewonnen hat."
   ]
  },
  {
   "cell_type": "code",
   "execution_count": 5,
   "metadata": {
    "collapsed": true
   },
   "outputs": [],
   "source": [
    "def sieg_check(spielfeld, markierung):\n",
    "    \n",
    "    pass"
   ]
  },
  {
   "cell_type": "markdown",
   "metadata": {},
   "source": [
    "**Schritt 5**: Schreibt eine Funktion, die das random Modul nutzt, um zufällig zu entscheiden, welcher Spieler beginnen darf. Ihr könntet dazu random.randint() nachschlagen. Gebt einen String aus, der anzeigt, welcher Spieler beginnen darf."
   ]
  },
  {
   "cell_type": "code",
   "execution_count": 6,
   "metadata": {
    "collapsed": true
   },
   "outputs": [],
   "source": [
    "import random\n",
    "def beginner():\n",
    "    \n",
    "    pass"
   ]
  },
  {
   "cell_type": "markdown",
   "metadata": {},
   "source": [
    "**Schritt 6**: Schreibt eine Funktion, die überprüft, ob eine Position frei ist und einen Boolean Wert ausgibt."
   ]
  },
  {
   "cell_type": "code",
   "execution_count": 7,
   "metadata": {
    "collapsed": true
   },
   "outputs": [],
   "source": [
    "def platz_check(spielfeld, position):\n",
    "    \n",
    "    pass"
   ]
  },
  {
   "cell_type": "markdown",
   "metadata": {},
   "source": [
    "**Schritt 7**: Schreibt eine Funktion, die überprüft, ob das Spielfeld voll besetzt ist. Ist dies der Fall, soll True ausgegeben werden."
   ]
  },
  {
   "cell_type": "code",
   "execution_count": 8,
   "metadata": {
    "collapsed": true
   },
   "outputs": [],
   "source": [
    "def spielfeld_voll(spielfeld):\n",
    "    \n",
    "    pass"
   ]
  },
  {
   "cell_type": "markdown",
   "metadata": {},
   "source": [
    "**Schritt 8**: Schreibt eine Funktion, die den Spieler nach seiner nächsten Position (Nummer 1-9) fragt. Dann soll die Funktion aus Schritt 6 genutzt werden, um zu kontrollieren, ob diese noch frei ist. Sofern sie frei ist, soll die Position für spätere Nutzung übergeben werden."
   ]
  },
  {
   "cell_type": "code",
   "execution_count": 9,
   "metadata": {
    "collapsed": true
   },
   "outputs": [],
   "source": [
    "def spieler_wahl(spielfeld):\n",
    "    \n",
    "    pass"
   ]
  },
  {
   "cell_type": "markdown",
   "metadata": {},
   "source": [
    "**Schritt 9**: Schreibt eine Funktion, die die Spieler fragt, ob sie erneut spielen wollen. Tuen sie das, soll True übergeben werden."
   ]
  },
  {
   "cell_type": "code",
   "execution_count": 10,
   "metadata": {
    "collapsed": true
   },
   "outputs": [],
   "source": [
    "def neues_spiel():\n",
    "    \n",
    "    pass"
   ]
  },
  {
   "cell_type": "markdown",
   "metadata": {},
   "source": [
    "**Schritt 10**: Jetzt kommt der schwierigste Teil. Nutzt while Schleifen und die Funktion, die ihr bereits erstellt habt, um das Spiel auszuführen!"
   ]
  },
  {
   "cell_type": "code",
   "execution_count": 11,
   "metadata": {},
   "outputs": [
    {
     "name": "stdout",
     "output_type": "stream",
     "text": [
      "Willkommen bei Tic Tac Toe!\n"
     ]
    }
   ],
   "source": [
    "print(\"Willkommen bei Tic Tac Toe!\")\n",
    "\n",
    "# while True:\n",
    "    # Spiel aufbauen\n",
    "    # pass\n",
    "    \n",
    "    # while wird_gespielt:\n",
    "        # Zug Spieler 1\n",
    "        \n",
    "        # Zug Spieler 2\n",
    "        \n",
    "            # pass\n",
    "            \n",
    "    # if not neues_spiel():\n",
    "        # break"
   ]
  },
  {
   "cell_type": "markdown",
   "metadata": {},
   "source": [
    "## Gut gemacht!"
   ]
  }
 ],
 "metadata": {
  "kernelspec": {
   "display_name": "Python 3",
   "language": "python",
   "name": "python3"
  },
  "language_info": {
   "codemirror_mode": {
    "name": "ipython",
    "version": 3
   },
   "file_extension": ".py",
   "mimetype": "text/x-python",
   "name": "python",
   "nbconvert_exporter": "python",
   "pygments_lexer": "ipython3",
   "version": "3.8.5"
  }
 },
 "nbformat": 4,
 "nbformat_minor": 2
}