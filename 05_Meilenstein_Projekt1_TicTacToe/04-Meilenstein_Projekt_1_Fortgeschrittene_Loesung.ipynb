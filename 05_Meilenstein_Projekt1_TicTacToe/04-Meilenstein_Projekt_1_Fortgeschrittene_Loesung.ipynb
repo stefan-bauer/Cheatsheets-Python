{
 "cells": [
  {
   "cell_type": "markdown",
   "metadata": {
    "collapsed": true
   },
   "source": [
    "# Tic Tac Toe\n",
    "\n",
    "Quelle: Datamics\n",
    "\n",
    "Das ist die fortgeschrittene Lösung für das 1. Meilenstein Projekt. Ein zwei Spieler Tic Tac Toe Spiel, erstellt mit einem Jupyter Notebook. Ladet dieses Notebook gerne herunter, um nachzuvollziehen, wie es funktioniert!\n",
    "\n",
    "Zuerst ein Import und einige globale Variablen:"
   ]
  },
  {
   "cell_type": "code",
   "execution_count": 1,
   "metadata": {
    "collapsed": true
   },
   "outputs": [],
   "source": [
    "# Speziell für die iPython Notebooks\n",
    "from IPython.display import clear_output\n",
    "\n",
    "# Globale Variablen\n",
    "feld = [' '] * 10\n",
    "status = True\n",
    "auskunft = \"\""
   ]
  },
  {
   "cell_type": "markdown",
   "metadata": {},
   "source": [
    "Als nächstes eine Funktion, die das Spielfeld zurücksetzt. Wir nutzen eine Liste, um die Werte zu speichern."
   ]
  },
  {
   "cell_type": "code",
   "execution_count": 2,
   "metadata": {
    "collapsed": true
   },
   "outputs": [],
   "source": [
    "# Hinweis: Das Spiel wird Index 0 ignorieren\n",
    "def spielfeld_reset():\n",
    "    global feld, status\n",
    "    feld = [' '] * 10\n",
    "    status = True"
   ]
  },
  {
   "cell_type": "markdown",
   "metadata": {},
   "source": [
    "Jetzt erstellen wir eine Funktion, die das Spielfeld anzeigt. Ich nutze das Zahlenfeld als Referenz."
   ]
  },
  {
   "cell_type": "code",
   "execution_count": 3,
   "metadata": {
    "collapsed": true
   },
   "outputs": [],
   "source": [
    "def feld_anzeigen():\n",
    "    '''Diese Funktion zeigt das Spielfeld an, damit das Zahlenfeld als Referenz genutzt werden kann.'''\n",
    "    # Aktuellen Zellen Output löschen\n",
    "    clear_output()\n",
    "    # Spielfeld anzeigen\n",
    "    print(\"  \"+feld[7]+\" |\"+feld[8]+\" | \"+feld[9]+\" \")\n",
    "    print(\"------------\")\n",
    "    print(\"  \"+feld[4]+\" |\"+feld[5]+\" | \"+feld[6]+\" \")\n",
    "    print(\"------------\")\n",
    "    print(\"  \"+feld[1]+\" |\"+feld[2]+\" | \"+feld[3]+\" \")"
   ]
  },
  {
   "cell_type": "markdown",
   "metadata": {},
   "source": [
    "Anschließend definiere ich eine Funktion, die überprüft, ob ein Sieg vorliegt:"
   ]
  },
  {
   "cell_type": "code",
   "execution_count": 4,
   "metadata": {
    "collapsed": true
   },
   "outputs": [],
   "source": [
    "def sieg_check(feld, spieler):\n",
    "    '''Überprüft horizontale, vertikale und diagonale Sieg-Kombinationen.'''\n",
    "    if (feld[7]  ==  feld[8] ==  feld[9] == spieler) or \\\n",
    "        (feld[4] ==  feld[5] ==  feld[6] == spieler) or \\\n",
    "        (feld[1] ==  feld[2] ==  feld[3] == spieler) or \\\n",
    "        (feld[7] ==  feld[4] ==  feld[1] == spieler) or \\\n",
    "        (feld[8] ==  feld[5] ==  feld[2] == spieler) or \\\n",
    "        (feld[9] ==  feld[6] ==  feld[3] == spieler) or \\\n",
    "        (feld[1] ==  feld[5] ==  feld[9] == spieler) or \\\n",
    "        (feld[3] ==  feld[5] ==  feld[7] == spieler):\n",
    "        return True\n",
    "    else:\n",
    "        return False"
   ]
  },
  {
   "cell_type": "markdown",
   "metadata": {},
   "source": [
    "Eine Funktion, die überprüft ob das Feld schon komplett voll ist und ein Unentschieden vorliegt. Denkt daran, dass Index 0 immer Leer sein wird:"
   ]
  },
  {
   "cell_type": "code",
   "execution_count": 5,
   "metadata": {
    "collapsed": true
   },
   "outputs": [],
   "source": [
    "def feld_voll(feld):\n",
    "    '''Funktion, die überprüft, ob das Spielfeld voll ist'''\n",
    "    if \" \" in feld[1:]:\n",
    "        return False\n",
    "    else:\n",
    "        return True"
   ]
  },
  {
   "cell_type": "markdown",
   "metadata": {},
   "source": [
    "Als nächstes stelle ich eine Funktion auf, um die Spielereingabe zu erhalten und einige Kontrollen durchzuführen:"
   ]
  },
  {
   "cell_type": "code",
   "execution_count": 6,
   "metadata": {
    "collapsed": true
   },
   "outputs": [],
   "source": [
    "def spieler_fragen(markierung):\n",
    "    '''Fragt den Spieler wo er X oder O platzieren möchte; überprüft Validität'''\n",
    "    global feld\n",
    "    frage = \"Wähle wo dein \" + markierung + \" plaziert werden soll.\"\n",
    "    while True:\n",
    "        try:\n",
    "            wahl = int(input(frage))\n",
    "        except ValueError:\n",
    "            print(\"Entschuldigung, bitte gebe eine Zahl zwischen 1 und 9 ein.\")\n",
    "            continue\n",
    "            \n",
    "        if wahl not in range(1,10):\n",
    "            print(\"Entschuldigung, bitte gebe eine Zahl zwischen 1 und 9 ein.\")\n",
    "            continue\n",
    "        \n",
    "        if feld[wahl] == \" \":\n",
    "            feld[wahl] = markierung\n",
    "            break\n",
    "        else:\n",
    "            print(\"Dieses Feld ist nicht frei!\")\n",
    "            continue"
   ]
  },
  {
   "cell_type": "markdown",
   "metadata": {},
   "source": [
    "Nun folgt eine Funktion, die die Wahl des Spielers (per spieler_fragen Funktion) nimmt und den Spielstand ausgibt."
   ]
  },
  {
   "cell_type": "code",
   "execution_count": 7,
   "metadata": {
    "collapsed": true
   },
   "outputs": [],
   "source": [
    "def spieler_wahl(markierung):\n",
    "    global feld, status, auskunft\n",
    "    # Auskunft zurücksetzen\n",
    "    auskunft = \"\"\n",
    "    # Spieler Eingabe erhalten\n",
    "    markierung = str(markierung)\n",
    "    # Eingabe validieren\n",
    "    spieler_fragen(markierung)\n",
    "    \n",
    "    # Sieg des Spielers überprüfen\n",
    "    if sieg_check(feld,markierung):\n",
    "        clear_output()\n",
    "        feld_anzeigen()\n",
    "        auskunft = markierung + \" gewinnt! Glückwunsch!\"\n",
    "        status = False\n",
    "        \n",
    "    # Feld anzeigen\n",
    "    clear_output()\n",
    "    feld_anzeigen()\n",
    "    \n",
    "    # Unentschieden kontrollieren\n",
    "    if feld_voll(feld):\n",
    "        auskunft = \"Unentschieden!\"\n",
    "        status = False\n",
    "        \n",
    "    return status, auskunft"
   ]
  },
  {
   "cell_type": "markdown",
   "metadata": {},
   "source": [
    "Und zu guter Letzt alles zusammenbringen, um das Spiel zu spielen."
   ]
  },
  {
   "cell_type": "code",
   "execution_count": null,
   "metadata": {
    "collapsed": true
   },
   "outputs": [],
   "source": [
    "def spiel_starten():\n",
    "    spielfeld_reset()\n",
    "    global auskunft\n",
    "    \n",
    "    # Markierungen festlegen\n",
    "    X = \"X\"\n",
    "    O = \"O\"\n",
    "    while True:\n",
    "        # Zeige Spielfeld\n",
    "        clear_output()\n",
    "        feld_anzeigen()\n",
    "        \n",
    "        # Zug Spieler X\n",
    "        status, auskunft = spieler_wahl(X)\n",
    "        print(auskunft)\n",
    "        if status == False:\n",
    "            break\n",
    "            \n",
    "        # Zug Spieler O\n",
    "        status, auskunft = spieler_wahl(O)\n",
    "        print(auskunft)\n",
    "        if status == False:\n",
    "            break\n",
    "            \n",
    "    # Die Spieler nach einem neuen Spiel fragen\n",
    "    neues_spiel = input(\"Neues Spiel? j/n\")\n",
    "    if neues_spiel == \"j\":\n",
    "        spiel_starten()\n",
    "    else:\n",
    "        print(\"Danke fürs Spielen!\")"
   ]
  },
  {
   "cell_type": "markdown",
   "metadata": {},
   "source": [
    "Los geht's!"
   ]
  },
  {
   "cell_type": "code",
   "execution_count": null,
   "metadata": {},
   "outputs": [
    {
     "name": "stdout",
     "output_type": "stream",
     "text": [
      "    |  |   \n",
      "------------\n",
      "    |  |   \n",
      "------------\n",
      "    |  |   \n"
     ]
    }
   ],
   "source": [
    "spiel_starten()"
   ]
  }
 ],
 "metadata": {
  "kernelspec": {
   "display_name": "Python 3",
   "language": "python",
   "name": "python3"
  },
  "language_info": {
   "codemirror_mode": {
    "name": "ipython",
    "version": 3
   },
   "file_extension": ".py",
   "mimetype": "text/x-python",
   "name": "python",
   "nbconvert_exporter": "python",
   "pygments_lexer": "ipython3",
   "version": "3.8.5"
  }
 },
 "nbformat": 4,
 "nbformat_minor": 2
}