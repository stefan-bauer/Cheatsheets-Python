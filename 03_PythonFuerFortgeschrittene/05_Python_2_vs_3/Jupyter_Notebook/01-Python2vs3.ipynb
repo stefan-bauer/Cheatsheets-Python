{
 "cells": [
  {
   "cell_type": "markdown",
   "metadata": {},
   "source": [
    "# Python 2.7.x vs. Python 3.x\n",
    "\n",
    "Quelle: Datamics"
   ]
  },
  {
   "cell_type": "markdown",
   "metadata": {
    "collapsed": true
   },
   "source": [
    "In dieser Bonuslektion möchten wir auf die wichtigsten Unterschiede zwischen den Python Versionen 2.7.x und 3.x eingehen. Wir werden insgesamt folgende Unterkapitel behandeln:\n",
    "\n",
    "1. Das __future__ Modul\n",
    "2. Die print Funktion\n",
    "3. Integer Division\n",
    "4. xrange\n",
    "5. Ausnahmen erzeugen\n",
    "6. Ausnahmen handhaben\n",
    "7. Die next() Funktion und die .next() Methode\n",
    "8. For-Schleifen Variablen und das globale Namensbereich Leck\n",
    "9. User-Inputs via input() verarbeiten\n",
    "10. Iterierbare Objekte statt Listen zurückgeben\n",
    "11. Banker Rundungen\n",
    "\n",
    "*Notiz zur Ausführung: Da wir aktuell in einer Python 3 Umgebung arbeiten, können nicht alle Ergebnisse durch Ausführen des Codes erzeugt werden. Wir haben sie in den Kommentaren (#) hinterlegt.* "
   ]
  },
  {
   "cell_type": "markdown",
   "metadata": {},
   "source": [
    "## 1. Das __future__ Modul\n",
    "\n",
    "Python 3.x führte einige Python 2 inkompatible Stichworte und Features ein. Sie können durch das `__future__` Modul in Python 2 importiert werden. Das `__future__` Modul zu nutzen wird immer dan empfohlen, wenn Python 3.x Support für euren Python 2 Code vorgesehen ist. Ein Beispiel:"
   ]
  },
  {
   "cell_type": "code",
   "execution_count": null,
   "metadata": {
    "collapsed": true
   },
   "outputs": [],
   "source": [
    "from __future__ import division"
   ]
  },
  {
   "cell_type": "markdown",
   "metadata": {},
   "source": [
    "Mehr Features, die durch `__future__` importiert werden können sehr ihr in dieser Tabelle:\n",
    "\n",
    "<table class=\"table table-bordered\">\n",
    "<tr>\n",
    "<th style=\"width:30%\">Feature</th>\n",
    "<th style=\"width:20%\">Optional in</th>\n",
    "<th style=\"width:20%\">Erfordert in</th>\n",
    "<th>Effekt</th>\n",
    "</tr>\n",
    "<tr>\n",
    "<td>nested_scopes</td>\n",
    "<td>2.1.0b1</td>\n",
    "<td>2.2</td>\n",
    "<td>[PEP 227](https://www.python.org/dev/peps/pep-0227/)</td>\n",
    "</tr>\n",
    "<tr>\n",
    "<td>gernerators</td>\n",
    "<td>2.2.0a1</td>\n",
    "<td>2.3</td>\n",
    "<td>[PEP 255](https://www.python.org/dev/peps/pep-0255/)</td>\n",
    "</tr>\n",
    "<tr>\n",
    "<td>division</td>\n",
    "<td>2.2.0a2</td>\n",
    "<td>3.0</td>\n",
    "<td>[PEP 238](https://www.python.org/dev/peps/pep-0238/)</td>\n",
    "</tr>\n",
    "<tr>\n",
    "<td>absolute_import</td>\n",
    "<td>2.5.0a1</td>\n",
    "<td>3.0</td>\n",
    "<td>[PEP 328](https://www.python.org/dev/peps/pep-0328/)</td>\n",
    "</tr>\n",
    "<tr>\n",
    "<td>with_statement</td>\n",
    "<td>2.5.0a1</td>\n",
    "<td>2.6</td>\n",
    "<td>[PEP 343](https://www.python.org/dev/peps/pep-0343/)</td>\n",
    "</tr>\n",
    "<tr>\n",
    "<td>print_function</td>\n",
    "<td>2.6.0a2</td>\n",
    "<td>3.0</td>\n",
    "<td>[PEP 3105](https://www.python.org/dev/peps/pep-3105/)</td>\n",
    "</tr>\n",
    "<tr>\n",
    "<td>unicode_literals</td>\n",
    "<td>2.6.0a2</td>\n",
    "<td>3.0</td>\n",
    "<td>[PEP 3112](https://www.python.org/dev/peps/pep-3112/)</td>\n",
    "</tr>\n",
    "</table>"
   ]
  },
  {
   "cell_type": "markdown",
   "metadata": {},
   "source": [
    "## 2. Die print Funktion\n",
    "\n",
    "Eine relativ triviale Änderung, die gleichzeitig die vermutlich bekannteste ist: die `print` Funktion. Die print Anweisung aus Python 2 wurde durch die print() Funktion ersetzt. \n",
    "\n",
    "Die Abwärtskompatibilität ist insofern gewährleistet, als dass Python 2 kein Problem mit zusätzlichen Klammern hat. Python 3 hingegen würde einen `SyntaxError` ausgeben, wenn wir unsere Anweisung in der Python 2 Schreibweise erteilen. \n",
    "\n",
    "### Python 2"
   ]
  },
  {
   "cell_type": "code",
   "execution_count": null,
   "metadata": {
    "collapsed": true
   },
   "outputs": [],
   "source": [
    "print \"Python\"\n",
    "print \"Hallo, Welt!\"\n",
    "print(\"Hallo, Welt!\")"
   ]
  },
  {
   "cell_type": "markdown",
   "metadata": {},
   "source": [
    "### Python 3"
   ]
  },
  {
   "cell_type": "code",
   "execution_count": null,
   "metadata": {
    "collapsed": true
   },
   "outputs": [],
   "source": [
    "print(\"Python\")\n",
    "print(\"Hallo, Welt!\")\n",
    "print(\"Klammern sind in Python 3 ein Muss!\")"
   ]
  },
  {
   "cell_type": "markdown",
   "metadata": {},
   "source": [
    "## 3. Integer Division\n",
    "\n",
    "An dieser Stelle ist besondere Vorsicht geboten, sollte man Code von Python 2 zu 3 übertragen. Oder, wenn man Python 3 Code in Python 2 ausführt. Das rührt daher, dass die Umstellung der Integer Division keinen `Syntaxerror` erzeugt. \n",
    "\n",
    "Python 3 führt *echte Division* durch, wohingegen Python 2 *klassische Division* nutzt. Der Unterschied liegt darin, dass bei klassischer Division keine Nachkommastellen berücksichtigt werden. Es gibt einen *Rest*.\n",
    "\n",
    "Um Probleme in Python 2 zu vermeiden, kann man auch in Python 3 dabei bleiben `float(3)/2` oder `3/2.0` zu schreiben. Und in Python 2 bietet es sich an, folgenden Code einzubauen: \n",
    "\n",
    "    from __future__ import division\n",
    "\n",
    "### Python 2"
   ]
  },
  {
   "cell_type": "code",
   "execution_count": null,
   "metadata": {
    "collapsed": true
   },
   "outputs": [],
   "source": [
    "3/2          # = 1\n",
    "3.0/2        # = 1.5\n",
    "float(3)/2   # = 1.5"
   ]
  },
  {
   "cell_type": "markdown",
   "metadata": {},
   "source": [
    "### Python 3"
   ]
  },
  {
   "cell_type": "code",
   "execution_count": null,
   "metadata": {
    "collapsed": true
   },
   "outputs": [],
   "source": [
    "3/2          # = 1.5\n",
    "3.0/2        # = 1.5\n",
    "float(3)/2   # = 1.5"
   ]
  },
  {
   "cell_type": "markdown",
   "metadata": {},
   "source": [
    "## 4. xrange\n",
    "\n",
    "Die Benutzung von `xrange()` ist in Python 2.x sehr verbreitet, um ein iterierbares Objekt bspw. in einer for-Schleife oder einer Listen Abstraktion zu erstellen. Das Verhalten von xrange ähnelte dem eines Generators stark, wobei die Iteration nicht endlich war. D.h. wir konnten über ein solches Objekt unendlich oft iterieren. \n",
    "\n",
    "In Python 3 wurde die `range()` Funktion direkt wie `xrange()` (aus Python 2) implementiert. Eine explizite `xrange()` Funktion existiert nicht mehr und deren Aufruf würde zu einem `NameError` führen."
   ]
  },
  {
   "cell_type": "code",
   "execution_count": 3,
   "metadata": {
    "collapsed": true
   },
   "outputs": [],
   "source": [
    "import timeit\n",
    "\n",
    "n = 10000\n",
    "def test_range(n):\n",
    "    for i in range(n):\n",
    "        pass\n",
    "\n",
    "def test_xrange(n):\n",
    "    for i in xrange(n):\n",
    "        pass"
   ]
  },
  {
   "cell_type": "markdown",
   "metadata": {},
   "source": [
    "### Python 2"
   ]
  },
  {
   "cell_type": "code",
   "execution_count": null,
   "metadata": {
    "collapsed": true
   },
   "outputs": [],
   "source": [
    "print 'Zeit messen für range()'\n",
    "%timeit test_range(n)\n",
    "\n",
    "print '\\nZeit messen für xrange()'\n",
    "%timeit test_xrange(n)\n",
    "\n",
    "# Zeit messen für range()\n",
    "# 1000 loops, best of 3: 433 µs per loop\n",
    "# Zeit messen für xrange()\n",
    "# 1000 loops, best of 3: 350 µs per loop"
   ]
  },
  {
   "cell_type": "markdown",
   "metadata": {},
   "source": [
    "### Python 3"
   ]
  },
  {
   "cell_type": "code",
   "execution_count": null,
   "metadata": {
    "collapsed": true
   },
   "outputs": [],
   "source": [
    "print 'Zeit messen für range()'\n",
    "%timeit test_range(n)\n",
    "\n",
    "print '\\nZeit messen für xrange()'\n",
    "%timeit test_xrange(n)\n",
    "\n",
    "# Zeit messen für range()\n",
    "# 1000 loops, best of 3: 520 µs per loop\n",
    "# NameError: name 'xrange' is not defined"
   ]
  },
  {
   "cell_type": "markdown",
   "metadata": {},
   "source": [
    "## 5. Ausnahmen erzeugen\n",
    "\n",
    "Wo Python 2 noch die \"alte\" und \"neue\" Syntax zum Erzeugen einer Ausnahme erlaubt hat, können wir in Python 3 lediglich die \"neue\" verwenden.\n",
    "\n",
    "### Python 2"
   ]
  },
  {
   "cell_type": "code",
   "execution_count": null,
   "metadata": {
    "collapsed": true
   },
   "outputs": [],
   "source": [
    "raise IOError, \"file error\"  # IOError: file error\n",
    "raise IOError(\"file error\")  # IOError: file error"
   ]
  },
  {
   "cell_type": "markdown",
   "metadata": {},
   "source": [
    "### Python 3"
   ]
  },
  {
   "cell_type": "code",
   "execution_count": null,
   "metadata": {
    "collapsed": true
   },
   "outputs": [],
   "source": [
    "raise IOError, \"file error\"  # invalid syntax\n",
    "raise IOError(\"file error\")  # IOError: file error"
   ]
  },
  {
   "cell_type": "markdown",
   "metadata": {},
   "source": [
    "## 6. Ausnahmen handhaben\n",
    "\n",
    "Neben dem Erzeugen von Ausnahmen gab es auch Änderungen an der Handhabung von ihnen. Wir müssen in Python 3 das \"as\" Stichwort benutzen.\n",
    "\n",
    "### Python 2"
   ]
  },
  {
   "cell_type": "code",
   "execution_count": null,
   "metadata": {
    "collapsed": true
   },
   "outputs": [],
   "source": [
    "try:\n",
    "    lasst_uns_einen_NameError_erzeugen\n",
    "except NameError, err:\n",
    "    print err, \"--> Unsere Error Meldung\"\n",
    "    \n",
    "# name 'lasst_uns_einen_NameError_erzeugen' is not defined ---> Unsere Error Meldung"
   ]
  },
  {
   "cell_type": "markdown",
   "metadata": {},
   "source": [
    "### Python 3"
   ]
  },
  {
   "cell_type": "code",
   "execution_count": null,
   "metadata": {
    "collapsed": true
   },
   "outputs": [],
   "source": [
    "try:\n",
    "    lasst_uns_einen_NameError_erzeugen\n",
    "except NameError as err:\n",
    "    print err, \"--> Unsere Error Meldung\"\n",
    "    \n",
    "# name 'lasst_uns_einen_NameError_erzeugen' is not defined ---> Unsere Error Meldung"
   ]
  },
  {
   "cell_type": "markdown",
   "metadata": {},
   "source": [
    "## 7. Die next() Funktion und die .next() Methode\n",
    "\n",
    "Da die `next()` (`.next()`) Funktion (Methode) so häufig verwendet werden, möchten wir auch hier auf die Änderung eingehen: In Python 2 konnte man beides nutzen, um das nächste Element eines Iterierbaren Obbjekts zu erhalten.\n",
    "\n",
    "In Python 3 wurde nur die `next()` Funktion erhalten. Rufen wir die `.next()` Methode auf, so erhalten wir einen `AttributeError`.\n",
    "\n",
    "### Python 2"
   ]
  },
  {
   "cell_type": "code",
   "execution_count": null,
   "metadata": {
    "collapsed": true
   },
   "outputs": [],
   "source": [
    "generator = (buchstabe for buchstabe in \"abcdefg\")\n",
    "\n",
    "next(generator)  # = a\n",
    "generator.next() # = b"
   ]
  },
  {
   "cell_type": "markdown",
   "metadata": {},
   "source": [
    "### Python 3"
   ]
  },
  {
   "cell_type": "code",
   "execution_count": null,
   "metadata": {
    "collapsed": true
   },
   "outputs": [],
   "source": [
    "generator = (buchstabe for buchstabe in \"abcdefg\")\n",
    "\n",
    "next(generator)  # = a\n",
    "generator.next() # = AttributeError"
   ]
  },
  {
   "cell_type": "markdown",
   "metadata": {},
   "source": [
    "## 8. For-Schleifen Variablen und das globale Namensbereich Leck\n",
    "\n",
    "In Python 3 werden die Variablen aus for-Schleifen nicht länger an den globalen Namensbereich übergeben! Das möchten wir an einem Beispiel verdeutlichen:\n",
    "\n",
    "### Python 2"
   ]
  },
  {
   "cell_type": "code",
   "execution_count": null,
   "metadata": {
    "collapsed": true
   },
   "outputs": [],
   "source": [
    "i = 1\n",
    "print \"Zuerst: i = \", i                       # i = 1\n",
    "print \"Abstarktion: \", [i for i in range(5)]  # [0, 1, 2, 3, 4]\n",
    "print \"Danach: i = \", i                       # 1 = 4"
   ]
  },
  {
   "cell_type": "markdown",
   "metadata": {},
   "source": [
    "### Python 3"
   ]
  },
  {
   "cell_type": "code",
   "execution_count": null,
   "metadata": {
    "collapsed": true
   },
   "outputs": [],
   "source": [
    "i = 1\n",
    "print(\"Zuerst: i = \", i)                       # i = 1\n",
    "print(\"Abstarktion: \", [i for i in range(5)])  # [0, 1, 2, 3, 4]\n",
    "print(\"Danach: i = \", i)                       # 1 = 1"
   ]
  },
  {
   "cell_type": "markdown",
   "metadata": {},
   "source": [
    "## 9. User-Inputs via input() verarbeiten\n",
    "\n",
    "Die `input()` Funktion wurde so überarbeitet, dass der User-Input in Python 3 immer als `str` Objekt gespeichert wird. So kann verhindert werden, dass andere (potentiell gefährdende) Datentypen eigegeben werden.\n",
    "\n",
    "Um diese potentielle Gefahr in Python 2 zu umgehen, müssen wir `raw_input()` verwenden.\n",
    "\n",
    "### Python 2"
   ]
  },
  {
   "cell_type": "code",
   "execution_count": null,
   "metadata": {
    "collapsed": true
   },
   "outputs": [],
   "source": [
    "mein_input = input(\"Gib eine Zahl ein: \")\n",
    "# Gibt eine Zahl ein: 123\n",
    "type(mein_input)    # <type 'int'>\n",
    "\n",
    "mein_input = raw_input(\"Gib eine Zahl ein: \")\n",
    "# Gibt eine Zahl ein: 123\n",
    "type(mein_input)    # <type 'str'>"
   ]
  },
  {
   "cell_type": "markdown",
   "metadata": {},
   "source": [
    "### Python 3"
   ]
  },
  {
   "cell_type": "code",
   "execution_count": null,
   "metadata": {
    "collapsed": true
   },
   "outputs": [],
   "source": [
    "mein_input = input(\"Gib eine Zahl ein: \")\n",
    "# Gibt eine Zahl ein: 123\n",
    "type(mein_input)    # <class 'str'>"
   ]
  },
  {
   "cell_type": "markdown",
   "metadata": {},
   "source": [
    "## 10. Iterierbare Objekte statt Listen zurückgeben\n",
    "\n",
    "Wie wir bereits bei **4. xrange** gesehen haben, geben manche Funktionen und Methoden in Python 3 iterierbare Objekte zurück, anstatt wie in Python 2 Listen.\n",
    "\n",
    "Da wir meistens nur einmal über solche Objekte iterieren, ergibt diese Umstellung insofern Sinn, als dass sie Speicherkapazität spart. \n",
    "\n",
    "Wenn wir wirklich ein `list`-Objekt benötigen, dann können wir diese Objekte einfach mit der `list()` Funktion konvertieren.\n",
    "\n",
    "### Python 2"
   ]
  },
  {
   "cell_type": "code",
   "execution_count": null,
   "metadata": {
    "collapsed": true
   },
   "outputs": [],
   "source": [
    "print range(3)        # [0, 1, 2]\n",
    "print type(range(3))  # <type 'list'>"
   ]
  },
  {
   "cell_type": "markdown",
   "metadata": {},
   "source": [
    "### Python 3"
   ]
  },
  {
   "cell_type": "code",
   "execution_count": null,
   "metadata": {
    "collapsed": true
   },
   "outputs": [],
   "source": [
    "print(range(3))        # range(0, 3)\n",
    "print(type(range(3)))  # <class 'range'>\n",
    "print(list(range(3)))  # [0, 1, 2]"
   ]
  },
  {
   "cell_type": "markdown",
   "metadata": {},
   "source": [
    "## 11. Banker Rundungen\n",
    "\n",
    "Python 3 adaptierte den neuen Standard, um Dezimalzahlen zu runden, wenn wir .5 an der letzten relevanten Stelle vorfinden. Jetzt, in Python 3, werden solche Zahlen zur nächsten geraden Zahl gerundet. So soll der Tendenz zu großen Zahlen entgegengewirkt werden. Für weitere Informationen empfehlen wir folgende (*englische*) Artikel auf Wikipedia:\n",
    "\n",
    "* [Rounding](https://en.wikipedia.org/wiki/Rounding#Round_half_to_even)\n",
    "* [Floating Point](https://en.wikipedia.org/wiki/IEEE_floating_point#Roundings_to_nearest)\n",
    "\n",
    "### Python 2"
   ]
  },
  {
   "cell_type": "code",
   "execution_count": null,
   "metadata": {
    "collapsed": true
   },
   "outputs": [],
   "source": [
    "round(15.5) # = 16\n",
    "round(16.5) # = 17"
   ]
  },
  {
   "cell_type": "markdown",
   "metadata": {},
   "source": [
    "### Python 3"
   ]
  },
  {
   "cell_type": "code",
   "execution_count": null,
   "metadata": {
    "collapsed": true
   },
   "outputs": [],
   "source": [
    "round(15.5) # = 16\n",
    "round(16.5) # = 16"
   ]
  },
  {
   "cell_type": "markdown",
   "metadata": {},
   "source": [
    "## Abschluss\n",
    "Damit sind wir am Ende dieser Lektion angelangt. Ich hoffe ihr konntet somit alle wesentlichen Unterschiede zwischen Python 3.x und Python 2.7.x nachvollziehen und verstehen. Dieses Bonuskapitel sollte euch insbesondere auf den Fall vorbereiten, indem ihr auf die Kompatibilität eures Codes mit beiden Python Versionen achten müsst.\n",
    "\n",
    "### Weiterhin viel Erfolg mit Python!"
   ]
  }
 ],
 "metadata": {
  "kernelspec": {
   "display_name": "Python 3",
   "language": "python",
   "name": "python3"
  },
  "language_info": {
   "codemirror_mode": {
    "name": "ipython",
    "version": 3
   },
   "file_extension": ".py",
   "mimetype": "text/x-python",
   "name": "python",
   "nbconvert_exporter": "python",
   "pygments_lexer": "ipython3",
   "version": "3.8.5"
  }
 },
 "nbformat": 4,
 "nbformat_minor": 2
}