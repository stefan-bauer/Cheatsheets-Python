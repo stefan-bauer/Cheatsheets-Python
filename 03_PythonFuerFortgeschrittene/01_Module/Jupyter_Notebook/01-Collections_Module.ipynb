{
 "cells": [
  {
   "cell_type": "markdown",
   "metadata": {},
   "source": [
    "# Collections Module\n",
    "\n",
    "Quelle: Datamics\n",
    "\n",
    "Das Collections (dt.: Sammlungen) Modul ist ein vorinstalliertes (built-in) Modul, das spezielle Behälter Daten typen implementiert, die eine Alternative zu Python's vorinstallierten Behältern bieten. Die Grundlagen kennen wir bereits: Dict, Liste, Set und Tupel.\n",
    "\n",
    "Jetzt lernen wir mehr über die Alternativen, die das Collections Modul bietet.\n",
    "\n",
    "## Counter\n",
    "\n",
    "*Counter* ist eine Unterklasse des Dictionary, die dabei hilft, zerlegbare Objekte zu zählen. Innerhalb davon sind die Elemente als Dictionary Key gespeichert und ihre Anzahl als Wert.\n",
    "\n",
    "Hier sehen wir, wie Counter benutzt werden kann:"
   ]
  },
  {
   "cell_type": "code",
   "execution_count": 22,
   "metadata": {
    "collapsed": true,
    "jupyter": {
     "outputs_hidden": true
    }
   },
   "outputs": [],
   "source": [
    "from collections import Counter\n",
    "import collections"
   ]
  },
  {
   "cell_type": "markdown",
   "metadata": {},
   "source": [
    "### Counter mit Listen"
   ]
  },
  {
   "cell_type": "code",
   "execution_count": 2,
   "metadata": {},
   "outputs": [
    {
     "data": {
      "text/plain": [
       "Counter({1: 6, 2: 6, 3: 4, 12: 1, 21: 1, 32: 1, 223: 1})"
      ]
     },
     "execution_count": 2,
     "metadata": {},
     "output_type": "execute_result"
    }
   ],
   "source": [
    "l = [1,2,2,2,2,3,3,3,1,2,1,12,3,2,32,1,21,1,223,1]\n",
    "\n",
    "Counter(l)"
   ]
  },
  {
   "cell_type": "markdown",
   "metadata": {},
   "source": [
    "### Counter mit Strings"
   ]
  },
  {
   "cell_type": "code",
   "execution_count": 3,
   "metadata": {},
   "outputs": [
    {
     "data": {
      "text/plain": [
       "Counter({'a': 2, 'b': 7, 'h': 3, 's': 6})"
      ]
     },
     "execution_count": 3,
     "metadata": {},
     "output_type": "execute_result"
    }
   ],
   "source": [
    "Counter('aabsbsbsbhshhbbsbs')"
   ]
  },
  {
   "cell_type": "markdown",
   "metadata": {},
   "source": [
    "### Counter mit Wörtern in einem Satz"
   ]
  },
  {
   "cell_type": "code",
   "execution_count": 4,
   "metadata": {},
   "outputs": [
    {
     "data": {
      "text/plain": [
       "Counter({'Satz': 1,\n",
       "         'Wie': 1,\n",
       "         'Wort': 1,\n",
       "         'Worten': 1,\n",
       "         'auf?': 1,\n",
       "         'aus': 1,\n",
       "         'diesem': 1,\n",
       "         'einzelne': 1,\n",
       "         'in': 1,\n",
       "         'jedes': 1,\n",
       "         'oft': 1,\n",
       "         'taucht': 1,\n",
       "         'vielen': 1})"
      ]
     },
     "execution_count": 4,
     "metadata": {},
     "output_type": "execute_result"
    }
   ],
   "source": [
    "s = 'Wie oft taucht jedes einzelne Wort in diesem Satz aus vielen Worten auf?'\n",
    "\n",
    "words = s.split()\n",
    "\n",
    "Counter(words)"
   ]
  },
  {
   "cell_type": "code",
   "execution_count": 5,
   "metadata": {},
   "outputs": [
    {
     "data": {
      "text/plain": [
       "[('Wie', 1), ('oft', 1)]"
      ]
     },
     "execution_count": 5,
     "metadata": {},
     "output_type": "execute_result"
    }
   ],
   "source": [
    "# Methoden mit Counter()\n",
    "c = Counter(words)\n",
    "\n",
    "c.most_common(2)"
   ]
  },
  {
   "cell_type": "markdown",
   "metadata": {},
   "source": [
    "### Übliche Muster mit dem Counter() Objekt"
   ]
  },
  {
   "cell_type": "code",
   "execution_count": null,
   "metadata": {
    "collapsed": true,
    "jupyter": {
     "outputs_hidden": true
    }
   },
   "outputs": [],
   "source": [
    "sum(c.values())                 # Summe aller Anzahlen\n",
    "c.clear()                       # Alle Anzahlen zurücksetzen\n",
    "list(c)                         # Einzigartige Elemente anzeigen\n",
    "set(c)                          # In ein Set konvertieren\n",
    "dict(c)                         # In ein reguläres Dictionary konvertieren\n",
    "c.items()                       # In eine Liste aus (Element, Anzahl) Paaren konvertieren\n",
    "Counter(dict(liste_aus_paaren)) # Aus einer Liste aus (Element, Anzahl) Paaren konvertieren\n",
    "c.most_common()[:-n-1:-1]       # n wenigst häufige Elemente\n",
    "c += Counter()                  # 0 und negative Anzahlen entfernen"
   ]
  },
  {
   "cell_type": "markdown",
   "metadata": {},
   "source": [
    "## DefaultDict\n",
    "\n",
    "`defaultdict` ist ein Dictionary ähnliches Objekt, welches alle Methoden bietet, die auf Dictionaries anwendbar sind. Es nimmt allerdings den ersten Parameter (default_factory) als Datentyp für das Dictionary. `defaultdict` zu benutzen ist schneller, als das selbe mit dict.set_default zu lösen.\n",
    "\n",
    "**Ein defaultdict wird nie den Key Error anzeigen. Jeder Key, der nicht existiert, bekommt den Wert des default_factory zugewiesen.**"
   ]
  },
  {
   "cell_type": "code",
   "execution_count": 6,
   "metadata": {
    "collapsed": true,
    "jupyter": {
     "outputs_hidden": true
    }
   },
   "outputs": [],
   "source": [
    "from collections import defaultdict"
   ]
  },
  {
   "cell_type": "code",
   "execution_count": 7,
   "metadata": {
    "collapsed": true,
    "jupyter": {
     "outputs_hidden": true
    }
   },
   "outputs": [],
   "source": [
    "d = {}"
   ]
  },
  {
   "cell_type": "code",
   "execution_count": 10,
   "metadata": {},
   "outputs": [
    {
     "data": {
      "text/plain": [
       "<object at 0x10e680b30>"
      ]
     },
     "execution_count": 10,
     "metadata": {},
     "output_type": "execute_result"
    }
   ],
   "source": [
    "d[\"eins\"]"
   ]
  },
  {
   "cell_type": "code",
   "execution_count": 11,
   "metadata": {
    "collapsed": true,
    "jupyter": {
     "outputs_hidden": true
    }
   },
   "outputs": [],
   "source": [
    "d = defaultdict(object)"
   ]
  },
  {
   "cell_type": "code",
   "execution_count": 12,
   "metadata": {},
   "outputs": [
    {
     "data": {
      "text/plain": [
       "<object at 0x10e680b40>"
      ]
     },
     "execution_count": 12,
     "metadata": {},
     "output_type": "execute_result"
    }
   ],
   "source": [
    "d[\"eins\"]"
   ]
  },
  {
   "cell_type": "code",
   "execution_count": 14,
   "metadata": {},
   "outputs": [
    {
     "name": "stdout",
     "output_type": "stream",
     "text": [
      "eins\n"
     ]
    }
   ],
   "source": [
    "for item in d:\n",
    "    print(item)"
   ]
  },
  {
   "cell_type": "markdown",
   "metadata": {},
   "source": [
    "Kann auch mit Standardwerten initialisiert werden:"
   ]
  },
  {
   "cell_type": "code",
   "execution_count": 15,
   "metadata": {
    "collapsed": true,
    "jupyter": {
     "outputs_hidden": true
    }
   },
   "outputs": [],
   "source": [
    "d = defaultdict(lambda: 0)"
   ]
  },
  {
   "cell_type": "code",
   "execution_count": 16,
   "metadata": {},
   "outputs": [
    {
     "data": {
      "text/plain": [
       "0"
      ]
     },
     "execution_count": 16,
     "metadata": {},
     "output_type": "execute_result"
    }
   ],
   "source": [
    "d[\"eins\"]"
   ]
  },
  {
   "cell_type": "markdown",
   "metadata": {},
   "source": [
    "## OrderedDict\n",
    "\n",
    "Ein `OrderedDict` ist eine Dictionary Unterklasse, die sich merkt, in welcher Reihenfolge sein Inhalt hinzugefügt wurde.\n",
    "\n",
    "Zum Beispiel ein normales Dictionary:"
   ]
  },
  {
   "cell_type": "code",
   "execution_count": 19,
   "metadata": {},
   "outputs": [
    {
     "name": "stdout",
     "output_type": "stream",
     "text": [
      "Normales Dictionary:\n",
      "a A\n",
      "b B\n",
      "c C\n",
      "d D\n",
      "e E\n"
     ]
    }
   ],
   "source": [
    "print(\"Normales Dictionary:\")\n",
    "\n",
    "d = {}\n",
    "\n",
    "d['a'] = 'A'\n",
    "d['b'] = 'B'\n",
    "d['c'] = 'C'\n",
    "d['d'] = 'D'\n",
    "d['e'] = 'E'\n",
    "\n",
    "\n",
    "for k, v in d.items():\n",
    "    print(k, v)"
   ]
  },
  {
   "cell_type": "markdown",
   "metadata": {},
   "source": [
    "Und im Vergleich ein OrderedDict:"
   ]
  },
  {
   "cell_type": "code",
   "execution_count": 23,
   "metadata": {},
   "outputs": [
    {
     "name": "stdout",
     "output_type": "stream",
     "text": [
      "Geordnetes Dictionary:\n",
      "a A\n",
      "b B\n",
      "c C\n",
      "d D\n",
      "e E\n"
     ]
    }
   ],
   "source": [
    "print(\"Geordnetes Dictionary:\")\n",
    "\n",
    "d = collections.OrderedDict()\n",
    "\n",
    "d['a'] = 'A'\n",
    "d['b'] = 'B'\n",
    "d['c'] = 'C'\n",
    "d['d'] = 'D'\n",
    "d['e'] = 'E'\n",
    "\n",
    "\n",
    "for k, v in d.items():\n",
    "    print(k, v)"
   ]
  },
  {
   "cell_type": "markdown",
   "metadata": {},
   "source": [
    "### Gleichheit mit OrderedDict\n",
    "\n",
    "Ein gewöhnliches Dictionary schaut sich seinen Inhalt an, wenn es auf Gleichheit überprüft wird. Ein OrderedDict berücksichtigt neben dem Inhalt auch die Reihenfolge der Items."
   ]
  },
  {
   "cell_type": "code",
   "execution_count": 24,
   "metadata": {},
   "outputs": [
    {
     "name": "stdout",
     "output_type": "stream",
     "text": [
      "Normales Dictionary:\n",
      "Sind sie gleich?\n",
      "True\n"
     ]
    }
   ],
   "source": [
    "print(\"Normales Dictionary:\")\n",
    "print(\"Sind sie gleich?\")\n",
    "\n",
    "d1 = {}\n",
    "d1['a'] = 'A'\n",
    "d1['b'] = 'B'\n",
    "\n",
    "d2 = {}\n",
    "d2['b'] = 'B'\n",
    "d2['a'] = 'A'\n",
    "\n",
    "print(d1 == d2)"
   ]
  },
  {
   "cell_type": "code",
   "execution_count": 25,
   "metadata": {},
   "outputs": [
    {
     "name": "stdout",
     "output_type": "stream",
     "text": [
      "Geordnetes Dictionary:\n",
      "Sind sie gleich?\n",
      "False\n"
     ]
    }
   ],
   "source": [
    "print(\"Geordnetes Dictionary:\")\n",
    "print(\"Sind sie gleich?\")\n",
    "\n",
    "d1 = collections.OrderedDict()\n",
    "d1['a'] = 'A'\n",
    "d1['b'] = 'B'\n",
    "\n",
    "^\n",
    "d2 = collections.OrderedDict()\n",
    "\n",
    "d2['b'] = 'B'\n",
    "d2['a'] = 'A'\n",
    "\n",
    "print(d1 == d2)"
   ]
  },
  {
   "cell_type": "markdown",
   "metadata": {},
   "source": [
    "## namedtuple\n",
    "\n",
    "Das normale Tupel verwendet numerische Indizes, um auf seinen Inhalt zuzugreifen. Zum Beispiel:"
   ]
  },
  {
   "cell_type": "code",
   "execution_count": 26,
   "metadata": {
    "collapsed": true,
    "jupyter": {
     "outputs_hidden": true
    }
   },
   "outputs": [],
   "source": [
    "t = (12,13,14)"
   ]
  },
  {
   "cell_type": "code",
   "execution_count": 27,
   "metadata": {},
   "outputs": [
    {
     "data": {
      "text/plain": [
       "12"
      ]
     },
     "execution_count": 27,
     "metadata": {},
     "output_type": "execute_result"
    }
   ],
   "source": [
    "t[0]"
   ]
  },
  {
   "cell_type": "markdown",
   "metadata": {},
   "source": [
    "Für einfache Anwendungen ist das für gewöhnlich ausreichend. Andererseits kann es zu Errors führen, wenn wir versuchen den Index für jedes Element zu speichern. Insbesondere wenn das Tupel an einer anderen Stelle im Code erstellt wird und/oder viele Elemente beinhaltet. Ein `namedtuple` weist Namen sowie numerische Indizes zu jedem Mitglied zu.\n",
    "\n",
    "Jede Art von `namedtuple` wird durch seine eigene Klasse repräsentiert, die man durch die namedtupel() Funktion erstellt. Die Parameter sind erstens der Name und zweitens ein String, der die Namen der Elemente beinhaltet.\n",
    "\n",
    "Wir können uns namedtuples als schnelle Variante zur Erstellung von Objekten/Klassen merken. Zum Beispiel:"
   ]
  },
  {
   "cell_type": "code",
   "execution_count": 28,
   "metadata": {
    "collapsed": true,
    "jupyter": {
     "outputs_hidden": true
    }
   },
   "outputs": [],
   "source": [
    "from collections import namedtuple"
   ]
  },
  {
   "cell_type": "code",
   "execution_count": 29,
   "metadata": {
    "collapsed": true,
    "jupyter": {
     "outputs_hidden": true
    }
   },
   "outputs": [],
   "source": [
    "Hund = namedtuple(\"Hund\", \"Alter Rasse Name\")\n",
    "\n",
    "Sam = Hund(Alter=2,Rasse=\"Schäferhund\",Name=\"Sam\")\n",
    "\n",
    "Frank = Hund(Alter=3,Rasse=\"Mops\",Name=\"Frank\")"
   ]
  },
  {
   "cell_type": "markdown",
   "metadata": {},
   "source": [
    "Wir erstellen ein `namedtuple` also so, dass wir zuerst den Objektnamen (Hund) festlegen und dann die Vielzahl an Feldern als einen String mit Leerzeichen zwischen den Namen. Wir können anschließend verschiedene Attribute aufrufen:"
   ]
  },
  {
   "cell_type": "code",
   "execution_count": 30,
   "metadata": {},
   "outputs": [
    {
     "data": {
      "text/plain": [
       "Hund(Alter=2, Rasse='Schäferhund', Name='Sam')"
      ]
     },
     "execution_count": 30,
     "metadata": {},
     "output_type": "execute_result"
    }
   ],
   "source": [
    "Sam"
   ]
  },
  {
   "cell_type": "code",
   "execution_count": 31,
   "metadata": {},
   "outputs": [
    {
     "data": {
      "text/plain": [
       "2"
      ]
     },
     "execution_count": 31,
     "metadata": {},
     "output_type": "execute_result"
    }
   ],
   "source": [
    "Sam.Alter"
   ]
  },
  {
   "cell_type": "code",
   "execution_count": 32,
   "metadata": {},
   "outputs": [
    {
     "data": {
      "text/plain": [
       "'Schäferhund'"
      ]
     },
     "execution_count": 32,
     "metadata": {},
     "output_type": "execute_result"
    }
   ],
   "source": [
    "Sam.Rasse"
   ]
  },
  {
   "cell_type": "code",
   "execution_count": 33,
   "metadata": {},
   "outputs": [
    {
     "data": {
      "text/plain": [
       "'Sam'"
      ]
     },
     "execution_count": 33,
     "metadata": {},
     "output_type": "execute_result"
    }
   ],
   "source": [
    "Sam[2]"
   ]
  },
  {
   "cell_type": "markdown",
   "metadata": {},
   "source": [
    "## Abschluss\n",
    "\n",
    "Hoffentlich könnt ihr am Ende dieser Lektion nachvollziehen wie nützlich das Collections Modul ist."
   ]
  }
 ],
 "metadata": {
  "kernelspec": {
   "display_name": "Python 3",
   "language": "python",
   "name": "python3"
  },
  "language_info": {
   "codemirror_mode": {
    "name": "ipython",
    "version": 3
   },
   "file_extension": ".py",
   "mimetype": "text/x-python",
   "name": "python",
   "nbconvert_exporter": "python",
   "pygments_lexer": "ipython3",
   "version": "3.8.5"
  }
 },
 "nbformat": 4,
 "nbformat_minor": 4
}