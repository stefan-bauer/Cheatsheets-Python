{
 "cells": [
  {
   "cell_type": "markdown",
   "metadata": {
    "collapsed": true
   },
   "source": [
    "# Regular Expression\n",
    "\n",
    "Quelle: Datamics\n",
    "\n",
    "## Hintergrund\n",
    "\n",
    "Der Begriff \"*Regular Expression*\" (dt.: Regulärer Ausdruck) stammt aus der Automatentheorie und der Theorie der formalen Sprachen. Das sind zwei Gebiete der theoretischen Informatik. In dieser dienen sie zur formalen Definition von Sprachfamilien mit bestimmten Eigenschaften, den sogenannten regulären Sprachen. \n",
    "\n",
    "## Regular Expression in Python\n",
    "\n",
    "Regular Expressions sind in unserem Python Kontext zum Text passende Muster, die in einer formellen Syntax ausgedrückt sind. Ihr werdet sie häufig als 'regex' oder 'regexp' bezeichnet vorfinden, bspw. in Gesprächen. \n",
    "\n",
    "Regular Expressions können eine Vielzahl an Regeln beinhalten, vom Finden von Wiederholungen bis zu Text Übereinstimmung und vielem mehr. So wie ihr in Python fortschreitet werdet ihr feststellen, dass viele eurer Parsen Probleme mit Regular Expressions gelöst werden können. Sie werden auch gerne in Vorstellungsgesprächen thematisiert.\n",
    "\n",
    "*Parsen ist der Vorgang mit dem Parser, der eine Software ist, die den Datenstrom eines Dokumentes analysiert und entsprechend der Syntax aufbereitet.*\n",
    "\n",
    "Wenn ihr Perl kennt, dann werdet ihr feststellen, dass die Syntax der in Python sehr ähnlich ist. Wir werden das `re` Modul von Python in dieser Lektion nutzen. Es bietet eine Vielzahl an nützlichen Funktionen und Methoden zum Arbeiten mit regulären Ausdrücken bietet.\n",
    "\n",
    "Lasst uns beginnen!\n",
    "\n",
    "## Textmuster suchen\n",
    "\n",
    "Eine der häufigsten Anwendungen des `re` Modul ist die Mustererkennung in Texten. Wir können uns ein schnelles Beispiel mit der `search` (dt.: suchen) Methode des `re` Modul anschauen:"
   ]
  },
  {
   "cell_type": "code",
   "execution_count": 2,
   "metadata": {},
   "outputs": [
    {
     "name": "stdout",
     "output_type": "stream",
     "text": [
      "Suche nach 'begriff1' in: \n",
      " 'Das ist ein String mit begriff1, aber ohne den anderen Begriff.'\n",
      "\n",
      "\n",
      "Übereinstimmung gefunden.\n",
      "Suche nach 'begriff2' in: \n",
      " 'Das ist ein String mit begriff1, aber ohne den anderen Begriff.'\n",
      "\n",
      "\n",
      "Keine Übereinstimmung gefunden.\n"
     ]
    }
   ],
   "source": [
    "import re\n",
    "\n",
    "# Liste mit Mustern die wir suchen\n",
    "muster_liste = [\"begriff1\",\"begriff2\"]\n",
    "\n",
    "# Text zu parsen\n",
    "text = \"Das ist ein String mit begriff1, aber ohne den anderen Begriff.\"\n",
    "\n",
    "for muster in muster_liste:\n",
    "    print(\"Suche nach '%s' in: \\n '%s'\" %(muster,text))\n",
    "    \n",
    "    #Übereinstimmung prüfen\n",
    "    if re.search(muster, text):\n",
    "        print(\"\\n\")\n",
    "        print(\"Übereinstimmung gefunden.\")\n",
    "    else:\n",
    "        print(\"\\n\")\n",
    "        print(\"Keine Übereinstimmung gefunden.\")"
   ]
  },
  {
   "cell_type": "markdown",
   "metadata": {},
   "source": [
    "Wir haben gesehen, dass re.search() das Muster nimmt, im Text nach einer Übereinstimmung sucht und ein **Match** Objekt zurückgibt. Wenn keines der Muster gefunden wird, erhalten wir **None**. Um dieses Match Objekt zu verdeutlichen, hier noch eine weitere Zelle dazu:"
   ]
  },
  {
   "cell_type": "code",
   "execution_count": 3,
   "metadata": {},
   "outputs": [
    {
     "data": {
      "text/plain": [
       "_sre.SRE_Match"
      ]
     },
     "execution_count": 3,
     "metadata": {},
     "output_type": "execute_result"
    }
   ],
   "source": [
    "# Mustern das wir suchen\n",
    "muster = \"begriff1\"\n",
    "# Text zu parsen\n",
    "text = \"Das ist ein String mit begriff1, aber ohne den anderen Begriff.\"\n",
    "\n",
    "match = re.search(muster, text)\n",
    "\n",
    "type(match)"
   ]
  },
  {
   "cell_type": "markdown",
   "metadata": {},
   "source": [
    "Dieses **Match** Objekt ist mehr als nur ein Boolean oder None. Es beinhaltet Information über die Übereinstimmung, einschließlich des originalen Input String, der Regular Expression, die genutzt wurde, und der Position, an der die Übereinstimmung gefunden wurde. Lasst uns die Methoden anschauen, die wir mit einem **Match** verwenden können:"
   ]
  },
  {
   "cell_type": "code",
   "execution_count": 4,
   "metadata": {},
   "outputs": [
    {
     "data": {
      "text/plain": [
       "23"
      ]
     },
     "execution_count": 4,
     "metadata": {},
     "output_type": "execute_result"
    }
   ],
   "source": [
    "# Start der Übereinstimmung zeigen\n",
    "match.start()"
   ]
  },
  {
   "cell_type": "code",
   "execution_count": 5,
   "metadata": {},
   "outputs": [
    {
     "data": {
      "text/plain": [
       "31"
      ]
     },
     "execution_count": 5,
     "metadata": {},
     "output_type": "execute_result"
    }
   ],
   "source": [
    "# Ende der Übereinstimmung zeigen\n",
    "match.end()"
   ]
  },
  {
   "cell_type": "markdown",
   "metadata": {},
   "source": [
    "## Trennen mit Regular Expressions\n",
    "\n",
    "Wir können den Text auch durch die re Syntax trennen. Das sollte ähnlich dazu aussehen, wie wir die split() Methode auf Strings angewendet haben."
   ]
  },
  {
   "cell_type": "code",
   "execution_count": 6,
   "metadata": {},
   "outputs": [
    {
     "data": {
      "text/plain": [
       "['Wie lautet die Domain zu jemandem mit der Adresse: hallo', 'gmail.com']"
      ]
     },
     "execution_count": 6,
     "metadata": {},
     "output_type": "execute_result"
    }
   ],
   "source": [
    "# Begriff, bei dem getrennt werden soll\n",
    "trennbegriff = \"@\"\n",
    "\n",
    "satz = \"Wie lautet die Domain zu jemandem mit der Adresse: hallo@gmail.com\"\n",
    "\n",
    "# Den Satz trennen\n",
    "re.split(trennbegriff, satz)"
   ]
  },
  {
   "cell_type": "markdown",
   "metadata": {},
   "source": [
    "Achtet darauf, dass re.split() eine Liste ausgibt, die die getrennten Teile des Satzes beinhaltet. Ihr könnt euch selbst weitere Beispiele überlegen, um sicher zu gehen, dass ihr re.split() versteht.\n",
    "\n",
    "## Alle Erscheinungen eines Musters finden\n",
    "\n",
    "Ihr könnt re.findall() dazu verwenden, um alle Erscheinungen eines Musters in einem String zu finden. Ein Beispiel:"
   ]
  },
  {
   "cell_type": "code",
   "execution_count": 7,
   "metadata": {},
   "outputs": [
    {
     "data": {
      "text/plain": [
       "['Treffer']"
      ]
     },
     "execution_count": 7,
     "metadata": {},
     "output_type": "execute_result"
    }
   ],
   "source": [
    "# Gibt Liste aller Übereinstimmungen zurück\n",
    "re.findall(\"Treffer\",\"Test Satz mit Treffer in der Mitte\")"
   ]
  },
  {
   "cell_type": "markdown",
   "metadata": {},
   "source": [
    "## re Syntax für Muster\n",
    "\n",
    "Dieser Teil ist der größte dieser Lektion über den Umgang mit re in Python. Regular Expressions unterstützt eine viel größere Zahl von Mustern, als nur zu finden, wo ein String auftaucht. \n",
    "\n",
    "Wir können *Metazeichen* (metacharacters) in Verbindung mit re nutzen, um spezielle Arten von Mustern zu finden.\n",
    "\n",
    "Da wir mehrere re Syntax Formen testen werden, sollten wir uns eine Funktion erstellen, die Ergebnisse ausgibt, die von einer Liste zahlreicher Regular Expressions und einem Satz zum Parsen abhängen:"
   ]
  },
  {
   "cell_type": "code",
   "execution_count": 8,
   "metadata": {
    "collapsed": true
   },
   "outputs": [],
   "source": [
    "def multi_re_funde(muster_liste, satz):\n",
    "    '''\n",
    "    Nimmt eine Liste verschiedener regex Muster als Input.\n",
    "    Gibt eine Liste aller Funde aus.\n",
    "    ''' \n",
    "    \n",
    "    for muster in muster_liste:\n",
    "        print(\"Suche den Satz mit dem re check: %r\" %muster)\n",
    "        print(re.findall(muster, satz))\n",
    "        print(\"\\n\")"
   ]
  },
  {
   "cell_type": "markdown",
   "metadata": {},
   "source": [
    "### Wiederholungen Syntax\n",
    "\n",
    "Es gibt 5 Wege. um Wiederholung in einem Muster auszudrücken:\n",
    "\n",
    "1. Ein Muster gefolgt vom Metazeichen * ist 0 oder häufiger wiederholt.\n",
    "2. Wenn wir * durch + ersetzen, dann muss das Muster mindestens einmal erscheinen.\n",
    "3. Benutzen wir ? erscheint das Muster 0 oder 1 mal erscheinen.\n",
    "4. Um eine bestimmte Anzahl von Erscheinungen zu spezifizieren nutzen wir {m}. m ersetzen wir dann durch die Anzahl mit der sich das Muster wiederholen soll.\n",
    "5. Nutzt {m,n} um eine Mindest- (m) und Höchstanzahl (n) anzugeben. {m,} ohne n heißt, der Wert erscheint mindestens m mal, ohne Maximum.\n",
    "\n",
    "Jetzt werden wir ein Beispiel für jeden dieser Wege sehen, indem wir unsere multi_re_funde Funktion benutzen:"
   ]
  },
  {
   "cell_type": "code",
   "execution_count": 10,
   "metadata": {},
   "outputs": [
    {
     "name": "stdout",
     "output_type": "stream",
     "text": [
      "Suche den Satz mit dem re check: 'sd*'\n",
      "['sd', 'sd', 's', 's', 'sddd', 'sddd', 'sddd', 'sd', 's', 's', 's', 's', 's', 's', 'sdddd']\n",
      "\n",
      "\n",
      "Suche den Satz mit dem re check: 'sd+'\n",
      "['sd', 'sd', 'sddd', 'sddd', 'sddd', 'sd', 'sdddd']\n",
      "\n",
      "\n",
      "Suche den Satz mit dem re check: 'sd?'\n",
      "['sd', 'sd', 's', 's', 'sd', 'sd', 'sd', 'sd', 's', 's', 's', 's', 's', 's', 'sd']\n",
      "\n",
      "\n",
      "Suche den Satz mit dem re check: 'sd{3}'\n",
      "['sddd', 'sddd', 'sddd', 'sddd']\n",
      "\n",
      "\n",
      "Suche den Satz mit dem re check: 'sd{2,3}'\n",
      "['sddd', 'sddd', 'sddd', 'sddd']\n",
      "\n",
      "\n"
     ]
    }
   ],
   "source": [
    "test_satz = \"sdsd..sssddd...sdddsddd...dsds...dsssss...sdddd\"\n",
    "\n",
    "test_muster = [ 'sd*',      # s gefolgt von 0 oder mehr d's\n",
    "                'sd+',      # s gefolgt von 1 oder mehr d's\n",
    "                'sd?',      # s gefolgt von 0 oder 1 d's\n",
    "                'sd{3}',    # s gefolgt von 3 d's\n",
    "                'sd{2,3}',  # s gefolgt von 2 oder 3 d's\n",
    "                ]\n",
    "\n",
    "multi_re_funde(test_muster,test_satz)"
   ]
  },
  {
   "cell_type": "markdown",
   "metadata": {},
   "source": [
    "### Zeichen Sets\n",
    "\n",
    "Zeichensets werden genutzt, wenn man einen Treffer für ein Zeichen aus einer Gruppe von Zeichen haben will. Klammern werden genutzt, um die Zeichen Set Inputs zu erstellen. Zum Beispiel: Der Input [ab] sucht für Erscheinungen von entweder a oder b. Einige Beispiele:"
   ]
  },
  {
   "cell_type": "code",
   "execution_count": 11,
   "metadata": {},
   "outputs": [
    {
     "name": "stdout",
     "output_type": "stream",
     "text": [
      "Suche den Satz mit dem re check: '[sd]'\n",
      "['s', 'd', 's', 'd', 's', 's', 's', 'd', 'd', 'd', 's', 'd', 'd', 'd', 's', 'd', 'd', 'd', 'd', 's', 'd', 's', 'd', 's', 's', 's', 's', 's', 's', 'd', 'd', 'd', 'd']\n",
      "\n",
      "\n",
      "Suche den Satz mit dem re check: 's[sd]+'\n",
      "['sdsd', 'sssddd', 'sdddsddd', 'sds', 'sssss', 'sdddd']\n",
      "\n",
      "\n"
     ]
    }
   ],
   "source": [
    "test_satz = \"sdsd..sssddd...sdddsddd...dsds...dsssss...sdddd\"\n",
    "\n",
    "test_muster = [ '[sd]',     # entweder s oder d\n",
    "                's[sd]+']   # s gefolgt von 1 oder mehreren s oder d\n",
    "                \n",
    "\n",
    "multi_re_funde(test_muster,test_satz)"
   ]
  },
  {
   "cell_type": "markdown",
   "metadata": {},
   "source": [
    "Es ergibt Sinn, dass das erste [sd] alle Instanzen zurückgibt. Ebenso gibt der zweite Input einfach alles zurück, was in diesem speziellen Satz mit s beginnt.\n",
    "\n",
    "### Ausschluss\n",
    "\n",
    "Wir können ^ benutzen um Terme auszuschließen, indem wir es in die Klammer Syntax Notation eingeben. Zum Beispiel [^...] ergibt jedes Zeichen, dass nicht in der Klammer enthalten ist. Betrachten wir einige Beispiele:"
   ]
  },
  {
   "cell_type": "code",
   "execution_count": 12,
   "metadata": {
    "collapsed": true
   },
   "outputs": [],
   "source": [
    "test_satz = \"Das ist ein String! Aber er beinhaltet Zeichensetzung. Wie können wir sie entfernen?\""
   ]
  },
  {
   "cell_type": "markdown",
   "metadata": {},
   "source": [
    "Nutzt [^!.? ], um nach Treffern zu suchen, die weder !, noch ., noch ? oder Leerzeichen sind. Fügt ein + hinzu, um zu definieren, dass die Funde mindestens einmal erscheinen sollen. So erhalten wir die Wörter, statt nur die Zeichen."
   ]
  },
  {
   "cell_type": "code",
   "execution_count": 14,
   "metadata": {},
   "outputs": [
    {
     "data": {
      "text/plain": [
       "['Das',\n",
       " 'ist',\n",
       " 'ein',\n",
       " 'String',\n",
       " 'Aber',\n",
       " 'er',\n",
       " 'beinhaltet',\n",
       " 'Zeichensetzung',\n",
       " 'Wie',\n",
       " 'können',\n",
       " 'wir',\n",
       " 'sie',\n",
       " 'entfernen']"
      ]
     },
     "execution_count": 14,
     "metadata": {},
     "output_type": "execute_result"
    }
   ],
   "source": [
    "re.findall(\"[^!.? ]+\",test_satz)"
   ]
  },
  {
   "cell_type": "markdown",
   "metadata": {},
   "source": [
    "### Zeichen Bereiche\n",
    "\n",
    "Wenn die Zeichen Sets größer werden, dann wird es mühsam jedes Zeichen, das erscheinen soll (oder nicht), zu tippen. Eine kompaktere Form ist die Verwendung von Zeichen Bereichen, die uns ein Start- und Endzeichen festlegen lassen. Alle fortlaufenden Zeichen dazwischen werden miteingeschlossen. Das Format ist [Start-Ende].\n",
    "\n",
    "Ein Anwendungsfall könnte zum Beispiel die Suche nach bestimmten Zeichen aus dem Alphabet sein, beispielsweise [a-f]. Wir erhielten alle Treffer mit Buchstaben zwischen a und f als Ergebnis.\n",
    "\n",
    "Schauen wir uns einige Beispiele an:"
   ]
  },
  {
   "cell_type": "code",
   "execution_count": 15,
   "metadata": {},
   "outputs": [
    {
     "name": "stdout",
     "output_type": "stream",
     "text": [
      "Suche den Satz mit dem re check: '[a-z]+'\n",
      "['as', 'ist', 'ein', 'beispielhafter', 'atz', 'asst', 'uns', 'schauen', 'ob', 'wir', 'einige', 'uchstaben', 'finden']\n",
      "\n",
      "\n",
      "Suche den Satz mit dem re check: '[A-Z]+'\n",
      "['D', 'S', 'L', 'B']\n",
      "\n",
      "\n",
      "Suche den Satz mit dem re check: '[a-zA-Z]+'\n",
      "['Das', 'ist', 'ein', 'beispielhafter', 'Satz', 'Lasst', 'uns', 'schauen', 'ob', 'wir', 'einige', 'Buchstaben', 'finden']\n",
      "\n",
      "\n",
      "Suche den Satz mit dem re check: '[A-Z][a-z]+'\n",
      "['Das', 'Satz', 'Lasst', 'Buchstaben']\n",
      "\n",
      "\n"
     ]
    }
   ],
   "source": [
    "test_satz = \"Das ist ein beispielhafter Satz. Lasst uns schauen, ob wir einige Buchstaben finden.\"\n",
    "\n",
    "test_muster = [ '[a-z]+',      # Sequenz der Kleinbuchstaben\n",
    "                '[A-Z]+',      # Sequenz der Großbuchstaben\n",
    "                '[a-zA-Z]+',   # Sequenz von Klein- oder Großbuchstaben\n",
    "                '[A-Z][a-z]+'] # Ein Großbuchstabe, gefolgt von einem Kleinbuchstabe\n",
    "                \n",
    "multi_re_funde(test_muster,test_satz)"
   ]
  },
  {
   "cell_type": "markdown",
   "metadata": {},
   "source": [
    "### Escape Codes\n",
    "\n",
    "Wir können diese speziellen Escape Codes (dt.: Ausbruch Codes) nutzen, um spezielle Arten von Mustern in unseren Daten zu finden. Dazu gehören Ziffer, Leerzeichen und mehr. Einige Beispiele:\n",
    "\n",
    "<table border=\"1\" class=\"docutils\">\n",
    "<colgroup>\n",
    "<col width=\"14%\" />\n",
    "<col width=\"86%\" />\n",
    "</colgroup>\n",
    "<thead valign=\"bottom\">\n",
    "<tr class=\"row-odd\"><th class=\"head\">Code</th>\n",
    "<th class=\"head\">Bedeutung</th>\n",
    "</tr>\n",
    "</thead>\n",
    "<tbody valign=\"top\">\n",
    "<tr class=\"row-even\"><td><tt class=\"docutils literal\"><span class=\"pre\">\\d</span></tt></td>\n",
    "<td>Eine Ziffer</td>\n",
    "</tr>\n",
    "<tr class=\"row-odd\"><td><tt class=\"docutils literal\"><span class=\"pre\">\\D</span></tt></td>\n",
    "<td>Eine Nicht-Ziffer</td>\n",
    "</tr>\n",
    "<tr class=\"row-even\"><td><tt class=\"docutils literal\"><span class=\"pre\">\\s</span></tt></td>\n",
    "<td>Leetzeichen (Tab, Leerzeichen, neue Zeile, etc.)</td>\n",
    "</tr>\n",
    "<tr class=\"row-odd\"><td><tt class=\"docutils literal\"><span class=\"pre\">\\S</span></tt></td>\n",
    "<td>Nicht-Leerzeichen</td>\n",
    "</tr>\n",
    "<tr class=\"row-even\"><td><tt class=\"docutils literal\"><span class=\"pre\">\\w</span></tt></td>\n",
    "<td>Alphanumerisch</td>\n",
    "</tr>\n",
    "<tr class=\"row-odd\"><td><tt class=\"docutils literal\"><span class=\"pre\">\\W</span></tt></td>\n",
    "<td>Nicht-Alphanumerisch</td>\n",
    "</tr>\n",
    "</tbody>\n",
    "</table>\n",
    "\n",
    "Escapes werden durch einen Backslash angezeigt. Unglücklicherweise müssen Backslashs in normalen Python Strings selbst auch ausgebrochen (escaped) werden. Das würde unleserliche Ausdrücke zur Folge haben. Durch die Nutzung von rohen (row) Strings, erstellt durch das Präfix r, für Regular Expressions können wir dieses Problem umgehen und die Leserlichkeit aufrechterhalten.\n",
    "\n",
    "Persönlich denke ich, dass es genau diese Nutzung von r, um den Backslash auszubrechen, ist, die Leute, die regex in Python nicht kennen, davon abhält, den Code zu verstehen. Hoffentlich wird das alles klarer, nachdem wir den nächsten Code betrachtet haben."
   ]
  },
  {
   "cell_type": "code",
   "execution_count": 17,
   "metadata": {},
   "outputs": [
    {
     "name": "stdout",
     "output_type": "stream",
     "text": [
      "Suche den Satz mit dem re check: '\\\\d+'\n",
      "['1234']\n",
      "\n",
      "\n",
      "Suche den Satz mit dem re check: '\\\\D+'\n",
      "['Das ist ein String mit einigen Ziffern ', ' und einem Symbol #Hastag']\n",
      "\n",
      "\n",
      "Suche den Satz mit dem re check: '\\\\s+'\n",
      "[' ', ' ', ' ', ' ', ' ', ' ', ' ', ' ', ' ', ' ', ' ']\n",
      "\n",
      "\n",
      "Suche den Satz mit dem re check: '\\\\S+'\n",
      "['Das', 'ist', 'ein', 'String', 'mit', 'einigen', 'Ziffern', '1234', 'und', 'einem', 'Symbol', '#Hastag']\n",
      "\n",
      "\n",
      "Suche den Satz mit dem re check: '\\\\w+'\n",
      "['Das', 'ist', 'ein', 'String', 'mit', 'einigen', 'Ziffern', '1234', 'und', 'einem', 'Symbol', 'Hastag']\n",
      "\n",
      "\n",
      "Suche den Satz mit dem re check: '\\\\W+'\n",
      "[' ', ' ', ' ', ' ', ' ', ' ', ' ', ' ', ' ', ' ', ' #']\n",
      "\n",
      "\n"
     ]
    }
   ],
   "source": [
    "test_satz = \"Das ist ein String mit einigen Ziffern 1234 und einem Symbol #Hastag\"\n",
    "\n",
    "test_muster = [ r'\\d+', # Sequenz von Ziffern\n",
    "                r'\\D+', # Sequenz von Nicht-Ziffern\n",
    "                r'\\s+', # Sequenz von Leerzeichen\n",
    "                r'\\S+', # Sequenz von Nicht-Leerzeichen\n",
    "                r'\\w+', # Alphanumerische Zeichen\n",
    "                r'\\W+', # Nicht-Alphanumerische Zeichen\n",
    "                ]\n",
    "\n",
    "multi_re_funde(test_muster,test_satz)"
   ]
  },
  {
   "cell_type": "markdown",
   "metadata": {},
   "source": [
    "## Schlusswort\n",
    "\n",
    "Durch diese Lektion solltet ihr ein solides Verständnis dafür erhalten haben, wie man Regular Expressions nutzt. Anstatt alle einzelnen der unzähligen Fälle durchzugehen könnt ihr in die [Dokumentation](https://docs.python.org/3/howto/regex.html) schauen.\n",
    "\n",
    "Gut gemacht!"
   ]
  }
 ],
 "metadata": {
  "kernelspec": {
   "display_name": "Python 3",
   "language": "python",
   "name": "python3"
  },
  "language_info": {
   "codemirror_mode": {
    "name": "ipython",
    "version": 3
   },
   "file_extension": ".py",
   "mimetype": "text/x-python",
   "name": "python",
   "nbconvert_exporter": "python",
   "pygments_lexer": "ipython3",
   "version": "3.8.5"
  }
 },
 "nbformat": 4,
 "nbformat_minor": 2
}