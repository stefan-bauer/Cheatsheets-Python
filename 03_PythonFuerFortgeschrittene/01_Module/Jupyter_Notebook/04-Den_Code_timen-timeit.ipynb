{
 "cells": [
  {
   "cell_type": "markdown",
   "metadata": {
    "collapsed": true
   },
   "source": [
    "# Den Code timen\n",
    "\n",
    "Quelle: Datamics\n",
    "\n",
    "Manchmal ist es wichtig, zu wissen, wie lange dein Code zur Ausführung benötigt oder wenigstens, ob eine bestimmte Zeile den Code verlangsamt. Python hat ein vorinstalliertes Modul, um das herauszufinden.\n",
    "\n",
    "Dieses Modul bieten eine einfache Möglichkeit, um die Zeit kleiner Codeeinheiten in Python zu messen. Es bietet sowohl ein Kommandozeilen Interface als auch ein aufrufbares. Es umgeht einige übliche Hindernisse beim Messen von Ausführungsdauer.\n",
    "\n",
    "Lasst uns `timeit` lernen!"
   ]
  },
  {
   "cell_type": "code",
   "execution_count": 1,
   "metadata": {
    "collapsed": true
   },
   "outputs": [],
   "source": [
    "import timeit"
   ]
  },
  {
   "cell_type": "markdown",
   "metadata": {},
   "source": [
    "Jetzt können wir timeit benutzen um verschiedene Methoden zum Erstellen des Strings \"0-1-2-3-...-99\" zu messen. \n",
    "\n",
    "Wir werden zwei Parameter übergeben. Erstens die tatsächliche Codezeile, die ausgeführt werden soll. Zweitens die Anzahl der Wiederholungen. Dabei verwenden wir 10.000 Durchläufe, um einen merkbaren Unterschied zwischen den Methoden ermitteln zu können."
   ]
  },
  {
   "cell_type": "code",
   "execution_count": 2,
   "metadata": {},
   "outputs": [
    {
     "data": {
      "text/plain": [
       "0.3447215079795569"
      ]
     },
     "execution_count": 2,
     "metadata": {},
     "output_type": "execute_result"
    }
   ],
   "source": [
    "# For Schleife\n",
    "timeit.timeit('\"-\".join(str(n) for n in range(100))', number=10000)"
   ]
  },
  {
   "cell_type": "code",
   "execution_count": 3,
   "metadata": {},
   "outputs": [
    {
     "data": {
      "text/plain": [
       "0.3068382430355996"
      ]
     },
     "execution_count": 3,
     "metadata": {},
     "output_type": "execute_result"
    }
   ],
   "source": [
    "# List Comprehension\n",
    "timeit.timeit('\"-\".join([str(n) for n in range(100)])', number=10000)"
   ]
  },
  {
   "cell_type": "code",
   "execution_count": 4,
   "metadata": {},
   "outputs": [
    {
     "data": {
      "text/plain": [
       "0.25435698591172695"
      ]
     },
     "execution_count": 4,
     "metadata": {},
     "output_type": "execute_result"
    }
   ],
   "source": [
    "# Map()\n",
    "timeit.timeit('\"-\".join(map(str, range(100)))', number=10000)"
   ]
  },
  {
   "cell_type": "markdown",
   "metadata": {},
   "source": [
    "Klasse! Wir sehen einen signifikanten  Zeitunterschied durch die Nutzung von map()! Das ist gut zu wissen und wir sollten es im Gedächtnis behalten.\n",
    "\n",
    "Jetzt können wir iPython's magische Funktion %timeit vorstellen.\n",
    "\n",
    "iPython's %timeit führt eine bestimmte Zeile Code 7 mal in einer Schleife durch und gibt die schnellste Durchführungszeit aus.\n",
    "\n",
    "Lasst uns die obigen Methoden mit %timeit wiederholen."
   ]
  },
  {
   "cell_type": "code",
   "execution_count": 5,
   "metadata": {},
   "outputs": [
    {
     "name": "stdout",
     "output_type": "stream",
     "text": [
      "30.9 µs ± 1.37 µs per loop (mean ± std. dev. of 7 runs, 10000 loops each)\n"
     ]
    }
   ],
   "source": [
    "%timeit \"-\".join(str(n) for n in range(100))"
   ]
  },
  {
   "cell_type": "code",
   "execution_count": 6,
   "metadata": {},
   "outputs": [
    {
     "name": "stdout",
     "output_type": "stream",
     "text": [
      "27.1 µs ± 1.94 µs per loop (mean ± std. dev. of 7 runs, 10000 loops each)\n"
     ]
    }
   ],
   "source": [
    "%timeit \"-\".join([str(n) for n in range(100)])"
   ]
  },
  {
   "cell_type": "code",
   "execution_count": 7,
   "metadata": {},
   "outputs": [
    {
     "name": "stdout",
     "output_type": "stream",
     "text": [
      "20 µs ± 409 ns per loop (mean ± std. dev. of 7 runs, 10000 loops each)\n"
     ]
    }
   ],
   "source": [
    "%timeit \"-\".join(map(str, range(100)))"
   ]
  },
  {
   "cell_type": "markdown",
   "metadata": {},
   "source": [
    "Toll! Wir gelangen zur selben Schlussfolgerung. Es ist an dieser Stelle noch wichtig zu erwähnen, dass iPython die Dauer an echter Zeit limitiert, die es für timeit aufwendet. Stellt es fest, dass beispielsweise 100.000 Schleifen 10 Minuten gedauert haben, würde iPython die Zahl der Durchläufe automatisch zu etwas Sinnvollerem wie 100 oder 1000 reduzieren.\n",
    "\n",
    "Soweit so gut! Ihr solltet jetzt damit vertraut sein, wie ihr einzelnen Zeilen eures Codes bzw. deren Durchführungsdauer timen könnt. Sowohl innerhalb von iPython als auch außerhalb. Ihr könnt für mehr Informationen in die [Dokumentation](https://docs.python.org/3/library/timeit.html) schauen!"
   ]
  }
 ],
 "metadata": {
  "kernelspec": {
   "display_name": "Python 3",
   "language": "python",
   "name": "python3"
  },
  "language_info": {
   "codemirror_mode": {
    "name": "ipython",
    "version": 3
   },
   "file_extension": ".py",
   "mimetype": "text/x-python",
   "name": "python",
   "nbconvert_exporter": "python",
   "pygments_lexer": "ipython3",
   "version": "3.8.5"
  }
 },
 "nbformat": 4,
 "nbformat_minor": 2
}