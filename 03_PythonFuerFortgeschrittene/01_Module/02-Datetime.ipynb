{
 "cells": [
  {
   "cell_type": "markdown",
   "metadata": {
    "collapsed": true
   },
   "source": [
    "# Datetime\n",
    "\n",
    "Quelle: Datamics\n",
    "\n",
    "Python hat das `datetime` Modul integriert, um dabei zu helfen, mit Zeitstempeln in eurem Code zu arbeiten. Zeitwerte werden durch die Zeit Klasse repräsentiert. Zeiten haben Attribute für Stunden, Minuten, Sekunden und Mikrosekunden. Sie können außerdem Zeitzoneninformation beinhalten. Die Parameter, um eine Zeit aufzusetzen, sind optional und per Standard auf 0 gesetzt. Das wird aber kaum die Zeit sein, die ihr angeben wollt.\n",
    "\n",
    "## time\n",
    "\n",
    "Lasst uns betrachten, wie wir Zeitinformationen aus dem `datetime` Modul auslesen. Wir können einen Zeitstempel erstellen, indem wir datetime.time(hour,minute,second,microsecond) definieren."
   ]
  },
  {
   "cell_type": "code",
   "execution_count": 2,
   "metadata": {},
   "outputs": [
    {
     "name": "stdout",
     "output_type": "stream",
     "text": [
      "04:20:01\n",
      "Stunde: 4\n",
      "Minute: 20\n",
      "Sekunde: 1\n",
      "Mikrosekunde: 0\n",
      "Zeitzone: None\n"
     ]
    }
   ],
   "source": [
    "import datetime\n",
    "\n",
    "t = datetime.time(4,20,1)\n",
    "\n",
    "# Lasst uns die Bestandteile betrachten\n",
    "\n",
    "print(t)\n",
    "print('Stunde:',t.hour)\n",
    "print('Minute:',t.minute)\n",
    "print('Sekunde:',t.second)\n",
    "print('Mikrosekunde:',t.microsecond)\n",
    "print('Zeitzone:',t.tzinfo)"
   ]
  },
  {
   "cell_type": "markdown",
   "metadata": {},
   "source": [
    "Achtet darauf, dass eine time Einheit nur Werte für Zeit, nicht jedoch für das Datum, beinhaltet. \n",
    "\n",
    "Wir können uns auch die Mindest- und Höchstwerte für Zeitwerte anschauen:"
   ]
  },
  {
   "cell_type": "code",
   "execution_count": 3,
   "metadata": {},
   "outputs": [
    {
     "name": "stdout",
     "output_type": "stream",
     "text": [
      "Mindestwert: 00:00:00\n",
      "Höchstwert: 23:59:59.999999\n",
      "Schrittgröße: 0:00:00.000001\n"
     ]
    }
   ],
   "source": [
    "print('Mindestwert:',datetime.time.min)\n",
    "print('Höchstwert:',datetime.time.max)\n",
    "print('Schrittgröße:',datetime.time.resolution)"
   ]
  },
  {
   "cell_type": "markdown",
   "metadata": {},
   "source": [
    "## Date\n",
    "\n",
    "datetime (wie ihr euch bestimmt denken könnt) erlaubt es uns auch, mit Datumsstempeln zu arbeiten. Kalenderdaten werden durch die `date` Klasse repräsentiert. Sie besitzen Parameter für das Jahr, den Monat und den Tag. Es ist allerdings einfacher ein Datum zu erstellen, dass den heutigen Tag wiederspiegelt, indem wir today() verwenden.\n",
    "\n",
    "Hier einige Beispiele:"
   ]
  },
  {
   "cell_type": "code",
   "execution_count": 4,
   "metadata": {},
   "outputs": [
    {
     "name": "stdout",
     "output_type": "stream",
     "text": [
      "2017-05-02\n",
      "Weltzeit Tue May  2 00:00:00 2017\n",
      "Tupel: time.struct_time(tm_year=2017, tm_mon=5, tm_mday=2, tm_hour=0, tm_min=0, tm_sec=0, tm_wday=1, tm_yday=122, tm_isdst=-1)\n",
      "Ordinal: 736451\n",
      "Jahr: 2017\n",
      "Monat : 5\n",
      "Tag : 2\n"
     ]
    }
   ],
   "source": [
    "today = datetime.date.today()\n",
    "print(today)\n",
    "print('Weltzeit',today.ctime())\n",
    "print('Tupel:',today.timetuple())\n",
    "print('Ordinal:',today.toordinal())\n",
    "print('Jahr:',today.year)\n",
    "print('Monat :',today.month)\n",
    "print('Tag :',today.day)"
   ]
  },
  {
   "cell_type": "markdown",
   "metadata": {},
   "source": [
    "Genau wie bei time, können wir uns Mindest- und Höchstwerte ausgeben lassen, indem wir min und max verwenden."
   ]
  },
  {
   "cell_type": "code",
   "execution_count": 5,
   "metadata": {},
   "outputs": [
    {
     "name": "stdout",
     "output_type": "stream",
     "text": [
      "Mindestwert: 0001-01-01\n",
      "Höchstwert: 9999-12-31\n",
      "Schrittgröße: 1 day, 0:00:00\n"
     ]
    }
   ],
   "source": [
    "print('Mindestwert:',datetime.date.min)\n",
    "print('Höchstwert:',datetime.date.max)\n",
    "print('Schrittgröße:',datetime.date.resolution)"
   ]
  },
  {
   "cell_type": "markdown",
   "metadata": {},
   "source": [
    "Ein anderer Weg um neue Datumseinheiten zu erzeugen ist die Verwendung der replace() Methode mit einem bestehenden Datum. Zum Beispiel können wir das Jahr ändern und Tag und Monat unberührt lassen."
   ]
  },
  {
   "cell_type": "code",
   "execution_count": 8,
   "metadata": {},
   "outputs": [
    {
     "name": "stdout",
     "output_type": "stream",
     "text": [
      "d1: 2017-05-02\n",
      "d2: 1990-05-02\n"
     ]
    }
   ],
   "source": [
    "d1 = datetime.date(2017,5,2)\n",
    "print('d1:',d1)\n",
    "\n",
    "d2 = d1.replace(year=1990)\n",
    "print('d2:',d2)"
   ]
  },
  {
   "cell_type": "markdown",
   "metadata": {},
   "source": [
    "## Arithmetik\n",
    "\n",
    "Wir können mit auch Arithmetik auf date Einheiten anwenden:"
   ]
  },
  {
   "cell_type": "code",
   "execution_count": 9,
   "metadata": {},
   "outputs": [
    {
     "data": {
      "text/plain": [
       "datetime.date(2017, 5, 2)"
      ]
     },
     "execution_count": 9,
     "metadata": {},
     "output_type": "execute_result"
    }
   ],
   "source": [
    "d1"
   ]
  },
  {
   "cell_type": "code",
   "execution_count": 10,
   "metadata": {},
   "outputs": [
    {
     "data": {
      "text/plain": [
       "datetime.date(1990, 5, 2)"
      ]
     },
     "execution_count": 10,
     "metadata": {},
     "output_type": "execute_result"
    }
   ],
   "source": [
    "d2"
   ]
  },
  {
   "cell_type": "code",
   "execution_count": 11,
   "metadata": {},
   "outputs": [
    {
     "data": {
      "text/plain": [
       "datetime.timedelta(9862)"
      ]
     },
     "execution_count": 11,
     "metadata": {},
     "output_type": "execute_result"
    }
   ],
   "source": [
    "d1-d2"
   ]
  },
  {
   "cell_type": "markdown",
   "metadata": {},
   "source": [
    "Wir erhalten die Differenz zwischen den beiden Daten in Tagen. Wir können die `timedelta` Methode verwenden, um verschiedenste Einheiten von Zeit zu spezifizieren (Tage, Minuten, Stunden,...).\n",
    "\n",
    "Toll! Durch diese Lektion solltest du ein gutes Grundverständnis für `time` und `date` Einheiten bekommen haben und Zeitstempel in deinem Code verwenden können!"
   ]
  }
 ],
 "metadata": {
  "kernelspec": {
   "display_name": "Python 3",
   "language": "python",
   "name": "python3"
  },
  "language_info": {
   "codemirror_mode": {
    "name": "ipython",
    "version": 3
   },
   "file_extension": ".py",
   "mimetype": "text/x-python",
   "name": "python",
   "nbconvert_exporter": "python",
   "pygments_lexer": "ipython3",
   "version": "3.8.5"
  }
 },
 "nbformat": 4,
 "nbformat_minor": 2
}