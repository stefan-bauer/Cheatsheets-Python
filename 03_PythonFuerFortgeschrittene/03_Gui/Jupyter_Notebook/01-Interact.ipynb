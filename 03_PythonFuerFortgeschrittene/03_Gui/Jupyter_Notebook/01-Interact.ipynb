{
 "cells": [
  {
   "cell_type": "markdown",
   "metadata": {
    "collapsed": true
   },
   "source": [
    "# Interact nutzen\n",
    "\n",
    "Quelle: Datamics\n",
    "\n",
    "In dieser Lektion werden wir damit beginnen zu lernen, wie man Dashboard-artige GUIs mit iPython Widgets erstellt!\n",
    "\n",
    "Die `interact` Funktion (ipywidgets.interact) erstellt automatisch Nutzeroberflächen (UI = user interface), Regler zur Codeerkundung und Daten Interaktivität. Es ist der einfachste Weg um mit iPython Widgets loszulegen."
   ]
  },
  {
   "cell_type": "code",
   "execution_count": 1,
   "metadata": {
    "collapsed": true
   },
   "outputs": [],
   "source": [
    "# Wir starten mit einigen Imports!\n",
    "\n",
    "from ipywidgets import interact, interactive, fixed\n",
    "import ipywidgets as widgets"
   ]
  },
  {
   "cell_type": "markdown",
   "metadata": {
    "collapsed": true
   },
   "source": [
    "<div class=\"alert alert-success\">\n",
    "Bitte beachten! Die Widgets in diesem Notebook werden in NbViewer oder Github nicht angezeigt werden. Um die Widgets zu sehen und mit ihnen interagieren zu können, werdet ihr dieses Notebook herunterladen und mit Jupyter ausführen müssen.\n",
    "</div>"
   ]
  },
  {
   "cell_type": "markdown",
   "metadata": {},
   "source": [
    "## Grundsätzliches `interact`\n",
    "\n",
    "Auf dem grundsätzlichsten Level erzeugt `interact` selbstständig UI-Steuerelemente für Parameter. Schließlich wird die Funktion mit diesen Parametern aufgerufen, sobald die Steuerelemente manipuliert werden. Um `interact` zu nutzen, müssen wir eine Funktion definieren. Hier ist eine Funktion die den Parameter x ausgibt"
   ]
  },
  {
   "cell_type": "code",
   "execution_count": 2,
   "metadata": {
    "collapsed": true
   },
   "outputs": [],
   "source": [
    "# Sehr einfache Funktion\n",
    "def f(x):\n",
    "    return x"
   ]
  },
  {
   "cell_type": "markdown",
   "metadata": {},
   "source": [
    "Wenn wir diese Funktion als den ersten Parameter zusammen mit einer Zahl (x=10) an `interact` übergeben, dann wird ein Slider erzeugt, der den Parameter der Funktion repräsentiert.\n",
    "\n",
    "Der Strichpunkt am Ende sorgt hier dafür, dass wir keine \"Out\"-Zelle erzeugen."
   ]
  },
  {
   "cell_type": "code",
   "execution_count": 3,
   "metadata": {},
   "outputs": [
    {
     "data": {
      "application/vnd.jupyter.widget-view+json": {
       "model_id": "18a7c7f7b6d444f789024b03bd801e6a"
      }
     },
     "metadata": {},
     "output_type": "display_data"
    }
   ],
   "source": [
    "# Einen interaktiven Slider erstellen\n",
    "interact(f, x=10);"
   ]
  },
  {
   "cell_type": "markdown",
   "metadata": {},
   "source": [
    "Wenn wir den Slider bewegen, wird die Funktion ausgeführt, die den aktuellen Wert von x ausgibt. \n",
    "\n",
    "Wenn wir `True` oder `Flase` an `interact` übergeben generiert es eine Check-Box:"
   ]
  },
  {
   "cell_type": "code",
   "execution_count": 5,
   "metadata": {},
   "outputs": [
    {
     "data": {
      "application/vnd.jupyter.widget-view+json": {
       "model_id": "9ffe00ed52f64928bb7238bdb6641095"
      }
     },
     "metadata": {},
     "output_type": "display_data"
    }
   ],
   "source": [
    "# Booleans erzeugen ein Check-Boxen\n",
    "interact(f, x=True);"
   ]
  },
  {
   "cell_type": "markdown",
   "metadata": {
    "collapsed": true
   },
   "source": [
    "Wenn wir einen String übergeben, dann erstellt `interact` ein Textfeld."
   ]
  },
  {
   "cell_type": "code",
   "execution_count": 6,
   "metadata": {},
   "outputs": [
    {
     "data": {
      "application/vnd.jupyter.widget-view+json": {
       "model_id": "2db4c30b346647cfad41b041f0b8e9e6"
      }
     },
     "metadata": {},
     "output_type": "display_data"
    }
   ],
   "source": [
    "# Strings generieren Textfelder\n",
    "interact(f, x=\"Hallo zusammen!\");"
   ]
  },
  {
   "cell_type": "markdown",
   "metadata": {},
   "source": [
    "`interact` kann auch als Dekorator genutzt werden. Das erlaubt es uns, auf einen Streich eine Funktion zu definieren und die Interaktion auszuführen. Wie das folgende Beispiel zeigt funktioniert `interact` auch mit mehreren Parametern."
   ]
  },
  {
   "cell_type": "code",
   "execution_count": 7,
   "metadata": {},
   "outputs": [
    {
     "data": {
      "application/vnd.jupyter.widget-view+json": {
       "model_id": "16825d9af55141dd80432f1a01129d8f"
      }
     },
     "metadata": {},
     "output_type": "display_data"
    }
   ],
   "source": [
    "# Einen Dekorator nutzen\n",
    "@interact(x=True, y=1.0)\n",
    "def g(x,y):\n",
    "    return (x,y)"
   ]
  },
  {
   "cell_type": "markdown",
   "metadata": {},
   "source": [
    "## Parameter mit `fixed` fixieren\n",
    "\n",
    "Es kann vorkommen, dass ihr mit einer Funktion interagieren wollt, dabei aber einen oder mehrere Werte konstant halten wollt. Das kann dadurch erreicht werden, dass wir den Wert in die fixed() Funktion packen."
   ]
  },
  {
   "cell_type": "code",
   "execution_count": 8,
   "metadata": {
    "collapsed": true
   },
   "outputs": [],
   "source": [
    "# Eine weitere einfache Funktion\n",
    "def h(p, q):\n",
    "    return (p, q)"
   ]
  },
  {
   "cell_type": "code",
   "execution_count": 9,
   "metadata": {},
   "outputs": [
    {
     "data": {
      "application/vnd.jupyter.widget-view+json": {
       "model_id": "0bbd205c20234fa5a9ad6d3fe1f7d833"
      }
     },
     "metadata": {},
     "output_type": "display_data"
    }
   ],
   "source": [
    "# Den Wert für q auf 20 fixieren\n",
    "interact(h, p=5, q=fixed(20));"
   ]
  },
  {
   "cell_type": "markdown",
   "metadata": {},
   "source": [
    "Wie ihr sehen könnt wird dadurch nur für p ein Slider erstellt.\n",
    "\n",
    "## Widget Abkürzungen\n",
    "\n",
    "Wenn wir einen Zahlen-Wert Stichwort von 10 (x=10) als Parameter an `interact` übergeben, dann erstellt es einen Zahlen bezogenen Slider mit der Skala [-10, +3x10]. In diesem Fall ist 10 eine *Abkürzung* für ein tatsächliches Slider Widget:\n",
    "\n",
    "    IntSlider(min=-10,max=30,step=1,value=10)\n",
    "    \n",
    "Und tatsächlich können wir auch auf diese Weise das selbe Ergebnis erzielen:"
   ]
  },
  {
   "cell_type": "code",
   "execution_count": 10,
   "metadata": {},
   "outputs": [
    {
     "data": {
      "application/vnd.jupyter.widget-view+json": {
       "model_id": "5e3af04fccfd47ba95d5b268d5e3c589"
      }
     },
     "metadata": {},
     "output_type": "display_data"
    }
   ],
   "source": [
    "# Wir können IntSlider nuten, um genauere Parameter zu übergeben\n",
    "interact(f, x=widgets.IntSlider(min=-10,max=30,step=1,value=10));"
   ]
  },
  {
   "cell_type": "markdown",
   "metadata": {},
   "source": [
    "Dieses Beispiel verdeutlich, wie `interact` seine Parameter verarbeitet:\n",
    "\n",
    "1. Wenn das Stichwort eine Widget Instanz mit einem `value` Parameter ist, wird das entsprechende Widget verwendet. Jedes Widget kann verwendet werden, sogar selbsterstellte.\n",
    "2. Andernfalls wird der Wert als Widget Abkürzung behandelt und in ein Widget konvertiert.\n",
    "\n",
    "Die folgende Tabelle gibt eine Übersicht zu verschiedenen Widget Abkürzungen:\n",
    "\n",
    "<table class=\"table table-condensed table-bordered\">\n",
    "  <tr><td><strong>Keyword Parameter</strong></td><td><strong>Widget</strong></td></tr>  \n",
    "  <tr><td>`True` oder `False`</td><td>Checkbox</td></tr>  \n",
    "  <tr><td>`'Hallo zusammen'`</td><td>Text</td></tr>\n",
    "  <tr><td>`value` oder `(min,max)` oder `(min,max,step)` wenn Zahlen übergeben werden</td><td>IntSlider</td></tr>\n",
    "  <tr><td>`value` oder `(min,max)` oder `(min,max,step)` wenn Kommazahlen übergeben werden</td><td>FloatSlider</td></tr>\n",
    "  <tr><td>`('Orange','Apfel')` oder `{'Eins':1,'Zwei':2}`</td><td>Dropdown</td></tr>\n",
    "</table>\n",
    "\n",
    "Ihr habt gesehen, wie Check-Box und Textfeld Widgets funktionieren. Hier geben wir weitere Details zu den Widget Abkürzungen für Slider und Dropdown Menüs.\n",
    "\n",
    "Wenn ein 2-Tupel von Zahlen (min,max) übergeben wird, wird ein Zahlen Slider erzeugt, der diese Werte als Minimum und Maximum hat. In dem Fall wird die Standard Schrittgröße von 1 verwendet."
   ]
  },
  {
   "cell_type": "code",
   "execution_count": 11,
   "metadata": {},
   "outputs": [
    {
     "data": {
      "application/vnd.jupyter.widget-view+json": {
       "model_id": "c7f69b3748ee44b1a14bb23d691f0997"
      }
     },
     "metadata": {},
     "output_type": "display_data"
    }
   ],
   "source": [
    "# Min,Max Slider mit einem Tupel\n",
    "interact(f, x=(0,4));"
   ]
  },
  {
   "cell_type": "markdown",
   "metadata": {},
   "source": [
    "Wird ein 3-Tupel (min,max,schritt) übergeben, können wir die Schrittgröße definieren."
   ]
  },
  {
   "cell_type": "code",
   "execution_count": 13,
   "metadata": {},
   "outputs": [
    {
     "data": {
      "application/vnd.jupyter.widget-view+json": {
       "model_id": "f8ee306381414b33b40775ec01470f26"
      }
     },
     "metadata": {},
     "output_type": "display_data"
    }
   ],
   "source": [
    "# (Min, Max, Schritt)\n",
    "interact(f, x=(0,8,2));"
   ]
  },
  {
   "cell_type": "markdown",
   "metadata": {},
   "source": [
    "Ein Kommazahlen Slider wird erzeugt, sobald die Werte im Tupel Kommazahlen sind. Hier ist das Minimum 0,0, das Maximum 10,0 und die Schrittgröße (per Standard) ist 0,1."
   ]
  },
  {
   "cell_type": "code",
   "execution_count": 14,
   "metadata": {},
   "outputs": [
    {
     "data": {
      "application/vnd.jupyter.widget-view+json": {
       "model_id": "730609b5d78c46728f0161a882f331d0"
      }
     },
     "metadata": {},
     "output_type": "display_data"
    }
   ],
   "source": [
    "interact(f, x=(0.0,10.0));"
   ]
  },
  {
   "cell_type": "markdown",
   "metadata": {},
   "source": [
    "Die Schrittgröße könne wir durch Übergabe eines dritten Elements im Tupel erreichen."
   ]
  },
  {
   "cell_type": "code",
   "execution_count": 15,
   "metadata": {},
   "outputs": [
    {
     "data": {
      "application/vnd.jupyter.widget-view+json": {
       "model_id": "398a1c35a91e40e6bc28fa24a5d3cdd1"
      }
     },
     "metadata": {},
     "output_type": "display_data"
    }
   ],
   "source": [
    "interact(f, x=(0.0,10.0,0.01));"
   ]
  },
  {
   "cell_type": "markdown",
   "metadata": {},
   "source": [
    "Für sowohl Zahlen als auch Kommazahlen Slider können wir den Startwert des Widgets wählen, indem wir ihn als Parameter an die Python Funktion übergeben. Hier haben wir einen Startwert von 5,5 gewählt."
   ]
  },
  {
   "cell_type": "code",
   "execution_count": 16,
   "metadata": {},
   "outputs": [
    {
     "data": {
      "application/vnd.jupyter.widget-view+json": {
       "model_id": "22422e39b40f403fb1e79be31161fc74"
      }
     },
     "metadata": {},
     "output_type": "display_data"
    }
   ],
   "source": [
    "@interact(x=(0.0,20.0,0.5))\n",
    "def h(x=5.5):\n",
    "    return x"
   ]
  },
  {
   "cell_type": "markdown",
   "metadata": {},
   "source": [
    "Dropdown Menüs werden dadurch erstellt, dass man eine Liste von Strings übergibt. In diesem Fall dienen die Strings sowohl als Punkte im GUI Dropdown Menü, als auch als Werte für die Python Funktion."
   ]
  },
  {
   "cell_type": "code",
   "execution_count": 19,
   "metadata": {},
   "outputs": [
    {
     "data": {
      "application/vnd.jupyter.widget-view+json": {
       "model_id": "96a7849be75445fca1533e14df304c66"
      }
     },
     "metadata": {},
     "output_type": "display_data"
    }
   ],
   "source": [
    "interact(f, x=['Apfel','Orange']);"
   ]
  },
  {
   "cell_type": "markdown",
   "metadata": {},
   "source": [
    "Wenn ihr ein Dropdown Menü wollt, dass nicht-String Werte an die Python Funktion übergibt, dann könnt ihr ein Dictionary verwenden. Die Keys fungieren als Namen im GUI Dropdown. Die Werte des Dictionaries werden als Parameter an die zugrundeliegende Python Funktion übergeben."
   ]
  },
  {
   "cell_type": "code",
   "execution_count": 20,
   "metadata": {},
   "outputs": [
    {
     "data": {
      "application/vnd.jupyter.widget-view+json": {
       "model_id": "0f325e8ea6f642a084228e0355dd1b3f"
      }
     },
     "metadata": {},
     "output_type": "display_data"
    }
   ],
   "source": [
    "interact(f, x={\"Eins\":1,\"Zwei\":2});"
   ]
  },
  {
   "cell_type": "markdown",
   "metadata": {},
   "source": [
    "## Funkionsanmerkungen mit `interact` nutzen\n",
    "\n",
    "Wenn ihr Python 3 nutzt, dann könnt ihr Widget Abkürzungen auch durch Funktionsanmerkungen spezifizieren.\n",
    "\n",
    "### PYTHON 3\n",
    "\n",
    "Definition einer Funktion mit der Widget Abkürzung für eine Checkbox:"
   ]
  },
  {
   "cell_type": "code",
   "execution_count": 21,
   "metadata": {
    "collapsed": true
   },
   "outputs": [],
   "source": [
    "def f(x:True): # Nur in Python 3\n",
    "    return x"
   ]
  },
  {
   "cell_type": "markdown",
   "metadata": {},
   "source": [
    "Und weil die Widget Abkürzung bereits definiert würde können wir `interact` mit einem einzigen Parameter aufrufen."
   ]
  },
  {
   "cell_type": "code",
   "execution_count": 23,
   "metadata": {},
   "outputs": [
    {
     "data": {
      "application/vnd.jupyter.widget-view+json": {
       "model_id": "23381de5692443789778c858a5ddeaa3"
      }
     },
     "metadata": {},
     "output_type": "display_data"
    }
   ],
   "source": [
    "interact(f);"
   ]
  },
  {
   "cell_type": "markdown",
   "metadata": {},
   "source": [
    "### PYTHON 2\n",
    "\n",
    "Wenn ihr Python 2 nutzt, dann können Funktionsanmerkungen durch die @annotate Funktion definiert werden."
   ]
  },
  {
   "cell_type": "code",
   "execution_count": 24,
   "metadata": {
    "collapsed": true
   },
   "outputs": [],
   "source": [
    "from IPython.utils.py3compat import annotate"
   ]
  },
  {
   "cell_type": "code",
   "execution_count": 25,
   "metadata": {
    "collapsed": true
   },
   "outputs": [],
   "source": [
    "@annotate(x=True)\n",
    "def f(x):\n",
    "    return x"
   ]
  },
  {
   "cell_type": "code",
   "execution_count": 27,
   "metadata": {},
   "outputs": [
    {
     "data": {
      "application/vnd.jupyter.widget-view+json": {
       "model_id": "7e7b2e0a02874f559553b7f3c986c4b0"
      }
     },
     "metadata": {},
     "output_type": "display_data"
    }
   ],
   "source": [
    "interact(f);"
   ]
  },
  {
   "cell_type": "markdown",
   "metadata": {},
   "source": [
    "## interactive\n",
    "\n",
    "Zusätzlich zu `interact` bietet iPython eine weitere Funktion, `interactive`, die nützlich ist, um Widgets wiederzuverwenden oder auf die Daten zuzugreifen, die die UI Regler beinhalten.\n",
    "\n",
    "Hier ist eine Funktion, die die Summe zweier Parameter berechnet:"
   ]
  },
  {
   "cell_type": "code",
   "execution_count": 33,
   "metadata": {
    "collapsed": true
   },
   "outputs": [],
   "source": [
    "def f(a, b):\n",
    "    return a+b"
   ]
  },
  {
   "cell_type": "markdown",
   "metadata": {},
   "source": [
    "Anders als `interact` gibt `interactive` eine Widget Instanz zurück, anstatt das Widget direkt anzuzeigen."
   ]
  },
  {
   "cell_type": "code",
   "execution_count": 34,
   "metadata": {
    "collapsed": true
   },
   "outputs": [],
   "source": [
    "w = interactive(f, a=10, b=20)"
   ]
  },
  {
   "cell_type": "markdown",
   "metadata": {},
   "source": [
    "Das Widget ist eine Box, die ein Behälter für andere Widgets ist."
   ]
  },
  {
   "cell_type": "code",
   "execution_count": 35,
   "metadata": {},
   "outputs": [
    {
     "data": {
      "text/plain": [
       "ipywidgets.widgets.interaction.interactive"
      ]
     },
     "execution_count": 35,
     "metadata": {},
     "output_type": "execute_result"
    }
   ],
   "source": [
    "type(w)"
   ]
  },
  {
   "cell_type": "markdown",
   "metadata": {},
   "source": [
    "Die Kinder (children) dieser Box sind zwei Zahlen Slider und ein Output, die durch die Widget Abkürzung erstellt wurden."
   ]
  },
  {
   "cell_type": "code",
   "execution_count": 32,
   "metadata": {},
   "outputs": [
    {
     "data": {
      "text/plain": [
       "(<ipywidgets.widgets.widget_int.IntSlider at 0x1036e7b70>,\n",
       " <ipywidgets.widgets.widget_int.IntSlider at 0x103694278>,\n",
       " <ipywidgets.widgets.widget_output.Output at 0x1036e7c50>)"
      ]
     },
     "execution_count": 32,
     "metadata": {},
     "output_type": "execute_result"
    }
   ],
   "source": [
    "w.children"
   ]
  },
  {
   "cell_type": "markdown",
   "metadata": {},
   "source": [
    "Um das tatsächliche Widget anzuzeigen können wir iPython's `display` Funktion nutzen."
   ]
  },
  {
   "cell_type": "code",
   "execution_count": 36,
   "metadata": {},
   "outputs": [
    {
     "data": {
      "application/vnd.jupyter.widget-view+json": {
       "model_id": "ba65778df0ee410e96a9bd4b1ed37fd1"
      }
     },
     "metadata": {},
     "output_type": "display_data"
    }
   ],
   "source": [
    "from IPython.display import display\n",
    "display(w)"
   ]
  },
  {
   "cell_type": "markdown",
   "metadata": {},
   "source": [
    "An diesem Punkt funktionieren die UI Regler genau so, als ob sie durch `interact` erzeugt worden wären. Wir können sie interaktiv manipulieren und die Funktion so aufrufen. \n",
    "\n",
    "Darüberhinaus gibt uns `interactive` aber auch Zugang auf die beiden Stichwort Parameter und das aktuelle Ergebnis der Python Funktion. So können wir darauf zugreifen:"
   ]
  },
  {
   "cell_type": "code",
   "execution_count": 41,
   "metadata": {},
   "outputs": [
    {
     "data": {
      "text/plain": [
       "{'a': 16, 'b': 13}"
      ]
     },
     "execution_count": 41,
     "metadata": {},
     "output_type": "execute_result"
    }
   ],
   "source": [
    "w.kwargs"
   ]
  },
  {
   "cell_type": "markdown",
   "metadata": {},
   "source": [
    "Und hier das aktuelle Ergebnis der Funktion:"
   ]
  },
  {
   "cell_type": "code",
   "execution_count": 42,
   "metadata": {},
   "outputs": [
    {
     "data": {
      "text/plain": [
       "29"
      ]
     },
     "execution_count": 42,
     "metadata": {},
     "output_type": "execute_result"
    }
   ],
   "source": [
    "w.result"
   ]
  },
  {
   "cell_type": "markdown",
   "metadata": {},
   "source": [
    "## Abschließende Bemerkung\n",
    "\n",
    "Ihr solltet jetzt ein grundsätzliches Verständnis davon haben, wie wir Interact in Jupyter Notebooks verwenden können! Viel Spaß bei den nächsten Lektionen zu GUIs!"
   ]
  }
 ],
 "metadata": {
  "kernelspec": {
   "display_name": "Python 3",
   "language": "python",
   "name": "python3"
  },
  "language_info": {
   "codemirror_mode": {
    "name": "ipython",
    "version": 3
   },
   "file_extension": ".py",
   "mimetype": "text/x-python",
   "name": "python",
   "nbconvert_exporter": "python",
   "pygments_lexer": "ipython3",
   "version": "3.8.5"
  }
 },
 "nbformat": 4,
 "nbformat_minor": 2
}