{
 "cells": [
  {
   "cell_type": "markdown",
   "metadata": {
    "collapsed": true
   },
   "source": [
    "# Widget Grundlagen\n",
    "\n",
    "Quelle: Datamics\n",
    "\n",
    "In dieser Lektion werden wir unser Verständnis von interact und interactive weiter ausbauen, um vollständige Widgets verwenden zu können.\n",
    "\n",
    "## Was sind Widgets?\n",
    "\n",
    "Widgets sind bewegte Python Objekte, die im Browser repräsentiert werden. Beispiele sind Slider, Textboxen und ähnliches.\n",
    "\n",
    "## Wofür können sie verwendet werden?\n",
    "\n",
    "Ihr könnt Widgets nutzen, um interaktive GUIs für eure Notbeooks zu erstellen. Außerdem könnt ihr sie nutzen, um zustandsorientierte und zustandslose Information zwischen Python und Java zu synchronisieren.\n",
    "\n",
    "## Widgets nutzen\n",
    "\n",
    "Um das Widget Framework zu nutzen, müssen wir *ipywidgets* importieren."
   ]
  },
  {
   "cell_type": "code",
   "execution_count": 1,
   "metadata": {
    "collapsed": true
   },
   "outputs": [],
   "source": [
    "from ipywidgets import *"
   ]
  },
  {
   "cell_type": "markdown",
   "metadata": {
    "collapsed": true
   },
   "source": [
    "### repr\n",
    "\n",
    "Widgets haben ihr eigenes `repr`, was ihnen gestattet durch iPython's display Framework angezeigt zu werden. Durch das erstellen und ausgeben eines `IntSlider` wird das Widget automatisch ausgegeben (wie ihr unten sehen könnt). Widgets werden innerhalb des Widget Bereichs angezeigt, welcher zwischen dem Zellen Code und dem Output liegt. Wir können alle Widgets des Widget Bereichs ausblenden, indem wir das graue *x* am Rand klicken."
   ]
  },
  {
   "cell_type": "code",
   "execution_count": 2,
   "metadata": {},
   "outputs": [
    {
     "data": {
      "application/vnd.jupyter.widget-view+json": {
       "model_id": "5f1a81dc611541bb8ae0f650f21b53f5"
      }
     },
     "metadata": {},
     "output_type": "display_data"
    }
   ],
   "source": [
    "IntSlider()"
   ]
  },
  {
   "cell_type": "markdown",
   "metadata": {},
   "source": [
    "### display\n",
    "\n",
    "Wir können Widgets außerdem explizit anzeigen, indem wir `display` verwenden."
   ]
  },
  {
   "cell_type": "code",
   "execution_count": 3,
   "metadata": {},
   "outputs": [
    {
     "data": {
      "application/vnd.jupyter.widget-view+json": {
       "model_id": "4f06a83c7d89425fa308323594beb0d0"
      }
     },
     "metadata": {},
     "output_type": "display_data"
    }
   ],
   "source": [
    "from IPython.display import display\n",
    "w = IntSlider()\n",
    "display(w)"
   ]
  },
  {
   "cell_type": "markdown",
   "metadata": {},
   "source": [
    "### Mehrere display() Aufrufe\n",
    "\n",
    "Wenn wir das selbe Widget mehrmals anzeigen lassen, werden sie im Frontend synchronisiert. Verstellt den folgenden Slider und achtet auf den obigen."
   ]
  },
  {
   "cell_type": "code",
   "execution_count": 4,
   "metadata": {},
   "outputs": [
    {
     "data": {
      "application/vnd.jupyter.widget-view+json": {
       "model_id": "4f06a83c7d89425fa308323594beb0d0"
      }
     },
     "metadata": {},
     "output_type": "display_data"
    }
   ],
   "source": [
    "display(w)"
   ]
  },
  {
   "cell_type": "markdown",
   "metadata": {},
   "source": [
    "### Widgets schließen\n",
    "\n",
    "Widgets können durch die close() Methode geschlossen werden."
   ]
  },
  {
   "cell_type": "code",
   "execution_count": 5,
   "metadata": {},
   "outputs": [
    {
     "data": {
      "application/vnd.jupyter.widget-view+json": {
       "model_id": "4f06a83c7d89425fa308323594beb0d0"
      }
     },
     "metadata": {},
     "output_type": "display_data"
    }
   ],
   "source": [
    "display(w)"
   ]
  },
  {
   "cell_type": "code",
   "execution_count": 6,
   "metadata": {
    "collapsed": true
   },
   "outputs": [],
   "source": [
    "w.close()"
   ]
  },
  {
   "cell_type": "markdown",
   "metadata": {},
   "source": [
    "### Widget Eigenschaften\n",
    "\n",
    "Alle iPython Widgets teilen die gleiche Nomenklatur. Um den Wert eines Widgets auszulesen können wir die `value` Eigenschaft aufrufen."
   ]
  },
  {
   "cell_type": "code",
   "execution_count": 7,
   "metadata": {},
   "outputs": [
    {
     "data": {
      "application/vnd.jupyter.widget-view+json": {
       "model_id": "26ea7ab54a534a41b5e8c7abf502eac8"
      }
     },
     "metadata": {},
     "output_type": "display_data"
    }
   ],
   "source": [
    "w = IntSlider()\n",
    "display(w)"
   ]
  },
  {
   "cell_type": "code",
   "execution_count": 8,
   "metadata": {},
   "outputs": [
    {
     "data": {
      "text/plain": [
       "6"
      ]
     },
     "execution_count": 8,
     "metadata": {},
     "output_type": "execute_result"
    }
   ],
   "source": [
    "w.value"
   ]
  },
  {
   "cell_type": "markdown",
   "metadata": {},
   "source": [
    "Genau so können wir auch den Wert eines Widgets festlegen."
   ]
  },
  {
   "cell_type": "code",
   "execution_count": 9,
   "metadata": {
    "collapsed": true
   },
   "outputs": [],
   "source": [
    "w.value = 100"
   ]
  },
  {
   "cell_type": "markdown",
   "metadata": {},
   "source": [
    "### Keys\n",
    "\n",
    "Zusätzlich zu `value` teilen die meisten Widgets `keys`, `description`, `disabled` und `visible`. Um die gesamte Liste der synchronisierten Eigenschaften eines spezifischen Widgets anzuzeigen, können wir die `keys` Eigenschaft aufrufen."
   ]
  },
  {
   "cell_type": "code",
   "execution_count": 10,
   "metadata": {},
   "outputs": [
    {
     "data": {
      "text/plain": [
       "['_dom_classes',\n",
       " '_model_module',\n",
       " '_model_module_version',\n",
       " '_model_name',\n",
       " '_range',\n",
       " '_view_module',\n",
       " '_view_module_version',\n",
       " '_view_name',\n",
       " 'continuous_update',\n",
       " 'description',\n",
       " 'disabled',\n",
       " 'layout',\n",
       " 'max',\n",
       " 'min',\n",
       " 'msg_throttle',\n",
       " 'orientation',\n",
       " 'readout',\n",
       " 'readout_format',\n",
       " 'step',\n",
       " 'style',\n",
       " 'value']"
      ]
     },
     "execution_count": 10,
     "metadata": {},
     "output_type": "execute_result"
    }
   ],
   "source": [
    "w.keys"
   ]
  },
  {
   "cell_type": "markdown",
   "metadata": {},
   "source": [
    "### Kurzschrift um den Startwert einer Widget Eigenschaft festzulegen\n",
    "\n",
    "Während wir ein Widget erstellen, können wir gleichzeitig einige oder alle der Eigenschaften eines Widgets festlegen, indem wir diese als Stichwort Parameter festlegen. Seht hier ein Beispiel:"
   ]
  },
  {
   "cell_type": "code",
   "execution_count": 11,
   "metadata": {},
   "outputs": [
    {
     "data": {
      "application/vnd.jupyter.widget-view+json": {
       "model_id": "a2f3943d02344213aeea6fce0498464f"
      }
     },
     "metadata": {},
     "output_type": "display_data"
    }
   ],
   "source": [
    "Text(value=\"Hallo Welt\", disabled=True)"
   ]
  },
  {
   "cell_type": "markdown",
   "metadata": {},
   "source": [
    "## Zwei gleiche Widgets verknüpfen\n",
    "\n",
    "Wenn ihr denselben Wert auf zwei unterschiedliche Arten anzeigen wollt, dann braucht ihr zwei unterschiedliche Widgets. Anstatt diese aber manuell synchronisieren zu wollen können wir einfach die `traitlet link` Funktion verwenden, um die beiden Eigenschaften zu verknüpfen. Unten sind die Werte zweier Widgets verknüpft:"
   ]
  },
  {
   "cell_type": "code",
   "execution_count": 12,
   "metadata": {},
   "outputs": [
    {
     "data": {
      "application/vnd.jupyter.widget-view+json": {
       "model_id": "6b652be1301d40aa9b1052c0693d787d"
      }
     },
     "metadata": {},
     "output_type": "display_data"
    },
    {
     "data": {
      "application/vnd.jupyter.widget-view+json": {
       "model_id": "be21816b33f247af98d4952e764c1a47"
      }
     },
     "metadata": {},
     "output_type": "display_data"
    }
   ],
   "source": [
    "from traitlets import link\n",
    "a = FloatText()\n",
    "b = FloatSlider()\n",
    "display(a,b)\n",
    "\n",
    "mylink = link((a, 'value'), (b, 'value'))"
   ]
  },
  {
   "cell_type": "markdown",
   "metadata": {},
   "source": [
    "### Verknüpfung von Widgets aufheben\n",
    "\n",
    "Die Verknüpfung von Widgets aufzuheben ist leicht. Alles was wir tun müssen ist .`unlink` auf das link Objekt anzuwenden. Versucht eines der Widgets oberhalb zu verändern, nachdem wir die Verknüpfung aufgehoben haben."
   ]
  },
  {
   "cell_type": "code",
   "execution_count": 13,
   "metadata": {
    "collapsed": true
   },
   "outputs": [],
   "source": [
    "mylink.unlink()"
   ]
  },
  {
   "cell_type": "markdown",
   "metadata": {},
   "source": [
    "## Schlussfolgerung\n",
    "\n",
    "So langsam solltet ihr ein Gefühl dafür bekommen, wie Widgets miteinander interagieren können und wie wir Details von Widgets festlegen können."
   ]
  }
 ],
 "metadata": {
  "kernelspec": {
   "display_name": "Python 3",
   "language": "python",
   "name": "python3"
  },
  "language_info": {
   "codemirror_mode": {
    "name": "ipython",
    "version": 3
   },
   "file_extension": ".py",
   "mimetype": "text/x-python",
   "name": "python",
   "nbconvert_exporter": "python",
   "pygments_lexer": "ipython3",
   "version": "3.8.5"
  }
 },
 "nbformat": 4,
 "nbformat_minor": 2
}