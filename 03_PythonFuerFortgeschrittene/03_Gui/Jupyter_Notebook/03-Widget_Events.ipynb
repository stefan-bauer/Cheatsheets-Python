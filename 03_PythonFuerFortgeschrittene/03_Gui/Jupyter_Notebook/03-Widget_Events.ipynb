{
 "cells": [
  {
   "cell_type": "markdown",
   "metadata": {
    "collapsed": true
   },
   "source": [
    "# Widget Events\n",
    "\n",
    "Quelle: Datamics\n",
    "\n",
    "In dieser Lektion besprechen wir Events, die Widgets passieren können, wie bspw. der Klick auf einen Button!\n",
    "\n",
    "## Spezielle Events\n",
    "\n",
    "Der `Button` wird nicht genutzt, um einen Datentyp zu repräsentieren. Stattdessen wird das Button Widget verwendet, um Klicks mit der Maus zu handhaben. Die `on_click` Mehode des `Button` kann verwendet werden, um Funktionen aufzurufen, sobald der Button geklickt wird. Die Dokumentation von `on_click` seht ihr unterhalb."
   ]
  },
  {
   "cell_type": "code",
   "execution_count": 1,
   "metadata": {},
   "outputs": [
    {
     "name": "stdout",
     "output_type": "stream",
     "text": [
      "Register a callback to execute when the button is clicked.\n",
      "\n",
      "        The callback will be called with one argument, the clicked button\n",
      "        widget instance.\n",
      "\n",
      "        Parameters\n",
      "        ----------\n",
      "        remove: bool (optional)\n",
      "            Set to true to remove the callback from the list of callbacks.\n",
      "        \n"
     ]
    }
   ],
   "source": [
    "import ipywidgets as widgets\n",
    "print(widgets.Button.on_click.__doc__)"
   ]
  },
  {
   "cell_type": "markdown",
   "metadata": {},
   "source": [
    "### Beispiel\n",
    "\n",
    "Da Button Klicks zustandslos sind, werden sie vom Frontend an das Backend durch eine benutzerdefinierte Nachricht übergeben. Durch Verwendung der `on_click` Methode wird der Button unterhalb eine Nachricht anzeigen, sobald er geklickt wird."
   ]
  },
  {
   "cell_type": "code",
   "execution_count": 2,
   "metadata": {},
   "outputs": [
    {
     "data": {
      "application/vnd.jupyter.widget-view+json": {
       "model_id": "dc2161cbc4b8487bbe07cf6eafe628bd"
      }
     },
     "metadata": {},
     "output_type": "display_data"
    }
   ],
   "source": [
    "from IPython.display import display\n",
    "button = widgets.Button(description=\"Klick mich!\")\n",
    "display(button)\n",
    "\n",
    "def button_geklickt(b):\n",
    "    print(\"Button geklickt.\")\n",
    "\n",
    "button.on_click(button_geklickt)"
   ]
  },
  {
   "cell_type": "markdown",
   "metadata": {},
   "source": [
    "## on_submit\n",
    "\n",
    "Das `Text` Widget hat ein spezielles `on_submit` Event. Das `on_submit` Event wird ausgelöst, wenn der Nutzer Enter drückt."
   ]
  },
  {
   "cell_type": "code",
   "execution_count": 3,
   "metadata": {},
   "outputs": [
    {
     "data": {
      "application/vnd.jupyter.widget-view+json": {
       "model_id": "73a5b41dfef14de8b174cf3775de0f28"
      }
     },
     "metadata": {},
     "output_type": "display_data"
    }
   ],
   "source": [
    "text = widgets.Text()\n",
    "display(text)\n",
    "\n",
    "def enter_druck(sender):\n",
    "    print(text.value)\n",
    "\n",
    "text.on_submit(enter_druck)"
   ]
  },
  {
   "cell_type": "markdown",
   "metadata": {},
   "source": [
    "## Traitlet Events\n",
    "\n",
    "Widget Eigenschaften sind iPython Traitlets und Traitlets sind ereignisreich. Um Veränderungen zu managen kann die `on_trait_change` Methode der Widgets verwendet werden, die einen Rückruf (en.: callback) registriert. Die Dokumentation für `on_trait_change` kann unterhalb eingesehen werden."
   ]
  },
  {
   "cell_type": "code",
   "execution_count": 4,
   "metadata": {},
   "outputs": [
    {
     "name": "stdout",
     "output_type": "stream",
     "text": [
      "DEPRECATED: Setup a handler to be called when a trait changes.\n",
      "\n",
      "        This is used to setup dynamic notifications of trait changes.\n",
      "\n",
      "        Static handlers can be created by creating methods on a HasTraits\n",
      "        subclass with the naming convention '_[traitname]_changed'.  Thus,\n",
      "        to create static handler for the trait 'a', create the method\n",
      "        _a_changed(self, name, old, new) (fewer arguments can be used, see\n",
      "        below).\n",
      "\n",
      "        If `remove` is True and `handler` is not specified, all change\n",
      "        handlers for the specified name are uninstalled.\n",
      "\n",
      "        Parameters\n",
      "        ----------\n",
      "        handler : callable, None\n",
      "            A callable that is called when a trait changes.  Its\n",
      "            signature can be handler(), handler(name), handler(name, new),\n",
      "            handler(name, old, new), or handler(name, old, new, self).\n",
      "        name : list, str, None\n",
      "            If None, the handler will apply to all traits.  If a list\n",
      "            of str, handler will apply to all names in the list.  If a\n",
      "            str, the handler will apply just to that name.\n",
      "        remove : bool\n",
      "            If False (the default), then install the handler.  If True\n",
      "            then unintall it.\n",
      "        \n"
     ]
    }
   ],
   "source": [
    "print(widgets.Widget.on_trait_change.__doc__)"
   ]
  },
  {
   "cell_type": "markdown",
   "metadata": {},
   "source": [
    "### Signaturen\n",
    "\n",
    "Wie wir der Dokumentation entnehmen können kann der Rückruf 4 mögliche Signaturen haben:\n",
    "\n",
    "* callback()\n",
    "* callback(trait_name)\n",
    "* callback(trait_name, new_value)\n",
    "* callback(trait_name, old_value, new_value)\n",
    "\n",
    "Unter Verwendung dieser Methode folgt jetzt ein Beispiel wie der Wert eines IntSliders ausgegeben werden kann, während er sich ändert:"
   ]
  },
  {
   "cell_type": "code",
   "execution_count": 5,
   "metadata": {},
   "outputs": [
    {
     "data": {
      "application/vnd.jupyter.widget-view+json": {
       "model_id": "f758bd4cd88c4758a4ee3f8c73f7c745"
      }
     },
     "metadata": {},
     "output_type": "display_data"
    }
   ],
   "source": [
    "int_range = widgets.IntSlider()\n",
    "display(int_range)\n",
    "\n",
    "def anderer_wert(value):\n",
    "    print(value)\n",
    " \n",
    "int_range.observe(anderer_wert, 'value')"
   ]
  },
  {
   "cell_type": "markdown",
   "metadata": {},
   "source": [
    "## Widgets verknüpfen\n",
    "\n",
    "Oftmals könntet ihr einfach Widget Attribute verknüpfen wollen. Die Synchronisation von Attributen kann einfacher erfolgen, als durch Nutzung von Traitlets Events.\n",
    "\n",
    "### Traitlets Attribute serverseitig verknüpfen\n",
    "\n",
    "Die erste Methode ist die Verwendung der `link` und `dlink` Funktionen aus dem `traitlets` Modul."
   ]
  },
  {
   "cell_type": "code",
   "execution_count": 6,
   "metadata": {
    "collapsed": true
   },
   "outputs": [],
   "source": [
    "import traitlets"
   ]
  },
  {
   "cell_type": "code",
   "execution_count": 7,
   "metadata": {},
   "outputs": [
    {
     "data": {
      "application/vnd.jupyter.widget-view+json": {
       "model_id": "9074827922634d41aeae95d6b7bcc0ee"
      }
     },
     "metadata": {},
     "output_type": "display_data"
    },
    {
     "data": {
      "application/vnd.jupyter.widget-view+json": {
       "model_id": "f219cf4cf2444c0fb539caa256c16cc2"
      }
     },
     "metadata": {},
     "output_type": "display_data"
    },
    {
     "data": {
      "application/vnd.jupyter.widget-view+json": {
       "model_id": "74caf87408b14207a593d02de8510406"
      }
     },
     "metadata": {},
     "output_type": "display_data"
    }
   ],
   "source": [
    "# Überschrift erstellen\n",
    "ueberschrift = widgets.Label(value = 'Die Werte von Slider1 und Slider2 sind synchronisiert.')\n",
    "\n",
    "# IntSlider erstellen\n",
    "slider1 = widgets.IntSlider(description='Slider 1')\n",
    "slider2 =  widgets.IntSlider(description='Slider 2')\n",
    "\n",
    "# Trailets zum Verknüpfen verwenden\n",
    "l = traitlets.link((slider1, 'value'), (slider2, 'value'))\n",
    "\n",
    "# Anzeigen!\n",
    "display(ueberschrift, slider1, slider2)"
   ]
  },
  {
   "cell_type": "code",
   "execution_count": 8,
   "metadata": {},
   "outputs": [
    {
     "data": {
      "application/vnd.jupyter.widget-view+json": {
       "model_id": "6675525b78ff4541b5cdc65a9707ae77"
      }
     },
     "metadata": {},
     "output_type": "display_data"
    },
    {
     "data": {
      "application/vnd.jupyter.widget-view+json": {
       "model_id": "47b0b6c1958348b590b7b035e65e0c75"
      }
     },
     "metadata": {},
     "output_type": "display_data"
    },
    {
     "data": {
      "application/vnd.jupyter.widget-view+json": {
       "model_id": "5bb74fbdaa534ca88e3a2c10b34322e4"
      }
     },
     "metadata": {},
     "output_type": "display_data"
    }
   ],
   "source": [
    "# Überschrift erstellen\n",
    "ueberschrift = widgets.Label(value = 'Änderungen der Quelle werden im Ziel angezeigt.')\n",
    "\n",
    "# IntSlider erstellen\n",
    "quelle = widgets.IntSlider(description='Quelle')\n",
    "ziel1 =  widgets.IntSlider(description='Ziel 1')\n",
    "\n",
    "# Trailets zum Verknüpfen verwenden\n",
    "dl = traitlets.dlink((quelle, 'value'), (ziel1, 'value'))\n",
    "\n",
    "# Anzeigen!\n",
    "display(ueberschrift, quelle, ziel1)"
   ]
  },
  {
   "cell_type": "markdown",
   "metadata": {},
   "source": [
    "Die Funktionen `traitlets.link` und `traitlets.dlink` geben ein `Link` bzw. `DLink` Objekt zurück. Diese Verknüpfung kann durch die `unlink` Methode aufgehoben werden."
   ]
  },
  {
   "cell_type": "code",
   "execution_count": 9,
   "metadata": {
    "collapsed": true
   },
   "outputs": [],
   "source": [
    "# Je nach Ausführung könnte ein Error auftauchen\n",
    "l.unlink()\n",
    "dl.unlink()"
   ]
  },
  {
   "cell_type": "markdown",
   "metadata": {},
   "source": [
    "### Traitlets Attribute klientseitig verknüpfen\n",
    "\n",
    "Wenn wir Traitlets Attribute synchronisieren könnte es zu Verzögerungen aufgrund der \"Rundreise\" zum Server kommen. Wir können Widget Attribute auch direkt im Browser verknüpfen, indem wir Link Widgets verwenden. Dies geht einseitig oder beidseitig."
   ]
  },
  {
   "cell_type": "code",
   "execution_count": 10,
   "metadata": {},
   "outputs": [
    {
     "data": {
      "application/vnd.jupyter.widget-view+json": {
       "model_id": "4a9bd063eaa34cc2b161a156bc74be44"
      }
     },
     "metadata": {},
     "output_type": "display_data"
    },
    {
     "data": {
      "application/vnd.jupyter.widget-view+json": {
       "model_id": "43d0fde270cf4c73b6672fad5ddcd4ba"
      }
     },
     "metadata": {},
     "output_type": "display_data"
    },
    {
     "data": {
      "application/vnd.jupyter.widget-view+json": {
       "model_id": "97919c21cc014cb597d4bcdfc7e51dd9"
      }
     },
     "metadata": {},
     "output_type": "display_data"
    }
   ],
   "source": [
    "# Version ohne Verzögerung\n",
    "ueberschrift = widgets.Label(value = 'Die Werte von Slider1 und Slider2 sind synchronisiert.')\n",
    "\n",
    "# IntSlider erstellen\n",
    "slider1 = widgets.IntSlider(description='Slider 1')\n",
    "slider2 =  widgets.IntSlider(description='Slider 2')\n",
    "\n",
    "# Trailets zum Verknüpfen verwenden\n",
    "l = widgets.jslink((slider1, 'value'), (slider2, 'value'))\n",
    "\n",
    "# Anzeigen!\n",
    "display(ueberschrift, slider1, slider2)"
   ]
  },
  {
   "cell_type": "code",
   "execution_count": 11,
   "metadata": {},
   "outputs": [
    {
     "data": {
      "application/vnd.jupyter.widget-view+json": {
       "model_id": "c7a47e510e744233a9aa88b46aaeb7b5"
      }
     },
     "metadata": {},
     "output_type": "display_data"
    },
    {
     "data": {
      "application/vnd.jupyter.widget-view+json": {
       "model_id": "bfaf660eec194ebe93ecbd526830fcad"
      }
     },
     "metadata": {},
     "output_type": "display_data"
    },
    {
     "data": {
      "application/vnd.jupyter.widget-view+json": {
       "model_id": "12c381ae103d4979b5aaed5d4ea5a187"
      }
     },
     "metadata": {},
     "output_type": "display_data"
    }
   ],
   "source": [
    "# Version ohne Verzögerung\n",
    "ueberschrift = widgets.Label(value = 'Änderungen der Quelle werden im Ziel angezeigt.')\n",
    "\n",
    "# IntSlider erstellen\n",
    "quelle = widgets.IntSlider(description='Quelle')\n",
    "ziel1 =  widgets.IntSlider(description='Ziel 1')\n",
    "\n",
    "# Trailets zum Verknüpfen verwenden\n",
    "dl = widgets.jsdlink((quelle, 'value'), (ziel1, 'value'))\n",
    "\n",
    "# Anzeigen!\n",
    "display(ueberschrift, quelle, ziel1)"
   ]
  },
  {
   "cell_type": "markdown",
   "metadata": {},
   "source": [
    "Die Funktionen `widgets.jslink` und `widgets.jsdlink` geben ein Link Widget zurück. Diese Verknüpfung kann durch die `unlink()` Methode aufgehoben werden."
   ]
  },
  {
   "cell_type": "code",
   "execution_count": 12,
   "metadata": {
    "collapsed": true
   },
   "outputs": [],
   "source": [
    "l.unlink()\n",
    "dl.unlink()"
   ]
  },
  {
   "cell_type": "markdown",
   "metadata": {},
   "source": [
    "## Abschluss\n",
    "\n",
    "Ihr solltet nun gut mit der Verknüpfung von Widgets umgehen können!"
   ]
  }
 ],
 "metadata": {
  "kernelspec": {
   "display_name": "Python 3",
   "language": "python",
   "name": "python3"
  },
  "language_info": {
   "codemirror_mode": {
    "name": "ipython",
    "version": 3
   },
   "file_extension": ".py",
   "mimetype": "text/x-python",
   "name": "python",
   "nbconvert_exporter": "python",
   "pygments_lexer": "ipython3",
   "version": "3.8.5"
  }
 },
 "nbformat": 4,
 "nbformat_minor": 2
}