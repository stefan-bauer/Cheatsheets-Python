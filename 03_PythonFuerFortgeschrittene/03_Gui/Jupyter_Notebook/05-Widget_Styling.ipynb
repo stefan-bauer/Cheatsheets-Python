{
 "cells": [
  {
   "cell_type": "markdown",
   "metadata": {
    "collapsed": true
   },
   "source": [
    "# Widget Styling\n",
    "\n",
    "Quelle: Datamics\n",
    "\n",
    "In dieser Lektion werden wir mehr darüber lernen, wie wir die vielen Möglichkeiten anwenden können, um Widgets zu stylen!"
   ]
  },
  {
   "cell_type": "code",
   "execution_count": 1,
   "metadata": {},
   "outputs": [
    {
     "data": {
      "text/html": [
       "<style>\n",
       ".example-container { background: #999999; padding: 2px; min-height: 100px; }\n",
       ".example-container.sm { min-height: 50px; }\n",
       ".example-box { background: #9999FF; width: 50px; height: 50px; text-align: center; vertical-align: middle; color: white; font-weight: bold; margin: 2px;}\n",
       ".example-box.med { width: 65px; height: 65px; }   \n",
       ".example-box.lrg { width: 80px; height: 80px; }   \n",
       "</style>\n"
      ],
      "text/plain": [
       "<IPython.core.display.HTML object>"
      ]
     },
     "metadata": {},
     "output_type": "display_data"
    }
   ],
   "source": [
    "%%html\n",
    "<style>\n",
    ".example-container { background: #999999; padding: 2px; min-height: 100px; }\n",
    ".example-container.sm { min-height: 50px; }\n",
    ".example-box { background: #9999FF; width: 50px; height: 50px; text-align: center; vertical-align: middle; color: white; font-weight: bold; margin: 2px;}\n",
    ".example-box.med { width: 65px; height: 65px; }   \n",
    ".example-box.lrg { width: 80px; height: 80px; }   \n",
    "</style>"
   ]
  },
  {
   "cell_type": "code",
   "execution_count": 2,
   "metadata": {},
   "outputs": [],
   "source": [
    "import ipywidgets as widgets\n",
    "from IPython.display import display"
   ]
  },
  {
   "cell_type": "markdown",
   "metadata": {},
   "source": [
    "## Grundlegendes Styling\n",
    "\n",
    "Die Buttons, die wir durch iPython erzeugen, können durch folgende Eigenschaften angepasst werden:\n",
    "\n",
    "* 'primary'\n",
    "* 'success'\n",
    "* 'info'\n",
    "* 'warning'\n",
    "* 'danger'\n",
    "\n",
    "Das folgende Beispiel zeigt, wie ein Button Widget gestylt werden kann:"
   ]
  },
  {
   "cell_type": "code",
   "execution_count": 3,
   "metadata": {},
   "outputs": [
    {
     "data": {
      "application/vnd.jupyter.widget-view+json": {
       "model_id": "1a0583348c4348acb21362b3d5ccec3c",
       "version_major": 2,
       "version_minor": 0
      },
      "text/plain": [
       "Button(button_style='info', description='Hallo Welt!', style=ButtonStyle())"
      ]
     },
     "metadata": {},
     "output_type": "display_data"
    }
   ],
   "source": [
    "button = widgets.Button(\n",
    "    description='Hallo Welt!',\n",
    "    button_style='info')\n",
    "display(button)"
   ]
  },
  {
   "cell_type": "markdown",
   "metadata": {},
   "source": [
    "## Eltern/Kind Beziehungen\n",
    "Für die Darstellung mehrerer Widgets kann zuerst ein Layout angelegt werden:"
   ]
  },
  {
   "cell_type": "code",
   "execution_count": 4,
   "metadata": {},
   "outputs": [],
   "source": [
    "box_layout = widgets.Layout(display='flex', flex_flow='column', align_items='stretch', border='3px dotted red', width='40%')"
   ]
  },
  {
   "cell_type": "markdown",
   "metadata": {},
   "source": [
    "Um ein Widget A innerhalb eines Widgets B anzuzeigen, muss Widget A ein Kind (child) von Widget B (parent) sein. Widgets, die andere Widgets beinhalten können, besitzen das `children` Attribut. Dieses Attribut kann durch einen Stichwort Parameter bei der Erstellung eines Widgets angegeben werden. Alternativ nach der Erstellung. Wenn wir display() auf ein Widget anwenden, dass ein Kind hat, wird dieses Kind automatisch auch angezeigt."
   ]
  },
  {
   "cell_type": "code",
   "execution_count": 5,
   "metadata": {},
   "outputs": [
    {
     "data": {
      "application/vnd.jupyter.widget-view+json": {
       "model_id": "6ab022d061cb452ab1b7eaab63f7b2e3",
       "version_major": 2,
       "version_minor": 0
      },
      "text/plain": [
       "Box(children=(FloatSlider(value=0.0), Text(value='Hi')), layout=Layout(align_items='stretch', border='3px dott…"
      ]
     },
     "metadata": {},
     "output_type": "display_data"
    }
   ],
   "source": [
    "float_range = widgets.FloatSlider()\n",
    "string = widgets.Text(value='Hi')\n",
    "container = widgets.Box(children=[float_range, string], layout=box_layout)\n",
    "\n",
    "display(container) # Zeigt den Behälter an und alle seine \"Kinder\""
   ]
  },
  {
   "cell_type": "markdown",
   "metadata": {},
   "source": [
    "### Nachdem das Eltern Widget angezeigt wurde\n",
    "\n",
    "Kinder können auch definiert werden, nachdem das Eltern Widget angezeigt wurde. Das Eltern Element ist dafür verantwortlich, seine Kinder anzuzeigen."
   ]
  },
  {
   "cell_type": "code",
   "execution_count": 6,
   "metadata": {},
   "outputs": [
    {
     "data": {
      "application/vnd.jupyter.widget-view+json": {
       "model_id": "6ab022d061cb452ab1b7eaab63f7b2e3",
       "version_major": 2,
       "version_minor": 0
      },
      "text/plain": [
       "Box(children=(IntSlider(value=0),), layout=Layout(align_items='stretch', border='3px dotted red', display='fle…"
      ]
     },
     "metadata": {},
     "output_type": "display_data"
    }
   ],
   "source": [
    "int_range = widgets.IntSlider()\n",
    "container.children=[int_range]\n",
    "display(container)"
   ]
  },
  {
   "cell_type": "markdown",
   "metadata": {},
   "source": [
    "## Besondere Boxen\n",
    "\n",
    "Wenn wir eine etwas kompliziertere Kombination von Widgets anzeigen möchten, können wir spezielle Behälter dafür benutzen. Um mehrere Widgets anzuzeigen, können wir `Accordion` oder `Tab` in Kombination mit einer Box benutzen (wie ihr unten sehen könnt). Die \"Seiten\" dieser Widgets sind ihre Kinder. Um den Titel der Seiten festzulegen nutzen wir `set_title`.\n",
    "\n",
    "### Accordion"
   ]
  },
  {
   "cell_type": "code",
   "execution_count": 7,
   "metadata": {},
   "outputs": [
    {
     "data": {
      "application/vnd.jupyter.widget-view+json": {
       "model_id": "a8142080d8e94a8490c008bc13f6a045",
       "version_major": 2,
       "version_minor": 0
      },
      "text/plain": [
       "Accordion(children=(Box(children=(Text(value='', description='Position:'), BoundedIntText(value=0, description…"
      ]
     },
     "metadata": {},
     "output_type": "display_data"
    }
   ],
   "source": [
    "name1 = widgets.Text(description='Position:')\n",
    "zip1 = widgets.BoundedIntText(description='Zip:', min=0, max=99999)\n",
    "seite1 = widgets.Box(children=[name1, zip1])\n",
    "\n",
    "name2 = widgets.Text(description='Position:')\n",
    "zip2 = widgets.BoundedIntText(description='Zip:', min=0, max=99999)\n",
    "seite2 = widgets.Box(children=[name2, zip2])\n",
    "\n",
    "accord = widgets.Accordion(children=[seite1, seite2], width=400)\n",
    "display(accord)\n",
    "\n",
    "accord.set_title(0, 'Von')\n",
    "accord.set_title(1, 'Nach')"
   ]
  },
  {
   "cell_type": "markdown",
   "metadata": {},
   "source": [
    "### TabWidget"
   ]
  },
  {
   "cell_type": "code",
   "execution_count": 8,
   "metadata": {},
   "outputs": [
    {
     "data": {
      "application/vnd.jupyter.widget-view+json": {
       "model_id": "795553f92a114141beda468d8c0fe609",
       "version_major": 2,
       "version_minor": 0
      },
      "text/plain": [
       "Tab(children=(Box(children=(Text(value='', description='Name:'), Dropdown(description='Farbe:', options=('rot'…"
      ]
     },
     "metadata": {},
     "output_type": "display_data"
    }
   ],
   "source": [
    "name = widgets.Text(description='Name:', padding=4)\n",
    "farbe = widgets.Dropdown(description='Farbe:', padding=4, options=['rot', 'orange', 'gelb', 'grün', 'blau', 'indigo', 'violet'])\n",
    "seite1 = widgets.Box(children=[name, farbe], padding=4)\n",
    "\n",
    "alter = widgets.IntSlider(description='Alter:', padding=4, min=0, max=120, value=50)\n",
    "geschlecht = widgets.RadioButtons(description='Geschlecht:', padding=4, options=['männlich', 'weiblich'])\n",
    "seite2 = widgets.Box(children=[alter, geschlecht], padding=4)\n",
    "\n",
    "tabs = widgets.Tab(children=[seite1, seite2])\n",
    "display(tabs)\n",
    "\n",
    "tabs.set_title(0, 'Name')\n",
    "tabs.set_title(1, 'Details')"
   ]
  },
  {
   "cell_type": "markdown",
   "metadata": {},
   "source": [
    "## Ausrichtung\n",
    "\n",
    "Die meisten Widgets haben ein `description` (dt.: Beschreibung) Attribut. Dieses erlaubt uns, einen Namen zu vergeben. Der Name des Widgets hat eine fixierte Mindestbreite. Der Text des Namens ist immer rechts ausgerichtet und das Widget links."
   ]
  },
  {
   "cell_type": "code",
   "execution_count": 9,
   "metadata": {},
   "outputs": [
    {
     "data": {
      "application/vnd.jupyter.widget-view+json": {
       "model_id": "e10ce2e5ec5240af86bed23199062e5c",
       "version_major": 2,
       "version_minor": 0
      },
      "text/plain": [
       "Text(value='', description='a:')"
      ]
     },
     "metadata": {},
     "output_type": "display_data"
    },
    {
     "data": {
      "application/vnd.jupyter.widget-view+json": {
       "model_id": "357eb05414c54a3a9fcba39663062644",
       "version_major": 2,
       "version_minor": 0
      },
      "text/plain": [
       "Text(value='', description='aa:')"
      ]
     },
     "metadata": {},
     "output_type": "display_data"
    },
    {
     "data": {
      "application/vnd.jupyter.widget-view+json": {
       "model_id": "55edff0e06d1443ebb6ac2d1738fc58a",
       "version_major": 2,
       "version_minor": 0
      },
      "text/plain": [
       "Text(value='', description='aaa:')"
      ]
     },
     "metadata": {},
     "output_type": "display_data"
    }
   ],
   "source": [
    "display(widgets.Text(description=\"a:\"))\n",
    "display(widgets.Text(description=\"aa:\"))\n",
    "display(widgets.Text(description=\"aaa:\"))"
   ]
  },
  {
   "cell_type": "markdown",
   "metadata": {},
   "source": [
    "Sollte der Name des Widgets länger als die Mindestbreite sein, wird das Widget nach rechts verschoben:"
   ]
  },
  {
   "cell_type": "code",
   "execution_count": 10,
   "metadata": {},
   "outputs": [
    {
     "data": {
      "application/vnd.jupyter.widget-view+json": {
       "model_id": "2a202e239e3646cda562dea2c11b4ce6",
       "version_major": 2,
       "version_minor": 0
      },
      "text/plain": [
       "Text(value='', description='a:')"
      ]
     },
     "metadata": {},
     "output_type": "display_data"
    },
    {
     "data": {
      "application/vnd.jupyter.widget-view+json": {
       "model_id": "c98c8a2ed529405798cfefbcd4678d12",
       "version_major": 2,
       "version_minor": 0
      },
      "text/plain": [
       "Text(value='', description='aa:')"
      ]
     },
     "metadata": {},
     "output_type": "display_data"
    },
    {
     "data": {
      "application/vnd.jupyter.widget-view+json": {
       "model_id": "9012bdcd5d2846288bbb6f89cc38def7",
       "version_major": 2,
       "version_minor": 0
      },
      "text/plain": [
       "Text(value='', description='aaa:')"
      ]
     },
     "metadata": {},
     "output_type": "display_data"
    },
    {
     "data": {
      "application/vnd.jupyter.widget-view+json": {
       "model_id": "73ee8d7e568b4e64b576109505f54e9b",
       "version_major": 2,
       "version_minor": 0
      },
      "text/plain": [
       "Text(value='', description='aaaaaaaaaaaaa:')"
      ]
     },
     "metadata": {},
     "output_type": "display_data"
    }
   ],
   "source": [
    "display(widgets.Text(description=\"a:\"))\n",
    "display(widgets.Text(description=\"aa:\"))\n",
    "display(widgets.Text(description=\"aaa:\"))\n",
    "display(widgets.Text(description=\"aaaaaaaaaaaaa:\"))"
   ]
  },
  {
   "cell_type": "markdown",
   "metadata": {},
   "source": [
    "Sofern kein Name vergeben ist wird auch keiner angezeigt."
   ]
  },
  {
   "cell_type": "code",
   "execution_count": 11,
   "metadata": {},
   "outputs": [
    {
     "data": {
      "application/vnd.jupyter.widget-view+json": {
       "model_id": "1fb79824a29b403a970a019e3343b1d2",
       "version_major": 2,
       "version_minor": 0
      },
      "text/plain": [
       "Text(value='', description='a:')"
      ]
     },
     "metadata": {},
     "output_type": "display_data"
    },
    {
     "data": {
      "application/vnd.jupyter.widget-view+json": {
       "model_id": "8ab368e09a094539a3d0992121e0ada8",
       "version_major": 2,
       "version_minor": 0
      },
      "text/plain": [
       "Text(value='', description='aa:')"
      ]
     },
     "metadata": {},
     "output_type": "display_data"
    },
    {
     "data": {
      "application/vnd.jupyter.widget-view+json": {
       "model_id": "11d3d957153540c3bcd39797c6a6d0c9",
       "version_major": 2,
       "version_minor": 0
      },
      "text/plain": [
       "Text(value='', description='aaa:')"
      ]
     },
     "metadata": {},
     "output_type": "display_data"
    },
    {
     "data": {
      "application/vnd.jupyter.widget-view+json": {
       "model_id": "fa82d88aaa7c459dadbc4e8deb3857c2",
       "version_major": 2,
       "version_minor": 0
      },
      "text/plain": [
       "Text(value='')"
      ]
     },
     "metadata": {},
     "output_type": "display_data"
    }
   ],
   "source": [
    "display(widgets.Text(description=\"a:\"))\n",
    "display(widgets.Text(description=\"aa:\"))\n",
    "display(widgets.Text(description=\"aaa:\"))\n",
    "display(widgets.Text())"
   ]
  },
  {
   "cell_type": "markdown",
   "metadata": {},
   "source": [
    "## Flex Boxen\n",
    "\n",
    "Widgets können ausgerichtet werden indem wir `FlexBox`, `HBox` und `VBox` Widgets verwenden.\n",
    "\n",
    "### Anwendung auf Widgets\n",
    "\n",
    "Widgets werden per Standard vertikal ausgegeben:"
   ]
  },
  {
   "cell_type": "code",
   "execution_count": 12,
   "metadata": {},
   "outputs": [
    {
     "data": {
      "application/vnd.jupyter.widget-view+json": {
       "model_id": "05eae179543c4b679394c4b81bd2c535",
       "version_major": 2,
       "version_minor": 0
      },
      "text/plain": [
       "Button(description='0', style=ButtonStyle())"
      ]
     },
     "metadata": {},
     "output_type": "display_data"
    },
    {
     "data": {
      "application/vnd.jupyter.widget-view+json": {
       "model_id": "a9230924f75c49f69877d261fc3c9ce0",
       "version_major": 2,
       "version_minor": 0
      },
      "text/plain": [
       "Button(description='1', style=ButtonStyle())"
      ]
     },
     "metadata": {},
     "output_type": "display_data"
    },
    {
     "data": {
      "application/vnd.jupyter.widget-view+json": {
       "model_id": "f8db50fad22b450da04ab9fc05616d11",
       "version_major": 2,
       "version_minor": 0
      },
      "text/plain": [
       "Button(description='2', style=ButtonStyle())"
      ]
     },
     "metadata": {},
     "output_type": "display_data"
    }
   ],
   "source": [
    "buttons = [widgets.Button(description=str(i)) for i in range(3)]\n",
    "display(*buttons)"
   ]
  },
  {
   "cell_type": "markdown",
   "metadata": {},
   "source": [
    "### HBox anwenden\n",
    "\n",
    "Um Widgets horizontal auszugeben, können sie als Kinder von einem HBox Widget angelegt werden."
   ]
  },
  {
   "cell_type": "code",
   "execution_count": 13,
   "metadata": {},
   "outputs": [
    {
     "data": {
      "application/vnd.jupyter.widget-view+json": {
       "model_id": "88919b2c73c14fa89c47462ca4b26fa8",
       "version_major": 2,
       "version_minor": 0
      },
      "text/plain": [
       "HBox(children=(Button(description='0', style=ButtonStyle()), Button(description='1', style=ButtonStyle()), But…"
      ]
     },
     "metadata": {},
     "output_type": "display_data"
    }
   ],
   "source": [
    "container = widgets.HBox(children=buttons)\n",
    "display(container)"
   ]
  },
  {
   "cell_type": "markdown",
   "metadata": {},
   "source": [
    "## Sichtbarkeit\n",
    "\n",
    "Die `visibile` Eigenschaft eines Widgets kann genutzt werden, um Widgets auszublenden oder anzuzeigen, die bereits erzeugt wurden. Die `visible` Eigenschaft kann folgende Werte annehmen:\n",
    "\n",
    "* True - das Widget wird angezeigt\n",
    "* False - das Widget wird ausgeblendet und ebenso der leere Platz, an dem es stehen würde\n",
    "* None - das Widget wird ausgeblendet, der leere Platz jedoch nicht"
   ]
  },
  {
   "cell_type": "code",
   "execution_count": 14,
   "metadata": {},
   "outputs": [
    {
     "data": {
      "application/vnd.jupyter.widget-view+json": {
       "model_id": "587683bd39634093bee1522a341d7c92",
       "version_major": 2,
       "version_minor": 0
      },
      "text/plain": [
       "Text(value='Erste Zeile')"
      ]
     },
     "metadata": {},
     "output_type": "display_data"
    },
    {
     "data": {
      "application/vnd.jupyter.widget-view+json": {
       "model_id": "488dec79b2074c17b2f0d28ea33d383e",
       "version_major": 2,
       "version_minor": 0
      },
      "text/plain": [
       "Text(value='Zweite Zeile')"
      ]
     },
     "metadata": {},
     "output_type": "display_data"
    },
    {
     "data": {
      "application/vnd.jupyter.widget-view+json": {
       "model_id": "e668eeb8e7ec452d82118f0b232d797f",
       "version_major": 2,
       "version_minor": 0
      },
      "text/plain": [
       "Text(value='Dritte Zeile')"
      ]
     },
     "metadata": {},
     "output_type": "display_data"
    }
   ],
   "source": [
    "w1 = widgets.Text(value=\"Erste Zeile\")\n",
    "w2 = widgets.Text(value=\"Zweite Zeile\")\n",
    "w3 = widgets.Text(value=\"Dritte Zeile\")\n",
    "display(w1, w2, w3)"
   ]
  },
  {
   "cell_type": "code",
   "execution_count": 15,
   "metadata": {},
   "outputs": [],
   "source": [
    "w2.layout.visibility = None"
   ]
  },
  {
   "cell_type": "code",
   "execution_count": 16,
   "metadata": {},
   "outputs": [],
   "source": [
    "w2.layout.visibility = 'hidden'"
   ]
  },
  {
   "cell_type": "code",
   "execution_count": 17,
   "metadata": {},
   "outputs": [],
   "source": [
    "w2.layout.visibility = 'visible'"
   ]
  },
  {
   "cell_type": "markdown",
   "metadata": {},
   "source": [
    "### Weiteres Beispiel\n",
    "\n",
    "Im untenstehenden Beispiel wird ein Formular erzeugt, das bestimmte Widgets in Abhängigkeit von anderen Widgets anzeigt. Versucht die \"Student\" Check-Box umzuschalten."
   ]
  },
  {
   "cell_type": "code",
   "execution_count": 20,
   "metadata": {},
   "outputs": [
    {
     "data": {
      "application/vnd.jupyter.widget-view+json": {
       "model_id": "22357842256847a5a0dd590a0c2f42ca",
       "version_major": 2,
       "version_minor": 0
      },
      "text/plain": [
       "VBox(children=(Text(value='', description='Vorname:'), Text(value='', description='Nachname:'), Checkbox(value…"
      ]
     },
     "metadata": {},
     "output_type": "display_data"
    }
   ],
   "source": [
    "form = widgets.VBox()\n",
    "vorname = widgets.Text(description=\"Vorname:\")\n",
    "nachname = widgets.Text(description=\"Nachname:\")\n",
    "\n",
    "student = widgets.Checkbox(description=\"Student:\", value=False)\n",
    "school_info = widgets.VBox(visible=False, children=[\n",
    "    widgets.Text(description=\"Schule:\"),\n",
    "    widgets.IntText(description=\"Note:\", min=0, max=12)\n",
    "    ])\n",
    "\n",
    "haustier = widgets.Text(description=\"Haustier:\")\n",
    "form.children = [vorname, nachname, student, schul_info, haustier]\n",
    "display(form)\n",
    "\n",
    "def on_student_toggle(value):\n",
    "    if value:\n",
    "        school_info.visible = True\n",
    "    else:\n",
    "        school_info.visible = False\n",
    "student.observe(on_student_toggle, 'value')"
   ]
  },
  {
   "cell_type": "markdown",
   "metadata": {},
   "source": [
    "## Abschließende Bemerkung\n",
    "\n",
    "Jetzt solltet ihr verstanden haben, wie wir Widgets stylen können!"
   ]
  }
 ],
 "metadata": {
  "kernelspec": {
   "display_name": "Python 3",
   "language": "python",
   "name": "python3"
  },
  "language_info": {
   "codemirror_mode": {
    "name": "ipython",
    "version": 3
   },
   "file_extension": ".py",
   "mimetype": "text/x-python",
   "name": "python",
   "nbconvert_exporter": "python",
   "pygments_lexer": "ipython3",
   "version": "3.8.5"
  }
 },
 "nbformat": 4,
 "nbformat_minor": 2
}