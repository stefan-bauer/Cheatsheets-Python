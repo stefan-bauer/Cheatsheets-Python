{
 "cells": [
  {
   "cell_type": "markdown",
   "metadata": {
    "collapsed": true
   },
   "source": [
    "# Python Tests\n",
    "\n",
    "Quelle: Datamics"
   ]
  },
  {
   "cell_type": "markdown",
   "metadata": {},
   "source": [
    "In der Programmierung gibt es unterschiedliche Fehlerarten wie Syntaxfehler, Ausnahmen und semantische Fehler. Diese schauen wir uns zunächst an bevor wir mit dem schreiben von Tests beginnen."
   ]
  },
  {
   "cell_type": "markdown",
   "metadata": {},
   "source": [
    "### Syntaxfehler (engl.: syntax errors)"
   ]
  },
  {
   "cell_type": "markdown",
   "metadata": {},
   "source": [
    "Während der Programmentwicklung gibt es immer wieder \"kleine Fehler\", häufig sind es Tippfehler. Irgendwo fehlt immer mal ein Doppelpunkt, so zum Beispiel hinter einem \"if\", oder man hat vielleicht \"true\" statt \"True\" geschrieben. Dabei handelt es sich um die Verletzung von Schreibweisen von einzelnen Wörtern, also zum Beispiel Schlüsselwörtern oder von Strukturregeln. Diese Fehler sind relativ leicht zu finden da sie schon bei dem Kompilieren angezeigt werden."
   ]
  },
  {
   "cell_type": "code",
   "execution_count": 2,
   "metadata": {},
   "outputs": [
    {
     "ename": "SyntaxError",
     "evalue": "invalid syntax (<ipython-input-2-ffc1392b3d49>, line 1)",
     "output_type": "error",
     "traceback": [
      "\u001b[0;36m  File \u001b[0;32m\"<ipython-input-2-ffc1392b3d49>\"\u001b[0;36m, line \u001b[0;32m1\u001b[0m\n\u001b[0;31m    if true\u001b[0m\n\u001b[0m           ^\u001b[0m\n\u001b[0;31mSyntaxError\u001b[0m\u001b[0;31m:\u001b[0m invalid syntax\n"
     ]
    }
   ],
   "source": [
    "if true\n",
    "    print (\"Dies ist ein Syntaxfehler!\")"
   ]
  },
  {
   "cell_type": "markdown",
   "metadata": {},
   "source": [
    "### Ausnahmen (engl: exceptions)"
   ]
  },
  {
   "cell_type": "markdown",
   "metadata": {},
   "source": [
    "Selbst wenn eine Anweisung oder ein Ausdruck syntaktisch korrekt ist, kann es bei der Ausführung zu Fehlern kommen. Fehler, die bei der Ausführung auftreten, werden Ausnahmen (engl: exceptions) genannt und sind nicht notwendigerweise schwerwiegend. Wir haben diese schon in dem Kapitel Fehlerbehandlung mit try catch behandelt."
   ]
  },
  {
   "cell_type": "code",
   "execution_count": 1,
   "metadata": {},
   "outputs": [
    {
     "ename": "NameError",
     "evalue": "name 'spam' is not defined",
     "output_type": "error",
     "traceback": [
      "\u001b[0;31m\u001b[0m",
      "\u001b[0;31mNameError\u001b[0mTraceback (most recent call last)",
      "\u001b[0;32m<ipython-input-1-6b1dfe582d2e>\u001b[0m in \u001b[0;36m<module>\u001b[0;34m()\u001b[0m\n\u001b[0;32m----> 1\u001b[0;31m \u001b[1;36m4\u001b[0m \u001b[1;33m+\u001b[0m \u001b[0mspam\u001b[0m\u001b[1;33m*\u001b[0m\u001b[1;36m3\u001b[0m\u001b[1;33m\u001b[0m\u001b[0m\n\u001b[0m",
      "\u001b[0;31mNameError\u001b[0m: name 'spam' is not defined"
     ]
    }
   ],
   "source": [
    "4 + spam*3"
   ]
  },
  {
   "cell_type": "markdown",
   "metadata": {},
   "source": [
    "### Semantische Fehler"
   ]
  },
  {
   "cell_type": "markdown",
   "metadata": {},
   "source": [
    "Neben den syntaktischen Fehlern und Ausnahmen, die sich häufig relativ leicht finden und beheben lassen, gibt es auch die semantischen Fehler. Diese sind relativ schwer zu finden da sie erst später im Ergebniss des Programmcodes auftreten oder auch nur selten wenn bestimmte Situationen eintreten. Ein Beispiel ist dass man bei der Berechnung von Prozent vergisst mit 100 zu multiplizieren."
   ]
  },
  {
   "cell_type": "code",
   "execution_count": 4,
   "metadata": {
    "collapsed": true
   },
   "outputs": [],
   "source": [
    "def prozent(wert, total):\n",
    "    return wert / total  # anstatt \"wert * 100 / total\""
   ]
  },
  {
   "cell_type": "markdown",
   "metadata": {},
   "source": [
    "# Unit Tests"
   ]
  },
  {
   "cell_type": "markdown",
   "metadata": {},
   "source": [
    "Die Semantischen Fehler kann mit Unit tests abfangen. Dies ist vorallem Sinnvoll wenn mehrere Personen am gleichen Code arbeiten. Für Unit tests definieren wir uns zunächst eine Funktion die überprüft ob eine Zahl eine Primzahl ist."
   ]
  },
  {
   "cell_type": "code",
   "execution_count": 62,
   "metadata": {
    "collapsed": true
   },
   "outputs": [],
   "source": [
    "def ist_primzahl(n):\n",
    "    \"\"\" \n",
    "    Testet ob eine Zahl eine Primzahl ist. \n",
    "    \"\"\"\n",
    "    for i in range(3, n):\n",
    "        if n % i == 0:\n",
    "            return False\n",
    "    return True"
   ]
  },
  {
   "cell_type": "markdown",
   "metadata": {},
   "source": [
    "Danach testen wir die Primzahl-Funktion mit Zahlen und überprüfen das Ergebnis:"
   ]
  },
  {
   "cell_type": "code",
   "execution_count": 63,
   "metadata": {},
   "outputs": [
    {
     "data": {
      "text/plain": [
       "False"
      ]
     },
     "execution_count": 63,
     "metadata": {},
     "output_type": "execute_result"
    }
   ],
   "source": [
    "ist_primzahl(6)"
   ]
  },
  {
   "cell_type": "code",
   "execution_count": 66,
   "metadata": {},
   "outputs": [
    {
     "data": {
      "text/plain": [
       "True"
      ]
     },
     "execution_count": 66,
     "metadata": {},
     "output_type": "execute_result"
    }
   ],
   "source": [
    "ist_primzahl(2)"
   ]
  },
  {
   "cell_type": "code",
   "execution_count": 64,
   "metadata": {},
   "outputs": [
    {
     "data": {
      "text/plain": [
       "True"
      ]
     },
     "execution_count": 64,
     "metadata": {},
     "output_type": "execute_result"
    }
   ],
   "source": [
    "ist_primzahl(-6)"
   ]
  },
  {
   "cell_type": "code",
   "execution_count": 65,
   "metadata": {},
   "outputs": [
    {
     "ename": "TypeError",
     "evalue": "range() integer end argument expected, got float.",
     "output_type": "error",
     "traceback": [
      "\u001b[0;31m\u001b[0m",
      "\u001b[0;31mTypeError\u001b[0mTraceback (most recent call last)",
      "\u001b[0;32m<ipython-input-65-8ec51201ad10>\u001b[0m in \u001b[0;36m<module>\u001b[0;34m()\u001b[0m\n\u001b[0;32m----> 1\u001b[0;31m \u001b[0mist_primzahl\u001b[0m\u001b[1;33m(\u001b[0m\u001b[1;36m0.5\u001b[0m\u001b[1;33m)\u001b[0m\u001b[1;33m\u001b[0m\u001b[0m\n\u001b[0m",
      "\u001b[0;32m<ipython-input-62-344910f772fd>\u001b[0m in \u001b[0;36mist_primzahl\u001b[0;34m(n)\u001b[0m\n\u001b[1;32m      3\u001b[0m     \u001b[0mTestet\u001b[0m \u001b[0mob\u001b[0m \u001b[0meine\u001b[0m \u001b[0mZahl\u001b[0m \u001b[0meine\u001b[0m \u001b[0mPrimzahl\u001b[0m \u001b[0mist\u001b[0m\u001b[1;33m.\u001b[0m\u001b[1;33m\u001b[0m\u001b[0m\n\u001b[1;32m      4\u001b[0m     \"\"\"\n\u001b[0;32m----> 5\u001b[0;31m     \u001b[1;32mfor\u001b[0m \u001b[0mi\u001b[0m \u001b[1;32min\u001b[0m \u001b[0mrange\u001b[0m\u001b[1;33m(\u001b[0m\u001b[1;36m3\u001b[0m\u001b[1;33m,\u001b[0m \u001b[0mn\u001b[0m\u001b[1;33m)\u001b[0m\u001b[1;33m:\u001b[0m\u001b[1;33m\u001b[0m\u001b[0m\n\u001b[0m\u001b[1;32m      6\u001b[0m         \u001b[1;32mif\u001b[0m \u001b[0mn\u001b[0m \u001b[1;33m%\u001b[0m \u001b[0mi\u001b[0m \u001b[1;33m==\u001b[0m \u001b[1;36m0\u001b[0m\u001b[1;33m:\u001b[0m\u001b[1;33m\u001b[0m\u001b[0m\n\u001b[1;32m      7\u001b[0m             \u001b[1;32mreturn\u001b[0m \u001b[0mFalse\u001b[0m\u001b[1;33m\u001b[0m\u001b[0m\n",
      "\u001b[0;31mTypeError\u001b[0m: range() integer end argument expected, got float."
     ]
    }
   ],
   "source": [
    "ist_primzahl(0.5)"
   ]
  },
  {
   "cell_type": "markdown",
   "metadata": {},
   "source": [
    "Wir sehen, dass die Funktionen auf Integer-Zahlen definiert sind. Für negative ganze Zahlen liefert die Funktion immer True zurück. Ruft man die Funktionen mit Float-Zahlen auf, gibt es einen TypeError, weil range nicht für Float-Werte definiert ist.\n",
    "Wir können nun unser Modul testen, ob die Aufrufe der Methode ist_primzahl für bestimmte Werte auch die vordefinierten Ergebniswerte zurückliefern.\n",
    "Man könnte also unser Modul direkt um eine oder mehrere if-Anweisungen erweitern: "
   ]
  },
  {
   "cell_type": "code",
   "execution_count": 67,
   "metadata": {},
   "outputs": [
    {
     "name": "stdout",
     "output_type": "stream",
     "text": [
      "Test für Primzahl-Funktion erfolgreich\n"
     ]
    }
   ],
   "source": [
    "if ist_primzahl(3) == True and ist_primzahl(6) == False and ist_primzahl(10) == False:\n",
    "    print(\"Test für Primzahl-Funktion erfolgreich\")\n",
    "else:\n",
    "    print(\"Primzahl-Funktion liefert fehlerhafte Werte\")"
   ]
  },
  {
   "cell_type": "markdown",
   "metadata": {},
   "source": [
    "Nun wollen wir bewusst einen Fehler in unsere Primzahl-Funktion einbauen. Dazu ändern wir die range von 10 bis n: "
   ]
  },
  {
   "cell_type": "code",
   "execution_count": 68,
   "metadata": {
    "collapsed": true
   },
   "outputs": [],
   "source": [
    "def ist_primzahl(n):\n",
    "    \"\"\" \n",
    "    Testet ob eine Zahl eine Primzahl ist. \n",
    "    \"\"\"\n",
    "    for i in range(10, n):\n",
    "        if n % i == 0:\n",
    "            return False\n",
    "    return True\n"
   ]
  },
  {
   "cell_type": "markdown",
   "metadata": {},
   "source": [
    "Danach testen wir nochmal unsere Primzahl-Funktion: "
   ]
  },
  {
   "cell_type": "code",
   "execution_count": 69,
   "metadata": {},
   "outputs": [
    {
     "name": "stdout",
     "output_type": "stream",
     "text": [
      "Primzahl-Funktion liefert fehlerhafte Werte\n"
     ]
    }
   ],
   "source": [
    "if ist_primzahl(2) == True and ist_primzahl(6) == False and ist_primzahl(1) == True:\n",
    "    print(\"Test für Primzahl-Funktion erfolgreich\")\n",
    "else:\n",
    "    print(\"Primzahl-Funktion liefert fehlerhafte Werte\")"
   ]
  },
  {
   "cell_type": "markdown",
   "metadata": {},
   "source": [
    "# Modul Test"
   ]
  },
  {
   "cell_type": "markdown",
   "metadata": {},
   "source": [
    "Jedes Python-Modul hat einen definierten Namen im built-in-Attribut __name__. Nehmen wir an, wir haben ein Modul mit dem Namen \"primzahl\" unter \"primzahl.py\" gespeichert. Wird dieses Modul mit \"import primzahl\" importiert, dann hat das built-in-Attribut __name__ den Wert \"primzahl\". Wird die Datei primzahl.py als eigenständiges Programm aufgerufen, also mittels 'python primzahl.py' dann hat diese Variable den Wert '__main__'. \n",
    "\n",
    "Wird unser Modul direkt gestartet, also nicht importiert, hat __name__ den Wert \"__main__\".\n",
    "Wir können unser Modul nun so umschreiben, dass die Tests nur gestartet werden, wenn das Modul direkt gestartet wird: "
   ]
  },
  {
   "cell_type": "code",
   "execution_count": 13,
   "metadata": {},
   "outputs": [
    {
     "name": "stdout",
     "output_type": "stream",
     "text": [
      "Test für Primzahl-Funktion erfolgreich\n"
     ]
    }
   ],
   "source": [
    "# Modul primzahl.py \n",
    "\n",
    "def ist_primzahl(n):\n",
    "    \"\"\" \n",
    "    Testet ob eine Zahl eine Primzahl ist. \n",
    "    \"\"\"\n",
    "    for i in range(3, n):\n",
    "        if n % i == 0:\n",
    "            return False\n",
    "    return True\n",
    "\n",
    "if __name__ == \"__main__\":\n",
    "    if ist_primzahl(2) == True and ist_primzahl(6) == False and ist_primzahl(1) == True:\n",
    "        print(\"Test für Primzahl-Funktion erfolgreich\")\n",
    "    else:\n",
    "        print(\"Primzahl-Funktion liefert fehlerhafte Werte\")"
   ]
  },
  {
   "cell_type": "markdown",
   "metadata": {},
   "source": [
    "# doctest-Modul"
   ]
  },
  {
   "cell_type": "markdown",
   "metadata": {},
   "source": [
    "Das doctest-Modul stellt eine weitere einfache Methode dar um Modultests durchzuführen. Wie auch der Name schon vermuten lässt, befindet sich der eigentliche Test bei dieser Methode im Docstring.\n",
    "\n",
    "*Vorgehensweise:*\n",
    "\n",
    "Zuerst muss man das Modul \"doctest\" importieren. Dann kopiert man einen Auszug aus einer interaktiven Sitzung in den Docstring einer Funktion.\n",
    "\n",
    "Diese Aufrufe mit den Ergebnissen kopieren wir aus der interaktiven Shell in den Docstring unserer Funktion. Damit das Modul doctest aktiv wird, müssen wir die Methode testmod() starten, falls das Modul direkt aufgerufen wird. Diesen Aufruf können wir wie üblich mit einem Test des Attributs __name__ auf den Wert \"__main__\" machen. Das vollständige Modul sieht nun wie folgt aus:\n",
    "    "
   ]
  },
  {
   "cell_type": "code",
   "execution_count": 72,
   "metadata": {},
   "outputs": [],
   "source": [
    "\n",
    "def ist_primzahl(n):\n",
    "    \"\"\" \n",
    "    Testet ob eine Zahl eine Primzahl ist. \n",
    "    \n",
    "    >>> ist_primzahl(0)\n",
    "    True\n",
    "    >>> ist_primzahl(1)\n",
    "    True\n",
    "    >>> ist_primzahl(10) \n",
    "    False\n",
    "    >>> ist_primzahl(15)\n",
    "    False\n",
    "    >>> \n",
    "    \n",
    "    \"\"\"\n",
    "    for i in range(3, n):\n",
    "        if n % i == 1:\n",
    "            return False\n",
    "    return True\n",
    "\n",
    "def _test():\n",
    "    import doctest\n",
    "    doctest.testmod()\n",
    "\n",
    "if __name__ == \"__main__\":\n",
    "    _test()"
   ]
  },
  {
   "cell_type": "markdown",
   "metadata": {},
   "source": [
    "Nun wollen wir wieder bewusst einen Fehler in unsere Primzahl-Funktion einbauen. Dazu ändern wir wieder die range von 10 bis n: "
   ]
  },
  {
   "cell_type": "code",
   "execution_count": 74,
   "metadata": {},
   "outputs": [
    {
     "name": "stdout",
     "output_type": "stream",
     "text": [
      "**********************************************************************\n",
      "File \"__main__\", line 9, in __main__.ist_primzahl\n",
      "Failed example:\n",
      "    ist_primzahl(10) \n",
      "Expected:\n",
      "    False\n",
      "Got:\n",
      "    True\n",
      "**********************************************************************\n",
      "1 items had failures:\n",
      "   1 of   4 in __main__.ist_primzahl\n",
      "***Test Failed*** 1 failures.\n"
     ]
    }
   ],
   "source": [
    "def ist_primzahl(n):\n",
    "    \"\"\" \n",
    "    Testet ob eine Zahl eine Primzahl ist. \n",
    "    \n",
    "    >>> ist_primzahl(0)\n",
    "    True\n",
    "    >>> ist_primzahl(1)\n",
    "    True\n",
    "    >>> ist_primzahl(10) \n",
    "    False\n",
    "    >>> ist_primzahl(15)\n",
    "    False\n",
    "    >>> \n",
    "    \n",
    "    \"\"\"\n",
    "    for i in range(10, n):\n",
    "        if n % i == 1:\n",
    "            return False\n",
    "    return True\n",
    "\n",
    "def _test():\n",
    "    import doctest\n",
    "    doctest.testmod()\n",
    "\n",
    "if __name__ == \"__main__\":\n",
    "    _test()"
   ]
  },
  {
   "cell_type": "markdown",
   "metadata": {},
   "source": [
    "# unittest"
   ]
  },
  {
   "cell_type": "markdown",
   "metadata": {
    "collapsed": true
   },
   "source": [
    "\n",
    "Im Vergleich zum Modul \"doctest\" werden bei dem Modul \"unittest\"die Testfälle außerhalb des eigentlichen Programmcodes definiert. Zum Beispiel könnne die Tests in einer eigenen Datei definiert werden und so die Programmdokumentation und die Testbeschreibung voneinander trennen. Das beudeutet allerdings auch einen größeren Aufwand für die Erstellung der Tests. Das Modul \"unittest\" ist dabei von JUnit (Testen von Java-Programmen) von Erich Gamma und SUnit (Smalltalk-Testframework) von Kent Beck abgeleitet.\n",
    "\n"
   ]
  },
  {
   "cell_type": "markdown",
   "metadata": {},
   "source": [
    "Wir werden nun für unser Modul primzahl.py einen Test mit unittest erstellen. In einer Datei primzahl_unittest.py müssen wir das Modul unittest und das zu testende Modul (\"primzahl\") importieren.\n",
    "\n",
    "Außerdem müssen wir eine Klasse \"PrimzahlTest\" (oder ein anderer belibiger Name) erstellen, die von unittest.TestCase erbt. In dieser Klasse werden die nötigen Testfälle in Methoden definiert. Der Name dieser Methoden ist beliebig, er muss jedoch mit test beginnen. In unserer Methode \"testCalculation\" benutzen wir die Methode assertEqual der Klasse TestCase. \n",
    "\n",
    " - **assertEqual(first, second, msg = None)** prüft, ob der Ausdruck \"first\" gleich dem Ausdruck \"second\" ist. Falls die beiden Ausdrücke ungleich sind, wird msg ausgegeben. \n",
    " - **assertTrue(first, msg = None)** prüft, ob der Ausdruck \"first\" gleich dem Ausdruck \"True\" ist. Falls first nicht True ist, wird msg ausgegeben. \n",
    " \n",
    "Für das testen in Jupyter Notebook müssen wir die unittest.main erweitern da diese standardmässig nach dem Argument sys.argv sucht. Da dieses allerdings von IPthon gestartet wurde, muss man dieses Argument explizit weiterreichen um einen Fehler im Jupyter Notebook zu vermeiden. Außerdem müssen wir im Notebook noch den Parameter 'exit=False' mitübergeben um zu verhindern dass sich der Kernel beendet."
   ]
  },
  {
   "cell_type": "code",
   "execution_count": 10,
   "metadata": {},
   "outputs": [
    {
     "name": "stderr",
     "output_type": "stream",
     "text": [
      "..\n",
      "----------------------------------------------------------------------\n",
      "Ran 2 tests in 0.004s\n",
      "\n",
      "OK\n"
     ]
    }
   ],
   "source": [
    "import unittest\n",
    "from primzahl import ist_primzahl\n",
    "\n",
    "class PrimzahlTest(unittest.TestCase):\n",
    "    \n",
    "    def testPrimzahl(self):\n",
    "        self.assertEqual(ist_primzahl(0), True)\n",
    "        self.assertEqual(ist_primzahl(1), True)\n",
    "        self.assertEqual(ist_primzahl(10), False)\n",
    "        self.assertEqual(ist_primzahl(15), False)\n",
    "    \n",
    "    # Alternativer Test mit assertTrue\n",
    "    def testAssertTrue(self):\n",
    "        self.assertTrue(ist_primzahl(1))\n",
    "\n",
    "if __name__ == \"__main__\": \n",
    "    unittest.main(argv=['first-arg-is-ignored'], exit=False)\n",
    "    # unittest.main()  Methode für unit testing mit dem Terminal, nicht IPython notebooks"
   ]
  },
  {
   "cell_type": "markdown",
   "metadata": {
    "collapsed": true
   },
   "source": [
    "Hier ist eine Liste mit weiteren häufigen assert Methoden:\n",
    "\n",
    "|Method | Checks that |\n",
    "|------|------| \n",
    " | assertEqual(a, b) | a == b |   \n",
    " | assertNotEqual(a, b) | a != b |   \n",
    " | assertTrue(x) | bool(x) is True |   \n",
    " | assertFalse(x) | bool(x) is False |   \n",
    " | assertIs(a, b) | a is b |  \n",
    " | assertIsNot(a, b) | a is not b |  \n",
    " | assertIsNone(x) | x is None |  \n",
    " | assertIsNotNone(x) | x is not None |  \n",
    " | assertIn(a, b) | a in b |  \n",
    " | assertNotIn(a, b) | a not in b |  \n",
    " | assertIsInstance(a, b) | isinstance(a, b) |  \n",
    " | assertNotIsInstance(a, b) | not isinstance(a, b) | "
   ]
  },
  {
   "cell_type": "markdown",
   "metadata": {
    "collapsed": true
   },
   "source": [
    "Als nächstes erweitern wir unsere Test mit der setUp und der tearDown Methode"
   ]
  },
  {
   "cell_type": "code",
   "execution_count": 14,
   "metadata": {},
   "outputs": [
    {
     "name": "stderr",
     "output_type": "stream",
     "text": [
      "."
     ]
    },
    {
     "name": "stdout",
     "output_type": "stream",
     "text": [
      "setUp aufgerufen!\n",
      "test aufgerufen!\n",
      "tearDown aufgerufen!\n"
     ]
    },
    {
     "name": "stderr",
     "output_type": "stream",
     "text": [
      "\n",
      "----------------------------------------------------------------------\n",
      "Ran 1 test in 0.002s\n",
      "\n",
      "OK\n"
     ]
    }
   ],
   "source": [
    "import unittest\n",
    "from primzahl import ist_primzahl\n",
    "\n",
    "class PrimzahlTest(unittest.TestCase):\n",
    "    \n",
    "    def setUp(self):\n",
    "        self.elements = ( (0, True), (1, True), (10, False), (15, False) )\n",
    "        print (\"setUp aufgerufen!\")\n",
    "        \n",
    "    def testPrimzahl(self):\n",
    "        for (i, ergebnis) in self.elements:\n",
    "            self.assertEqual(ist_primzahl(i), ergebnis)\n",
    "        print (\"test aufgerufen!\")\n",
    "        \n",
    "    def tearDown(self):\n",
    "        # Objekte können gelöscht oder geändert werden\n",
    "        # in diesem Fall macht es jedoch wenig Sinn:\n",
    "        self.elements = None\n",
    "        print (\"tearDown aufgerufen!\")\n",
    "\n",
    "if __name__ == \"__main__\": \n",
    "    unittest.main(argv=['first-arg-is-ignored'], exit=False)\n",
    "    # unittest.main()  Methode für unit testing mit dem Terminal, nicht IPython notebooks"
   ]
  },
  {
   "cell_type": "markdown",
   "metadata": {
    "collapsed": true
   },
   "source": [
    "# Gut gemacht!"
   ]
  }
 ],
 "metadata": {
  "kernelspec": {
   "display_name": "Python 3",
   "language": "python",
   "name": "python3"
  },
  "language_info": {
   "codemirror_mode": {
    "name": "ipython",
    "version": 3
   },
   "file_extension": ".py",
   "mimetype": "text/x-python",
   "name": "python",
   "nbconvert_exporter": "python",
   "pygments_lexer": "ipython3",
   "version": "3.8.5"
  }
 },
 "nbformat": 4,
 "nbformat_minor": 2
}