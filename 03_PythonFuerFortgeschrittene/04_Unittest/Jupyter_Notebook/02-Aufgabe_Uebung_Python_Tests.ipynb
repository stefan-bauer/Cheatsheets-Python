{
 "cells": [
  {
   "cell_type": "markdown",
   "metadata": {},
   "source": [
    "# Übungsaufgaben für Python Tests\n",
    "\n",
    "Quelle: Datamics"
   ]
  },
  {
   "cell_type": "markdown",
   "metadata": {},
   "source": [
    "In dieser Übung werden wir uns das für Vorstellungsgesprächen bekannte Uhr-Winkel Problemstellung anschauen um Tests in Python zu erstellen. Zum Bespiel kann bei Unternehmen wie Google die folgende Frage gestellt werden: \"Was ist der Winkel zwischen dem Stundenzeiger und dem Minutenzeiger um 2:20 Uhr?\". Wir werden diese Fragestellung jetzt mit einer Pythonfunktion beantworten.\n",
    "\n",
    "Das folgende Bild veranschaulicht die Winkel auf einer Analogen Uhr um 2:20 Uhr:\n",
    "\n",
    "![Uhr](ClockAngles.jpg) \n",
    "\n",
    "*Hinweis:*\n",
    "\n",
    "Der Stundenzeiger bewegt sich in 12 Stunden um 360 Grad. Das beudet 0,5 Grad in einer Minute. Der Minutenzeiger bewegt sich in 60 Minuten um 360 Grad. Das bedeutet 6 Grad in einer Minute. Nach H Stunden und M minuten ergeben sich die folgenden Formeln:\n",
    "\n",
    "Winkel des Stundenzeiger = 0,5 x (60 x H + M)\n",
    "\n",
    "und \n",
    "\n",
    "Winkel des Minutenzeigers = 6 x M\n",
    "\n",
    "\n",
    "\n",
    "\n",
    "\n"
   ]
  },
  {
   "cell_type": "markdown",
   "metadata": {},
   "source": [
    "Vervollständige die *uhrwinkel(stunde, minute)* Funktion:"
   ]
  },
  {
   "cell_type": "code",
   "execution_count": 1,
   "metadata": {},
   "outputs": [],
   "source": [
    "def uhrwinkel(stunde, minute):\n",
    "    pass"
   ]
  },
  {
   "cell_type": "code",
   "execution_count": 2,
   "metadata": {},
   "outputs": [
    {
     "data": {
      "text/plain": [
       "50.0"
      ]
     },
     "execution_count": 2,
     "metadata": {},
     "output_type": "execute_result"
    }
   ],
   "source": [
    "uhrwinkel(2, 20)"
   ]
  },
  {
   "cell_type": "code",
   "execution_count": 3,
   "metadata": {},
   "outputs": [
    {
     "data": {
      "text/plain": [
       "145.0"
      ]
     },
     "execution_count": 3,
     "metadata": {},
     "output_type": "execute_result"
    }
   ],
   "source": [
    "uhrwinkel(9, 10)"
   ]
  },
  {
   "cell_type": "code",
   "execution_count": 4,
   "metadata": {},
   "outputs": [
    {
     "data": {
      "text/plain": [
       "0.0"
      ]
     },
     "execution_count": 4,
     "metadata": {},
     "output_type": "execute_result"
    }
   ],
   "source": [
    "uhrwinkel(12, 0)"
   ]
  },
  {
   "cell_type": "markdown",
   "metadata": {},
   "source": [
    "# Docmodul Test"
   ]
  },
  {
   "cell_type": "markdown",
   "metadata": {},
   "source": [
    "Erstellen einen Docmodul für die *uhrwinkel(stunde, minute)* Funktion mit den gezeigten Tests:"
   ]
  },
  {
   "cell_type": "code",
   "execution_count": 5,
   "metadata": {},
   "outputs": [],
   "source": [
    "def uhrwinkel(stunde, minute):\n",
    "    # erstelle die Winkelberechnug und die passenden Tests mit dem docstring\n",
    "    pass\n",
    "\n",
    "def _test():\n",
    "    # importiere doctest und rufe die Funktion testmod() auf\n",
    "    pass\n",
    "\n",
    "if __name__ == \"__main__\":\n",
    "    _test()"
   ]
  },
  {
   "cell_type": "markdown",
   "metadata": {},
   "source": [
    "# unittest"
   ]
  },
  {
   "cell_type": "markdown",
   "metadata": {},
   "source": [
    "Erstelle als nächstes einen unittest für die *uhrwinkel(stunde, minute)* Funktion mit den gezeigten Tests:\n",
    "\n",
    "Hinweis: Das Modul \"unittest\" kann auch ohne den import einer Pythondatei uhrwinkel.py die zuvor erstelle uhrwinkel Funktion aufrufen."
   ]
  },
  {
   "cell_type": "markdown",
   "metadata": {},
   "source": [
    "Importiere zunächst das Benötigte Modul:"
   ]
  },
  {
   "cell_type": "code",
   "execution_count": 6,
   "metadata": {},
   "outputs": [],
   "source": []
  },
  {
   "cell_type": "code",
   "execution_count": 7,
   "metadata": {},
   "outputs": [
    {
     "name": "stderr",
     "output_type": "stream",
     "text": [
      ".\n",
      "----------------------------------------------------------------------\n",
      "Ran 1 test in 0.002s\n",
      "\n",
      "OK\n"
     ]
    }
   ],
   "source": [
    "# leite die Klasse UhrwinkelTest von der Klasse unittest.TestCase ab\n",
    "class UhrwinkelTest(              ):\n",
    "    # erstelle eine test Methode mit einem assert\n",
    "\n",
    "\n",
    "    \n",
    "if __name__ == \"__main__\": \n",
    "    unittest.main(argv=['first-arg-is-ignored'], exit=False)\n",
    "    # unittest.main()  Methode für Unit-Testing mit dem Terminal, nicht IPython notebooks"
   ]
  },
  {
   "cell_type": "markdown",
   "metadata": {},
   "source": [
    "Erweitere als nächstes den Test mit einer *setUp()* Funktion, die die Testparamter in Form von Tupeln lädt und danach mit der assertEqual() Methode diese Werte iterativ testet.\n"
   ]
  },
  {
   "cell_type": "code",
   "execution_count": 8,
   "metadata": {},
   "outputs": [
    {
     "name": "stderr",
     "output_type": "stream",
     "text": [
      "."
     ]
    },
    {
     "name": "stdout",
     "output_type": "stream",
     "text": [
      "setUp aufgerufen!\n",
      "test aufgerufen!\n"
     ]
    },
    {
     "name": "stderr",
     "output_type": "stream",
     "text": [
      "\n",
      "----------------------------------------------------------------------\n",
      "Ran 1 test in 0.002s\n",
      "\n",
      "OK\n"
     ]
    }
   ],
   "source": [
    "class UhrwinkelTest(              ):\n",
    "    def setUp(self):\n",
    "\n",
    "        \n",
    "    def testUhrwinkel(self):\n",
    "\n",
    "    \n",
    "if __name__ == \"__main__\": \n",
    "    unittest.main(argv=['first-arg-is-ignored'], exit=False)\n",
    "    # unittest.main()  Methode für unit testing mit dem Terminal, nicht IPython notebooks"
   ]
  },
  {
   "cell_type": "markdown",
   "metadata": {
    "collapsed": true
   },
   "source": [
    "# Gut gemacht!"
   ]
  },
  {
   "cell_type": "markdown",
   "metadata": {
    "collapsed": true
   },
   "source": [
    "Glückwunsch zur Erstellung deiner ersten Python Tests!"
   ]
  }
 ],
 "metadata": {
  "kernelspec": {
   "display_name": "Python 3",
   "language": "python",
   "name": "python3"
  },
  "language_info": {
   "codemirror_mode": {
    "name": "ipython",
    "version": 3
   },
   "file_extension": ".py",
   "mimetype": "text/x-python",
   "name": "python",
   "nbconvert_exporter": "python",
   "pygments_lexer": "ipython3",
   "version": "3.8.5"
  }
 },
 "nbformat": 4,
 "nbformat_minor": 2
}