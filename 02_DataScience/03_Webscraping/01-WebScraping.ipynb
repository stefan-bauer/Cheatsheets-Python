{
 "cells": [
  {
   "cell_type": "markdown",
   "metadata": {},
   "source": [
    "# Web Scraping in Python\n",
    "\n",
    "Quelle: Datamics"
   ]
  },
  {
   "cell_type": "markdown",
   "metadata": {},
   "source": [
    "In dieser Lektion schauen wir uns in einem Beispiel an, wie man mit Python Informationen aus dem Web zieht.\n",
    "\n",
    "\n",
    "##### Wir werden jetzt die folgenden Schritte ausführen\n",
    "\n",
    "1.) Wir gehen auf eine Webseite\n",
    "\n",
    "2.) suchen uns Informationen die wir haben möchten \n",
    "\n",
    "3.) schauen uns an wo diese gespeichert wird \n",
    "\n",
    "4.) Danach extrahieren wir diese\n",
    "\n",
    "5.) und speichern die Information als ein Pandas DataFrame!\n",
    "\n",
    "#### Allerdings solltest Du diese Dinge in Betracht ziehen, bevor Du mit dem scrapen einer Webseite beginnst:\n",
    "\n",
    "1.) Auf jeden fall solltest Du die *\"Terms and Conditions\"* der Web Seite anschauen\n",
    "\n",
    "2.) Sparsam mit den Anfragen umgehen damit der Zielserver nicht überlastet wird. Ansonsten kannst du blockiert werden.\n",
    "\n",
    "3.) \"Scrapers\" werden im Laufe der Zeit fehlerhaft, da Webseiten ihr Layout ständig ändern. Du wirst wahrscheinlich häufig Deinen Code Anpassen müssen. \n",
    "\n",
    "4.) Webseiten sind gewöhnlich inkonsistent, daher wirst du wahrscheinlich die Daten nach dem einlesen aufbereiten müssen.\n",
    "\n",
    "5.) Jede Webseite und jede Situation ist unterschiedlich, daher wirst du viel Zeit für die Konfiguration Deines Scrapers aufbringen.\n",
    "\n",
    "\n",
    "#### Um mehr über HTML zu lernen, empfehle ich die folgenden Seiten: \n",
    "\n",
    "[SELFHTML](https://wiki.selfhtml.org/wiki/HTML/Tutorials)\n",
    "\n",
    "[W3School](http://www.w3schools.com/html/)\n",
    "\n",
    "\n",
    "\n",
    "\n",
    "#### Wir müssen die folgenden 3 Python Pakete installieren (falls noch nicht installiert):\n",
    "\n",
    "1.) **BeautifulSoup: **\n",
    "    *pip install beautifulsoup4* or *conda install beautifulsoup4* \n",
    "\n",
    "2.) **lxml:** \n",
    "    *pip install lxml* oder *conda install lxml* \n",
    "\n",
    "3.) **requests:** \n",
    "    *pip install requests* oder *conda install requests*\n",
    "\n"
   ]
  },
  {
   "cell_type": "markdown",
   "metadata": {},
   "source": [
    "Beginnen wir mit den Importen:"
   ]
  },
  {
   "cell_type": "code",
   "execution_count": 1,
   "metadata": {},
   "outputs": [],
   "source": [
    "from bs4 import BeautifulSoup\n",
    "import requests"
   ]
  },
  {
   "cell_type": "code",
   "execution_count": 2,
   "metadata": {},
   "outputs": [],
   "source": [
    "import pandas as pd\n",
    "from pandas import Series,DataFrame"
   ]
  },
  {
   "cell_type": "markdown",
   "metadata": {},
   "source": [
    "Für unser kurzes Web Scraping Tutorial schauen wir uns Berichte von der Webseite der University of California an. Ihr könnt natürlich gerne weitere Webseiten selbst ausprobieren. Seid dabei allerdings bitte respektvoll und vorsichtig mit dem was und mit der Menge die ihr \"scrapt\". Überprüft vorher auch auf jeden Fall noch die rechtliche Grundlage für ein automatisches Auslesen des Inhalts der Webseite.\n"
   ]
  },
  {
   "cell_type": "markdown",
   "metadata": {},
   "source": [
    "OK, fangen wir an und legen die URL fest."
   ]
  },
  {
   "cell_type": "code",
   "execution_count": 3,
   "metadata": {},
   "outputs": [],
   "source": [
    "url = 'http://www.ucop.edu/operating-budget/budgets-and-reports/legislative-reports/2013-14-legislative-session.html'"
   ]
  },
  {
   "cell_type": "markdown",
   "metadata": {},
   "source": [
    "Als nächstes verwenden wir requests um den Inhalt der Webseite zu laden und definieren dieses als ein Beautiful Soup Object."
   ]
  },
  {
   "cell_type": "code",
   "execution_count": 5,
   "metadata": {},
   "outputs": [],
   "source": [
    "# Request Inhalt der Webseite\n",
    "result = requests.get(url)\n",
    "c = result.content\n",
    "\n",
    "# Beautiful Soup Object\n",
    "soup = BeautifulSoup(c, \"html5lib\")"
   ]
  },
  {
   "cell_type": "markdown",
   "metadata": {},
   "source": [
    "Jetzt verwenden wir Beautiful Soup um die Tabelle zu finden, die wir nehmen möchten! \n"
   ]
  },
  {
   "cell_type": "code",
   "execution_count": 19,
   "metadata": {},
   "outputs": [],
   "source": [
    "# Gehe zur Sektion mit den Informationen\n",
    "summary = soup.find(\"div\",{'class':'list-land','id':'content'})\n",
    "\n",
    "# Finde die Tabellen in dem HTML\n",
    "tables = summary.find_all('table')\n"
   ]
  },
  {
   "cell_type": "markdown",
   "metadata": {},
   "source": [
    "Jetzt benötigen wir Beautiful Soup um die Tabelleneinträge zu finden. Ein 'td' Tag definiert eine Standardzelle in einer HTML Tabelle. Der 'tr' Tag definiert eine Zeile in einer HTML Tabelle.\n",
    "\n",
    "Wir parsen durch unser Tabellenobjekt und versuchen jede Zelle mit der findALL('td') Methode zu finden.\n",
    "\n",
    "Es gibt viele Möglichkeiten um findALL mit Beautiful Soup zu verwenden. Du kannst diese gerne  [hier](http://www.crummy.com/software/BeautifulSoup/bs4/doc/#find-all) nachlesen.\n",
    "\n",
    " "
   ]
  },
  {
   "cell_type": "code",
   "execution_count": 21,
   "metadata": {},
   "outputs": [
    {
     "name": "stdout",
     "output_type": "stream",
     "text": [
      "1\n",
      "08/01/13\n",
      "2013-14 (EDU 92495) Proposed Capital Outlay Projects (2013-14 only) (pdf)\n",
      "2\n",
      "09/01/13\n",
      "2014-15  (EDU 92495) Proposed Capital Outlay Projects (pdf)\n",
      "3\n",
      "11/01/13\n",
      "Utilization of Classroom and Teaching Laboratories (pdf)\n",
      "4\n",
      "11/01/13\n",
      "Instruction and Research Space Summary & Analysis (pdf)\n",
      "5\n",
      "11/15/13\n",
      "Statewide Energy Partnership Program (pdf)\n",
      "6\n",
      "11/30/13\n",
      "2013-23 Capital Financial Plan (pdf)\n",
      "7\n",
      "11/30/13\n",
      "Projects Savings Funded from Capital Outlay Bond Funds (pdf)\n",
      "8\n",
      "12/01/13\n",
      "Streamlined Capital Projects Funded from Capital (pdf)\n",
      "9\n",
      "01/01/14\n",
      "Annual General Obligation Bonds Accountability (pdf)\n",
      "10\n",
      "01/01/14\n",
      "Small Business Utilization (pdf)\n",
      "11\n",
      "01/01/14\n",
      "Institutional Financial Aid Programs - Preliminary report (pdf)\n",
      "12\n",
      "01/10/14\n",
      "Summer Enrollment (pdf)\n",
      "13\n",
      "01/15/14\n",
      "Contracting Out for Services at Newly Developed Facilities (pdf)\n",
      "14\n",
      "03/01/14\n",
      "Performance Measures (pdf)\n",
      "15\n",
      "03/01/14\n",
      "Entry Level Writing Requirement (pdf)\n",
      "16\n",
      "03/31/14\n",
      "Annual Report on Student Financial Support (pdf)\n",
      "17\n",
      "04/01/14\n",
      "Unique Statewide Pupil Identifier (pdf)\n",
      "18\n",
      "04/01/14\n",
      "Riverside School of Medicine (pdf)\n",
      "19\n",
      "04/01/14\n",
      "SAPEP Funds and Outcomes - N/A\n",
      "20\n",
      "05/15/14\n",
      "Receipt and Use of Lottery Funds (pdf)\n",
      "21\n",
      "07/01/14\n",
      "Cogeneration and Energy Consv Major Capital Projects (pdf)\n",
      "\n",
      "\n",
      "\n",
      "\n",
      "\n",
      "\n",
      " \n",
      "Future Reports\n",
      "\n",
      "\n",
      "24\n",
      "12-\n",
      "Breast Cancer Research Fund\n",
      "25\n",
      "12-31-15\n",
      "Cigarette and Tobacco Products Surtax Research Program\n",
      "26\n",
      "01-01-16\n",
      "Best Value Program\n",
      "27\n",
      "01-01-16\n",
      "California Subject Matter Programs\n",
      "28\n",
      "04-01-16\n",
      "COSMOS Program Outcomes\n"
     ]
    }
   ],
   "source": [
    "# Definiere eine leere Liste data\n",
    "data = []\n",
    "\n",
    "# Setzte rows (Zeilen) als erstes indexierte Objekt in der Tabelle mit einer Zeile\n",
    "rows = tables[0].findAll('tr')\n",
    "\n",
    "# Jetzt lesen wir jede HTML-Zelle aus jeder Zeile aus\n",
    "for tr in rows:\n",
    "    cols = tr.findAll('td')\n",
    "    # Überprüfe, ob die Zelle einen Text enthält\n",
    "    for td in cols:\n",
    "        text = td.find(text=True) \n",
    "        print (text)\n",
    "        data.append(text)\n",
    "    "
   ]
  },
  {
   "cell_type": "markdown",
   "metadata": {},
   "source": [
    "Schauen wir unsere Liste \"data\" nochmal genauer an."
   ]
  },
  {
   "cell_type": "code",
   "execution_count": 13,
   "metadata": {},
   "outputs": [
    {
     "data": {
      "text/plain": [
       "['1',\n",
       " '08/01/13',\n",
       " '2013-14 (EDU 92495) Proposed Capital Outlay Projects (2013-14 only) (pdf)',\n",
       " '2',\n",
       " '09/01/13',\n",
       " '2014-15\\xa0 (EDU 92495) Proposed Capital Outlay Projects (pdf)',\n",
       " '3',\n",
       " '11/01/13',\n",
       " 'Utilization of Classroom and Teaching Laboratories (pdf)',\n",
       " '4',\n",
       " '11/01/13',\n",
       " 'Instruction and Research Space Summary & Analysis (pdf)',\n",
       " '5',\n",
       " '11/15/13',\n",
       " 'Statewide Energy Partnership Program (pdf)',\n",
       " '6',\n",
       " '11/30/13',\n",
       " '2013-23 Capital Financial Plan (pdf)',\n",
       " '7',\n",
       " '11/30/13',\n",
       " 'Projects Savings Funded from Capital Outlay Bond Funds (pdf)',\n",
       " '8',\n",
       " '12/01/13',\n",
       " 'Streamlined Capital Projects Funded from Capital (pdf)',\n",
       " '9',\n",
       " '01/01/14',\n",
       " 'Annual General Obligation Bonds Accountability (pdf)',\n",
       " '10',\n",
       " '01/01/14',\n",
       " 'Small Business Utilization (pdf)',\n",
       " '11',\n",
       " '01/01/14',\n",
       " 'Institutional Financial Aid Programs - Preliminary report (pdf)',\n",
       " '12',\n",
       " '01/10/14',\n",
       " 'Summer Enrollment (pdf)',\n",
       " '13',\n",
       " '01/15/14',\n",
       " 'Contracting Out for Services at Newly Developed Facilities (pdf)',\n",
       " '14',\n",
       " '03/01/14',\n",
       " 'Performance Measures (pdf)',\n",
       " '15',\n",
       " '03/01/14',\n",
       " 'Entry Level Writing Requirement (pdf)',\n",
       " '16',\n",
       " '03/31/14',\n",
       " 'Annual Report on Student\\xa0Financial Support (pdf)',\n",
       " '17',\n",
       " '04/01/14',\n",
       " 'Unique Statewide Pupil Identifier (pdf)',\n",
       " '18',\n",
       " '04/01/14',\n",
       " 'Riverside School of Medicine (pdf)',\n",
       " '19',\n",
       " '04/01/14',\n",
       " 'SAPEP Funds and Outcomes - N/A',\n",
       " '20',\n",
       " '05/15/14',\n",
       " 'Receipt and Use of Lottery Funds (pdf)',\n",
       " '21',\n",
       " '07/01/14',\n",
       " 'Cogeneration and Energy Consv Major Capital Projects (pdf)',\n",
       " '\\n',\n",
       " '\\n',\n",
       " '\\n',\n",
       " '\\xa0',\n",
       " 'Future Reports',\n",
       " '\\n',\n",
       " '24',\n",
       " '12-',\n",
       " 'Breast Cancer Research Fund',\n",
       " '25',\n",
       " '12-31-15',\n",
       " 'Cigarette and Tobacco Products Surtax Research Program',\n",
       " '26',\n",
       " '01-01-16',\n",
       " 'Best Value Program',\n",
       " '27',\n",
       " '01-01-16',\n",
       " 'California Subject Matter Programs',\n",
       " '28',\n",
       " '04-01-16',\n",
       " 'COSMOS Program Outcomes']"
      ]
     },
     "execution_count": 13,
     "metadata": {},
     "output_type": "execute_result"
    }
   ],
   "source": [
    "data"
   ]
  },
  {
   "cell_type": "markdown",
   "metadata": {},
   "source": [
    "Jetzt könenn wir eine For-Schleife einsetzten um durch die Liste zu iterieren. Dabei nehmen wir nur die Zellen die ein  PDF Dokument beinhalten. Außerdem müssen wir den Index mit dem Datum des Berichts auslesen.\n",
    "\n"
   ]
  },
  {
   "cell_type": "code",
   "execution_count": 14,
   "metadata": {},
   "outputs": [],
   "source": [
    "# Definiere die leeren Listen\n",
    "reports = []\n",
    "date = []\n",
    "\n",
    "# Definiere den Indexzähler\n",
    "index = 0\n",
    "\n",
    "# Suche die PDF Zellen\n",
    "for item in data:\n",
    "    if 'pdf' in item:\n",
    "        # Füge das Datum des Berichts hinzu\n",
    "        date.append(data[index-1])\n",
    "        \n",
    "        # Entferne \\xa0\n",
    "        reports.append(item.replace(u'\\xa0', u' '))\n",
    "                    \n",
    "    index += 1"
   ]
  },
  {
   "cell_type": "markdown",
   "metadata": {},
   "source": [
    "Jetzt müssen wir nur noch unsere Daten in einem Pandas DataFrame speichern!"
   ]
  },
  {
   "cell_type": "code",
   "execution_count": 15,
   "metadata": {},
   "outputs": [],
   "source": [
    "# Dazu wandeln wir date und reports in Series um\n",
    "date = Series(date)\n",
    "reports = Series(reports)"
   ]
  },
  {
   "cell_type": "code",
   "execution_count": 16,
   "metadata": {},
   "outputs": [],
   "source": [
    "# Fügen diese zu einem DataFrame zusammen\n",
    "legislative_df = pd.concat([date,reports],axis=1)"
   ]
  },
  {
   "cell_type": "code",
   "execution_count": 23,
   "metadata": {},
   "outputs": [],
   "source": [
    "# Definieren die Spalten\n",
    "legislative_df.columns = ['Datum','Bericht']"
   ]
  },
  {
   "cell_type": "code",
   "execution_count": 22,
   "metadata": {},
   "outputs": [
    {
     "data": {
      "text/html": [
       "<div>\n",
       "<style scoped>\n",
       "    .dataframe tbody tr th:only-of-type {\n",
       "        vertical-align: middle;\n",
       "    }\n",
       "\n",
       "    .dataframe tbody tr th {\n",
       "        vertical-align: top;\n",
       "    }\n",
       "\n",
       "    .dataframe thead th {\n",
       "        text-align: right;\n",
       "    }\n",
       "</style>\n",
       "<table border=\"1\" class=\"dataframe\">\n",
       "  <thead>\n",
       "    <tr style=\"text-align: right;\">\n",
       "      <th></th>\n",
       "      <th>Date</th>\n",
       "      <th>Reports</th>\n",
       "    </tr>\n",
       "  </thead>\n",
       "  <tbody>\n",
       "    <tr>\n",
       "      <th>0</th>\n",
       "      <td>08/01/13</td>\n",
       "      <td>2013-14 (EDU 92495) Proposed Capital Outlay Pr...</td>\n",
       "    </tr>\n",
       "    <tr>\n",
       "      <th>1</th>\n",
       "      <td>09/01/13</td>\n",
       "      <td>2014-15  (EDU 92495) Proposed Capital Outlay P...</td>\n",
       "    </tr>\n",
       "    <tr>\n",
       "      <th>2</th>\n",
       "      <td>11/01/13</td>\n",
       "      <td>Utilization of Classroom and Teaching Laborato...</td>\n",
       "    </tr>\n",
       "    <tr>\n",
       "      <th>3</th>\n",
       "      <td>11/01/13</td>\n",
       "      <td>Instruction and Research Space Summary &amp; Analy...</td>\n",
       "    </tr>\n",
       "    <tr>\n",
       "      <th>4</th>\n",
       "      <td>11/15/13</td>\n",
       "      <td>Statewide Energy Partnership Program (pdf)</td>\n",
       "    </tr>\n",
       "    <tr>\n",
       "      <th>5</th>\n",
       "      <td>11/30/13</td>\n",
       "      <td>2013-23 Capital Financial Plan (pdf)</td>\n",
       "    </tr>\n",
       "    <tr>\n",
       "      <th>6</th>\n",
       "      <td>11/30/13</td>\n",
       "      <td>Projects Savings Funded from Capital Outlay Bo...</td>\n",
       "    </tr>\n",
       "    <tr>\n",
       "      <th>7</th>\n",
       "      <td>12/01/13</td>\n",
       "      <td>Streamlined Capital Projects Funded from Capit...</td>\n",
       "    </tr>\n",
       "    <tr>\n",
       "      <th>8</th>\n",
       "      <td>01/01/14</td>\n",
       "      <td>Annual General Obligation Bonds Accountability...</td>\n",
       "    </tr>\n",
       "    <tr>\n",
       "      <th>9</th>\n",
       "      <td>01/01/14</td>\n",
       "      <td>Small Business Utilization (pdf)</td>\n",
       "    </tr>\n",
       "    <tr>\n",
       "      <th>10</th>\n",
       "      <td>01/01/14</td>\n",
       "      <td>Institutional Financial Aid Programs - Prelimi...</td>\n",
       "    </tr>\n",
       "    <tr>\n",
       "      <th>11</th>\n",
       "      <td>01/10/14</td>\n",
       "      <td>Summer Enrollment (pdf)</td>\n",
       "    </tr>\n",
       "    <tr>\n",
       "      <th>12</th>\n",
       "      <td>01/15/14</td>\n",
       "      <td>Contracting Out for Services at Newly Develope...</td>\n",
       "    </tr>\n",
       "    <tr>\n",
       "      <th>13</th>\n",
       "      <td>03/01/14</td>\n",
       "      <td>Performance Measures (pdf)</td>\n",
       "    </tr>\n",
       "    <tr>\n",
       "      <th>14</th>\n",
       "      <td>03/01/14</td>\n",
       "      <td>Entry Level Writing Requirement (pdf)</td>\n",
       "    </tr>\n",
       "    <tr>\n",
       "      <th>15</th>\n",
       "      <td>03/31/14</td>\n",
       "      <td>Annual Report on Student Financial Support (pdf)</td>\n",
       "    </tr>\n",
       "    <tr>\n",
       "      <th>16</th>\n",
       "      <td>04/01/14</td>\n",
       "      <td>Unique Statewide Pupil Identifier (pdf)</td>\n",
       "    </tr>\n",
       "    <tr>\n",
       "      <th>17</th>\n",
       "      <td>04/01/14</td>\n",
       "      <td>Riverside School of Medicine (pdf)</td>\n",
       "    </tr>\n",
       "    <tr>\n",
       "      <th>18</th>\n",
       "      <td>05/15/14</td>\n",
       "      <td>Receipt and Use of Lottery Funds (pdf)</td>\n",
       "    </tr>\n",
       "    <tr>\n",
       "      <th>19</th>\n",
       "      <td>07/01/14</td>\n",
       "      <td>Cogeneration and Energy Consv Major Capital Pr...</td>\n",
       "    </tr>\n",
       "  </tbody>\n",
       "</table>\n",
       "</div>"
      ],
      "text/plain": [
       "        Date                                            Reports\n",
       "0   08/01/13  2013-14 (EDU 92495) Proposed Capital Outlay Pr...\n",
       "1   09/01/13  2014-15  (EDU 92495) Proposed Capital Outlay P...\n",
       "2   11/01/13  Utilization of Classroom and Teaching Laborato...\n",
       "3   11/01/13  Instruction and Research Space Summary & Analy...\n",
       "4   11/15/13         Statewide Energy Partnership Program (pdf)\n",
       "5   11/30/13               2013-23 Capital Financial Plan (pdf)\n",
       "6   11/30/13  Projects Savings Funded from Capital Outlay Bo...\n",
       "7   12/01/13  Streamlined Capital Projects Funded from Capit...\n",
       "8   01/01/14  Annual General Obligation Bonds Accountability...\n",
       "9   01/01/14                   Small Business Utilization (pdf)\n",
       "10  01/01/14  Institutional Financial Aid Programs - Prelimi...\n",
       "11  01/10/14                            Summer Enrollment (pdf)\n",
       "12  01/15/14  Contracting Out for Services at Newly Develope...\n",
       "13  03/01/14                         Performance Measures (pdf)\n",
       "14  03/01/14              Entry Level Writing Requirement (pdf)\n",
       "15  03/31/14   Annual Report on Student Financial Support (pdf)\n",
       "16  04/01/14            Unique Statewide Pupil Identifier (pdf)\n",
       "17  04/01/14                 Riverside School of Medicine (pdf)\n",
       "18  05/15/14             Receipt and Use of Lottery Funds (pdf)\n",
       "19  07/01/14  Cogeneration and Energy Consv Major Capital Pr..."
      ]
     },
     "execution_count": 22,
     "metadata": {},
     "output_type": "execute_result"
    }
   ],
   "source": [
    "# und schauen uns das DataFrame an\n",
    "legislative_df"
   ]
  },
  {
   "cell_type": "markdown",
   "metadata": {
    "collapsed": true
   },
   "source": [
    "Du kannst natürlich gerne weitere Webseiten selbst ausprobieren. Sei dabei allerdings bitte respektvoll und vorsichtig mit dem was und mit der Menge die ihr \"scrapt\". Überprüfe vorher auch auf jeden Fall noch die rechtliche Grundlage für ein automatisches Auslesen des Inhalts der Webseite.\n"
   ]
  },
  {
   "cell_type": "markdown",
   "metadata": {},
   "source": [
    "## Gute Arbeit!"
   ]
  }
 ],
 "metadata": {
  "kernelspec": {
   "display_name": "Python 3",
   "language": "python",
   "name": "python3"
  },
  "language_info": {
   "codemirror_mode": {
    "name": "ipython",
    "version": 3
   },
   "file_extension": ".py",
   "mimetype": "text/x-python",
   "name": "python",
   "nbconvert_exporter": "python",
   "pygments_lexer": "ipython3",
   "version": "3.8.5"
  }
 },
 "nbformat": 4,
 "nbformat_minor": 1
}