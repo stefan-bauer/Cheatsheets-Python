{
 "cells": [
  {
   "cell_type": "markdown",
   "metadata": {},
   "source": [
    "# Copy all Jupyter Notebooks to Markdown"
   ]
  },
  {
   "cell_type": "code",
   "execution_count": 1,
   "metadata": {},
   "outputs": [],
   "source": [
    "import os"
   ]
  },
  {
   "cell_type": "code",
   "execution_count": 2,
   "metadata": {},
   "outputs": [],
   "source": [
    "def convertInMarkdown():\n",
    "    pth='./'\n",
    "    files = [f.split('.')[0] for f in os.listdir(pth) if os.path.isfile(os.path.join(pth,f))and f.split('.')[1] =='ipynb']\n",
    "    print('The files in this folder are: {}'.format(files))\n",
    "    \n",
    "    for file_idx in range(len(files)):\n",
    "        print(files[file_idx])\n",
    "        os.system('jupyter nbconvert --to markdown {fn} --output \"../Markdown/{fn}\"'.format(fn=files[file_idx]))"
   ]
  },
  {
   "cell_type": "code",
   "execution_count": 3,
   "metadata": {},
   "outputs": [],
   "source": [
    "dirs=[dir for dir in os.listdir('.') if os.path.isdir(dir) and dir[0] != '.' and dir != 'Images']"
   ]
  },
  {
   "cell_type": "code",
   "execution_count": 4,
   "metadata": {},
   "outputs": [
    {
     "name": "stdout",
     "output_type": "stream",
     "text": [
      "Changed into folder: /home/stefan/Work/Github/contact/Cheatsheets-Python/01_Grundlagen/Jupyter_Notebook\n",
      "The files in this folder are: ['15_ListComprehension', '24_Dekoratoren', '21_Errors', '17_Funktionen', '19_VerschachtelteAnweisungenUndGeltungsbereich', '03_AusgabeFormatierung', '08_SetsAndBooleans', '18_LambdaAusdruecke', '01_Zahlen', '02_Strings', '20_ObjektorientierteProgrammierung', '23_EingebauteFunktionen', '22_ModulePaketeUndImporte', '06_Dateien', '09_Vergleichsoperatoren', '11_IfElifElseAnweisung', '10_EinfuehrungZuPythonAnweisungen', '05_Tupel', '14_Range', '12_ForSchleifen', '04_Listen', '25_IteratorenUndGeneratoren', '13_WhileSchleife', '16_Methoden']\n",
      "15_ListComprehension\n",
      "24_Dekoratoren\n",
      "21_Errors\n",
      "17_Funktionen\n",
      "19_VerschachtelteAnweisungenUndGeltungsbereich\n",
      "03_AusgabeFormatierung\n",
      "08_SetsAndBooleans\n",
      "18_LambdaAusdruecke\n",
      "01_Zahlen\n",
      "02_Strings\n",
      "20_ObjektorientierteProgrammierung\n",
      "23_EingebauteFunktionen\n",
      "22_ModulePaketeUndImporte\n",
      "06_Dateien\n",
      "09_Vergleichsoperatoren\n",
      "11_IfElifElseAnweisung\n",
      "10_EinfuehrungZuPythonAnweisungen\n",
      "05_Tupel\n",
      "14_Range\n",
      "12_ForSchleifen\n",
      "04_Listen\n",
      "25_IteratorenUndGeneratoren\n",
      "13_WhileSchleife\n",
      "16_Methoden\n",
      "Im in folder: /home/stefan/Work/Github/contact/Cheatsheets-Python\n",
      "Changed into folder: /home/stefan/Work/Github/contact/Cheatsheets-Python/02_Fortgeschritten/Jupyter_Notebook\n",
      "The files in this folder are: ['01_Zahlen']\n",
      "01_Zahlen\n",
      "Im in folder: /home/stefan/Work/Github/contact/Cheatsheets-Python\n"
     ]
    }
   ],
   "source": [
    "for idx in range(len(dirs)):\n",
    "\n",
    "    os.chdir('{}/Jupyter_Notebook'.format(dirs[idx]))\n",
    "    print('Changed into folder: {}'.format(os.getcwd()))\n",
    "\n",
    "    convertInMarkdown()\n",
    "    \n",
    "    os.chdir('../')\n",
    "    os.chdir('../')\n",
    "    print('Im in folder: {}'.format(os.getcwd()))\n"
   ]
  },
  {
   "cell_type": "code",
   "execution_count": 5,
   "metadata": {},
   "outputs": [
    {
     "data": {
      "text/plain": [
       "'/home/stefan/Work/Github/contact/Cheatsheets-Python'"
      ]
     },
     "execution_count": 5,
     "metadata": {},
     "output_type": "execute_result"
    }
   ],
   "source": [
    "os.getcwd()"
   ]
  },
  {
   "cell_type": "code",
   "execution_count": null,
   "metadata": {},
   "outputs": [],
   "source": []
  }
 ],
 "metadata": {
  "kernelspec": {
   "display_name": "Python 3",
   "language": "python",
   "name": "python3"
  },
  "language_info": {
   "codemirror_mode": {
    "name": "ipython",
    "version": 3
   },
   "file_extension": ".py",
   "mimetype": "text/x-python",
   "name": "python",
   "nbconvert_exporter": "python",
   "pygments_lexer": "ipython3",
   "version": "3.8.3"
  }
 },
 "nbformat": 4,
 "nbformat_minor": 4
}
