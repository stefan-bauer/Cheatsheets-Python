{
 "cells": [
  {
   "cell_type": "markdown",
   "metadata": {
    "collapsed": true
   },
   "source": [
    "# Eingebaute Funktionen Test\n",
    "\n",
    "Quelle: Datamics\n",
    "\n",
    "Für diesen Test solltet ihr die eingebauten Funktionen genutzt haben, um die benötigten Funktionen in einer Zeile Code zu schreiben.\n",
    "\n",
    "## Aufgabe 1\n",
    "\n",
    "Nutzt map(), um eine Funktion zu schreiben, die die Länge jedes einzelnen Wortes in einem String (durch Leerzeichen getrennt) herausfindet und die Werte in einer Liste zurückgibt.\n",
    "\n",
    "Diese Funktion wird als Input eine Phrase haben und eine Liste von Zahlen ausgeben."
   ]
  },
  {
   "cell_type": "code",
   "execution_count": 1,
   "metadata": {
    "collapsed": true
   },
   "outputs": [],
   "source": [
    "def wort_laenge(phrase):\n",
    "    \n",
    "    return list(map(len, phrase.split()))"
   ]
  },
  {
   "cell_type": "code",
   "execution_count": 2,
   "metadata": {},
   "outputs": [
    {
     "data": {
      "text/plain": [
       "[3, 5, 4, 3, 6, 6, 6]"
      ]
     },
     "execution_count": 2,
     "metadata": {},
     "output_type": "execute_result"
    }
   ],
   "source": [
    "wort_laenge(\"Wie lange sind die Wörter dieser Phrase\")"
   ]
  },
  {
   "cell_type": "markdown",
   "metadata": {},
   "source": [
    "## Aufgabe 2\n",
    "\n",
    "Nutzt reduce(), um eine Liste von Stellen einzulesen und die entsprechende Zahl ausgibt. \n",
    "\n",
    "Wandelt die Zahlen des Inputs nicht in einen String um! "
   ]
  },
  {
   "cell_type": "code",
   "execution_count": 5,
   "metadata": {
    "collapsed": true
   },
   "outputs": [],
   "source": [
    "from functools import reduce\n",
    "\n",
    "def stellen_zu_zahlen(stellen):\n",
    "    \n",
    "    return reduce(lambda x,y: x*10 + y,stellen)"
   ]
  },
  {
   "cell_type": "code",
   "execution_count": 6,
   "metadata": {},
   "outputs": [
    {
     "data": {
      "text/plain": [
       "34321"
      ]
     },
     "execution_count": 6,
     "metadata": {},
     "output_type": "execute_result"
    }
   ],
   "source": [
    "stellen_zu_zahlen([3,4,3,2,1])"
   ]
  },
  {
   "cell_type": "markdown",
   "metadata": {},
   "source": [
    "## Aufgabe 3\n",
    "\n",
    "Nutzt filter(), um alle Wörter aus einer Liste auszugeben, die mit einem bestimmten Buchstaben beginnen."
   ]
  },
  {
   "cell_type": "code",
   "execution_count": 11,
   "metadata": {
    "collapsed": true
   },
   "outputs": [],
   "source": [
    "def filter_woerter(wort_liste, buchstabe):\n",
    "    \n",
    "    return list(filter(lambda wort: wort[0]==buchstabe,wort_liste))"
   ]
  },
  {
   "cell_type": "code",
   "execution_count": 12,
   "metadata": {},
   "outputs": [
    {
     "data": {
      "text/plain": [
       "['Hallo', 'Hund', 'Hi', 'Herz']"
      ]
     },
     "execution_count": 12,
     "metadata": {},
     "output_type": "execute_result"
    }
   ],
   "source": [
    "l = [\"Hallo\",\"sind\",\"Katze\",\"Hund\",\"Schinken\",\"Hi\",\"gehen\",\"zu\",\"Herz\"]\n",
    "filter_woerter(l,\"H\")"
   ]
  },
  {
   "cell_type": "markdown",
   "metadata": {},
   "source": [
    "## Aufgabe 4\n",
    "\n",
    "Nutze zip() und Listen Verständnis, um eine Liste auszugeben, deren Werte zwei Strings aus Liste1 und Liste2, die mit einem Konnektor verbunden wurden."
   ]
  },
  {
   "cell_type": "code",
   "execution_count": 13,
   "metadata": {
    "collapsed": true
   },
   "outputs": [],
   "source": [
    "def verbinden(L1, L2, konnektor):\n",
    "    \n",
    "    return [wort1+konnektor+wort2 for (wort1,wort2) in zip(L1,L2)]"
   ]
  },
  {
   "cell_type": "code",
   "execution_count": 14,
   "metadata": {},
   "outputs": [
    {
     "data": {
      "text/plain": [
       "['A-a', 'B-b']"
      ]
     },
     "execution_count": 14,
     "metadata": {},
     "output_type": "execute_result"
    }
   ],
   "source": [
    "verbinden(['A','B'],['a','b'],'-')"
   ]
  },
  {
   "cell_type": "markdown",
   "metadata": {},
   "source": [
    "## Aufgabe 5\n",
    "\n",
    "Benutze enumerate() und andere Skills, um ein Dictionary zu erstellen, dass die Werte einer Liste als Key hat und deren Index als Wert. Ihr könnt davon ausgehen, dass ein Wert nur einmal in der Liste vorkommt. "
   ]
  },
  {
   "cell_type": "code",
   "execution_count": 15,
   "metadata": {
    "collapsed": true
   },
   "outputs": [],
   "source": [
    "def dict_liste(L):\n",
    "    \n",
    "    return {key:value for value,key in enumerate(L)}"
   ]
  },
  {
   "cell_type": "code",
   "execution_count": 16,
   "metadata": {},
   "outputs": [
    {
     "data": {
      "text/plain": [
       "{'a': 0, 'b': 1, 'c': 2}"
      ]
     },
     "execution_count": 16,
     "metadata": {},
     "output_type": "execute_result"
    }
   ],
   "source": [
    "dict_liste([\"a\",\"b\",\"c\"])"
   ]
  },
  {
   "cell_type": "markdown",
   "metadata": {},
   "source": [
    "## Aufgabe 6\n",
    "\n",
    "Nutze enumerate() und andere Skills von oben, um den count der Anzahl von Items in einer Liste auszugeben, deren Wert ihrem Index entspricht."
   ]
  },
  {
   "cell_type": "code",
   "execution_count": 17,
   "metadata": {
    "collapsed": true
   },
   "outputs": [],
   "source": [
    "def count_treffer_index(L):\n",
    "    \n",
    "    return len([num for count, num in enumerate(L) if num == count])"
   ]
  },
  {
   "cell_type": "code",
   "execution_count": 18,
   "metadata": {},
   "outputs": [
    {
     "data": {
      "text/plain": [
       "4"
      ]
     },
     "execution_count": 18,
     "metadata": {},
     "output_type": "execute_result"
    }
   ],
   "source": [
    "count_treffer_index([0,2,2,1,5,5,6,10])"
   ]
  },
  {
   "cell_type": "markdown",
   "metadata": {},
   "source": [
    "# Gute Arbeit!"
   ]
  }
 ],
 "metadata": {
  "kernelspec": {
   "display_name": "Python 3",
   "language": "python",
   "name": "python3"
  },
  "language_info": {
   "codemirror_mode": {
    "name": "ipython",
    "version": 3
   },
   "file_extension": ".py",
   "mimetype": "text/x-python",
   "name": "python",
   "nbconvert_exporter": "python",
   "pygments_lexer": "ipython3",
   "version": "3.8.5"
  }
 },
 "nbformat": 4,
 "nbformat_minor": 2
}