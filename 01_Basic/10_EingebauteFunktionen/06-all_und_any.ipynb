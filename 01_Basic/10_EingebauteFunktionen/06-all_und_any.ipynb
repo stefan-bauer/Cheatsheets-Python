{
 "cells": [
  {
   "cell_type": "markdown",
   "metadata": {
    "collapsed": true
   },
   "source": [
    "# all() und any()\n",
    "\n",
    "Quelle: Datamics\n",
    "\n",
    "all() und any() sind vorinstallierte Funktionen in Python, die es uns erlauben, schnell Boolean Werte für iterierbare Elemente abzufragen. all() wird True zurück geben, sofern alle Werte innerhalb der Iteration True sind. Es ist das selbe wie diese Funktion:\n",
    "\n",
    "    def all(iterierbar):\n",
    "        for element in itierbar:\n",
    "            if not element:\n",
    "                return False\n",
    "        return True\n",
    "        \n",
    "any() wird True zurück geben, sofern irgendein Werte innerhalb der Iteration True ist. Es ist dasselbe wie diese Funktion:\n",
    "\n",
    "    def any(iterierbar):\n",
    "        for element in iterierbar:\n",
    "            if element:\n",
    "                return True\n",
    "        return False\n",
    "     \n",
    "Lasst uns einige Beispiele für diese Funktionen anschauen. Es sollte relativ selbsterklärend sein:"
   ]
  },
  {
   "cell_type": "code",
   "execution_count": 1,
   "metadata": {
    "collapsed": true
   },
   "outputs": [],
   "source": [
    "lst = [True,True,False,True]"
   ]
  },
  {
   "cell_type": "code",
   "execution_count": 2,
   "metadata": {},
   "outputs": [
    {
     "data": {
      "text/plain": [
       "False"
      ]
     },
     "execution_count": 2,
     "metadata": {},
     "output_type": "execute_result"
    }
   ],
   "source": [
    "all(lst)"
   ]
  },
  {
   "cell_type": "code",
   "execution_count": 3,
   "metadata": {},
   "outputs": [
    {
     "data": {
      "text/plain": [
       "True"
      ]
     },
     "execution_count": 3,
     "metadata": {},
     "output_type": "execute_result"
    }
   ],
   "source": [
    "any(lst)"
   ]
  },
  {
   "cell_type": "markdown",
   "metadata": {},
   "source": [
    "all() gibt uns False zurück, da die Liste ein False Element enthält (und somit nicht ALLE True sind).\n",
    "\n",
    "any() gibt True zurück, da die Liste mindestens ein Element mit dem Wert True enthält.\n",
    "\n",
    "Das war es. Ihr solltet jetzt verstehen, wie all() und any() verwendet werden können."
   ]
  }
 ],
 "metadata": {
  "kernelspec": {
   "display_name": "Python 3",
   "language": "python",
   "name": "python3"
  },
  "language_info": {
   "codemirror_mode": {
    "name": "ipython",
    "version": 3
   },
   "file_extension": ".py",
   "mimetype": "text/x-python",
   "name": "python",
   "nbconvert_exporter": "python",
   "pygments_lexer": "ipython3",
   "version": "3.8.5"
  }
 },
 "nbformat": 4,
 "nbformat_minor": 2
}