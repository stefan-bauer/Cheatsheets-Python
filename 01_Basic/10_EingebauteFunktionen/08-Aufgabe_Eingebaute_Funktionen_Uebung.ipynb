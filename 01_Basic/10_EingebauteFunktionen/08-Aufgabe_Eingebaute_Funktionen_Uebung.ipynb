{
 "cells": [
  {
   "cell_type": "markdown",
   "metadata": {
    "collapsed": true
   },
   "source": [
    "# Eingebaute Funktionen Test\n",
    "\n",
    "Quelle: Datamics\n",
    "\n",
    "Für diesen Test solltet ihr die eingebauten Funktionen nutzen, um die benötigten Funktionen in einer Zeile Code zu schreiben.\n",
    "\n",
    "## Aufgabe 1\n",
    "\n",
    "Nutzt map(), um eine Funktion zu schreiben, die die Länge jedes einzelnen Wortes in einem String (durch Leerzeichen getrennt) herausfindet und die Werte in einer Liste zurückgibt.\n",
    "\n",
    "Diese Funktion wird als Input eine Phrase haben und eine Liste von Zahlen ausgeben."
   ]
  },
  {
   "cell_type": "code",
   "execution_count": 1,
   "metadata": {
    "collapsed": true
   },
   "outputs": [],
   "source": [
    "def wort_laenge(phrase):\n",
    "    \n",
    "    pass"
   ]
  },
  {
   "cell_type": "code",
   "execution_count": 2,
   "metadata": {
    "collapsed": true
   },
   "outputs": [],
   "source": [
    "wort_laenge(\"Wie lange sind die Wörter dieser Phrase\")"
   ]
  },
  {
   "cell_type": "markdown",
   "metadata": {},
   "source": [
    "## Aufgabe 2\n",
    "\n",
    "Nutzt reduce(), um eine Liste von Stellen einzulesen und die entsprechende Zahl ausgibt. \n",
    "\n",
    "Wandelt die Zahlen des Inputs nicht in einen String um! "
   ]
  },
  {
   "cell_type": "code",
   "execution_count": 3,
   "metadata": {
    "collapsed": true
   },
   "outputs": [],
   "source": [
    "def stellen_zu_zahlen(stellen):\n",
    "    \n",
    "    pass"
   ]
  },
  {
   "cell_type": "code",
   "execution_count": 4,
   "metadata": {
    "collapsed": true
   },
   "outputs": [],
   "source": [
    "stellen_zu_zahlen([3,4,3,2,1])"
   ]
  },
  {
   "cell_type": "markdown",
   "metadata": {},
   "source": [
    "## Aufgabe 3\n",
    "\n",
    "Nutzt filter(), um alle Wörter aus einer Liste auszugeben, die mit einem bestimmten Buchstaben beginnen."
   ]
  },
  {
   "cell_type": "code",
   "execution_count": 5,
   "metadata": {
    "collapsed": true
   },
   "outputs": [],
   "source": [
    "def filter_woerter(wort_liste, buchstabe):\n",
    "    \n",
    "    pass"
   ]
  },
  {
   "cell_type": "code",
   "execution_count": 6,
   "metadata": {
    "collapsed": true
   },
   "outputs": [],
   "source": [
    "l = [\"Hallo\",\"sind\",\"Katze\",\"Hund\",\"Schinken\",\"Hi\",\"gehen\",\"zu\",\"Herz\"]\n",
    "filter_woerter(l,\"h\")"
   ]
  },
  {
   "cell_type": "markdown",
   "metadata": {},
   "source": [
    "## Aufgabe 4\n",
    "\n",
    "Nutze zip() und Listen Verständnis, um eine Liste auszugeben, deren Werte zwei Strings aus Liste1 und Liste2, die mit einem Konnektor verbunden wurden."
   ]
  },
  {
   "cell_type": "code",
   "execution_count": 7,
   "metadata": {
    "collapsed": true
   },
   "outputs": [],
   "source": [
    "def verbinden(L1, L2, konnektor):\n",
    "    \n",
    "    pass"
   ]
  },
  {
   "cell_type": "code",
   "execution_count": 8,
   "metadata": {
    "collapsed": true
   },
   "outputs": [],
   "source": [
    "verbinden(['A','B'],['a','b'],'-')"
   ]
  },
  {
   "cell_type": "markdown",
   "metadata": {},
   "source": [
    "## Aufgabe 5\n",
    "\n",
    "Benutze enumerate() und andere Skills, um ein Dictionary zu erstellen, dass die Werte einer Liste als Key hat und deren Index als Wert. Ihr könnt davon ausgehen, dass ein Wert nur einmal in der Liste vorkommt. "
   ]
  },
  {
   "cell_type": "code",
   "execution_count": 9,
   "metadata": {
    "collapsed": true
   },
   "outputs": [],
   "source": [
    "def dict_liste(L):\n",
    "    \n",
    "    pass"
   ]
  },
  {
   "cell_type": "code",
   "execution_count": 10,
   "metadata": {
    "collapsed": true
   },
   "outputs": [],
   "source": [
    "dict_liste([\"a\",\"b\",\"c\"])"
   ]
  },
  {
   "cell_type": "markdown",
   "metadata": {},
   "source": [
    "## Aufgabe 6\n",
    "\n",
    "Nutze enumerate() und andere Skills von oben, um den count der Anzahl von Items in einer Liste auszugeben, deren Wert ihrem Index entspricht."
   ]
  },
  {
   "cell_type": "code",
   "execution_count": 11,
   "metadata": {
    "collapsed": true
   },
   "outputs": [],
   "source": [
    "def count_treffer_index(L):\n",
    "    \n",
    "    pass"
   ]
  },
  {
   "cell_type": "code",
   "execution_count": 13,
   "metadata": {
    "collapsed": true
   },
   "outputs": [],
   "source": [
    "count_treffer_index([0,2,2,1,5,5,6,10])"
   ]
  },
  {
   "cell_type": "markdown",
   "metadata": {},
   "source": [
    "# Gute Arbeit!"
   ]
  }
 ],
 "metadata": {
  "kernelspec": {
   "display_name": "Python 3",
   "language": "python",
   "name": "python3"
  },
  "language_info": {
   "codemirror_mode": {
    "name": "ipython",
    "version": 3
   },
   "file_extension": ".py",
   "mimetype": "text/x-python",
   "name": "python",
   "nbconvert_exporter": "python",
   "pygments_lexer": "ipython3",
   "version": "3.8.5"
  }
 },
 "nbformat": 4,
 "nbformat_minor": 2
}