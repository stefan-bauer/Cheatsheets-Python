{
 "cells": [
  {
   "cell_type": "markdown",
   "metadata": {
    "collapsed": true
   },
   "source": [
    "# Durchzählen\n",
    "\n",
    "Quelle: Datamics\n",
    "\n",
    "In dieser Lektion werden wir mehr über die extrem nützliche vorinstallierte Funktion enumerate() (dt.: durchzählen) lernen. Enumerate erlaubt es uns durchzuzählen, während wir durch ein Objekt iterieren. Dies tut sie, indem ein Tupel in der Form (Zähler, Element) zurückgegeben wird. Die Funktion selbst ist äquivalent zu:\n",
    "    \n",
    "    def enumerate(sequenz, start=0):\n",
    "        n = start\n",
    "        for elem in sequenz:\n",
    "            yield n, elem\n",
    "            n += 1\n",
    "            \n",
    "## Beispiel"
   ]
  },
  {
   "cell_type": "code",
   "execution_count": 1,
   "metadata": {},
   "outputs": [
    {
     "name": "stdout",
     "output_type": "stream",
     "text": [
      "0\n",
      "a\n",
      "1\n",
      "b\n",
      "2\n",
      "c\n"
     ]
    }
   ],
   "source": [
    "lst = ['a','b','c']\n",
    "\n",
    "for nummer, item in enumerate(lst):\n",
    "    print(nummer)\n",
    "    print(item)"
   ]
  },
  {
   "cell_type": "markdown",
   "metadata": {},
   "source": [
    "enumerate() wird besonders wichtig, wenn wir eine Art Limit bzw. einen Auslöser haben. Zum Beispiel:"
   ]
  },
  {
   "cell_type": "code",
   "execution_count": 3,
   "metadata": {},
   "outputs": [
    {
     "name": "stdout",
     "output_type": "stream",
     "text": [
      "a\n",
      "b\n"
     ]
    }
   ],
   "source": [
    "for zähler, item in enumerate(lst):\n",
    "    if zähler >=2:\n",
    "        break\n",
    "    else:\n",
    "        print(item)"
   ]
  },
  {
   "cell_type": "markdown",
   "metadata": {},
   "source": [
    "Toll! Ihr solltet jetzt verstehen, was enumerate() macht und wie wir es sinnvoll verwenden können."
   ]
  }
 ],
 "metadata": {
  "kernelspec": {
   "display_name": "Python 3",
   "language": "python",
   "name": "python3"
  },
  "language_info": {
   "codemirror_mode": {
    "name": "ipython",
    "version": 3
   },
   "file_extension": ".py",
   "mimetype": "text/x-python",
   "name": "python",
   "nbconvert_exporter": "python",
   "pygments_lexer": "ipython3",
   "version": "3.8.5"
  }
 },
 "nbformat": 4,
 "nbformat_minor": 2
}