{
 "cells": [
  {
   "cell_type": "markdown",
   "metadata": {
    "collapsed": true
   },
   "source": [
    "# Filter\n",
    "\n",
    "Quelle: Datamics\n",
    "\n",
    "Die Funktion filter(funktion, liste) bietet die Möglichkeit, alle Werte aus einer Liste zu filtern, für die die Funktion True ergibt.\n",
    "\n",
    "Die Funktion filter(funktion, liste) braucht eine Funktion als ihren ersten Parameter. Diese Funktion muss einen Boolean Wert, also True or False, zurückgeben. Die Funktion wird dann auf jedes iterierbares Element der Liste angewendet. Nur wenn die Funktion True ergibt, wird das Element in das Ergebnis aufgenommen.\n",
    "\n",
    "Schauen wir uns einige Beispiele an:"
   ]
  },
  {
   "cell_type": "code",
   "execution_count": 1,
   "metadata": {
    "collapsed": true
   },
   "outputs": [],
   "source": [
    "# Zuerst erstellen wir eine Funktion\n",
    "def gerade_check(num):\n",
    "    if num % 2 == 0:\n",
    "        return True"
   ]
  },
  {
   "cell_type": "markdown",
   "metadata": {},
   "source": [
    "Jetzt können wir eine Liste von Zahlen filtern. Beachtet: evtl. fühlt es sich komisch an, die Funktion ohne Anführungszeichen in den Filter einzugeben. Bedenkt aber, dass auch Funktionen Objekte in Python sind."
   ]
  },
  {
   "cell_type": "code",
   "execution_count": 3,
   "metadata": {},
   "outputs": [
    {
     "data": {
      "text/plain": [
       "[0, 2, 4, 6, 8, 10, 12, 14, 16, 18]"
      ]
     },
     "execution_count": 3,
     "metadata": {},
     "output_type": "execute_result"
    }
   ],
   "source": [
    "lst = range(20)\n",
    "\n",
    "list(filter(gerade_check,lst))"
   ]
  },
  {
   "cell_type": "markdown",
   "metadata": {},
   "source": [
    "filter() wird meistens mit lambda Funktionen genutzt, weil wir Filter meistens für schnelle Aufgaben benutzen, wenn wir keine gesamte Funktion schreiben wollen. Lasst uns das obige Beispiel mit einer lambda Funktion wiederholen:"
   ]
  },
  {
   "cell_type": "code",
   "execution_count": 4,
   "metadata": {},
   "outputs": [
    {
     "data": {
      "text/plain": [
       "[0, 2, 4, 6, 8, 10, 12, 14, 16, 18]"
      ]
     },
     "execution_count": 4,
     "metadata": {},
     "output_type": "execute_result"
    }
   ],
   "source": [
    "list(filter(lambda x: x%2==0,lst))"
   ]
  },
  {
   "cell_type": "markdown",
   "metadata": {},
   "source": [
    "Toll! Ihr solltet jetzt ein gutes Verständnis davon haben, wie Filter in eurem Code eingesetzt werden können."
   ]
  }
 ],
 "metadata": {
  "kernelspec": {
   "display_name": "Python 3",
   "language": "python",
   "name": "python3"
  },
  "language_info": {
   "codemirror_mode": {
    "name": "ipython",
    "version": 3
   },
   "file_extension": ".py",
   "mimetype": "text/x-python",
   "name": "python",
   "nbconvert_exporter": "python",
   "pygments_lexer": "ipython3",
   "version": "3.8.5"
  }
 },
 "nbformat": 4,
 "nbformat_minor": 2
}