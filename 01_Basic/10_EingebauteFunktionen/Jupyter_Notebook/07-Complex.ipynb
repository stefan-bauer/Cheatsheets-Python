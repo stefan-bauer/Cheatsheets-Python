{
 "cells": [
  {
   "cell_type": "markdown",
   "metadata": {
    "collapsed": true
   },
   "source": [
    "# complex()\n",
    "\n",
    "Quelle: Datamics\n",
    "\n",
    "complex() gibt eine komplexe Zahl mit dem Wert reelle Zahl + imag*1j zurück oder wandelt eine Zahl bzw. einen String in eine komplexe Zahl um.\n",
    "\n",
    "Wenn der erste Parameter ein String ist, wird er als komplexe Nummer interpretiert und die Funktion muss ohne zweiten Parameter aufgerufen werden. Der zweite Parameter kann nie ein String sein. Jedes Argument kann numerischer Art sein. Wenn imag ausgelassen wird, wird es per Standard zu 0 und der Konstruktor dient als eine numerische Konversion wie int und float. Wenn beide Argumente ausgelassen werden erhalten wir 0j.\n",
    "\n",
    "Wenn sie Mathematik oder Ingenieurswesen betreiben, die komplexe Zahlen benötigen ist es ein nützliches Tool in Python.\n",
    "\n",
    "Hier einige Beispiele:"
   ]
  },
  {
   "cell_type": "code",
   "execution_count": 1,
   "metadata": {},
   "outputs": [
    {
     "data": {
      "text/plain": [
       "(2+3j)"
      ]
     },
     "execution_count": 1,
     "metadata": {},
     "output_type": "execute_result"
    }
   ],
   "source": [
    "# Erstellen der Zahl 2+3j\n",
    "complex(2,3)"
   ]
  },
  {
   "cell_type": "code",
   "execution_count": 2,
   "metadata": {},
   "outputs": [
    {
     "data": {
      "text/plain": [
       "(10+1j)"
      ]
     },
     "execution_count": 2,
     "metadata": {},
     "output_type": "execute_result"
    }
   ],
   "source": [
    "complex(10,1)"
   ]
  },
  {
   "cell_type": "code",
   "execution_count": 3,
   "metadata": {},
   "outputs": [
    {
     "data": {
      "text/plain": [
       "12.2j"
      ]
     },
     "execution_count": 3,
     "metadata": {},
     "output_type": "execute_result"
    }
   ],
   "source": [
    "complex('12.2j')"
   ]
  },
  {
   "cell_type": "markdown",
   "metadata": {},
   "source": [
    "Das ist auch schon alles, was wir über diese nützliche Funktion wissen müssen. Behaltet sie im Kopf, falls ihr je mit komplexen Zahlen arbeiten müsst."
   ]
  }
 ],
 "metadata": {
  "kernelspec": {
   "display_name": "Python 3",
   "language": "python",
   "name": "python3"
  },
  "language_info": {
   "codemirror_mode": {
    "name": "ipython",
    "version": 3
   },
   "file_extension": ".py",
   "mimetype": "text/x-python",
   "name": "python",
   "nbconvert_exporter": "python",
   "pygments_lexer": "ipython3",
   "version": "3.8.5"
  }
 },
 "nbformat": 4,
 "nbformat_minor": 2
}