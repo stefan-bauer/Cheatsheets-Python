{
 "cells": [
  {
   "cell_type": "markdown",
   "metadata": {
    "collapsed": true
   },
   "source": [
    "# map()\n",
    "\n",
    "Quelle: Datamics\n",
    "\n",
    "map() ist eine Funktion, die zwei Parameter aufnimmt: eine Funktion und eine iterierbare Sequenz. In folgender Form:\n",
    "\n",
    "    map(funktion,sequenz)\n",
    "\n",
    "Das erste Argument ist der Name einer Funktion und das zweite der einer Sequenz (z.B. eine Liste). map() wendet die Funktion auf alle Elemente der Sequenz an. Es gibt eine neue Liste mit den Elementen, die durch die Funktion geändert wurden, zurück.\n",
    "\n",
    "Als wir uns Listen Abstraktion angeschaut haben, haben wir einen kleinen Ausdruck geschrieben, um Fahrenheit in Celsius umzurechnen. Lasst uns das gleiche machen, aber dieses Mal map() benutzen.\n",
    "\n",
    "Wir starten mit zwei Funktionen:"
   ]
  },
  {
   "cell_type": "code",
   "execution_count": 1,
   "metadata": {
    "collapsed": true
   },
   "outputs": [],
   "source": [
    "def fahrenheit(T):\n",
    "    return ((float(9)/5)*T + 32)\n",
    "def celsius(T):\n",
    "    return (float(5)/9)*(T-32)\n",
    "    \n",
    "temp = [0, 22.5, 40,100]"
   ]
  },
  {
   "cell_type": "markdown",
   "metadata": {},
   "source": [
    "Lasst uns jetzt map() in Aktion sehen:"
   ]
  },
  {
   "cell_type": "code",
   "execution_count": 10,
   "metadata": {},
   "outputs": [
    {
     "data": {
      "text/plain": [
       "[32.0, 72.5, 104.0, 212.0]"
      ]
     },
     "execution_count": 10,
     "metadata": {},
     "output_type": "execute_result"
    }
   ],
   "source": [
    "F_temps = list(map(fahrenheit, temp))\n",
    "\n",
    "# Check\n",
    "F_temps"
   ]
  },
  {
   "cell_type": "code",
   "execution_count": 12,
   "metadata": {},
   "outputs": [
    {
     "data": {
      "text/plain": [
       "[0.0, 22.5, 40.0, 100.0]"
      ]
     },
     "execution_count": 12,
     "metadata": {},
     "output_type": "execute_result"
    }
   ],
   "source": [
    "list(map(celsius, F_temps))"
   ]
  },
  {
   "cell_type": "markdown",
   "metadata": {},
   "source": [
    "Im obigen Beispiel haben wir keinen lambda Ausdruck verwendet. Durch das Verwenden von lambda hätten wir nicht die Namen für die Funktion fahrenheit() und celsius() definieren müssen."
   ]
  },
  {
   "cell_type": "code",
   "execution_count": 14,
   "metadata": {},
   "outputs": [
    {
     "data": {
      "text/plain": [
       "[0.0, 22.5, 40.0, 100.0]"
      ]
     },
     "execution_count": 14,
     "metadata": {},
     "output_type": "execute_result"
    }
   ],
   "source": [
    "list(map(lambda x: (5.0/9)*(x - 32), F_temps))"
   ]
  },
  {
   "cell_type": "markdown",
   "metadata": {},
   "source": [
    "Großartig! Wir haben dasselbe Ergebnis erhalten. map() mit lambda Ausdrücken zu verwenden ist viel stärker verbreitet, da es eben genau der Sinn von map() ist, das manuelle erstellen von for Schleifen zu erübrigen.\n",
    "\n",
    "map() kann außerdem auf mehr als nur ein iterierbares Objekt angewendet werden. Allerdings müssen die iterierbaren Objekte die selbe Länge haben. \n",
    "\n",
    "Zum Beispiel wenn wir mit zwei Listen arbeiten. map() wird die lambda Funktion auf die Elemente der Parameterliste anwenden. D.h. zuerst auf alle Elemente mit Index 0, dann auf alle Elemente mit Index 1 usw. So lange, bis der n-te Index erreicht ist.\n",
    "\n",
    "Zum Beispiel wenn wir map() auf zwei Listen anwenden:"
   ]
  },
  {
   "cell_type": "code",
   "execution_count": 16,
   "metadata": {},
   "outputs": [
    {
     "data": {
      "text/plain": [
       "[6, 8, 10, 12]"
      ]
     },
     "execution_count": 16,
     "metadata": {},
     "output_type": "execute_result"
    }
   ],
   "source": [
    "a = [1,2,3,4]\n",
    "b = [5,6,7,8]\n",
    "c = [9,10,11,12]\n",
    "\n",
    "list(map(lambda x,y:x+y, a,b))"
   ]
  },
  {
   "cell_type": "code",
   "execution_count": 17,
   "metadata": {},
   "outputs": [
    {
     "data": {
      "text/plain": [
       "[15, 18, 21, 24]"
      ]
     },
     "execution_count": 17,
     "metadata": {},
     "output_type": "execute_result"
    }
   ],
   "source": [
    "# Now all three lists\n",
    "list(map(lambda x,y,z:x+y+z, a,b,c))"
   ]
  },
  {
   "cell_type": "markdown",
   "metadata": {},
   "source": [
    "Wir können im obigen Beispiel sehen, dass der Parameter x seinen Wert aus der Liste a erhält, während y seinen Wert aus b erhält und z aus Liste c. Ihr könnt gerne mit euren eigenen Beispielen Versuche unternehmen. So könnt ihr auch überprüfen, ob ihr das Prinzip von map() verstanden habt.\n",
    "\n",
    "Gute Arbeit! Ihr solltet jetzt ein Grundverständnis der map() Funktion haben."
   ]
  }
 ],
 "metadata": {
  "kernelspec": {
   "display_name": "Python 3",
   "language": "python",
   "name": "python3"
  },
  "language_info": {
   "codemirror_mode": {
    "name": "ipython",
    "version": 3
   },
   "file_extension": ".py",
   "mimetype": "text/x-python",
   "name": "python",
   "nbconvert_exporter": "python",
   "pygments_lexer": "ipython3",
   "version": "3.8.5"
  }
 },
 "nbformat": 4,
 "nbformat_minor": 2
}