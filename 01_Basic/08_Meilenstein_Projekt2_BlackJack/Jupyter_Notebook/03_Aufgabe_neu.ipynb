{
 "cells": [
  {
   "cell_type": "markdown",
   "metadata": {},
   "source": [
    "# Meilenstein Projekt 2 - Aufgabe\n",
    "\n",
    "Quelle: Datamics"
   ]
  },
  {
   "cell_type": "markdown",
   "metadata": {
    "collapsed": true
   },
   "source": [
    "In diesem Notebook wird unsere Lösung zum Meilensteinprojekt Blackjack vorgestellt. Unsere Lösung ist nur ein möglicher Lösungsansatz - deine Lösung wird vermutlich anders aussehen!"
   ]
  },
  {
   "cell_type": "markdown",
   "metadata": {},
   "source": [
    "## Spielzug - Prozedur\n",
    "Beim spielen einer Hand Blackjack müssen folgende Schritte vorgenommen werden:\n",
    "1. Erzeuge ein Deck mit 52 Karten\n",
    "2. Mische das Deck\n",
    "3. Frage den Spieler nach seinem Einsatz\n",
    "4. Stelle sicher, dass der Einsatz nicht den Chipstand eines Spielers überschreitet\n",
    "5. Deale dem Spieler und dem Dealer (Computergegner) zwei Karten\n",
    "6. Zeige nur eine Karte des Dealers, die andere bleibt verborgen\n",
    "7. Zeige beide Karten des Spielers\n",
    "8. Frage den Spieler, ob er nehmen oder halten möchte\n",
    "9. Frage den Spieler, ob er eine weitere Karte nehmen möchte, falls der Spieler nicht über 21 gelangt ist\n",
    "10. Spiele die Hand des Dealers, wenn der Spieler hält. Der Dealer nimmt solange Karten, bis sein Wert größer gleich 17 ist\n",
    "11. Bestimme den Gewinner\n",
    "12. Frage den Spieler, ob er erneut spielen möchte"
   ]
  },
  {
   "cell_type": "markdown",
   "metadata": {},
   "source": [
    "## Spielkarten\n",
    "Ein Satz Spielkarten hat insgesamt 52 Karten mit vier Farben (Herz, Karo, Pik und Kreuz) und dreizehn Rängen (zwei bis zehn sowie Bube, Dame, König und Ass) je Farbe. Buben, Damen und Könige haben alle den Rang 10. Asse haben den Rang 11 oder 1, je nachdem, was am nähesten unter 21 liegt (wenn möglich). Als Ausgangspunkt solltest du die Farben und Ränge in Variablen speichern, und dann die Ränge mit einem Dictionary in Werte konvertieren."
   ]
  },
  {
   "cell_type": "markdown",
   "metadata": {},
   "source": [
    "## Das Spiel\n",
    "### Importe und globale Variablen\n",
    "**Schritt 1: Kartenvariablen definieren**<br>\n",
    "Importe das Modul random. Mit diesem werden die Karten vor jedem Austeilen gemischt. Speichere dann die Farben, Ränge und Werte der Karten in Variablen. Verwende dazu eigene oder die folgenden Datenstrukturen. Programmiere dann eine Kontrollvariable **spielend** mit einem bool'schen Wert. Dies ist ein gebräuchlicher Ansatz zur Kontrolle des Programmflusses.\n",
    "\n",
    "    farben = ('Herz', 'Karo', 'Pik', 'Kreuz')\n",
    "    raenge = ('Zwei', 'Drei', 'Vier', 'Fuenf', 'Sechs', 'Sieben', 'Acht', 'Neun', 'Zehn', 'Bube', 'Dame', 'Koenig', 'Ass')\n",
    "    werte = {'Zwei':2, 'Drei':3, 'Vier':4, 'Fuenf':5, 'Sechs':6, 'Sieben':7, 'Acht':8, 'Neun':9, 'Zehn':10, 'Bube':10, Dame':10, 'Koenig':10, 'Ass':11}"
   ]
  },
  {
   "cell_type": "code",
   "execution_count": 1,
   "metadata": {},
   "outputs": [],
   "source": []
  },
  {
   "cell_type": "markdown",
   "metadata": {},
   "source": [
    "### Klassen\n",
    "Entwirf eine Klasse Karte, in der jedes Objekt Karte eine Farbe und einen Rang hat. Programmiere ausserdem eine Klasse Stapel, welche alle 52 Karte-Objekte enthält, und weiterhin eine Klasse Hand, welche die dem Spieler (oder Dealer) zugeteilten Karte-Objekte speichert."
   ]
  },
  {
   "cell_type": "markdown",
   "metadata": {},
   "source": [
    "**Schritt 2: Erzeuge eine Klasse Stapel**<br>\n",
    "Ein Objekt Karte benötigt lediglich zwei Attribute: Farbe und Rang. Du könntest ein Attribut für Wert hinzufügen - in unserer Lösung behandeln wir den Wert später mit der Klasse Hand. <br>\n",
    "Überlege dir, zusätzlich zu der \\_\\_init\\_\\_-Methode  der Klasse Karte eine \\_\\_str\\_\\_-Methode zu implementieren, die Farbe und Rang einer Karte in menschenlesbarer Form ausgibt, z.B. \"Herz-Zwei\"."
   ]
  },
  {
   "cell_type": "code",
   "execution_count": 2,
   "metadata": {},
   "outputs": [],
   "source": []
  },
  {
   "cell_type": "markdown",
   "metadata": {},
   "source": [
    "**Schritt 3: Erzeuge eine Klasse Stapel**<br>\n",
    "In Stapel sollen alle 52 verschiedenen Kartenobjekte in einer Liste gespeichert und später dann gemischt werden. Dazu müssen alle 52 verschiedenen Kartenobjekte *instanziiert* und der Liste hinzugefügt werden. Dazu wird einfach in der \\_\\_init\\_\\_-Methode des Stapels mit Schleifen über alle möglichen Farb- und Rangkombinationen iteriert und dementsprechend Karte-Instanzen erzeugt. Die Schleife sieht also in etwa so aus:\n",
    "\n",
    "    for farbe in farben:\n",
    "        for rang in raenge:\n",
    "\n",
    "Ausser der \\_\\_init\\_\\_-Methode brauchen wir Methoden zum mischen des Stapels und zum austeilen von Karten im Spiel. <br><br>\n",
    "OPTIONAL: Es ist vielleicht nicht nötig, eine Methode zur Ausgabe des Stapels im Spiel zu entwicklen, allerdings kann es sehr bei der Suche nach Bugs und der Analyse des Programmes helfen. Hierzu könntest du der Klasse eine Methode \\_\\_str\\_\\_ hinzufügen."
   ]
  },
  {
   "cell_type": "code",
   "execution_count": 3,
   "metadata": {},
   "outputs": [],
   "source": []
  },
  {
   "cell_type": "markdown",
   "metadata": {},
   "source": [
    "TEST: Lasst uns den Stapel ausgeben, um zu überprüfen, dass alles richtig implementiert wurde."
   ]
  },
  {
   "cell_type": "code",
   "execution_count": 4,
   "metadata": {},
   "outputs": [
    {
     "name": "stdout",
     "output_type": "stream",
     "text": [
      "Der Stapel hat: \n",
      " Herz-Zwei\n",
      " Herz-Drei\n",
      " Herz-Vier\n",
      " Herz-Fuenf\n",
      " Herz-Sechs\n",
      " Herz-Sieben\n",
      " Herz-Acht\n",
      " Herz-Neun\n",
      " Herz-Zehn\n",
      " Herz-Bube\n",
      " Herz-Dame\n",
      " Herz-Koenig\n",
      " Herz-Ass\n",
      " Karo-Zwei\n",
      " Karo-Drei\n",
      " Karo-Vier\n",
      " Karo-Fuenf\n",
      " Karo-Sechs\n",
      " Karo-Sieben\n",
      " Karo-Acht\n",
      " Karo-Neun\n",
      " Karo-Zehn\n",
      " Karo-Bube\n",
      " Karo-Dame\n",
      " Karo-Koenig\n",
      " Karo-Ass\n",
      " Pik-Zwei\n",
      " Pik-Drei\n",
      " Pik-Vier\n",
      " Pik-Fuenf\n",
      " Pik-Sechs\n",
      " Pik-Sieben\n",
      " Pik-Acht\n",
      " Pik-Neun\n",
      " Pik-Zehn\n",
      " Pik-Bube\n",
      " Pik-Dame\n",
      " Pik-Koenig\n",
      " Pik-Ass\n",
      " Kreuz-Zwei\n",
      " Kreuz-Drei\n",
      " Kreuz-Vier\n",
      " Kreuz-Fuenf\n",
      " Kreuz-Sechs\n",
      " Kreuz-Sieben\n",
      " Kreuz-Acht\n",
      " Kreuz-Neun\n",
      " Kreuz-Zehn\n",
      " Kreuz-Bube\n",
      " Kreuz-Dame\n",
      " Kreuz-Koenig\n",
      " Kreuz-Ass\n"
     ]
    }
   ],
   "source": [
    "test_stapel = Stapel()\n",
    "print(test_stapel)"
   ]
  },
  {
   "cell_type": "markdown",
   "metadata": {},
   "source": [
    "Super! Lasst uns nun die Klasse Hand implementieren."
   ]
  },
  {
   "cell_type": "markdown",
   "metadata": {},
   "source": [
    "**Schritt 4: Implementiere die Klasse Hand**<br>\n",
    "Die Klasse Hand muss die an den Spieler ausgeteilten Karte-Objekte beinhalten und sollte ausserdem den Wert einer Hand berechnen können. Dabei muss der Spezialfall Ass beachtet werden, welches dem Wert 1 oder 11 entsprechen kann, je nachdem, was besser für den Spieler ist."
   ]
  },
  {
   "cell_type": "code",
   "execution_count": 5,
   "metadata": {},
   "outputs": [],
   "source": []
  },
  {
   "cell_type": "markdown",
   "metadata": {},
   "source": [
    "TEST: Lasst uns vor dem Implementieren der zwei möglichen Werte für ein Ass sicherstellen, dass wir der Hand des Spielers zwei Karten hinzufügen und ihren Wert berechnen können:"
   ]
  },
  {
   "cell_type": "code",
   "execution_count": 6,
   "metadata": {},
   "outputs": [
    {
     "data": {
      "text/plain": [
       "15"
      ]
     },
     "execution_count": 6,
     "metadata": {},
     "output_type": "execute_result"
    }
   ],
   "source": [
    "test_stapel = Stapel()\n",
    "test_stapel.mischen()\n",
    "test_spieler = Hand()\n",
    "test_spieler.karte_hinzufuegen(test_stapel.austeilen())\n",
    "test_spieler.karte_hinzufuegen(test_stapel.austeilen())\n",
    "test_spieler.wert"
   ]
  },
  {
   "cell_type": "markdown",
   "metadata": {},
   "source": [
    "Ausgabe der erzeugten Karten:"
   ]
  },
  {
   "cell_type": "code",
   "execution_count": 7,
   "metadata": {},
   "outputs": [
    {
     "name": "stdout",
     "output_type": "stream",
     "text": [
      "Pik-Fuenf\n",
      "Kreuz-Bube\n"
     ]
    }
   ],
   "source": [
    "for karte in test_spieler.karten:\n",
    "    print(karte)"
   ]
  },
  {
   "cell_type": "markdown",
   "metadata": {},
   "source": [
    "Super! Lasst uns jetzt die Asse angehen. Wenn ein Handwert 21 übersteigt, aber ein Ass enthält, können wir den Wert des Asses von 11 auf 1 reduzieren und fortfahren."
   ]
  },
  {
   "cell_type": "code",
   "execution_count": 8,
   "metadata": {},
   "outputs": [],
   "source": []
  },
  {
   "cell_type": "markdown",
   "metadata": {},
   "source": [
    "Wir haben die Methode karte_hinzufuegen so erweitert, dass der Ass-Zähler self.asse für jedes Ass um 1 erhöht wird. Ausserdem haben wir die Methode asse_einrechnen implementiert, so dass für Asse 1 statt 11 gezählt wird, falls der Wert der Hand sonst über 21 liegt."
   ]
  },
  {
   "cell_type": "markdown",
   "metadata": {},
   "source": [
    "**Schritt 5: Implementiere eine Klasse Chips**<br>\n",
    "Ausser dem Kartenstapel und der Handklasse brauchen wir noch eine Möglichkeit, den Chipstand der Spieler mitzutragen. Das könnte auch mit einer globalen Variablen gelöst werden, aber lasst uns für diese Aufgabe bei einer objektorientierten Implementation bleiben und eine Klasse Chips entwickeln!"
   ]
  },
  {
   "cell_type": "code",
   "execution_count": 9,
   "metadata": {},
   "outputs": [],
   "source": []
  },
  {
   "cell_type": "markdown",
   "metadata": {},
   "source": [
    "HINWEIS ZUM STANDARTWERT:<br>\n",
    "Alternativ könnte ein Standartwert als Parameter in der \\_\\_init\\_\\_ übergeben werden. Das würde es uns erlauben, den Standartwert bei der Erzeugung eines Chips-Objektes zu übergeben wie hier gezeigt:\n",
    "\n",
    "    def __init__(self, gesamt=100):\n",
    "        self.gesamt = gesamt\n",
    "        self.wette = 0\n",
    "\n",
    "Beide Ansätze sind korrekt, es ist nur davon abhängig, wie du die Spielparameter implementieren möchtest."
   ]
  },
  {
   "cell_type": "markdown",
   "metadata": {},
   "source": [
    "### Funktionsdefinitionen\n",
    "Viele der Schritte sind repetitiv. Dabei können uns Funktionen helfen. Die folgenden Schritte sind nur eine Richtlinie - entferne oder ergänze Funktionen je nach Bedarf deines Programmes."
   ]
  },
  {
   "cell_type": "markdown",
   "metadata": {},
   "source": [
    "**Schritt 6: Schreibe eine Funktion zur Annahme von Wetten**<br>\n",
    "Da wir den Nutzer nach einem Integerwert fragen, ist dies eine gute Gelegenheit zur Verwendung von  <code>try</code>/<code>except</code>. Bedenke, dass der Spieler nicht mehr als seinen Chipstand setzen kann!"
   ]
  },
  {
   "cell_type": "code",
   "execution_count": 10,
   "metadata": {},
   "outputs": [],
   "source": []
  },
  {
   "cell_type": "markdown",
   "metadata": {},
   "source": [
    "Wir verwenden hier eine <code>while</code>-Schleife, um den Spieler so lange um eine Eingabe zu bitten, bis diese sowohl Integer ist als auch höchstens der Anzahl verbleibender Chips entspricht. "
   ]
  },
  {
   "cell_type": "markdown",
   "metadata": {},
   "source": [
    "**Schritt 7: Schreibe eine Funktion zum Nehmen weiterer Karten**<br>\n",
    "Jeder Spieler kann Karten nehmen, bis 21 überschritten wird. Diese Funktion wird im Spiel immer dann aufgerufen, wenn ein Spieler eine Karte nehmen will, oder die Hand des Dealers unter 17 liegt. Sie sollte Stapel- und Handobjekte als Parameter annehmen, und eine Karte dem Stapel entnehmen und der Hand hinzufügen. Dabei müssen Asse wie oben beschrieben eingerechnet werden."
   ]
  },
  {
   "cell_type": "code",
   "execution_count": 11,
   "metadata": {},
   "outputs": [],
   "source": []
  },
  {
   "cell_type": "markdown",
   "metadata": {},
   "source": [
    "**Schritt 8: Schreibe eine Funktion, die erfragt, ob der Spieler eine weitere Karte nimmt**<br>\n",
    "Diese Funktion sollte den Stapel und die Hand des Spielers als Parameter annehmen und eine globale Variable <code>spielend</code> zur Kontrolle des Spielflusses beinhalten.<br>\n",
    "Wenn der Spieler nimmt, so ist obige <code>nehmen</code>-Funktion auszuführen. Nimmt der Spieler keine Karte, wird spielend auf False gesetzt - damit wird im weiteren Verlauf eine äußere <code>while</code>-Schleife kontrolliert."
   ]
  },
  {
   "cell_type": "code",
   "execution_count": 12,
   "metadata": {},
   "outputs": [],
   "source": []
  },
  {
   "cell_type": "markdown",
   "metadata": {},
   "source": [
    "**Schritt 9: Schreibe Funktionen zur Anzeige der Karten**<br>\n",
    "Wenn das Spiel beginnt und jedes mal wenn der Spieler eine Karte nimmt, ist die erste Karte des Dealers verborgen und alle Karten des Spielers sichtbar. Nach der Hand werden alle Karten gezeigt, am besten zusammen mit dem Gesamtwert. Schreibe Funktionen für alle diese Szenarien."
   ]
  },
  {
   "cell_type": "code",
   "execution_count": 13,
   "metadata": {},
   "outputs": [],
   "source": []
  },
  {
   "cell_type": "markdown",
   "metadata": {},
   "source": [
    "**Schritt 10: Schreibe Funktionen, um das Spielende zu behandeln**<br>\n",
    "Verwende nach Bedarf die Hand des Spielers, des Dealers und den Chipstand."
   ]
  },
  {
   "cell_type": "code",
   "execution_count": 14,
   "metadata": {},
   "outputs": [],
   "source": []
  },
  {
   "cell_type": "markdown",
   "metadata": {},
   "source": [
    "### Und jetzt zum Spiel!!!"
   ]
  },
  {
   "cell_type": "code",
   "execution_count": null,
   "metadata": {},
   "outputs": [],
   "source": []
  },
  {
   "cell_type": "markdown",
   "metadata": {},
   "source": [
    "Und das war's! Bedenke, diese Schritte können signifikant von deiner eigenen Lösung abweichen. Das ist in Ordnung! Arbeite in den verschiedenen Abschnitten deines Programmes, bis du mit dem Ergebnis zufrieden bist. Das braucht viel Zeit und Geduld!\n",
    "Wende dich bei Fragen und Kommentaren wie immer an unser Forum.\n",
    "\n",
    "# Gut gemacht!"
   ]
  }
 ],
 "metadata": {
  "kernelspec": {
   "display_name": "Python 3",
   "language": "python",
   "name": "python3"
  },
  "language_info": {
   "codemirror_mode": {
    "name": "ipython",
    "version": 3
   },
   "file_extension": ".py",
   "mimetype": "text/x-python",
   "name": "python",
   "nbconvert_exporter": "python",
   "pygments_lexer": "ipython3",
   "version": "3.8.5"
  }
 },
 "nbformat": 4,
 "nbformat_minor": 1
}