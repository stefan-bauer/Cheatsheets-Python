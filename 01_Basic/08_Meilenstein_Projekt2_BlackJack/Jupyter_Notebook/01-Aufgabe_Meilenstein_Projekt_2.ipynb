{
 "cells": [
  {
   "cell_type": "markdown",
   "metadata": {
    "collapsed": true
   },
   "source": [
    "# Meilenstein Projekt 2 - Blackjack\n",
    "\n",
    "Quelle: Datamics\n",
    "\n",
    "In diesem Meilenstein Projekt werdet ihr ein komplettes BlackJack Karten Spiel in Python erstellen.\n",
    "\n",
    "Die Anforderungen sind folgende:\n",
    "\n",
    "* Ihr sollt ein einfaches textbasiertes [BlackJack](https://de.wikipedia.org/wiki/Black_Jack) Spiel haben.\n",
    "* Das Spiel soll einen Spieler gegen einen automatischen Kartenausteiler spielen lassen.\n",
    "* Der Spieler kann warten oder eine Karte nehmen.\n",
    "* Der Spieler muss seinen Einsatz wählen können.\n",
    "* **Ihr müsst** den Gesamtbetrag, den der Spieler hat, im Auge behalten.\n",
    "* **Ihr müsst** den Spieler über Gewinne, Verluste, Pleiten u.ä. informieren.\n",
    "\n",
    "Und am aller wichtigsten:\n",
    "\n",
    "**Ihr müsst OOP und Klassen nutzen, um einige Teile eures Spiel zu erstellen. Ihr könnt nicht einfach nur Funktionen nutzen. Nutzt Klassen, um das Kartendeck und die Hand des Spielers zu definieren. Es gibt viele richtige Wege zum Ziel, erforscht sie!**\n",
    "\n",
    "Wenn ihr möchtet, könnt ihr dieses Projekt ausbauen, indem ihr mehrere Spieler hinzufügt. Oder ihr könntet eine Möglichkeit zum Teilen der Karten einbauen. Ihr dürft alle Quellen benutzen, die ihr möchtet, und denkt immer daran:\n",
    "\n",
    "# Spaß haben!"
   ]
  }
 ],
 "metadata": {
  "kernelspec": {
   "display_name": "Python 3",
   "language": "python",
   "name": "python3"
  },
  "language_info": {
   "codemirror_mode": {
    "name": "ipython",
    "version": 3
   },
   "file_extension": ".py",
   "mimetype": "text/x-python",
   "name": "python",
   "nbconvert_exporter": "python",
   "pygments_lexer": "ipython3",
   "version": "3.8.5"
  }
 },
 "nbformat": 4,
 "nbformat_minor": 2
}