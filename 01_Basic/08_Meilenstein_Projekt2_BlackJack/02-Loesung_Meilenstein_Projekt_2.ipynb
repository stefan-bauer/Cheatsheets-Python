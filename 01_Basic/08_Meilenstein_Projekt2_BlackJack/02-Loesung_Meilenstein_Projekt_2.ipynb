{
 "cells": [
  {
   "cell_type": "markdown",
   "metadata": {
    "collapsed": true
   },
   "source": [
    "# Meilenstein Projekt 2 Lösung\n",
    "\n",
    "Quelle: Datamics\n",
    "\n",
    "Hier findet ihr unsere Lösung zu einer einfachen Version von BlackJack. Achtet auf die Nutzung von OOP und Klassen für die Karten und Hände.\n",
    "\n",
    "Lasst uns damit beginnen einige globale Objekte für die Karten, Tupel und ein Dict zu definieren."
   ]
  },
  {
   "cell_type": "code",
   "execution_count": 1,
   "metadata": {},
   "outputs": [],
   "source": [
    "# Zum Karten mischen genutzt\n",
    "import random\n",
    "\n",
    "# Boolean, die mitschreibt, ob die Hand gespielt wird\n",
    "gespielt = False\n",
    "\n",
    "chip_pool = 100\n",
    "\n",
    "einsatz = 1\n",
    "\n",
    "neustart_satz = \"Drücke 's' um zu spielen oder drücke 'q' zum Beenden.\""
   ]
  },
  {
   "cell_type": "code",
   "execution_count": 2,
   "metadata": {},
   "outputs": [],
   "source": [
    "# Herz, Karo, Kreuz Pik\n",
    "\n",
    "farben = (\"HE\",\"KA\",\"KR\",\"PI\")\n",
    "\n",
    "# Mögliche Kartenhöhe\n",
    "\n",
    "raenge = ('A', '2', '3', '4', '5', '6', '7', '8', '9', '10', 'J', 'Q', 'K')\n",
    "\n",
    "# Punkte Wert Dict (Achtung: Asse können auch 11 sein. Schaut euch für mehr Details self.ass an.)\n",
    "karten_wert = {'A':1, '2':2, '3':3, '4':4, '5':5, '6':6, '7':7, '8':8, '9':9, '10':10, 'J':10, 'Q':10, 'K':10}"
   ]
  },
  {
   "cell_type": "markdown",
   "metadata": {},
   "source": [
    "Jetzt erstelle ich eine Klasse für die Karten. Sie wird eine grundsätzliche ID Funktion haben und einige Funktionen, um die Farbe und den Rang der Karte zu ermitteln."
   ]
  },
  {
   "cell_type": "code",
   "execution_count": 3,
   "metadata": {},
   "outputs": [],
   "source": [
    "# Eine Klasse für die Karten erstellen\n",
    "class Karte:\n",
    "    \n",
    "    def __init__(self,farbe,rang):\n",
    "        self.farbe = farbe\n",
    "        self.rang = rang\n",
    "        \n",
    "    def __str__(self):\n",
    "        return self.farbe + self.rang\n",
    "    \n",
    "    def karten_farbe(self):\n",
    "        return self.farbe\n",
    "    \n",
    "    def karten_rang(self):\n",
    "        return self.rang\n",
    "    \n",
    "    def ziehen(self):\n",
    "        print(self.farbe + self.rang)"
   ]
  },
  {
   "cell_type": "markdown",
   "metadata": {},
   "source": [
    "Als nächstes erstelle ich eine Klasse für die Hand. Sie wird Funktionen haben, um die Ass Situation zu berücksichtigen."
   ]
  },
  {
   "cell_type": "code",
   "execution_count": 4,
   "metadata": {},
   "outputs": [],
   "source": [
    "# Eine Klasse für die Hand erstellen\n",
    "class Hand:\n",
    "    \n",
    "    def __init__(self):\n",
    "        self.karten = []\n",
    "        self.wert = 0\n",
    "        # Asse können 1 oder 11 sein. Wir müssen es hier definieren\n",
    "        self.ass = False\n",
    "        \n",
    "    def __str__(self):\n",
    "        '''Einen String der aktuellen Hand Zusammenstellung ausgeben'''\n",
    "        hand_karten = \"\"\n",
    "        \n",
    "        # Ein besserer Weg das zu tun? Listen Verständnis\n",
    "        for karte in self.karten:\n",
    "            karten_name = karte.__str__()\n",
    "            hand_karten += \" \" + karten_name\n",
    "            \n",
    "        return \"Die Hand hat %s\" %hand_karten\n",
    "    \n",
    "    def karte_ziehen(self,karte):\n",
    "        '''Eine weitere Karte hinzufügen'''\n",
    "        self.karten.append(karte)\n",
    "        \n",
    "        # Ass überprüfen\n",
    "        if karte.rang == \"A\":\n",
    "            self.ass = True\n",
    "        self.wert += karten_wert[karte.rang]\n",
    "        \n",
    "    def kalk_wert(self):\n",
    "        '''Den Wert der Hand berechnen. Gib Ass den Wert 11, wenn die Karten nicht abgelegt werden.'''\n",
    "\n",
    "        if (self.ass == True and self.wert < 12):\n",
    "            return self.wert + 10\n",
    "        else:\n",
    "            return self.wert\n",
    "        \n",
    "    def ziehen(self, verborgen):\n",
    "        if verborgen == True and gespielt == True:\n",
    "            # Zeige die erste verborgene Karte nicht\n",
    "            start_karte = 1\n",
    "        else:\n",
    "            start_karte = 0\n",
    "        for x in range(start_karte,len(self.karten)):\n",
    "            self.karten[x].ziehen()"
   ]
  },
  {
   "cell_type": "markdown",
   "metadata": {},
   "source": [
    "Jetzt erstelle ich noch eine Klasse für das Deck."
   ]
  },
  {
   "cell_type": "code",
   "execution_count": 5,
   "metadata": {},
   "outputs": [],
   "source": [
    "class Deck:\n",
    "    \n",
    "    def __init__(self):\n",
    "        '''Ein Deck in der Reihenfolge erstellen'''\n",
    "        self.deck = []\n",
    "        for farbe in farben:\n",
    "            for rang in raenge:\n",
    "                self.deck.append(Karte(farbe,rang))\n",
    "                \n",
    "    def mischen(self):\n",
    "        '''Das Deck mischen, wofür Python eine Methode bietet.'''\n",
    "        random.shuffle(self.deck)\n",
    "        \n",
    "    def austeilen(self):\n",
    "        '''Das erste Element im Deck nehmen'''\n",
    "        einzelne_karte = self.deck.pop()\n",
    "        return einzelne_karte\n",
    "    \n",
    "    def __str__(self):\n",
    "        deck_zsmstlg = \"\"\n",
    "        for karte in self.karten:\n",
    "            deck += \" \" + deck_zsmstlg.__str__()\n",
    "            \n",
    "        return \"Das Deck hat\" + deck_zsmstlg"
   ]
  },
  {
   "cell_type": "markdown",
   "metadata": {},
   "source": [
    "Jetzt wo wir die Klassen erstellt haben, kommt der coole Teil: das tatsächliche Spiel!\n",
    "\n",
    "Zunächst: Einen Einsatz machen. Überprüfen, ob der Einsatz eine Ganzzahl (Integer) ist."
   ]
  },
  {
   "cell_type": "code",
   "execution_count": 6,
   "metadata": {},
   "outputs": [],
   "source": [
    "# Erster Einsatz\n",
    "\n",
    "def einsatz_machen():\n",
    "    '''Den Spieler nach seinem Einsatz fragen'''\n",
    "    \n",
    "    global einsatz\n",
    "    einsatz = 0\n",
    "    \n",
    "    print(\"Wie viele Ihrer \" + str(chip_pool) + \" Chips möchten Sie setzen? (Ganzzahl eingeben)\")\n",
    "    \n",
    "    # While Schleife, um bis zu erfolgreicher Eingabe weiter zu fragen\n",
    "    while einsatz == 0:\n",
    "        einsatz_zsmstlg = input() # Wir nutzen einsatz_zsmstlg als Überprüfer\n",
    "        einsatz_zsmstlg = int(einsatz_zsmstlg)\n",
    "        # Überprüfen, ob der Einsatz noch verfügbar ist\n",
    "        if einsatz_zsmstlg >= 1 and einsatz_zsmstlg <= chip_pool:\n",
    "            einsatz = einsatz_zsmstlg\n",
    "        else:\n",
    "            print(\"Ungültiger Einsatz, Sie haben nur \" + str(chip_pool) + \" übrig.\")"
   ]
  },
  {
   "cell_type": "markdown",
   "metadata": {},
   "source": [
    "Nun können wir eine Funktion erstellen, die das Spiel aufsetzt und Karten austeilt."
   ]
  },
  {
   "cell_type": "code",
   "execution_count": 7,
   "metadata": {},
   "outputs": [],
   "source": [
    "def karten_austeilen():\n",
    "    '''Diese Funktion teilt Karten aus und startet die Runde'''\n",
    "    \n",
    "    # Alle globalen Variablen einstellen\n",
    "    global ergebnis, gespielt, deck, spieler_hand, dealer_hand, chip_pool, einsatz\n",
    "    \n",
    "    # Ein Deck erstellen\n",
    "    deck = Deck()\n",
    "    \n",
    "    # Das Deck mischen\n",
    "    deck.mischen()\n",
    "    \n",
    "    # Einen Einsatz machen\n",
    "    einsatz_machen()\n",
    "    \n",
    "    # Spieler und Dealer Hand einrichten\n",
    "    spieler_hand = Hand()\n",
    "    dealer_hand = Hand()\n",
    "    \n",
    "    # Erste Karten austeilen\n",
    "    spieler_hand.karte_ziehen(deck.austeilen())\n",
    "    spieler_hand.karte_ziehen(deck.austeilen())\n",
    "    \n",
    "    dealer_hand.karte_ziehen(deck.austeilen())\n",
    "    dealer_hand.karte_ziehen(deck.austeilen())\n",
    "    \n",
    "    ergebnis = \"Halten oder nehmen? Drücke entweder h oder n!\"\n",
    "    \n",
    "    if gespielt == True:\n",
    "        print(\"Fold, Entschuldige\")\n",
    "        chip_pool -= einsatz\n",
    "        \n",
    "    # \n",
    "    gespielt = True\n",
    "    spiel_schritt()"
   ]
  },
  {
   "cell_type": "markdown",
   "metadata": {},
   "source": [
    "Jetzt erstelle ich die *nehmen* und *halten* Funktion."
   ]
  },
  {
   "cell_type": "code",
   "execution_count": 8,
   "metadata": {},
   "outputs": [],
   "source": [
    "def nehmen():\n",
    "    \n",
    "    '''Den nehmen Button implementieren'''\n",
    "    \n",
    "    # Alle globalen Variablen einstellen\n",
    "    global ergebnis, gespielt, deck, spieler_hand, dealer_hand, chip_pool, einsatz\n",
    "    \n",
    "    # Wenn Hand gespielt wird ziehe Karte\n",
    "    if gespielt: \n",
    "        if spieler_hand.kalk_wert() <=21:\n",
    "            spieler_hand.karte_ziehen(deck.austeilen())\n",
    "            \n",
    "        print(\"Spieler Hand ist %s\" %spieler_hand)\n",
    "        \n",
    "        if spieler_hand.kalk_wert() > 21:\n",
    "            ergebnis = \"Verloren!\" + neustart_satz\n",
    "            \n",
    "            chip_pool -= einsatz\n",
    "            gespielt = False\n",
    "            \n",
    "        else:\n",
    "            ergebnis = \"Entschuldigung, kann nicht nehmen\\n\" + neustart_satz\n",
    "            \n",
    "        spiel_schritt()"
   ]
  },
  {
   "cell_type": "code",
   "execution_count": 9,
   "metadata": {},
   "outputs": [],
   "source": [
    "def halten():\n",
    "    \n",
    "    # Alle globalen Variablen einstellen\n",
    "    global ergebnis, gespielt, deck, spieler_hand, dealer_hand, chip_pool, einsatz\n",
    "    \n",
    "    if gespielt == False:\n",
    "        if spieler_hand.kalk_wert() > 0:\n",
    "            ergebnis = \"Sorry, du kannst nicht halten!\"\n",
    "            \n",
    "    # Jetzt überprüfen wir alle anderen Regeln\n",
    "    else:\n",
    "        \n",
    "        # Softe 17 Regel\n",
    "        while dealer_hand.kalk_wert() < 17:\n",
    "            dealer_hand.karte_ziehen(deck.austeilen())\n",
    "        \n",
    "        # Dealer überzieht\n",
    "        if dealer_hand.kalk_wert() > 21:\n",
    "            ergebnis = \"Dealer hat überzogen! Du gewinnst!\\n\" + neustart_satz\n",
    "            chip_pool += einsatz\n",
    "            gespielt = False\n",
    "        \n",
    "        # Spieler hat bessere Hand als Dealer\n",
    "        elif dealer_hand.kalk_wert() < spieler_hand.kalk_wert():\n",
    "            ergebnis = \"Du besiegst den Dealer, du gewinnst!\\n\" + neustart_satz\n",
    "            chip_pool += einsatz\n",
    "            gespielt = False\n",
    "        \n",
    "        # Unentschieden\n",
    "        elif dealer_hand.kalk_wert() == spieler_hand.kalk_wert():\n",
    "            ergebnis = \"Unentschieden, weiter geht's\" + neustart_satz\n",
    "            gespielt = False\n",
    "        \n",
    "        # Dealer besiegt Spieler\n",
    "        else:\n",
    "            ergebnis = \"Dealer gewinnt!\" + neustart_satz\n",
    "            chip_pool -= einsatz\n",
    "            gespielt = False\n",
    "        \n",
    "    spiel_schritt()"
   ]
  },
  {
   "cell_type": "markdown",
   "metadata": {},
   "source": [
    "Funktion, die das Ergebnis ausgibt und den Spieler nach dem nächsten Schritt fragt."
   ]
  },
  {
   "cell_type": "code",
   "execution_count": 10,
   "metadata": {},
   "outputs": [],
   "source": [
    "def spiel_schritt():\n",
    "    '''Funktion die den Spielschritt/Status ausgibt'''\n",
    "    \n",
    "    # Spieler Hand anzeigen\n",
    "    print(\"\")\n",
    "    print(\"Die Hand des Spielers ist:\"),\n",
    "    spieler_hand.ziehen(verborgen = False)\n",
    "    \n",
    "    print(\"Die Hand des Spielers beträgt: \" + str(spieler_hand.kalk_wert()))\n",
    "    \n",
    "    # Dealer Hand anzeigen\n",
    "    print(\"Die Hand des Dealers ist:\"),\n",
    "    dealer_hand.ziehen(verborgen = True)\n",
    "    \n",
    "    # Wenn eine Spielrunde vorbei ist\n",
    "    if gespielt == False:\n",
    "        print(\"--- für ein Ergebnis von \" + str(dealer_hand.kalk_wert() ))\n",
    "        print(\"Chip Summe: \" + str(chip_pool))\n",
    "    # Andernfalls wissen wir die zweite Karte noch nicht\n",
    "    else:\n",
    "        print(\" mit einer weiteren verdeckten Karte\")\n",
    "    \n",
    "    # Gebe das Ergebnis von halten oder nehmen\n",
    "    print(ergebnis)\n",
    "    \n",
    "    spieler_eingabe()"
   ]
  },
  {
   "cell_type": "markdown",
   "metadata": {},
   "source": [
    "Funktion, um das Spiel zu beenden:"
   ]
  },
  {
   "cell_type": "code",
   "execution_count": 11,
   "metadata": {},
   "outputs": [],
   "source": [
    "def spiel_ende():\n",
    "    print(\"Danke für's Spielen!\")\n",
    "    exit()"
   ]
  },
  {
   "cell_type": "markdown",
   "metadata": {},
   "source": [
    "Funktion, die die Spielerhandlung abfragt:"
   ]
  },
  {
   "cell_type": "code",
   "execution_count": 12,
   "metadata": {},
   "outputs": [],
   "source": [
    "def spieler_eingabe():\n",
    "    '''Lese die Eingabe des Nutzers'''\n",
    "    spein = input().lower()\n",
    "    \n",
    "    if spein == \"n\":\n",
    "        nehmen()\n",
    "    elif spein == \"h\":\n",
    "        halten()\n",
    "    elif spein == \"s\":\n",
    "        karten_austeilen()\n",
    "    elif spein == \"q\":\n",
    "        spiel_ende()\n",
    "    else:\n",
    "        print(\"Ungültige Eingabe... Gebe n,h,s oder q ein:\")\n",
    "        spieler_eingabe()"
   ]
  },
  {
   "cell_type": "markdown",
   "metadata": {},
   "source": [
    "Kleines Intro zum Spiel:"
   ]
  },
  {
   "cell_type": "code",
   "execution_count": 13,
   "metadata": {},
   "outputs": [],
   "source": [
    "def intro():\n",
    "    aussage = '''Willkommen zu BlackJack! Komme so nah wie möglich an 21, ohne drüber zu liegen!\n",
    "    Dealer nehmen, bis sie 17 erreichen. Asse zählen als 1 oder 11. \n",
    "    '''\n",
    "    print(aussage)"
   ]
  },
  {
   "cell_type": "markdown",
   "metadata": {},
   "source": [
    "Jetzt können wir spielen!"
   ]
  },
  {
   "cell_type": "code",
   "execution_count": null,
   "metadata": {},
   "outputs": [],
   "source": [
    "'''Der folgende Code wird das Spiel ausführen. Alle Code Zellen müssen zuvor ausgeführt werden!'''\n",
    "\n",
    "# Ein Deck erstellenb\n",
    "deck = Deck()\n",
    "# Deck mischen\n",
    "deck.mischen()\n",
    "# Spieler und Dealer Hand erstellen\n",
    "spieler_hand = Hand()\n",
    "dealer_hand = Hand()\n",
    "# Gebe das Intro aus\n",
    "intro()\n",
    "# Karten austeilen und Spiel starten\n",
    "karten_austeilen()"
   ]
  },
  {
   "cell_type": "code",
   "execution_count": null,
   "metadata": {},
   "outputs": [],
   "source": []
  }
 ],
 "metadata": {
  "kernelspec": {
   "display_name": "Python 3",
   "language": "python",
   "name": "python3"
  },
  "language_info": {
   "codemirror_mode": {
    "name": "ipython",
    "version": 3
   },
   "file_extension": ".py",
   "mimetype": "text/x-python",
   "name": "python",
   "nbconvert_exporter": "python",
   "pygments_lexer": "ipython3",
   "version": "3.8.5"
  }
 },
 "nbformat": 4,
 "nbformat_minor": 2
}