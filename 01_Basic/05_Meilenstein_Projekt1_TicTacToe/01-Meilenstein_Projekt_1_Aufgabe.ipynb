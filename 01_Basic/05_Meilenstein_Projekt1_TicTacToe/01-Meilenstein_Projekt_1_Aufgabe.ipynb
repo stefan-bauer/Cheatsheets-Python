{
 "cells": [
  {
   "cell_type": "markdown",
   "metadata": {
    "collapsed": true
   },
   "source": [
    "# Meilenstein Projekt 1\n",
    "\n",
    "Quelle: Datamics\n",
    "\n",
    "### Herzlichen Glückwunsch, ihr habt es bis zum ersten Meilenstein geschafft!\n",
    "\n",
    "Ihr habt bereits sehr viel gelernt und seid bereit für ein erstes echtes Projekt!\n",
    "\n",
    "Eure Aufgabe: Ein [Tic Tac Toe](https://de.wikipedia.org/wiki/Tic-Tac-Toe) Spiel zu erstellen. Ihr könnt dazu jedes IDE benutzen, das ihr mögt. \n",
    "\n",
    "Hier sind die Anforderungen:\n",
    "\n",
    "* 2 Spieler sollten abwechselnd einen Zug machen können (am selben Computer sitzend).\n",
    "* Das Spielfeld sollte jedes Mal aktualisiert werden, sobald ein Spieler einen Zug gemacht hat.\n",
    "* Ihr solltet die Eingabe eines Spielers in eine Kennzeichnung auf dem Spielfeld wandeln\n",
    "\n",
    "Ihr dürft zum Lösen dieser Aufgabe gerne Google verwenden. Dabei nehmt ihr euch allerdings den Lerngehalt dieser Aufgabe, wenn ihr einfach \"Tic Tac Toe in Python\" googlt. Sucht lieber nach speziellen Anwendungsfragen. Wie lange die Bearbeitung dauert hängt ganz von euch ab und wie viel Zeit ihr investieren könnt.\n",
    "\n",
    "Es gibt 4 Notebooks, die zu diesem Meilensteinprojekt gehören:\n",
    "\n",
    "* Dieses Aufgaben Notebook\n",
    "* Das \"Schritt-für-Schritt\" Notebook\n",
    "* Das \"Schritt-für-Schritt\" Lösungs-Notebook\n",
    "* Das \"Fortgeschrittene Lösung\" Notebook\n",
    "\n",
    "Ich ermutige euch dazu, es erst einmal ganz ohne weitere Hilfe zu versuchen. Solltet ihr an einem Punkt nicht weiter kommt, dann könnt ihr in der nächsten Lektion, die eine Text Lektion ist, wertvolle Tipps erhalten. Wenn ihr danach weiterhin nicht weiterkommt, dann könnt ihr in das \"Schritt-für-Schritt\" Notebook schauen. Es unterteilt die Aufgabe in Sinneinheiten, die ihr dann selbstständig bearbeiten könnt. Schließlich könnt ihr euch noch das Lösungs-Video und/oder Notebook zur \"Schritt-für-Schritt\" Anleitung anschauen!\n",
    "\n",
    "Vermutlich werden manche Teile dieser Aufgabe eine echte Herausforderung...aber das ist gut! Ich habe vollstes Vertrauen, dass ihr die Aufgabe lösen könnt, jetzt wo ihr schon so weit gekommen seid. Ihr habt alle Tools und alles Wissen erworben, das ihr für die Lösung benötigt. Denkt daran, ihr dürft nach Hilfe schauen! Also nehmt euch die Zeit, macht ein wenig Recherche und vor allem:\n",
    "\n",
    "## Habt Spaß!"
   ]
  },
  {
   "cell_type": "code",
   "execution_count": null,
   "metadata": {},
   "outputs": [],
   "source": []
  }
 ],
 "metadata": {
  "kernelspec": {
   "display_name": "Python 3",
   "language": "python",
   "name": "python3"
  },
  "language_info": {
   "codemirror_mode": {
    "name": "ipython",
    "version": 3
   },
   "file_extension": ".py",
   "mimetype": "text/x-python",
   "name": "python",
   "nbconvert_exporter": "python",
   "pygments_lexer": "ipython3",
   "version": "3.8.5"
  }
 },
 "nbformat": 4,
 "nbformat_minor": 2
}