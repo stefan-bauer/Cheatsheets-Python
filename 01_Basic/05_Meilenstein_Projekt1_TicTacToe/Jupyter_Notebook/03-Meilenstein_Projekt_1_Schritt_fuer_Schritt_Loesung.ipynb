{
 "cells": [
  {
   "cell_type": "markdown",
   "metadata": {},
   "source": [
    "# Meilenstein Projekt 1: Schritt-für-Schritt Notebook\n",
    "\n",
    "Quelle: Datamics\n",
    "\n",
    "Hier findet ihr die gelösten Schritte, um zu unserem fertigen Spiel zu gelangen.\n",
    "\n",
    "**Schritt 1**: Schreibt eine Funktion, die das Spielfeld ausgeben kann. Setzt euer Spielfeld als Liste auf, deren Indizes 1-9 mit den Nummern auf dem Zahlenfeld korrespondieren. So erhaltet ihr ein 3 x 3 Feld."
   ]
  },
  {
   "cell_type": "code",
   "execution_count": 1,
   "metadata": {},
   "outputs": [],
   "source": [
    "from IPython.display import clear_output\n",
    "def spielfeld_anzeigen(spielfeld):\n",
    "    \n",
    "    clear_output()\n",
    "    print('   |   |')\n",
    "    print(' ' + spielfeld[7] + ' | ' + spielfeld[8] + ' | ' + spielfeld[9])\n",
    "    print('   |   |')\n",
    "    print('-----------')\n",
    "    print('   |   |')\n",
    "    print(' ' + spielfeld[4] + ' | ' + spielfeld[5] + ' | ' + spielfeld[6])\n",
    "    print('   |   |')\n",
    "    print('-----------')\n",
    "    print('   |   |')\n",
    "    print(' ' + spielfeld[1] + ' | ' + spielfeld[2] + ' | ' + spielfeld[3])\n",
    "    print('   |   |')"
   ]
  },
  {
   "cell_type": "markdown",
   "metadata": {},
   "source": [
    "**Schritt 2**: Schreibe eine Funktion, die die Eingabe des Spielers aufnehmen kann und deren Markierung als 'X' oder 'O' zuweist. Ihr könntet bspw. eine while Schleife verwenden, um so lange zu fragen, bis eine korrekte Antwort gegeben wurde.\n",
    "\n",
    "*Tipp*: Nutzereingaben kann man mit der Funktion `input()` abfragen. Mehr erfahrt ihr in der [Dokumentation](https://docs.python.org/3/library/functions.html#input)."
   ]
  },
  {
   "cell_type": "code",
   "execution_count": 2,
   "metadata": {},
   "outputs": [],
   "source": [
    "def spieler_eingabe():\n",
    "    \n",
    "    markierung = ''\n",
    "    while not (markierung == 'X' or markierung == 'O'):\n",
    "        markierung = input('Spieler 1: Willst du X oder O sein?').upper()\n",
    "\n",
    "    if markierung == 'X':\n",
    "        return ('X', 'O')\n",
    "    else:\n",
    "        return ('O', 'X')"
   ]
  },
  {
   "cell_type": "markdown",
   "metadata": {},
   "source": [
    "**Schritt 3**: Schreibe eine Funktion, die im Spielfeld Listen Objekt eine Markierung ('X' oder 'O') und eine gewünschte Position (Nummer 1-9) nimmt, und sie dem Spielfeld zuweist."
   ]
  },
  {
   "cell_type": "code",
   "execution_count": 3,
   "metadata": {},
   "outputs": [],
   "source": [
    "def markierung_setzen(spielfeld, markierung, position):\n",
    "    \n",
    "    spielfeld[position] = markierung"
   ]
  },
  {
   "cell_type": "markdown",
   "metadata": {},
   "source": [
    "**Schritt 4**: Schreibt eine Funktion, die das Spielfeld und eine Markierung ('X' oder 'O') nimmt, und überprüft, ob diese Markierung gewonnen hat."
   ]
  },
  {
   "cell_type": "code",
   "execution_count": 4,
   "metadata": {},
   "outputs": [],
   "source": [
    "def sieg_check(spielfeld, markierung):\n",
    "    \n",
    "    return ((spielfeld[7] == markierung and spielfeld[8] == markierung and spielfeld[9] == markierung) or # oben\n",
    "    (spielfeld[4] == markierung and spielfeld[5] == markierung and spielfeld[6] == markierung) or # mitte\n",
    "    (spielfeld[1] == markierung and spielfeld[2] == markierung and spielfeld[3] == markierung) or # unten\n",
    "    (spielfeld[7] == markierung and spielfeld[4] == markierung and spielfeld[1] == markierung) or # linke seite runter\n",
    "    (spielfeld[8] == markierung and spielfeld[5] == markierung and spielfeld[2] == markierung) or # mitte runter\n",
    "    (spielfeld[9] == markierung and spielfeld[6] == markierung and spielfeld[3] == markierung) or # rechte seite runter\n",
    "    (spielfeld[7] == markierung and spielfeld[5] == markierung and spielfeld[3] == markierung) or # diagonal\n",
    "    (spielfeld[9] == markierung and spielfeld[5] == markierung and spielfeld[1] == markierung)) # diagonal"
   ]
  },
  {
   "cell_type": "markdown",
   "metadata": {},
   "source": [
    "**Schritt 5**: Schreibt eine Funktion, die das random Modul nutzt, um zufällig zu entscheiden, welcher Spieler beginnen darf. Ihr könntet dazu random.randint() nachschlagen. Gebt einen String aus, der anzeigt, welcher Spieler beginnen darf."
   ]
  },
  {
   "cell_type": "code",
   "execution_count": 5,
   "metadata": {},
   "outputs": [],
   "source": [
    "import random\n",
    "def beginner():\n",
    "    if random.randint(0, 1) == 0:\n",
    "        return 'Spieler 2'\n",
    "    else:\n",
    "        return 'Spieler 1'"
   ]
  },
  {
   "cell_type": "markdown",
   "metadata": {},
   "source": [
    "**Schritt 6**: Schreibt eine Funktion, die überprüft, ob eine Position frei ist und einen Boolean Wert ausgibt."
   ]
  },
  {
   "cell_type": "code",
   "execution_count": 6,
   "metadata": {},
   "outputs": [],
   "source": [
    "def platz_check(spielfeld, position):\n",
    "    \n",
    "    return spielfeld[position] == ' '"
   ]
  },
  {
   "cell_type": "markdown",
   "metadata": {},
   "source": [
    "**Schritt 7**: Schreibt eine Funktion, die überprüft, ob das Spielfeld voll besetzt ist. Ist dies der Fall, soll True ausgegeben werden."
   ]
  },
  {
   "cell_type": "code",
   "execution_count": 7,
   "metadata": {},
   "outputs": [],
   "source": [
    "def spielfeld_voll(spielfeld):\n",
    "    for i in range(1,10):\n",
    "        if platz_check(spielfeld, i):\n",
    "            return False\n",
    "    return True"
   ]
  },
  {
   "cell_type": "markdown",
   "metadata": {},
   "source": [
    "**Schritt 8**: Schreibt eine Funktion, die den Spieler nach seiner nächsten Position (Nummer 1-9) fragt. Dann soll die Funktion aus Schritt 6 genutzt werden, um zu kontrollieren, ob diese noch frei ist. Sofern sie frei ist, soll die Position für spätere Nutzung übergeben werden."
   ]
  },
  {
   "cell_type": "code",
   "execution_count": 8,
   "metadata": {},
   "outputs": [],
   "source": [
    "def spieler_wahl(spielfeld):\n",
    "    # Wegen des Inputs nutzen wir Strings\n",
    "    position = ' '\n",
    "    while position not in '1 2 3 4 5 6 7 8 9'.split() or not platz_check(spielfeld, int(position)):\n",
    "        \n",
    "        position = input('Wähle deine nächste Position: (1-9) ')\n",
    "    return int(position)"
   ]
  },
  {
   "cell_type": "markdown",
   "metadata": {},
   "source": [
    "**Schritt 9**: Schreibt eine Funktion, die die Spieler fragt, ob sie erneut spielen wollen. Tuen sie das, soll True übergeben werden."
   ]
  },
  {
   "cell_type": "code",
   "execution_count": 9,
   "metadata": {},
   "outputs": [],
   "source": [
    "def neues_spiel():\n",
    "    return input('Wollt ihr erneut spielen? Gebt Ja oder Nein ein: ').lower().startswith('j')"
   ]
  },
  {
   "cell_type": "markdown",
   "metadata": {},
   "source": [
    "**Schritt 10**: Jetzt kommt der schwierigste Teil. Nutzt while Schleifen und die Funktion, die ihr bereits erstellt habt, um das Spiel auszuführen!"
   ]
  },
  {
   "cell_type": "code",
   "execution_count": null,
   "metadata": {},
   "outputs": [],
   "source": [
    "print(\"Willkommen bei Tic Tac Toe!\")\n",
    "\n",
    "while True:\n",
    "    # Das Spielfeld zurücksetzen\n",
    "    dasFeld = [' '] * 10\n",
    "    spieler1_markierung, spieler2_markierung = spieler_eingabe()\n",
    "    zug = beginner()\n",
    "    print(zug + \" darf beginnen.\")\n",
    "    spiel_laeuft = True\n",
    "    \n",
    "    while spiel_laeuft:\n",
    "        if zug == \"Spieler 1\":\n",
    "            # Zug von Spieler 1\n",
    "            \n",
    "            spielfeld_anzeigen(dasFeld)\n",
    "            position = spieler_wahl(dasFeld)\n",
    "            markierung_setzen(dasFeld, spieler1_markierung, position)\n",
    "            \n",
    "            if sieg_check(dasFeld, spieler1_markierung):\n",
    "                spielfeld_anzeigen(dasFeld)\n",
    "                print(\"Glückwunsch! Du hast gewonnen!\")\n",
    "                spiel_laeuft = False\n",
    "            else:\n",
    "                if spielfeld_voll(dasFeld):\n",
    "                    spielfeld_anzeigen(dasFeld)\n",
    "                    print(\"Dieses Spiel ist ein Unentschieden!\")\n",
    "                    break\n",
    "                else:\n",
    "                    zug = \"Spieler 2\"\n",
    "        else:\n",
    "            # Zug von Spieler 2\n",
    "            \n",
    "            spielfeld_anzeigen(dasFeld)\n",
    "            position = spieler_wahl(dasFeld)\n",
    "            markierung_setzen(dasFeld, spieler2_markierung, position)\n",
    "            \n",
    "            if sieg_check(dasFeld, spieler2_markierung):\n",
    "                spielfeld_anzeigen(dasFeld)\n",
    "                print(\"Glückwunsch! Du hast gewonnen!\")\n",
    "                spiel_laeuft = False\n",
    "            else:\n",
    "                if spielfeld_voll(dasFeld):\n",
    "                    spielfeld_anzeigen(dasFeld)\n",
    "                    print(\"Dieses Spiel ist ein Unentschieden!\")\n",
    "                    break\n",
    "                else:\n",
    "                    zug = \"Spieler 1\"\n",
    "                    \n",
    "    if not neues_spiel():\n",
    "        break"
   ]
  },
  {
   "cell_type": "markdown",
   "metadata": {},
   "source": [
    "## Gut gemacht!"
   ]
  }
 ],
 "metadata": {
  "kernelspec": {
   "display_name": "Python 3",
   "language": "python",
   "name": "python3"
  },
  "language_info": {
   "codemirror_mode": {
    "name": "ipython",
    "version": 3
   },
   "file_extension": ".py",
   "mimetype": "text/x-python",
   "name": "python",
   "nbconvert_exporter": "python",
   "pygments_lexer": "ipython3",
   "version": "3.8.5"
  }
 },
 "nbformat": 4,
 "nbformat_minor": 2
}