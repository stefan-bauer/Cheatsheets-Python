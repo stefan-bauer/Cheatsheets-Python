{
 "cells": [
  {
   "cell_type": "markdown",
   "metadata": {
    "collapsed": true
   },
   "source": [
    "# Dekoratoren Aufgabe (optional)\n",
    "\n",
    "Quelle: Datamics\n",
    "\n",
    "Da ihr Dekoratoren eigentlich erst wieder später in eurer Code-Karriere begegnen werdet, ist diese Hausaufgabe optional.\n",
    "Ihr könnt euch dazu das Web Framework [Flask](http://flask.pocoo.org/) anschauen. Ihr könnt Flask benutzen, um Webseiten mit Python zu erstellen - vorausgesetzt ihr kennt ein bisschen HTML und CSS. Und Flask nutzt Dekoratoren sehr viel. Lernt z.B. wie sie [view decorators](http://flask.pocoo.org/docs/0.12/patterns/viewdecorators/) einsetzen.\n",
    "\n",
    "Keine Sorge, falls ihr nicht alles direkt versteht. Die Hauptsache dieser Hausaufgabe ist es, ein Bewusstsein für Dekoratoren in Web Frameworks zu haben. Falls ihr euch also entscheidet ein \"richtiger Hardcore Python Webentwickler\" zu werden, dann kennt ihr Dekoratoren bereits.\n",
    "\n",
    "Alternativ könnt ihr euch auch [Django](https://www.djangoproject.com/) anschauen. Ein weiteres Web Framework, das auf Python basiert, allerdings etwas komplizierter ist.\n",
    "\n",
    "Als zusätzliche Informationen:\n",
    "\n",
    "Ein Framework ist eine Art Software Library die generische Funktionalität bietet, die durch den Programmierer erweitert werden kann, um Anwendungen zu erstellen. Flask und Django sind gute Beispiele für Frameworks, die zur Web Entwicklung gedacht sind.\n",
    "\n",
    "Ein Framework unterscheidet sich darüber hinaus von einer einfachen Library oder API. Eine API ist ein Stück Software, dass es ein Entwickler innerhalb seiner Anwendung nutzen kann. Ein Framework umfasst mehr: die komplette Anwendung wird darum strukturiert. \n",
    "\n",
    "### Gute Arbeit!"
   ]
  }
 ],
 "metadata": {
  "kernelspec": {
   "display_name": "Python 3",
   "language": "python",
   "name": "python3"
  },
  "language_info": {
   "codemirror_mode": {
    "name": "ipython",
    "version": 3
   },
   "file_extension": ".py",
   "mimetype": "text/x-python",
   "name": "python",
   "nbconvert_exporter": "python",
   "pygments_lexer": "ipython3",
   "version": "3.8.5"
  }
 },
 "nbformat": 4,
 "nbformat_minor": 2
}