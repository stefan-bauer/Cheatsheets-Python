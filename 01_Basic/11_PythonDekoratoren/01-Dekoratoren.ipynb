{
 "cells": [
  {
   "cell_type": "markdown",
   "metadata": {
    "collapsed": true
   },
   "source": [
    "# Dekoratoren\n",
    "\n",
    "Quelle: Datamics\n",
    "\n",
    "Dekoratoren (en.: Decorators) gehören zu den leistungsstärksten Design-Möglichkeiten für Python-Programme und Skripts. \n",
    "\n",
    "Dabei unterscheidet man in Python zwei Arten von Dekoratoren:\n",
    "1. Funktions-Dekoratoren\n",
    "2. Klassen-Dekoratoren\n",
    "\n",
    "Dekoratoren können als Python Objekte verstanden werden, die die Funktionalität anderer Funktionen verändern. Es wird dabei eine Funktion oder Klasse an den Dekorator übergeben, welcher eine Modifizierte Version davon zurückspielt. So helfen sie dabei, den Code zu verkürzen. \n",
    "\n",
    "Es ist an dieser Stelle angebracht eine kleine Unterscheidung vorzunehmen: Die Verwendung von Dekoratoren ist sehr einfach. Ihre Erstellung hingegen kann zunächst kompliziert erscheinen.\n",
    "\n",
    "Es kommt beim ersten Kontakt mit Dekoratoren in Python häufiger zu Problemen, weshalb wir uns für eine kleine Wiederholung entschieden haben. Um Dekoratoren ausreichend zu erklären, werden wir langsam auf Funktionen aufbauen.\n",
    "\n",
    "*Versichert euch dabei, Python und die Notebooks neu zu starten, damit sie genau so aussehen.*\n",
    "\n",
    "Hier unsere ersten Schritte:\n",
    "\n",
    "## Funktionen Wiederholung"
   ]
  },
  {
   "cell_type": "code",
   "execution_count": 1,
   "metadata": {
    "collapsed": true
   },
   "outputs": [],
   "source": [
    "def funk():\n",
    "    return 1"
   ]
  },
  {
   "cell_type": "code",
   "execution_count": 3,
   "metadata": {},
   "outputs": [
    {
     "data": {
      "text/plain": [
       "1"
      ]
     },
     "execution_count": 3,
     "metadata": {},
     "output_type": "execute_result"
    }
   ],
   "source": [
    "funk()"
   ]
  },
  {
   "cell_type": "markdown",
   "metadata": {},
   "source": [
    "## Geltungsbereich Wiederholung\n",
    "\n",
    "Erinnert euch an die Lektion zu verschachtelte Anweisungen und daran, dass Python den Geltungsbereich nutzt, um zu wissen, worauf sich ein Name bezieht. Zum Beispiel:"
   ]
  },
  {
   "cell_type": "code",
   "execution_count": 6,
   "metadata": {
    "collapsed": true
   },
   "outputs": [],
   "source": [
    "s = \"Globale Variable\"\n",
    "\n",
    "def funk():\n",
    "    print(locals())"
   ]
  },
  {
   "cell_type": "markdown",
   "metadata": {},
   "source": [
    "Beachtet, dass Python Funktionen einen neuen Geltungsbereich schaffen. D.h. die Funktionen haben ihren eigenen Namensbereich, den sie auf Namen überprüfen, wenn diese innerhalb der Funktion genannt werden. Wir können überprüfen, welche lokalen und globalen Variablen aktuell definiert sind, indem wir locals() und globals() verwenden. Zum Beispiel:"
   ]
  },
  {
   "cell_type": "code",
   "execution_count": 7,
   "metadata": {},
   "outputs": [
    {
     "name": "stdout",
     "output_type": "stream",
     "text": [
      "{'__name__': '__main__', '__doc__': 'Automatically created module for IPython interactive environment', '__package__': None, '__loader__': None, '__spec__': None, '__builtin__': <module 'builtins' (built-in)>, '__builtins__': <module 'builtins' (built-in)>, '_ih': ['', 'def funk():\\n    return 1', 'func()', 'funk()', 's = \"Globale Variable\"\\n\\ndef funk():', 's = \"Globale Variable\"\\n\\ndef funk():\\n    print locals()', 's = \"Globale Variable\"\\n\\ndef funk():\\n    print(locals())', 'print(globals())'], '_oh': {3: 1}, '_dh': ['/Users/davidmika/Github/komplettes-python-bootcamp'], '_sh': <module 'IPython.core.shadowns' from '/Users/davidmika/anaconda/envs/python3/lib/python3.6/site-packages/IPython/core/shadowns.py'>, 'In': ['', 'def funk():\\n    return 1', 'func()', 'funk()', 's = \"Globale Variable\"\\n\\ndef funk():', 's = \"Globale Variable\"\\n\\ndef funk():\\n    print locals()', 's = \"Globale Variable\"\\n\\ndef funk():\\n    print(locals())', 'print(globals())'], 'Out': {3: 1}, 'get_ipython': <bound method InteractiveShell.get_ipython of <ipykernel.zmqshell.ZMQInteractiveShell object at 0x108bd1320>>, 'exit': <IPython.core.autocall.ZMQExitAutocall object at 0x108c1df60>, 'quit': <IPython.core.autocall.ZMQExitAutocall object at 0x108c1df60>, '_': 1, '__': '', '___': '', '_i': 's = \"Globale Variable\"\\n\\ndef funk():\\n    print(locals())', '_ii': 's = \"Globale Variable\"\\n\\ndef funk():\\n    print locals()', '_iii': 's = \"Globale Variable\"\\n\\ndef funk():', '_i1': 'def funk():\\n    return 1', 'funk': <function funk at 0x10865f730>, '_i2': 'func()', '_i3': 'funk()', '_3': 1, '_i4': 's = \"Globale Variable\"\\n\\ndef funk():', '_i5': 's = \"Globale Variable\"\\n\\ndef funk():\\n    print locals()', '_i6': 's = \"Globale Variable\"\\n\\ndef funk():\\n    print(locals())', 's': 'Globale Variable', '_i7': 'print(globals())'}\n"
     ]
    }
   ],
   "source": [
    "print(globals())"
   ]
  },
  {
   "cell_type": "markdown",
   "metadata": {},
   "source": [
    "Wir erhalten hier ein Dictionary zurück, dass alle globalen Variablen beinhaltet. Viele davon sind in Python vordefiniert. Lasst uns fortfahren und deren Keys überprüfen:"
   ]
  },
  {
   "cell_type": "code",
   "execution_count": 8,
   "metadata": {},
   "outputs": [
    {
     "name": "stdout",
     "output_type": "stream",
     "text": [
      "dict_keys(['__name__', '__doc__', '__package__', '__loader__', '__spec__', '__builtin__', '__builtins__', '_ih', '_oh', '_dh', '_sh', 'In', 'Out', 'get_ipython', 'exit', 'quit', '_', '__', '___', '_i', '_ii', '_iii', '_i1', 'funk', '_i2', '_i3', '_3', '_i4', '_i5', '_i6', 's', '_i7', '_i8'])\n"
     ]
    }
   ],
   "source": [
    "print(globals().keys())"
   ]
  },
  {
   "cell_type": "markdown",
   "metadata": {},
   "source": [
    "Ist euch aufgefallen, dass <b>s</b> darunter ist?"
   ]
  },
  {
   "cell_type": "code",
   "execution_count": 9,
   "metadata": {},
   "outputs": [
    {
     "data": {
      "text/plain": [
       "'Globale Variable'"
      ]
     },
     "execution_count": 9,
     "metadata": {},
     "output_type": "execute_result"
    }
   ],
   "source": [
    "globals()[\"s\"]"
   ]
  },
  {
   "cell_type": "markdown",
   "metadata": {},
   "source": [
    "Jetzt können wir unsere Funktion funk() benutzen, um zu überprüfen, ob es lokale Variablen gibt. Es sollte keine geben..."
   ]
  },
  {
   "cell_type": "code",
   "execution_count": 10,
   "metadata": {},
   "outputs": [
    {
     "name": "stdout",
     "output_type": "stream",
     "text": [
      "{}\n"
     ]
    }
   ],
   "source": [
    "funk()"
   ]
  },
  {
   "cell_type": "markdown",
   "metadata": {},
   "source": [
    "Großartig! Jetzt können wir damit beginnen, die Logik eines Dekorators zu verstehen. Hier spielt es wieder eine Rolle, <b>dass in Python alles ein Objekt ist</b>. Das bedeutet, dass Funktionen Objekte sind, die benannt und in andere Funktionen übergeben werden können. Lasst uns mit einem einfachen Beispiel beginnen:"
   ]
  },
  {
   "cell_type": "code",
   "execution_count": 15,
   "metadata": {
    "collapsed": true
   },
   "outputs": [],
   "source": [
    "def hallo(name='David'):\n",
    "    return(\"Hallo \"+name)"
   ]
  },
  {
   "cell_type": "code",
   "execution_count": 16,
   "metadata": {},
   "outputs": [
    {
     "data": {
      "text/plain": [
       "'Hallo David'"
      ]
     },
     "execution_count": 16,
     "metadata": {},
     "output_type": "execute_result"
    }
   ],
   "source": [
    "hallo()"
   ]
  },
  {
   "cell_type": "markdown",
   "metadata": {},
   "source": [
    "Jetzt können wir der Funktion einen Namen geben. Wichtig ist, dass wir an dieser Stelle keine Klammern verwenden. Wir wollen die Funktion nicht ausführen! Stattdessen platzieren wir sie nur in der gruss Variable."
   ]
  },
  {
   "cell_type": "code",
   "execution_count": 19,
   "metadata": {
    "collapsed": true
   },
   "outputs": [],
   "source": [
    "gruss = hallo"
   ]
  },
  {
   "cell_type": "code",
   "execution_count": 20,
   "metadata": {},
   "outputs": [
    {
     "data": {
      "text/plain": [
       "<function __main__.hallo>"
      ]
     },
     "execution_count": 20,
     "metadata": {},
     "output_type": "execute_result"
    }
   ],
   "source": [
    "gruss"
   ]
  },
  {
   "cell_type": "code",
   "execution_count": 21,
   "metadata": {},
   "outputs": [
    {
     "data": {
      "text/plain": [
       "'Hallo David'"
      ]
     },
     "execution_count": 21,
     "metadata": {},
     "output_type": "execute_result"
    }
   ],
   "source": [
    "gruss()"
   ]
  },
  {
   "cell_type": "markdown",
   "metadata": {},
   "source": [
    "Diese Zuordnung ist nicht abhängig von der Originalfunktion!"
   ]
  },
  {
   "cell_type": "code",
   "execution_count": 22,
   "metadata": {
    "collapsed": true
   },
   "outputs": [],
   "source": [
    "del hallo"
   ]
  },
  {
   "cell_type": "code",
   "execution_count": 1,
   "metadata": {
    "scrolled": true
   },
   "outputs": [
    {
     "ename": "NameError",
     "evalue": "name 'hallo' is not defined",
     "output_type": "error",
     "traceback": [
      "\u001b[0;31m---------------------------------------------------------------------------\u001b[0m",
      "\u001b[0;31mNameError\u001b[0m                                 Traceback (most recent call last)",
      "\u001b[0;32m<ipython-input-1-df04e3305513>\u001b[0m in \u001b[0;36m<module>\u001b[0;34m()\u001b[0m\n\u001b[0;32m----> 1\u001b[0;31m \u001b[0mhallo\u001b[0m\u001b[0;34m(\u001b[0m\u001b[0;34m)\u001b[0m\u001b[0;34m\u001b[0m\u001b[0m\n\u001b[0m",
      "\u001b[0;31mNameError\u001b[0m: name 'hallo' is not defined"
     ]
    }
   ],
   "source": [
    "hallo()"
   ]
  },
  {
   "cell_type": "code",
   "execution_count": 25,
   "metadata": {},
   "outputs": [
    {
     "data": {
      "text/plain": [
       "'Hallo David'"
      ]
     },
     "execution_count": 25,
     "metadata": {},
     "output_type": "execute_result"
    }
   ],
   "source": [
    "gruss()"
   ]
  },
  {
   "cell_type": "markdown",
   "metadata": {},
   "source": [
    "## Funktionen innerhalb von Funktionen\n",
    "\n",
    "Toll! Wir haben gesehen, wie wir Funktionen als Objekte behandeln können. Jetzt können wir uns anschauen, wie man Funktionen innerhalb von anderen Funktionen definieren kann:"
   ]
  },
  {
   "cell_type": "code",
   "execution_count": 1,
   "metadata": {
    "collapsed": true
   },
   "outputs": [],
   "source": [
    "def hallo(name=\"David\"):\n",
    "    print(\"Die hallo() Funktion wurde ausgeführt\")\n",
    "    \n",
    "    def gruss():\n",
    "        return '\\t Das ist innerhalb der gruss() Funktion'\n",
    "    \n",
    "    def willkommen():\n",
    "        return '\\t Das ist innerhalb der willkommen() Funktion'\n",
    "    \n",
    "    print(gruss())\n",
    "    print(willkommen())\n",
    "    print(\"Jetzt sind wir wieder innerhalb der hallo() Funktion\")"
   ]
  },
  {
   "cell_type": "code",
   "execution_count": 2,
   "metadata": {},
   "outputs": [
    {
     "name": "stdout",
     "output_type": "stream",
     "text": [
      "Die hallo() Funktion wurde ausgeführt\n",
      "\t Das ist innerhalb der gruss() Funktion\n",
      "\t Das ist innerhalb der willkommen() Funktion\n",
      "Jetzt sind wir wieder innerhalb der hallo() Funktion\n"
     ]
    }
   ],
   "source": [
    "hallo()"
   ]
  },
  {
   "cell_type": "code",
   "execution_count": 3,
   "metadata": {},
   "outputs": [
    {
     "ename": "NameError",
     "evalue": "name 'willkommen' is not defined",
     "output_type": "error",
     "traceback": [
      "\u001b[0;31m---------------------------------------------------------------------------\u001b[0m",
      "\u001b[0;31mNameError\u001b[0m                                 Traceback (most recent call last)",
      "\u001b[0;32m<ipython-input-3-f471134968ef>\u001b[0m in \u001b[0;36m<module>\u001b[0;34m()\u001b[0m\n\u001b[0;32m----> 1\u001b[0;31m \u001b[0mwillkommen\u001b[0m\u001b[0;34m(\u001b[0m\u001b[0;34m)\u001b[0m\u001b[0;34m\u001b[0m\u001b[0m\n\u001b[0m",
      "\u001b[0;31mNameError\u001b[0m: name 'willkommen' is not defined"
     ]
    }
   ],
   "source": [
    "willkommen()"
   ]
  },
  {
   "cell_type": "markdown",
   "metadata": {},
   "source": [
    "Durch den Geltungsbereich der Funktionen ist willkommen() außerhalb von hallo() nicht erreichbar. Jetzt können wir lernen, wie wir auf Funktionen innerhalb von Funktionen zugreifen können.\n",
    "\n",
    "## Zugriff auf Funktionen"
   ]
  },
  {
   "cell_type": "code",
   "execution_count": 31,
   "metadata": {
    "collapsed": true
   },
   "outputs": [],
   "source": [
    "def hallo(name=\"David\"):\n",
    "    \n",
    "    def gruss():\n",
    "        return '\\t Das ist innerhalb der gruss() Funktion'\n",
    "    \n",
    "    def willkommen():\n",
    "        return '\\t Tas ist innerhalb der willkommen() Funktion'\n",
    "    \n",
    "    if name == \"David\":\n",
    "        return(gruss)\n",
    "    else:\n",
    "        return(wilkommen)"
   ]
  },
  {
   "cell_type": "code",
   "execution_count": 32,
   "metadata": {
    "collapsed": true
   },
   "outputs": [],
   "source": [
    "x = hallo()"
   ]
  },
  {
   "cell_type": "markdown",
   "metadata": {},
   "source": [
    "Lasst uns schauen, welche Funktion wir erhalten, wenn wir x = hallo() setzen. Die geschlossenen Klammern bedeuten, dass der Name als David definiert wurde."
   ]
  },
  {
   "cell_type": "code",
   "execution_count": 33,
   "metadata": {},
   "outputs": [
    {
     "data": {
      "text/plain": [
       "<function __main__.hallo.<locals>.gruss>"
      ]
     },
     "execution_count": 33,
     "metadata": {},
     "output_type": "execute_result"
    }
   ],
   "source": [
    "x"
   ]
  },
  {
   "cell_type": "markdown",
   "metadata": {},
   "source": [
    "Gut! Jetzt können wir uns anschauen, wie x zur gruss Funktion innerhalb der hallo Funktion leitet."
   ]
  },
  {
   "cell_type": "code",
   "execution_count": 35,
   "metadata": {},
   "outputs": [
    {
     "name": "stdout",
     "output_type": "stream",
     "text": [
      "\t Das ist innerhalb der gruss() Funktion\n"
     ]
    }
   ],
   "source": [
    "print(x())"
   ]
  },
  {
   "cell_type": "markdown",
   "metadata": {},
   "source": [
    "An dieser Stelle können wir uns noch einmal den Code anschauen.\n",
    "\n",
    "In der if/else Abfrage geben wir gruss und wilkommen zurück, nicht gruss() und willkommen(). \n",
    "\n",
    "Das liegt daran, dass die Klammern hinter dem Namen dafür sorgen, dass die Funktion ausgeführt wird. Wohingegen, wenn wir die Klammern weglassen, wir den Namen übergeben und ihn anderen Variablen zuordnen können, ohne den Code auszuführen.\n",
    "\n",
    "Wenn wir x = hallo() schreiben, wird hallo() ausgeführt und weil der Name per Definition \"David\" ist, wird die Funktion gruss() zurückgegeben. Wenn wir die Anweisung x=hallo(name = \"Sam\") eingeben, erhalten wir die willkommen Funktion zurück.\n",
    "\n",
    "## Funktionen als Parameter\n",
    "\n",
    "Lasst uns jetzt betrachten, wie wir Funktionen als Parameter übergeben:"
   ]
  },
  {
   "cell_type": "code",
   "execution_count": 36,
   "metadata": {
    "collapsed": true
   },
   "outputs": [],
   "source": [
    "def hallo():\n",
    "    return \"Hallo David!\"\n",
    "\n",
    "def andere(func):\n",
    "    print(\"Anderer Code würde hier stehen\")\n",
    "    print(func())"
   ]
  },
  {
   "cell_type": "code",
   "execution_count": 37,
   "metadata": {},
   "outputs": [
    {
     "name": "stdout",
     "output_type": "stream",
     "text": [
      "Anderer Code würde hier stehen\n",
      "Hallo David!\n"
     ]
    }
   ],
   "source": [
    "andere(hallo)"
   ]
  },
  {
   "cell_type": "markdown",
   "metadata": {},
   "source": [
    "Gut! Achtet darauf wie wir die Funktion als Objekt übergeben können und es dann innerhalb einer anderen Funktion nutzen können. Jetzt können wir damit beginnen unseren ersten Dekorator zu schreiben:\n",
    "\n",
    "## Einen Dekorator erstellen\n",
    "\n",
    "In dem vorherigen Beispiel haben wir tatsächlich schon manuell einen Dekorator erstellt. Hier werden wir ihn modifizieren, um die Anwendung klarer herauszustellen:"
   ]
  },
  {
   "cell_type": "code",
   "execution_count": 38,
   "metadata": {
    "collapsed": true
   },
   "outputs": [],
   "source": [
    "def neu_dekorator(funk):\n",
    "    \n",
    "    def huellen_funktion():\n",
    "        print(\"Code würde hier stehen, der vor der funk ausgeführt wird.\")\n",
    "        \n",
    "        funk()\n",
    "        \n",
    "        print(\"Hier steht, was nach der funk ausgeführt wird.\")\n",
    "        \n",
    "    return huellen_funktion\n",
    "\n",
    "def funk_braucht_dek():\n",
    "    print(\"Diese Funktion braucht einen Dekorator\")"
   ]
  },
  {
   "cell_type": "code",
   "execution_count": 39,
   "metadata": {},
   "outputs": [
    {
     "name": "stdout",
     "output_type": "stream",
     "text": [
      "Diese Funktion braucht einen Dekorator\n"
     ]
    }
   ],
   "source": [
    "funk_braucht_dek()"
   ]
  },
  {
   "cell_type": "code",
   "execution_count": 40,
   "metadata": {
    "collapsed": true
   },
   "outputs": [],
   "source": [
    "# Neuzuordnung funk_braucht_dekorator\n",
    "funk_braucht_dek = neu_dekorator(funk_braucht_dek)"
   ]
  },
  {
   "cell_type": "code",
   "execution_count": 41,
   "metadata": {},
   "outputs": [
    {
     "name": "stdout",
     "output_type": "stream",
     "text": [
      "Code würde hier stehen, der vor der funk ausgeführt wird.\n",
      "Diese Funktion braucht einen Dekorator\n",
      "Hier steht, was nach der funk ausgeführt wird.\n"
     ]
    }
   ],
   "source": [
    "funk_braucht_dek()"
   ]
  },
  {
   "cell_type": "markdown",
   "metadata": {},
   "source": [
    "Was ist hier passiert? Der Dekorator hat die Funktion umschlossen und ihr Verhalten geändert. Jetzt können wir noch nachvollziehen, wie wir diesen Code schreiben können indem wir das @ Symbol verwenden. Dieses wird in Python für Dekoratoren verwendet:"
   ]
  },
  {
   "cell_type": "code",
   "execution_count": 42,
   "metadata": {
    "collapsed": true
   },
   "outputs": [],
   "source": [
    "@neu_dekorator\n",
    "def funk_braucht_dek():\n",
    "    print(\"Diese Funktion braucht einen Dekorator.\")"
   ]
  },
  {
   "cell_type": "code",
   "execution_count": 43,
   "metadata": {},
   "outputs": [
    {
     "name": "stdout",
     "output_type": "stream",
     "text": [
      "Code würde hier stehen, der vor der funk ausgeführt wird.\n",
      "Diese Funktion braucht einen Dekorator.\n",
      "Hier steht, was nach der funk ausgeführt wird.\n"
     ]
    }
   ],
   "source": [
    "funk_braucht_dek()"
   ]
  },
  {
   "cell_type": "markdown",
   "metadata": {},
   "source": [
    "Toll! Jetzt haben wir manuell einen Dekorator erstellt und gesehen, wie wir das @ Symbol in Python verwenden können, um dies zu automatisieren und den Code aufzuräumen."
   ]
  }
 ],
 "metadata": {
  "kernelspec": {
   "display_name": "Python 3",
   "language": "python",
   "name": "python3"
  },
  "language_info": {
   "codemirror_mode": {
    "name": "ipython",
    "version": 3
   },
   "file_extension": ".py",
   "mimetype": "text/x-python",
   "name": "python",
   "nbconvert_exporter": "python",
   "pygments_lexer": "ipython3",
   "version": "3.8.5"
  }
 },
 "nbformat": 4,
 "nbformat_minor": 2
}