{
 "cells": [
  {
   "cell_type": "markdown",
   "metadata": {
    "collapsed": true
   },
   "source": [
    "# while Schleifen\n",
    "\n",
    "Quelle: Datamics\n",
    "\n",
    "Die `while` Anweisung in Python ist einer der allgemeinsten Wege, um Iteration durchzuführen. Eine while Anweisung wird so lange ein einzelnes bzw. eine Gruppe von Statements (also einen Codeblock) wiederholen, solange ihre Bedingung `true` (dt.: wahr) ist. Der Grund aus dem es 'Schleife' genannt wird ist, dass Anweisungen so lange wiederholt werden, bis ihre Bedingung nicht mehr erfüllt wird.\n",
    "\n",
    "Die allgemeine Form einer while Schleife:\n",
    "\n",
    "    while test:\n",
    "        code statement\n",
    "    else\n",
    "        finales code statement\n",
    "        \n",
    "Wir können die `while` Schleife in Python außerdem dazu nutzen, um die \"klassische\" Schleifenform, die wir im vorherigen Kapitel angesprochen haben, nachzubauen. Hier noch einmal eine kurze Wiederholung der Schleifenform, wie sie bspw. in C verwendet wird:\n",
    "\n",
    "    for(i = 1; i <= 10; i+)\n",
    "       printf(\"i: %d\\n\", i);\n",
    "        \n",
    "In Python müssen wir die Zählvariable *i* vorab definieren und dann mit in den Codeblock der `while` Schleife nehmen, um die Funktionalität zu gewährleisten:\n",
    "\n",
    "    i = 1\n",
    "    while i < 10:\n",
    "        print(i)\n",
    "        i+=1\n",
    "        \n",
    "Etwas theoretischer betrachtet können wir sagen, es gibt insgesamt 3 Typen von Schleifen in Programmiersprachen:\n",
    "1. Zähler-kontrollierte Schleifen - gibt es in Python nicht, können aber, wie im Beispiel gezeigt, mit einer `while` Schleife nachgebildet werden\n",
    "2. Bedingungs-kontrollierte Schleifen - entsprechen in Python den `while` Schleifen\n",
    "3. Sammlungs-kontrollierte Schleifen - entsprechen in Python den `for` Schleifen\n",
    "\n",
    "Lasst und einige einfache Beispiele für `while` Schleifen in Python durchgehen:"
   ]
  },
  {
   "cell_type": "code",
   "execution_count": 1,
   "metadata": {},
   "outputs": [
    {
     "name": "stdout",
     "output_type": "stream",
     "text": [
      "x ist aktuell:  0\n",
      " x ist immer noch kleiner als 10, 1 zu x hinzufügen\n",
      "x ist aktuell:  1\n",
      " x ist immer noch kleiner als 10, 1 zu x hinzufügen\n",
      "x ist aktuell:  2\n",
      " x ist immer noch kleiner als 10, 1 zu x hinzufügen\n",
      "x ist aktuell:  3\n",
      " x ist immer noch kleiner als 10, 1 zu x hinzufügen\n",
      "x ist aktuell:  4\n",
      " x ist immer noch kleiner als 10, 1 zu x hinzufügen\n",
      "x ist aktuell:  5\n",
      " x ist immer noch kleiner als 10, 1 zu x hinzufügen\n",
      "x ist aktuell:  6\n",
      " x ist immer noch kleiner als 10, 1 zu x hinzufügen\n",
      "x ist aktuell:  7\n",
      " x ist immer noch kleiner als 10, 1 zu x hinzufügen\n",
      "x ist aktuell:  8\n",
      " x ist immer noch kleiner als 10, 1 zu x hinzufügen\n",
      "x ist aktuell:  9\n",
      " x ist immer noch kleiner als 10, 1 zu x hinzufügen\n"
     ]
    }
   ],
   "source": [
    "x = 0\n",
    "\n",
    "while x < 10:\n",
    "    print('x ist aktuell: ',x)\n",
    "    print(' x ist immer noch kleiner als 10, 1 zu x hinzufügen')\n",
    "    x+=1"
   ]
  },
  {
   "cell_type": "markdown",
   "metadata": {},
   "source": [
    "Schaut euch an, wir oft das print Statement ausgeführt wurde und wie die while Schleife so lange weiter gemacht hat, solange die Bedingung (x<10) erfüllt war. Soblad x==10 zutraf stoppte der Code. Folgendes Beispiel zeigt, wie wir ein else Statement einbauen könnten:"
   ]
  },
  {
   "cell_type": "code",
   "execution_count": 2,
   "metadata": {},
   "outputs": [
    {
     "name": "stdout",
     "output_type": "stream",
     "text": [
      "x ist aktuell:  0\n",
      " x ist immer noch kleiner als 10, 1 zu x hinzufügen\n",
      "x ist aktuell:  1\n",
      " x ist immer noch kleiner als 10, 1 zu x hinzufügen\n",
      "x ist aktuell:  2\n",
      " x ist immer noch kleiner als 10, 1 zu x hinzufügen\n",
      "x ist aktuell:  3\n",
      " x ist immer noch kleiner als 10, 1 zu x hinzufügen\n",
      "x ist aktuell:  4\n",
      " x ist immer noch kleiner als 10, 1 zu x hinzufügen\n",
      "x ist aktuell:  5\n",
      " x ist immer noch kleiner als 10, 1 zu x hinzufügen\n",
      "x ist aktuell:  6\n",
      " x ist immer noch kleiner als 10, 1 zu x hinzufügen\n",
      "x ist aktuell:  7\n",
      " x ist immer noch kleiner als 10, 1 zu x hinzufügen\n",
      "x ist aktuell:  8\n",
      " x ist immer noch kleiner als 10, 1 zu x hinzufügen\n",
      "x ist aktuell:  9\n",
      " x ist immer noch kleiner als 10, 1 zu x hinzufügen\n",
      "Fertig!\n"
     ]
    }
   ],
   "source": [
    "x = 0\n",
    "\n",
    "while x < 10:\n",
    "    print('x ist aktuell: ',x)\n",
    "    print(' x ist immer noch kleiner als 10, 1 zu x hinzufügen')\n",
    "    x+=1\n",
    "else:\n",
    "    print('Fertig!')"
   ]
  },
  {
   "cell_type": "markdown",
   "metadata": {},
   "source": [
    "## break, continue, pass\n",
    "\n",
    "Wir können `break`, `continue` und `pass` Anweisungen in unseren Loops verwenden, um zusätzliche Funktionalität für verschiedenste Fälle einzubauen. Die drei Statements definieren sich folgendermaßen:\n",
    "    \n",
    "    break: Bricht aus dem aktuell nähesten umfassenden Loop aus.\n",
    "    continue: Geht an den Anfang des nähesten umfassenden Loops.\n",
    "    pass: Tut gar nichts.\n",
    "    \n",
    "Wenn wir über break und continue Anweisung nachdenken, sieht die allgemeine Form für while Loops wie folgt aus:\n",
    "\n",
    "    while test:\n",
    "        code statement\n",
    "        if test:\n",
    "            break\n",
    "        if test:\n",
    "            continue\n",
    "    else:\n",
    "    \n",
    "break und continue Statements können überall innerhalb des Schleifen Bodys eigesetzt werden, wir nutzen sie aber üblicherweise in tieferen Ebenen in Kombination mit if Statements. \n",
    "\n",
    "Hier sind einige Beispiele:"
   ]
  },
  {
   "cell_type": "code",
   "execution_count": 5,
   "metadata": {},
   "outputs": [
    {
     "name": "stdout",
     "output_type": "stream",
     "text": [
      "x ist aktuell:  0\n",
      " x ist immer noch kleiner als 10, 1 zu x hinzufügen\n",
      "Fortsetzen...\n",
      "x ist aktuell:  1\n",
      " x ist immer noch kleiner als 10, 1 zu x hinzufügen\n",
      "Fortsetzen...\n",
      "x ist aktuell:  2\n",
      " x ist immer noch kleiner als 10, 1 zu x hinzufügen\n",
      "x==3\n",
      "x ist aktuell:  3\n",
      " x ist immer noch kleiner als 10, 1 zu x hinzufügen\n",
      "Fortsetzen...\n",
      "x ist aktuell:  4\n",
      " x ist immer noch kleiner als 10, 1 zu x hinzufügen\n",
      "Fortsetzen...\n",
      "x ist aktuell:  5\n",
      " x ist immer noch kleiner als 10, 1 zu x hinzufügen\n",
      "Fortsetzen...\n",
      "x ist aktuell:  6\n",
      " x ist immer noch kleiner als 10, 1 zu x hinzufügen\n",
      "Fortsetzen...\n",
      "x ist aktuell:  7\n",
      " x ist immer noch kleiner als 10, 1 zu x hinzufügen\n",
      "Fortsetzen...\n",
      "x ist aktuell:  8\n",
      " x ist immer noch kleiner als 10, 1 zu x hinzufügen\n",
      "Fortsetzen...\n",
      "x ist aktuell:  9\n",
      " x ist immer noch kleiner als 10, 1 zu x hinzufügen\n",
      "Fortsetzen...\n"
     ]
    }
   ],
   "source": [
    "x = 0\n",
    "\n",
    "while x < 10:\n",
    "    print('x ist aktuell: ',x)\n",
    "    print(' x ist immer noch kleiner als 10, 1 zu x hinzufügen')\n",
    "    x+=1\n",
    "    if x == 3:\n",
    "        print('x==3')\n",
    "    else:\n",
    "        print('Fortsetzen...')\n",
    "        continue"
   ]
  },
  {
   "cell_type": "markdown",
   "metadata": {},
   "source": [
    "Seht wie wir ein print Statement ausgeführt haben, sobald x == 3 war. Lasst uns nun ein break Statement einbauen, sobald x == 3 erfüllt ist:"
   ]
  },
  {
   "cell_type": "code",
   "execution_count": 7,
   "metadata": {},
   "outputs": [
    {
     "name": "stdout",
     "output_type": "stream",
     "text": [
      "x ist aktuell:  0\n",
      " x ist immer noch kleiner als 10, 1 zu x hinzufügen\n",
      "Fortsetzen...\n",
      "x ist aktuell:  1\n",
      " x ist immer noch kleiner als 10, 1 zu x hinzufügen\n",
      "Fortsetzen...\n",
      "x ist aktuell:  2\n",
      " x ist immer noch kleiner als 10, 1 zu x hinzufügen\n",
      "Bricht ab, da x==3\n"
     ]
    }
   ],
   "source": [
    "x = 0\n",
    "\n",
    "while x < 10:\n",
    "    print('x ist aktuell: ',x)\n",
    "    print(' x ist immer noch kleiner als 10, 1 zu x hinzufügen')\n",
    "    x+=1\n",
    "    if x == 3:\n",
    "        print('Bricht ab, da x==3')\n",
    "        break\n",
    "    else:\n",
    "        print('Fortsetzen...')\n",
    "        continue"
   ]
  },
  {
   "cell_type": "markdown",
   "metadata": {},
   "source": [
    "Bemerkenswert hieran ist, dass der Code nun direkt endet, sobald break erreicht wird.\n",
    "\n",
    "Nach diesen kurzen Beispielen solltet ihr euch mit while Schleifen wohl fühlen und sie guten Gewissens in eurem Code verwenden.\n",
    "\n",
    "<b>Ein Wort der Warnung: Es ist möglich unendliche Schleifen mit while zu erstellen. Wie in folgendem Beispiel, das ihr bitte nicht ausführt:</b>"
   ]
  },
  {
   "cell_type": "code",
   "execution_count": null,
   "metadata": {
    "collapsed": true
   },
   "outputs": [],
   "source": [
    "# Führt diesen Code nicht aus!\n",
    "while True:\n",
    "    print('Oh Oh, unendlicher Loop')"
   ]
  }
 ],
 "metadata": {
  "kernelspec": {
   "display_name": "Python 3",
   "language": "python",
   "name": "python3"
  },
  "language_info": {
   "codemirror_mode": {
    "name": "ipython",
    "version": 3
   },
   "file_extension": ".py",
   "mimetype": "text/x-python",
   "name": "python",
   "nbconvert_exporter": "python",
   "pygments_lexer": "ipython3",
   "version": "3.8.5"
  }
 },
 "nbformat": 4,
 "nbformat_minor": 2
}