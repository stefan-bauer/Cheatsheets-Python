{
 "cells": [
  {
   "cell_type": "markdown",
   "metadata": {
    "collapsed": true
   },
   "source": [
    "# if, elif und else Anweisungen\n",
    "\n",
    "Quelle: Datamics\n",
    "\n",
    "\n",
    "if Anweisungen erlauben uns in Python dem Computer aufzutragen alternative Aktionen in Abhängigkeit von bestimmten Ergebnissen durchzuführen.\n",
    "\n",
    "Das können wir uns ungefähr so vereinfachen:\n",
    "\n",
    "\"Hey, wenn dieser Fall eintritt, dann mache etwas Bestimmtes.\"\n",
    "\n",
    "Diese Idee können wir dann durch `elif` und `else` Anweisungen erweitern, welche uns folgendes ermöglichen:\n",
    "\n",
    "\"Hey, wenn dieser Fall eintritt (if), dann mache etwas Bestimmtes. Wenn ein anderer Fall eintritt (elif), dann mache etwas anderes Bestimmtes. Und sonst (else) - keiner der anderen Fälle trat ein - mache etwas anderes Bestimmtes.\"\n",
    "\n",
    "Lasst uns die Syntax dafür betrachten: \n",
    "\n",
    "    if Fall 1:\n",
    "        erste Aktion\n",
    "    elif Fall 2:\n",
    "        zweite Aktion\n",
    "    else:\n",
    "        dritte Aktion\n",
    "        \n",
    "Auch hier kommt das bereits bekannte Konzept der Blöcke durch Zeileneinzug ins Spiel. Die eingerückten Blöcke (hier Aktion 1 bis 3) werden nur ausgeführt, falls die vorherige Überprüfung logisch `true` (dt.: wahr) ist. \n",
    "\n",
    "## Erstes Beispiel\n",
    "\n",
    "Lasst uns ein kurzes Beispiel betrachten:"
   ]
  },
  {
   "cell_type": "code",
   "execution_count": 1,
   "metadata": {},
   "outputs": [
    {
     "name": "stdout",
     "output_type": "stream",
     "text": [
      "Es war wahr!\n"
     ]
    }
   ],
   "source": [
    "if True:\n",
    "    print('Es war wahr!')"
   ]
  },
  {
   "cell_type": "markdown",
   "metadata": {},
   "source": [
    "## Halt! Was ist eigentlich \"wahr\"?\n",
    "\n",
    "\n",
    "In Python wird eine Logik zu dieser Definition verwendet, die darauf aufbaut, `true` durch sein Gegenteil zu bestimmen. Das heißt, alles was nicht `false` ist, hat den Wert `true`. Wir brauchen also nur zu definieren, was \"falsch\", also `false` ist.\n",
    "\n",
    "Als `false` gilt in Python:\n",
    "\n",
    "* numerische Null-Werte(0, 0L, 0.0, 0.0+0.0j),\n",
    "* der Boolean Wert `False`,\n",
    "* leere Zeichenketten,\n",
    "* leere Listen, \n",
    "* leere Tupel,\n",
    "* leere Dictionaries,\n",
    "* sowie der spezielle Wert None. \n",
    "\n",
    "Alle anderen Werte betrachtet Python als `true`. "
   ]
  },
  {
   "cell_type": "markdown",
   "metadata": {},
   "source": [
    "## else Logik\n",
    "\n",
    "Eine else Logik hinzufügen:"
   ]
  },
  {
   "cell_type": "code",
   "execution_count": 2,
   "metadata": {},
   "outputs": [
    {
     "name": "stdout",
     "output_type": "stream",
     "text": [
      "Ich werde in jedem Fall ausgegeben, in dem x nicht wahr ist\n"
     ]
    }
   ],
   "source": [
    "x = False\n",
    "\n",
    "if x:\n",
    "    print('X war wahr!')\n",
    "else:\n",
    "    print('Ich werde in jedem Fall ausgegeben, in dem x nicht wahr ist')"
   ]
  },
  {
   "cell_type": "markdown",
   "metadata": {},
   "source": [
    "## Mehrere Zweige\n",
    "\n",
    "Wir können nun betrachten, wie weit uns if, elif und else bringen können!\n",
    "\n",
    "Wir schreiben eine eingebettete Struktur. Achtet darauf, wie if, elif und else auf selber Höhe geschrieben sind. Das kann euch helfen, zu verstehen, welche if, elif und else zusammenhängen.\n",
    "\n",
    "Wir nutzen jetzt die bereits bekannten Vergleichsoperatoren:"
   ]
  },
  {
   "cell_type": "code",
   "execution_count": 3,
   "metadata": {},
   "outputs": [
    {
     "name": "stdout",
     "output_type": "stream",
     "text": [
      "Willkommen in der Bank!\n"
     ]
    }
   ],
   "source": [
    "loc = 'Bank'\n",
    "\n",
    "if loc == 'Autohaus':\n",
    "    print('Willkommen im Autohaus!')\n",
    "elif loc == 'Bank':\n",
    "    print('Willkommen in der Bank!')\n",
    "else:\n",
    "    print('Wo bist du?')"
   ]
  },
  {
   "cell_type": "markdown",
   "metadata": {},
   "source": [
    "Das funktioniert so, dass jedes Statement darauf überprüft wird, ob es True (wahr) ist. Sobald das der Fall ist, wird der eingebettete Code ausgeführt. Würde dieser Fall nicht eintreffen, würde das else Statement aktiviert werden. Dabei ist interessant, dass wir so viele elif Statements einbauen können wie wir möchten, bevor wir mit dem else Statement abschließen.\n",
    "\n",
    "Lasst uns zwei weitere einfache Beispiele für die if, elif und else Anweisungen betrachten:"
   ]
  },
  {
   "cell_type": "code",
   "execution_count": 4,
   "metadata": {},
   "outputs": [
    {
     "name": "stdout",
     "output_type": "stream",
     "text": [
      "Wilkommen Sammy!\n"
     ]
    }
   ],
   "source": [
    "person = 'Sammy'\n",
    "\n",
    "if person == 'Sammy':\n",
    "    print('Wilkommen Sammy!')\n",
    "else:\n",
    "    print(\"Willkommen, wie lautet dein Name?\")"
   ]
  },
  {
   "cell_type": "code",
   "execution_count": 5,
   "metadata": {},
   "outputs": [
    {
     "name": "stdout",
     "output_type": "stream",
     "text": [
      "Wilkommen George!\n"
     ]
    }
   ],
   "source": [
    "person = 'George'\n",
    "\n",
    "if person == 'Sammy':\n",
    "    print('Wilkommen Sammy!')\n",
    "elif person == 'George':\n",
    "    print('Wilkommen George!')\n",
    "else:\n",
    "    print(\"Willkommen, wie lautet dein Name?\")"
   ]
  },
  {
   "cell_type": "markdown",
   "metadata": {},
   "source": [
    "## Zeileneinzug\n",
    "\n",
    "Es ist, wie bereits anfangs angedeutet, wichtig, immer auf den Einzug des Codes nach den Anweisungen zu achten. Dieser stellt die korrekte Reihenfolge und Ausführung des Codes sicher. Wir kommen später bei einem anderen Themen noch einmal darauf zurück."
   ]
  }
 ],
 "metadata": {
  "kernelspec": {
   "display_name": "Python 3",
   "language": "python",
   "name": "python3"
  },
  "language_info": {
   "codemirror_mode": {
    "name": "ipython",
    "version": 3
   },
   "file_extension": ".py",
   "mimetype": "text/x-python",
   "name": "python",
   "nbconvert_exporter": "python",
   "pygments_lexer": "ipython3",
   "version": "3.8.5"
  }
 },
 "nbformat": 4,
 "nbformat_minor": 2
}