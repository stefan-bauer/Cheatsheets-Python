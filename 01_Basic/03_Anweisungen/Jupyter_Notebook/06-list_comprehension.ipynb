{
 "cells": [
  {
   "cell_type": "markdown",
   "metadata": {
    "collapsed": true
   },
   "source": [
    "# Listen Abstraktion \n",
    "\n",
    "Quelle: Datamics\n",
    "\n",
    "In Ergänzung zu Sequenz Anwendungen und Listen Methoden enthält Python eine etwas fortgeschrittenere Operation namens `list comprehension` (dt.: Listen Abstraktion).\n",
    "\n",
    "*Randnotiz: List Comprehension hätte fast die Funktionen map, reduce und filter ersetzt, mit denen wir uns später noch detailliert befassen werden.*\n",
    "\n",
    "`list comprehension` erlaubt es uns, Listen durch eine andere Notation zu erstellen. Wir können uns es im Grunde als einzeilige `for` Schleife innerhalb von Klammern vorstellen.\n",
    "\n",
    "Jeden, der mit der Mathematik vertraut ist, dürfte Listen Abstraktion an die mathematische Notation von Mengen erinnern.\n",
    "\n",
    "Ein einfaches Beispiel für Listen Abstraktion:"
   ]
  },
  {
   "cell_type": "code",
   "execution_count": 1,
   "metadata": {
    "collapsed": true
   },
   "outputs": [],
   "source": [
    "# Jeden Buchstaben eines Strings erfassen\n",
    "lst = [x for x in 'Wort']"
   ]
  },
  {
   "cell_type": "code",
   "execution_count": 3,
   "metadata": {},
   "outputs": [
    {
     "data": {
      "text/plain": [
       "['W', 'o', 'r', 't']"
      ]
     },
     "execution_count": 3,
     "metadata": {},
     "output_type": "execute_result"
    }
   ],
   "source": [
    "# Check\n",
    "lst"
   ]
  },
  {
   "cell_type": "markdown",
   "metadata": {},
   "source": [
    "Das ist das Grundkonzept von list comprehension. Wenn ihr euch etwas mit mathematischer Notation auskennt, sollte euch dieses Format bekannt vorkommen. Zum Beispiel: x^2, x ∈ {0,1,2,...,10}\n",
    "\n",
    "Lasst uns noch ein paar weitere Beispiel betrachten:"
   ]
  },
  {
   "cell_type": "code",
   "execution_count": 4,
   "metadata": {
    "collapsed": true
   },
   "outputs": [],
   "source": [
    "# Quadratzahlen eines range() in eine Liste schreiben\n",
    "lst = [x**2 for x in range(1,11)]"
   ]
  },
  {
   "cell_type": "code",
   "execution_count": 5,
   "metadata": {},
   "outputs": [
    {
     "data": {
      "text/plain": [
       "[1, 4, 9, 16, 25, 36, 49, 64, 81, 100]"
      ]
     },
     "execution_count": 5,
     "metadata": {},
     "output_type": "execute_result"
    }
   ],
   "source": [
    "# Check\n",
    "lst"
   ]
  },
  {
   "cell_type": "code",
   "execution_count": 6,
   "metadata": {
    "collapsed": true
   },
   "outputs": [],
   "source": [
    "# Check for even numbers in a range\n",
    "lst = [x for x in range(11) if x % 2 == 0]"
   ]
  },
  {
   "cell_type": "code",
   "execution_count": 7,
   "metadata": {},
   "outputs": [
    {
     "data": {
      "text/plain": [
       "[0, 2, 4, 6, 8, 10]"
      ]
     },
     "execution_count": 7,
     "metadata": {},
     "output_type": "execute_result"
    }
   ],
   "source": [
    "# Check\n",
    "lst"
   ]
  },
  {
   "cell_type": "code",
   "execution_count": 9,
   "metadata": {},
   "outputs": [
    {
     "data": {
      "text/plain": [
       "[32.0, 50.0, 68.18, 94.1]"
      ]
     },
     "execution_count": 9,
     "metadata": {},
     "output_type": "execute_result"
    }
   ],
   "source": [
    "# Convert Celsius to Fahrenheit\n",
    "celsius = [0,10,20.1,34.5]\n",
    "\n",
    "fahrenheit = [ ((float(9)/5)*temp + 32) for temp in celsius ]\n",
    "\n",
    "# Check\n",
    "fahrenheit"
   ]
  },
  {
   "cell_type": "code",
   "execution_count": 10,
   "metadata": {},
   "outputs": [
    {
     "data": {
      "text/plain": [
       "[0, 1, 16, 81, 256, 625, 1296, 2401, 4096, 6561, 10000]"
      ]
     },
     "execution_count": 10,
     "metadata": {},
     "output_type": "execute_result"
    }
   ],
   "source": [
    "lst = [ x**2 for x in [x**2 for x in range(11)]]\n",
    "# Check\n",
    "lst"
   ]
  },
  {
   "cell_type": "markdown",
   "metadata": {},
   "source": [
    "Später im Kurs werden wir noch zu Generator Abstraktion kommen. Nach dieser Lektion solltet ihr euch im Umgang mit dem Lesen und Schreiben von list comprehension wohl fühlen."
   ]
  }
 ],
 "metadata": {
  "kernelspec": {
   "display_name": "Python 3",
   "language": "python",
   "name": "python3"
  },
  "language_info": {
   "codemirror_mode": {
    "name": "ipython",
    "version": 3
   },
   "file_extension": ".py",
   "mimetype": "text/x-python",
   "name": "python",
   "nbconvert_exporter": "python",
   "pygments_lexer": "ipython3",
   "version": "3.8.5"
  }
 },
 "nbformat": 4,
 "nbformat_minor": 2
}