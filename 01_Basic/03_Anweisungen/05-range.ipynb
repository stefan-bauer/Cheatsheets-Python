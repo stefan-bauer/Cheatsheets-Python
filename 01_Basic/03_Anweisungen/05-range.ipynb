{
 "cells": [
  {
   "cell_type": "markdown",
   "metadata": {
    "collapsed": true
   },
   "source": [
    "# range()\n",
    "\n",
    "Quelle: Datamics\n",
    "\n",
    "In dieser kurzen Lektion werden wir die `range` Funktion diskutieren. Wir haben bisher noch kein tiefgreifendes Verständnis für Funktionen, aber wir können die Grundlagen dieser einfachen (aber extrem nützlichen!) Funktion verstehen. \n",
    "\n",
    "range() erlaubt es uns, eine Liste von Nummern anzulegen, die von einem Startpunkt zu einem Endpunkt reichen. Wir können dabei außerdem die Schrittgröße festlegen. Die Syntax von `range` sieht folgendermaßen aus:\n",
    "\n",
    "    range(start,ende,schrittgröße)\n",
    "\n",
    "Worauf wir in Python 3 achten müssen ist, dass `range` uns nicht gleich eine Liste ausgibt. Um das zu erreichen können wir die `list` Funktion verwenden, welche syntaktisch wie folgt aussieht:\n",
    "\n",
    "    list(object)\n",
    "\n",
    "Wir können jetzt ein paar Beispiele durchgehen:"
   ]
  },
  {
   "cell_type": "code",
   "execution_count": 5,
   "metadata": {},
   "outputs": [
    {
     "data": {
      "text/plain": [
       "[0, 1, 2, 3, 4, 5, 6, 7, 8, 9]"
      ]
     },
     "execution_count": 5,
     "metadata": {},
     "output_type": "execute_result"
    }
   ],
   "source": [
    "list(range(0,10))"
   ]
  },
  {
   "cell_type": "code",
   "execution_count": 6,
   "metadata": {},
   "outputs": [
    {
     "data": {
      "text/plain": [
       "list"
      ]
     },
     "execution_count": 6,
     "metadata": {},
     "output_type": "execute_result"
    }
   ],
   "source": [
    "x = list(range(0,10))\n",
    "type(x)"
   ]
  },
  {
   "cell_type": "code",
   "execution_count": 7,
   "metadata": {
    "collapsed": true
   },
   "outputs": [],
   "source": [
    "start = 0 # Standard\n",
    "stop = 20\n",
    "x = list(range(start,stop))"
   ]
  },
  {
   "cell_type": "code",
   "execution_count": 8,
   "metadata": {},
   "outputs": [
    {
     "data": {
      "text/plain": [
       "[0, 1, 2, 3, 4, 5, 6, 7, 8, 9, 10, 11, 12, 13, 14, 15, 16, 17, 18, 19]"
      ]
     },
     "execution_count": 8,
     "metadata": {},
     "output_type": "execute_result"
    }
   ],
   "source": [
    "x"
   ]
  },
  {
   "cell_type": "markdown",
   "metadata": {},
   "source": [
    "Großartig! Achtete darauf, wie es bis zur 20 hochging, diese aber nicht beinhaltet. Genau wie beim Indexieren. Wie können wir nun die Schrittgröße eingeben? Wir können einen dritten Parameter übergeben:"
   ]
  },
  {
   "cell_type": "code",
   "execution_count": 9,
   "metadata": {},
   "outputs": [
    {
     "data": {
      "text/plain": [
       "[0, 2, 4, 6, 8, 10, 12, 14, 16, 18]"
      ]
     },
     "execution_count": 9,
     "metadata": {},
     "output_type": "execute_result"
    }
   ],
   "source": [
    "x = list(range(start,stop,2))\n",
    "# Check\n",
    "x"
   ]
  },
  {
   "cell_type": "markdown",
   "metadata": {},
   "source": [
    "Toll! Das war's...oder doch nicht?\n",
    "\n",
    "### Warunung: Speicher!\n",
    "\n",
    "Ihr könntet euch fragen, was passiert, wenn wir eine riesige Bandbreite von zahlen erstellen wollen? Wie kann mein Computer das alles im Speicher behalten?\n",
    "\n",
    "Gut mitgedacht! Das ist ein Dilemma, das durch die Verwendung eines Generators umgangen werden kann. Eine vereinfachte Erklärung: Ein Generator erlaubt die Generierung von generierten Objekten die im dieser Instanz bereitgestellt werden, aber nicht wirklich im Speicher abgelegt werden.\n",
    "\n",
    "Das bedeutet, dass der Generator keine Liste erstellt, wie es range() tut. Stattdessen werden die Zahlen in der Bandbreite einmalig erzeugt. Python 2 hat einen vorinstallierten range Generator names xrange(). Es ist empfehlenswert xrange() für for Loops in Python 2 zu nutzen.\n",
    "\n",
    "Die gute Nachricht ist, dass sich range() in Python 3 wie ein Generator verhält und ihr euch keine weiteren Sorgen machen müsst. Jetzt noch schnell ein Beispiel für xrange()."
   ]
  },
  {
   "cell_type": "code",
   "execution_count": 10,
   "metadata": {},
   "outputs": [
    {
     "name": "stdout",
     "output_type": "stream",
     "text": [
      "0\n",
      "1\n",
      "2\n",
      "3\n",
      "4\n",
      "5\n",
      "6\n",
      "7\n",
      "8\n",
      "9\n"
     ]
    }
   ],
   "source": [
    "for num in range(10):\n",
    "    print(num)"
   ]
  },
  {
   "cell_type": "code",
   "execution_count": 13,
   "metadata": {},
   "outputs": [
    {
     "ename": "NameError",
     "evalue": "name 'xrange' is not defined",
     "output_type": "error",
     "traceback": [
      "\u001b[0;31m---------------------------------------------------------------------------\u001b[0m",
      "\u001b[0;31mNameError\u001b[0m                                 Traceback (most recent call last)",
      "\u001b[0;32m<ipython-input-13-4bc70a6aca1c>\u001b[0m in \u001b[0;36m<module>\u001b[0;34m()\u001b[0m\n\u001b[1;32m      1\u001b[0m \u001b[0;31m# In Python 2 bietet sich xrange() an\u001b[0m\u001b[0;34m\u001b[0m\u001b[0;34m\u001b[0m\u001b[0m\n\u001b[1;32m      2\u001b[0m \u001b[0;31m# Der Code funktioniert so nicht in Python 3\u001b[0m\u001b[0;34m\u001b[0m\u001b[0;34m\u001b[0m\u001b[0m\n\u001b[0;32m----> 3\u001b[0;31m \u001b[0;32mfor\u001b[0m \u001b[0mnum\u001b[0m \u001b[0;32min\u001b[0m \u001b[0mxrange\u001b[0m\u001b[0;34m(\u001b[0m\u001b[0;36m10\u001b[0m\u001b[0;34m)\u001b[0m\u001b[0;34m:\u001b[0m\u001b[0;34m\u001b[0m\u001b[0m\n\u001b[0m\u001b[1;32m      4\u001b[0m     \u001b[0mprint\u001b[0m\u001b[0;34m(\u001b[0m\u001b[0mnum\u001b[0m\u001b[0;34m)\u001b[0m\u001b[0;34m\u001b[0m\u001b[0m\n",
      "\u001b[0;31mNameError\u001b[0m: name 'xrange' is not defined"
     ]
    }
   ],
   "source": [
    "# In Python 2 bietet sich xrange() an\n",
    "# Der Code funktioniert so nicht in Python 3\n",
    "for num in xrange(10):\n",
    "    print(num)"
   ]
  },
  {
   "cell_type": "markdown",
   "metadata": {},
   "source": [
    "Wir werden Errors in einer späteren Lektion genauer untersuchen. Es sei aber bereits darauf verwiesen, dass uns dieser Error anzeigt, dass `xrange` nicht definiert ist. Das liegt daran, dass wir Python 3 verwenden.\n",
    "\n",
    "Der wichtige Takeaway hier ist, dass wenn ihr range() verwenden möchtet, das Ergebnis aber nicht in einer Liste speichern müsst, ihr in Python 2 besser xrange() verwendet. In Python 3 könnt ihr in jedem Fall range() verwenden.\n",
    "\n",
    "Ihr solltet nun verstanden haben, wie man range() in den beiden Python Versionen anwendet."
   ]
  }
 ],
 "metadata": {
  "kernelspec": {
   "display_name": "Python 3",
   "language": "python",
   "name": "python3"
  },
  "language_info": {
   "codemirror_mode": {
    "name": "ipython",
    "version": 3
   },
   "file_extension": ".py",
   "mimetype": "text/x-python",
   "name": "python",
   "nbconvert_exporter": "python",
   "pygments_lexer": "ipython3",
   "version": "3.8.5"
  }
 },
 "nbformat": 4,
 "nbformat_minor": 2
}