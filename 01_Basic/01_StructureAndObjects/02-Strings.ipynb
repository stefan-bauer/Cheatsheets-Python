{
 "cells": [
  {
   "cell_type": "markdown",
   "metadata": {},
   "source": [
    "# Strings\n",
    "Quelle: Datamics\n",
    "\n",
    "`Strings` werden in Python dazu benutzt, um Textinformationen, wie bspw. Namen, festzuhalten. \n",
    "\n",
    "## Sequenzen\n",
    "\n",
    "Genau genommen sind Strings in Python eine Sequenz. Das bedeutet, dass Python jedes einzelne Element in der Sequenz (in diesem Fall ein String) individuell beachtet. Ein Beispiel ist der String \"hallo\", den Python als Sequenz der einzelnen Buchstaben in einer **bestimmten Reihenfolge speichert**. Das hat zur Folge, dass wir später in der Lage sein werden zu **indexieren** und so bestimmte Buchstaben (z.B. den ersten oder letzten) aus einem String auszulesen.\n",
    "\n",
    "Diese Idee einer Sequenz ist wichtig in Python und sie wird uns begleiten.\n",
    "\n",
    "Zu den Sequenzen in Python gehören:\n",
    "\n",
    "* Strings\n",
    "* Listen\n",
    "* Tupel\n",
    "* Binärdaten\n",
    "\n",
    "## Zurück zu Strings\n",
    "\n",
    "In dieser Lektion werden wir folgendes lernen:\n",
    "\n",
    "1. Erstellen von Strings\n",
    "2. Ausgeben von Strings\n",
    "3. Unterschiede in der Ausgabe von Python 2 und Python 3\n",
    "4. Indexierung von Strings und Zerteilen\n",
    "5. String Eigenschaften\n",
    "6. String Methoden\n",
    "7. Ausgabe Formatierung"
   ]
  },
  {
   "cell_type": "markdown",
   "metadata": {},
   "source": [
    "## Erstellen von Strings\n",
    "\n",
    "Um einen String in Python zu erstellen müssen wir entweder einfache oder doppelte Anführungszeichen benutzen. Zum Beispiel:"
   ]
  },
  {
   "cell_type": "code",
   "execution_count": 1,
   "metadata": {},
   "outputs": [
    {
     "output_type": "execute_result",
     "data": {
      "text/plain": [
       "'hallo'"
      ]
     },
     "metadata": {},
     "execution_count": 1
    }
   ],
   "source": [
    "# Einzelnes Wort\n",
    "'hallo'"
   ]
  },
  {
   "cell_type": "code",
   "execution_count": 2,
   "metadata": {},
   "outputs": [
    {
     "output_type": "execute_result",
     "data": {
      "text/plain": [
       "'Das ist ein String'"
      ]
     },
     "metadata": {},
     "execution_count": 2
    }
   ],
   "source": [
    "# Ganze Phrase\n",
    "'Das ist ein String'"
   ]
  },
  {
   "cell_type": "code",
   "execution_count": 3,
   "metadata": {},
   "outputs": [
    {
     "output_type": "execute_result",
     "data": {
      "text/plain": [
       "'String mit doppelten Anführungszeichen'"
      ]
     },
     "metadata": {},
     "execution_count": 3
    }
   ],
   "source": [
    "# Wir können auch doppelte Anführungszeichen benutzen\n",
    "\"String mit doppelten Anführungszeichen\""
   ]
  },
  {
   "cell_type": "code",
   "execution_count": 4,
   "metadata": {},
   "outputs": [
    {
     "output_type": "error",
     "ename": "SyntaxError",
     "evalue": "invalid syntax (<ipython-input-4-c0d31b96601f>, line 2)",
     "traceback": [
      "\u001b[0;36m  File \u001b[0;32m\"<ipython-input-4-c0d31b96601f>\"\u001b[0;36m, line \u001b[0;32m2\u001b[0m\n\u001b[0;31m    'Ich bin's ein String, der Probleme verursacht'\u001b[0m\n\u001b[0m             ^\u001b[0m\n\u001b[0;31mSyntaxError\u001b[0m\u001b[0;31m:\u001b[0m invalid syntax\n"
     ]
    }
   ],
   "source": [
    "# Gebt Acht bei der Verwendung von Anführungszeichen\n",
    "'Ich bin's ein String, der Probleme verursacht'"
   ]
  },
  {
   "cell_type": "code",
   "execution_count": 5,
   "metadata": {},
   "outputs": [
    {
     "data": {
      "text/plain": [
       "\"Ich bin's wieder, aber dieses mal ohne Probleme\""
      ]
     },
     "execution_count": 5,
     "metadata": {},
     "output_type": "execute_result"
    }
   ],
   "source": [
    "\"Ich bin's wieder, aber dieses mal ohne Probleme\""
   ]
  },
  {
   "cell_type": "markdown",
   "metadata": {},
   "source": [
    "Lasst uns jetzt etwas über die Ausgabe von Strings lernen!"
   ]
  },
  {
   "cell_type": "markdown",
   "metadata": {},
   "source": [
    "## Ausgabe von Strings\n",
    "\n",
    "Da wir Jupyter Notebooks benutzen, wird, wenn wir in den Zellen einen String erstellen, dieser automatisch ausgegeben. Die richtige Vorgehensweise, um Strings im Output auszugeben, ist allerdings die Verwendung der `print` Funktion."
   ]
  },
  {
   "cell_type": "code",
   "execution_count": 6,
   "metadata": {},
   "outputs": [
    {
     "data": {
      "text/plain": [
       "'Hallo Welt!'"
      ]
     },
     "execution_count": 6,
     "metadata": {},
     "output_type": "execute_result"
    }
   ],
   "source": [
    "# Wir können einen String einfach deklarieren\n",
    "'Hallo Welt!'"
   ]
  },
  {
   "cell_type": "code",
   "execution_count": 7,
   "metadata": {},
   "outputs": [
    {
     "data": {
      "text/plain": [
       "'Hallo Mond'"
      ]
     },
     "execution_count": 7,
     "metadata": {},
     "output_type": "execute_result"
    }
   ],
   "source": [
    "# Bemerkenswert, dass wir nicht mehrere Strings ausgeben können\n",
    "'Hallo Erde'\n",
    "'Hallo Mond'"
   ]
  },
  {
   "cell_type": "markdown",
   "metadata": {},
   "source": [
    "Wir können aber auch das print Statement verwenden, um den String auszugeben."
   ]
  },
  {
   "cell_type": "code",
   "execution_count": 2,
   "metadata": {},
   "outputs": [
    {
     "name": "stdout",
     "output_type": "stream",
     "text": [
      "Hallo Erde\n",
      "Hallo Mond\n",
      "Nutze \n",
      " um in einer neuen Zeile auszugeben\n",
      "\n",
      "\n",
      "Seht ihr, was ich meine?\n"
     ]
    }
   ],
   "source": [
    "print('Hallo Erde')\n",
    "print('Hallo Mond')\n",
    "print('Nutze \\n um in einer neuen Zeile auszugeben')\n",
    "print('\\n')\n",
    "print('Seht ihr, was ich meine?')\n"
   ]
  },
  {
   "cell_type": "markdown",
   "metadata": {},
   "source": [
    "## String Grundlagen\n",
    "\n",
    "Wir können die Funktion len() nutzen, um die Länge eines Strings zu ermitteln!"
   ]
  },
  {
   "cell_type": "code",
   "execution_count": 9,
   "metadata": {},
   "outputs": [
    {
     "data": {
      "text/plain": [
       "10"
      ]
     },
     "execution_count": 9,
     "metadata": {},
     "output_type": "execute_result"
    }
   ],
   "source": [
    "len('Hallo Welt')"
   ]
  },
  {
   "cell_type": "markdown",
   "metadata": {},
   "source": [
    "## String Indexierung\n",
    "\n",
    "Wir wissen bereits, dass Strings eine Sequenz sind, für die Python einen Index bilden kann, um bestimmte Teile aufzurufen. Lasst uns herausfinden, wie das funktioniert.\n",
    "\n",
    "In Python nutzen wir [] nach einem Objekt, um den Index aufzurufen. Dabei gilt zu beachten, dass der Index in Python bei 0 beginnt. Wir können jetzt ein neues Objekt erstellen und ein paar Beispiele für Indexierung betrachten."
   ]
  },
  {
   "cell_type": "code",
   "execution_count": 41,
   "metadata": {
    "collapsed": true
   },
   "outputs": [],
   "source": [
    "# Dem Objekt s einen String zuweisen\n",
    "s = 'Hallo Welt'"
   ]
  },
  {
   "cell_type": "code",
   "execution_count": 11,
   "metadata": {},
   "outputs": [
    {
     "data": {
      "text/plain": [
       "'Hallo Welt'"
      ]
     },
     "execution_count": 11,
     "metadata": {},
     "output_type": "execute_result"
    }
   ],
   "source": [
    "# Check\n",
    "s"
   ]
  },
  {
   "cell_type": "code",
   "execution_count": 12,
   "metadata": {},
   "outputs": [
    {
     "name": "stdout",
     "output_type": "stream",
     "text": [
      "Hallo Welt\n"
     ]
    }
   ],
   "source": [
    "# Das Objekt ausgeben\n",
    "print(s)"
   ]
  },
  {
   "cell_type": "markdown",
   "metadata": {},
   "source": [
    "Jetzt können wir mit dem Indexieren loslegen."
   ]
  },
  {
   "cell_type": "code",
   "execution_count": 13,
   "metadata": {},
   "outputs": [
    {
     "data": {
      "text/plain": [
       "'H'"
      ]
     },
     "execution_count": 13,
     "metadata": {},
     "output_type": "execute_result"
    }
   ],
   "source": [
    "# Zeige das erste Element (in diesem Fall einen Buchstaben)\n",
    "s[0]"
   ]
  },
  {
   "cell_type": "code",
   "execution_count": 14,
   "metadata": {},
   "outputs": [
    {
     "data": {
      "text/plain": [
       "'a'"
      ]
     },
     "execution_count": 14,
     "metadata": {},
     "output_type": "execute_result"
    }
   ],
   "source": [
    "s[1]"
   ]
  },
  {
   "cell_type": "code",
   "execution_count": 15,
   "metadata": {},
   "outputs": [
    {
     "data": {
      "text/plain": [
       "'l'"
      ]
     },
     "execution_count": 15,
     "metadata": {},
     "output_type": "execute_result"
    }
   ],
   "source": [
    "s[2]"
   ]
  },
  {
   "cell_type": "markdown",
   "metadata": {},
   "source": [
    "## Ausschneiden\n",
    "\n",
    "Wir können einen : verwenden, um Teile eines Strings auszuschneiden (en.: slicing). Der englische Begriff \"*Slicing*\" wird auch im deutschen Sprachgebrauch häufig verwendet. Ihr solltet ihn also im Kopf behalten.\n",
    "\n",
    "Beim Slicing wird alles von einer bis zu einer anderen angegebenen Stelle gewählt. Wir können den Start oder Endpunkt weglassen, um verschiedene besondere Effekte zu erzeugen. Zum Beispiel:"
   ]
  },
  {
   "cell_type": "code",
   "execution_count": 16,
   "metadata": {},
   "outputs": [
    {
     "data": {
      "text/plain": [
       "'allo Welt'"
      ]
     },
     "execution_count": 16,
     "metadata": {},
     "output_type": "execute_result"
    }
   ],
   "source": [
    "# Alles nach dem ersten Index auswählen\n",
    "s[1:]"
   ]
  },
  {
   "cell_type": "code",
   "execution_count": 17,
   "metadata": {},
   "outputs": [
    {
     "data": {
      "text/plain": [
       "'Hallo Welt'"
      ]
     },
     "execution_count": 17,
     "metadata": {},
     "output_type": "execute_result"
    }
   ],
   "source": [
    "# Beachtet, dass sich am Original s nichts ändert\n",
    "s"
   ]
  },
  {
   "cell_type": "code",
   "execution_count": 18,
   "metadata": {},
   "outputs": [
    {
     "data": {
      "text/plain": [
       "'Hal'"
      ]
     },
     "execution_count": 18,
     "metadata": {},
     "output_type": "execute_result"
    }
   ],
   "source": [
    "# Alles bis zum dritten Index auswählen\n",
    "s[:3]"
   ]
  },
  {
   "cell_type": "markdown",
   "metadata": {},
   "source": [
    "Schaut euch die Aufteilung oben genau an. Wir haben Python beauftragt alles von Index 0 bis Index 3 zu nehmen. Dabei wurde der dritte Index nicht eingeschlossen. Ihr werdet feststellen, dass Python Anweisungen und Methoden gewöhnlich im Sinne von \"bis zu, aber nicht einschließlich\" interpretiert."
   ]
  },
  {
   "cell_type": "code",
   "execution_count": 19,
   "metadata": {},
   "outputs": [
    {
     "data": {
      "text/plain": [
       "'Hallo Welt'"
      ]
     },
     "execution_count": 19,
     "metadata": {},
     "output_type": "execute_result"
    }
   ],
   "source": [
    "# Alles\n",
    "s[:]"
   ]
  },
  {
   "cell_type": "markdown",
   "metadata": {},
   "source": [
    "Wir können außerdem negative Indexierung verwenden, um rückwärts zu gehen."
   ]
  },
  {
   "cell_type": "code",
   "execution_count": 20,
   "metadata": {},
   "outputs": [
    {
     "data": {
      "text/plain": [
       "'t'"
      ]
     },
     "execution_count": 20,
     "metadata": {},
     "output_type": "execute_result"
    }
   ],
   "source": [
    "# Der letzte Buchstabe (einer hinter Index 0, \n",
    "# wordurch Python von hinten liest)\n",
    "s[-1]"
   ]
  },
  {
   "cell_type": "code",
   "execution_count": 21,
   "metadata": {},
   "outputs": [
    {
     "data": {
      "text/plain": [
       "'Hallo Wel'"
      ]
     },
     "execution_count": 21,
     "metadata": {},
     "output_type": "execute_result"
    }
   ],
   "source": [
    "# Alles außer dem letzten Buchstaben\n",
    "s[:-1]"
   ]
  },
  {
   "cell_type": "markdown",
   "metadata": {},
   "source": [
    "Zusätzlich können wir den Index nutzen, um Elemente einer Sequenz in bestimmten Schrittgrößen auszuwählen (wobei 1 als Standard gesetzt ist). Das heißt weiter, dass wir zwei Doppelpunkte gefolgt von einer Zahl nutzen können, um die Frequenz zu bestimmen. Ein Beispiel:"
   ]
  },
  {
   "cell_type": "code",
   "execution_count": 22,
   "metadata": {},
   "outputs": [
    {
     "data": {
      "text/plain": [
       "'Hallo Welt'"
      ]
     },
     "execution_count": 22,
     "metadata": {},
     "output_type": "execute_result"
    }
   ],
   "source": [
    "# Wähle alles, aber gehe in Schritten der Größe 1\n",
    "s[::1]"
   ]
  },
  {
   "cell_type": "code",
   "execution_count": 23,
   "metadata": {},
   "outputs": [
    {
     "data": {
      "text/plain": [
       "'HloWl'"
      ]
     },
     "execution_count": 23,
     "metadata": {},
     "output_type": "execute_result"
    }
   ],
   "source": [
    "# Wähle alles, aber gehe in Schritten der Größe 2\n",
    "s[::2]"
   ]
  },
  {
   "cell_type": "code",
   "execution_count": 24,
   "metadata": {},
   "outputs": [
    {
     "data": {
      "text/plain": [
       "'tleW ollaH'"
      ]
     },
     "execution_count": 24,
     "metadata": {},
     "output_type": "execute_result"
    }
   ],
   "source": [
    "# So können wir einen String rückwärts ausgeben\n",
    "s[::-1]"
   ]
  },
  {
   "cell_type": "markdown",
   "metadata": {},
   "source": [
    "## String Eigenschaften\n",
    "\n",
    "Es ist wichtig eine bestimmte Eigenschaft von Strings hervorzuheben: ihre Unveränderlichkeit. \n",
    "\n",
    "Das bedeutet, dass in einem String, sobald er erstellt wurde, die Elemente nicht geändert oder ersetzt werden können. Zum Beispiel:"
   ]
  },
  {
   "cell_type": "code",
   "execution_count": 42,
   "metadata": {},
   "outputs": [
    {
     "data": {
      "text/plain": [
       "'Hallo Welt'"
      ]
     },
     "execution_count": 42,
     "metadata": {},
     "output_type": "execute_result"
    }
   ],
   "source": [
    "s"
   ]
  },
  {
   "cell_type": "code",
   "execution_count": 43,
   "metadata": {},
   "outputs": [
    {
     "ename": "TypeError",
     "evalue": "'str' object does not support item assignment",
     "output_type": "error",
     "traceback": [
      "\u001b[0;31m---------------------------------------------------------------------------\u001b[0m",
      "\u001b[0;31mTypeError\u001b[0m                                 Traceback (most recent call last)",
      "\u001b[0;32m<ipython-input-43-9c0f1465600a>\u001b[0m in \u001b[0;36m<module>\u001b[0;34m()\u001b[0m\n\u001b[1;32m      1\u001b[0m \u001b[0;31m# Wir versuchen den ersten Buchstaben zu einem 'x' zu ändern\u001b[0m\u001b[0;34m\u001b[0m\u001b[0;34m\u001b[0m\u001b[0m\n\u001b[0;32m----> 2\u001b[0;31m \u001b[0ms\u001b[0m\u001b[0;34m[\u001b[0m\u001b[0;36m0\u001b[0m\u001b[0;34m]\u001b[0m\u001b[0;34m=\u001b[0m\u001b[0;34m'x'\u001b[0m\u001b[0;34m\u001b[0m\u001b[0m\n\u001b[0m",
      "\u001b[0;31mTypeError\u001b[0m: 'str' object does not support item assignment"
     ]
    }
   ],
   "source": [
    "# Wir versuchen den ersten Buchstaben zu einem 'x' zu ändern\n",
    "s[0]='x'"
   ]
  },
  {
   "cell_type": "markdown",
   "metadata": {},
   "source": [
    "Beachtet, wie der Error uns genau sagt, was wir nicht tun konnten: die Zuordnung des Elements (en.: item assignment) ändern.\n",
    "\n",
    "Etwas das wir tun können, ist dem String etwas anzuhängen."
   ]
  },
  {
   "cell_type": "code",
   "execution_count": 44,
   "metadata": {},
   "outputs": [
    {
     "data": {
      "text/plain": [
       "'Hallo Welt'"
      ]
     },
     "execution_count": 44,
     "metadata": {},
     "output_type": "execute_result"
    }
   ],
   "source": [
    "s"
   ]
  },
  {
   "cell_type": "code",
   "execution_count": 45,
   "metadata": {},
   "outputs": [
    {
     "data": {
      "text/plain": [
       "'Hallo Welt erweitere mich!'"
      ]
     },
     "execution_count": 45,
     "metadata": {},
     "output_type": "execute_result"
    }
   ],
   "source": [
    "# Strings erweitern\n",
    "s + ' erweitere mich!'"
   ]
  },
  {
   "cell_type": "code",
   "execution_count": 46,
   "metadata": {
    "collapsed": true
   },
   "outputs": [],
   "source": [
    "# Wir können s jedoch komplett überschreiben\n",
    "s = s + ' erweitere mich!'"
   ]
  },
  {
   "cell_type": "code",
   "execution_count": 47,
   "metadata": {},
   "outputs": [
    {
     "name": "stdout",
     "output_type": "stream",
     "text": [
      "Hallo Welt erweitere mich!\n"
     ]
    }
   ],
   "source": [
    "print(s)"
   ]
  },
  {
   "cell_type": "code",
   "execution_count": 48,
   "metadata": {},
   "outputs": [
    {
     "data": {
      "text/plain": [
       "'Hallo Welt erweitere mich!'"
      ]
     },
     "execution_count": 48,
     "metadata": {},
     "output_type": "execute_result"
    }
   ],
   "source": [
    "s"
   ]
  },
  {
   "cell_type": "markdown",
   "metadata": {},
   "source": [
    "Und wir können das Multiplikationszeichen nutzen, um Wiederholungen zu erstellen."
   ]
  },
  {
   "cell_type": "code",
   "execution_count": 49,
   "metadata": {
    "collapsed": true
   },
   "outputs": [],
   "source": [
    "buchstabe = 'z'"
   ]
  },
  {
   "cell_type": "code",
   "execution_count": 50,
   "metadata": {},
   "outputs": [
    {
     "data": {
      "text/plain": [
       "'zzzzzzzzzz'"
      ]
     },
     "execution_count": 50,
     "metadata": {},
     "output_type": "execute_result"
    }
   ],
   "source": [
    "buchstabe*10"
   ]
  },
  {
   "cell_type": "markdown",
   "metadata": {},
   "source": [
    "## Eingebaute grundlegende String Methoden\n",
    "\n",
    "Objekte in Python haben üblicherweise eingebaute Methoden. Diese Methoden sind Funktionen innerhalb eines Objekts (wir werden später noch viel mehr darüber lernen), die Aktionen oder Kommandos am Objekt selbst ausführen.\n",
    "\n",
    "Wir rufen diese Methoden durch einen Punkt und den Methodennamen auf. In folgender Form:\n",
    "\n",
    "    Objekt.Methode(Parameter)\n",
    "\n",
    "Dabei sind Parameter zusätzliche Argumente die wir der Methode auftragen können. Keine Sorge, falls das aktuell noch nicht 100% klar ist. Später werden wir unsere eigenen Objekte und Methoden erstellen!\n",
    "\n",
    "Hier sind einige Beispiele eingebauter Methoden für Strings:"
   ]
  },
  {
   "cell_type": "code",
   "execution_count": 51,
   "metadata": {},
   "outputs": [
    {
     "data": {
      "text/plain": [
       "'Hallo Welt erweitere mich!'"
      ]
     },
     "execution_count": 51,
     "metadata": {},
     "output_type": "execute_result"
    }
   ],
   "source": [
    "s"
   ]
  },
  {
   "cell_type": "code",
   "execution_count": 52,
   "metadata": {},
   "outputs": [
    {
     "data": {
      "text/plain": [
       "'HALLO WELT ERWEITERE MICH!'"
      ]
     },
     "execution_count": 52,
     "metadata": {},
     "output_type": "execute_result"
    }
   ],
   "source": [
    "# String in Großbuchstaben\n",
    "s.upper()"
   ]
  },
  {
   "cell_type": "code",
   "execution_count": 53,
   "metadata": {},
   "outputs": [
    {
     "data": {
      "text/plain": [
       "'hallo welt erweitere mich!'"
      ]
     },
     "execution_count": 53,
     "metadata": {},
     "output_type": "execute_result"
    }
   ],
   "source": [
    "# Kleinbuchstaben\n",
    "s.lower()"
   ]
  },
  {
   "cell_type": "code",
   "execution_count": 54,
   "metadata": {},
   "outputs": [
    {
     "data": {
      "text/plain": [
       "['Hallo', 'Welt', 'erweitere', 'mich!']"
      ]
     },
     "execution_count": 54,
     "metadata": {},
     "output_type": "execute_result"
    }
   ],
   "source": [
    "# Einen String bei den \n",
    "# Leerzeichen (das ist die Standardeinstellung) trennen\n",
    "s.split()"
   ]
  },
  {
   "cell_type": "code",
   "execution_count": 55,
   "metadata": {},
   "outputs": [
    {
     "data": {
      "text/plain": [
       "['Hallo ', 'elt erweitere mich!']"
      ]
     },
     "execution_count": 55,
     "metadata": {},
     "output_type": "execute_result"
    }
   ],
   "source": [
    "# Bei einem speziellen Element trennen\n",
    "# (wobei das Element nicht enthalten bleibt)\n",
    "s.split('W')"
   ]
  },
  {
   "cell_type": "markdown",
   "metadata": {},
   "source": [
    "Es gibt viele weitere Methoden über die hinaus, die hier behandelt wurden. Wenn wir uns Fortgeschrittene Strings anschauen, lernen wir noch mehr davon."
   ]
  },
  {
   "cell_type": "markdown",
   "metadata": {},
   "source": [
    "## Print Formatierung\n",
    "\n",
    "Wir können die .format() Methode benutzen, um formatierte Objekte zu ausgegebenen Strings hinzuzufügen.\n",
    "\n",
    "Am leichtesten ist dies an einem Beispiel erklärt:"
   ]
  },
  {
   "cell_type": "code",
   "execution_count": 56,
   "metadata": {},
   "outputs": [
    {
     "data": {
      "text/plain": [
       "'Fuegt einen weiteren String mit geschwungenen Klammern hinzu: Der eingefuegte String'"
      ]
     },
     "execution_count": 56,
     "metadata": {},
     "output_type": "execute_result"
    }
   ],
   "source": [
    "'Fuegt einen weiteren String mit geschwungenen Klammern hinzu: {}'.format('Der eingefuegte String')"
   ]
  },
  {
   "cell_type": "markdown",
   "metadata": {},
   "source": [
    "Wir werden der print Formatierung noch mehr Beachtung schenken, wenn wir in einer späteren Lektion an unseren Projekten arbeiten.\n",
    "\n",
    "Im nächsten Kapitel beschäftigen wir uns mit: Listen."
   ]
  }
 ],
 "metadata": {
  "kernelspec": {
   "display_name": "Python 3",
   "language": "python",
   "name": "python3"
  },
  "language_info": {
   "codemirror_mode": {
    "name": "ipython",
    "version": 3
   },
   "file_extension": ".py",
   "mimetype": "text/x-python",
   "name": "python",
   "nbconvert_exporter": "python",
   "pygments_lexer": "ipython3",
   "version": "3.8.5"
  }
 },
 "nbformat": 4,
 "nbformat_minor": 2
}