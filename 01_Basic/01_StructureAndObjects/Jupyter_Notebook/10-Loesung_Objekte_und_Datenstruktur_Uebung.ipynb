{
 "cells": [
  {
   "cell_type": "markdown",
   "metadata": {
    "collapsed": true
   },
   "source": [
    "# Objekte und Datenstrukturen Übung - Lösung\n",
    "\n",
    "Quelle: Datamics\n",
    "\n",
    "## Teste dein Wissen\n",
    "\n",
    "#### Beantworte die folgenden Fragen:\n",
    "\n",
    "Schreibe eine kurze Beschreibung aller folgenden Objekt Typen und Daten Strukturen:\n",
    "\n",
    "\n",
    "## Zahlen\n",
    "\n",
    "Schreibe eine Gleichung, die Multiplikation, Division, einen Exponenten, Addition und Subtraktion nutzt und 100.25 ergibt.\n",
    "\n",
    "Hinweis: Es geht nur darum, die grundsätzlichen Funktionen der Arithmetik zu kennen, ihr könnt vom Ergebnis aus starten."
   ]
  },
  {
   "cell_type": "code",
   "execution_count": 1,
   "metadata": {},
   "outputs": [
    {
     "output_type": "execute_result",
     "data": {
      "text/plain": [
       "100.25"
      ]
     },
     "metadata": {},
     "execution_count": 1
    }
   ],
   "source": [
    "# Eure Antwort ist vermutlich anders\n",
    "( (200000 + (10 ** 5) ) / (12 * 25) ) - 899.75"
   ]
  },
  {
   "cell_type": "markdown",
   "metadata": {},
   "source": [
    "Erkläre, was die nächste Zelle ergeben wird und warum es in Python 2 anders wäre."
   ]
  },
  {
   "cell_type": "code",
   "execution_count": 2,
   "metadata": {},
   "outputs": [
    {
     "output_type": "execute_result",
     "data": {
      "text/plain": [
       "0.6666666666666666"
      ]
     },
     "metadata": {},
     "execution_count": 2
    }
   ],
   "source": [
    "2/3"
   ]
  },
  {
   "cell_type": "markdown",
   "metadata": {},
   "source": [
    "#### Antwort: Python 2 führt klassische Division für Zahlen durch. Dort müssen wir Gleitkommazahlen nutzen. Zum Beispiel: 2.0/3 \n",
    "\n",
    "Beantworte diese 3 Fragen, ohne den Code zu schreiben. Dann schreibe den Code und überprüfe deine Ergebnisse.\n",
    "\n",
    "1| Was ist das Ergebnis der folgenden Berechnungen?\n",
    "    \n",
    "    4 * (6 + 5)\n",
    "    \n",
    "    4 * 6 + 5 \n",
    "    \n",
    "    4 + 6 * 5 "
   ]
  },
  {
   "cell_type": "code",
   "execution_count": 3,
   "metadata": {},
   "outputs": [
    {
     "output_type": "execute_result",
     "data": {
      "text/plain": [
       "44"
      ]
     },
     "metadata": {},
     "execution_count": 3
    }
   ],
   "source": [
    "4 * (6 + 5)"
   ]
  },
  {
   "cell_type": "code",
   "execution_count": 4,
   "metadata": {},
   "outputs": [
    {
     "output_type": "execute_result",
     "data": {
      "text/plain": [
       "29"
      ]
     },
     "metadata": {},
     "execution_count": 4
    }
   ],
   "source": [
    "4 * 6 + 5 "
   ]
  },
  {
   "cell_type": "code",
   "execution_count": 5,
   "metadata": {},
   "outputs": [
    {
     "output_type": "execute_result",
     "data": {
      "text/plain": [
       "34"
      ]
     },
     "metadata": {},
     "execution_count": 5
    }
   ],
   "source": [
    "4 + 6 * 5 "
   ]
  },
  {
   "cell_type": "markdown",
   "metadata": {},
   "source": [
    "2| Welchem <i>Typ</i> entspricht das Ergebnis der Gleichung 3 + 1.5 + 4?"
   ]
  },
  {
   "cell_type": "markdown",
   "metadata": {
    "collapsed": true
   },
   "source": [
    "#### Antwort: Gleitkommazahl"
   ]
  },
  {
   "cell_type": "markdown",
   "metadata": {},
   "source": [
    "3| Was würdest du verwenden, um die Quadratwurzel einer Zahl zu erhalten und was für die Quadratur?"
   ]
  },
  {
   "cell_type": "code",
   "execution_count": 6,
   "metadata": {},
   "outputs": [
    {
     "output_type": "execute_result",
     "data": {
      "text/plain": [
       "10.0"
      ]
     },
     "metadata": {},
     "execution_count": 6
    }
   ],
   "source": [
    "100 ** 0.5"
   ]
  },
  {
   "cell_type": "code",
   "execution_count": 7,
   "metadata": {},
   "outputs": [
    {
     "output_type": "execute_result",
     "data": {
      "text/plain": [
       "100"
      ]
     },
     "metadata": {},
     "execution_count": 7
    }
   ],
   "source": [
    "10 ** 2"
   ]
  },
  {
   "cell_type": "markdown",
   "metadata": {},
   "source": [
    "## Strings\n",
    "\n",
    "Wir nehmen den String \"Hallo\" als Ausgangsposition. Nutze ein Index Kommando, dass den Buchstaben \"a\" zurückgibt. Nutze die nächste Zelle:"
   ]
  },
  {
   "cell_type": "code",
   "execution_count": 8,
   "metadata": {},
   "outputs": [
    {
     "output_type": "execute_result",
     "data": {
      "text/plain": [
       "'a'"
      ]
     },
     "metadata": {},
     "execution_count": 8
    }
   ],
   "source": [
    "s = \"Hallo\"\n",
    "# Gebe \"a\" aus, indem du Index verwendest\n",
    "s[1]"
   ]
  },
  {
   "cell_type": "markdown",
   "metadata": {},
   "source": [
    "Den String \"Hallo\" rückwärst schreiben:"
   ]
  },
  {
   "cell_type": "code",
   "execution_count": 9,
   "metadata": {},
   "outputs": [
    {
     "output_type": "execute_result",
     "data": {
      "text/plain": [
       "'ollaH'"
      ]
     },
     "metadata": {},
     "execution_count": 9
    }
   ],
   "source": [
    "s = \"Hallo\"\n",
    "# Schreibe s rückwärts, indem du Index verwendest\n",
    "s[::-1]"
   ]
  },
  {
   "cell_type": "markdown",
   "metadata": {},
   "source": [
    "Zeige zwei Methoden, um den Buchstaben \"o\" durch Index zu erhalten:"
   ]
  },
  {
   "cell_type": "code",
   "execution_count": 10,
   "metadata": {},
   "outputs": [
    {
     "output_type": "execute_result",
     "data": {
      "text/plain": [
       "'o'"
      ]
     },
     "metadata": {},
     "execution_count": 10
    }
   ],
   "source": [
    "s = \"Hallo\"\n",
    "# Lösung 1\n",
    "s[-1]\n",
    "# Lösung 2\n",
    "s[4]"
   ]
  },
  {
   "cell_type": "markdown",
   "metadata": {},
   "source": [
    "## Listen\n",
    "\n",
    "Erstelle die Liste [0,0,0] auf zwei unterschiedliche Arten."
   ]
  },
  {
   "cell_type": "code",
   "execution_count": 11,
   "metadata": {},
   "outputs": [
    {
     "output_type": "execute_result",
     "data": {
      "text/plain": [
       "[0, 0, 0]"
      ]
     },
     "metadata": {},
     "execution_count": 11
    }
   ],
   "source": [
    "# Methode 1\n",
    "[0]*3\n",
    "# Methode 2\n",
    "l = [0,0,0]\n",
    "l"
   ]
  },
  {
   "cell_type": "markdown",
   "metadata": {},
   "source": [
    "Ersetze in dieser verschachtelten Liste \"Hallo\", um stattdessen \"Auf Wiedersehen\" zu sagen."
   ]
  },
  {
   "cell_type": "code",
   "execution_count": 12,
   "metadata": {},
   "outputs": [
    {
     "output_type": "execute_result",
     "data": {
      "text/plain": [
       "[1, 2, [3, 4, 'Auf wiedersehen']]"
      ]
     },
     "metadata": {},
     "execution_count": 12
    }
   ],
   "source": [
    "l = [1,2,[3,4,'Hallo']]\n",
    "l[2][2] = 'Auf wiedersehen'\n",
    "l"
   ]
  },
  {
   "cell_type": "markdown",
   "metadata": {},
   "source": [
    "Sortiere die folgende Liste:"
   ]
  },
  {
   "cell_type": "code",
   "execution_count": 13,
   "metadata": {},
   "outputs": [
    {
     "output_type": "execute_result",
     "data": {
      "text/plain": [
       "[3, 4, 5, 5, 6]"
      ]
     },
     "metadata": {},
     "execution_count": 13
    }
   ],
   "source": [
    "l = [3,4,5,5,6]\n",
    "# Methode 1\n",
    "sorted(l)\n",
    "# Methode 2\n",
    "l.sort()\n",
    "l"
   ]
  },
  {
   "cell_type": "markdown",
   "metadata": {},
   "source": [
    "## Dictionaries\n",
    "\n",
    "Schnappe dir das \"Hallo\" aus folgendem Dictionary indem du Keys und Index benutzt:"
   ]
  },
  {
   "cell_type": "code",
   "execution_count": 14,
   "metadata": {},
   "outputs": [
    {
     "output_type": "execute_result",
     "data": {
      "text/plain": [
       "'Hallo'"
      ]
     },
     "metadata": {},
     "execution_count": 14
    }
   ],
   "source": [
    "d = {'Einfacher_Key':'Hallo'}\n",
    "# Das \"Hallo\" ausgeben\n",
    "d['Einfacher_Key']"
   ]
  },
  {
   "cell_type": "code",
   "execution_count": 15,
   "metadata": {},
   "outputs": [
    {
     "output_type": "execute_result",
     "data": {
      "text/plain": [
       "'Hallo'"
      ]
     },
     "metadata": {},
     "execution_count": 15
    }
   ],
   "source": [
    "d = {'k1':{'k2':'Hallo'}}\n",
    "# Das \"Hallo\" ausgeben\n",
    "d['k1']['k2']"
   ]
  },
  {
   "cell_type": "code",
   "execution_count": 16,
   "metadata": {},
   "outputs": [
    {
     "output_type": "execute_result",
     "data": {
      "text/plain": [
       "'Hallo'"
      ]
     },
     "metadata": {},
     "execution_count": 16
    }
   ],
   "source": [
    "# Es wird etwas tiefer\n",
    "d = {'k1':[{'key_ebene2':['das ist tief',['Hallo']]}]}\n",
    "# Das \"Hallo\" ausgeben\n",
    "d['k1'][0]['key_ebene2'][1][0]"
   ]
  },
  {
   "cell_type": "code",
   "execution_count": 17,
   "metadata": {},
   "outputs": [
    {
     "output_type": "execute_result",
     "data": {
      "text/plain": [
       "'Hallo'"
      ]
     },
     "metadata": {},
     "execution_count": 17
    }
   ],
   "source": [
    "# Das wird jetzt schwer und etwas nervig!\n",
    "d = {'k1':[1,2,{'k2':['etwas kompliziert',{'schwer':[1,2,['Hallo']]}]}]}\n",
    "# Das \"Hallo\" ausgeben\n",
    "d['k1'][2]['k2'][1]['schwer'][2][0]"
   ]
  },
  {
   "cell_type": "markdown",
   "metadata": {},
   "source": [
    "Kann man ein Dictionary sortieren? Warum oder warum nicht?\n",
    "\n",
    "#### Antwort: Nein! Das liegt daran, dass sie keine Sequenz sind.\n",
    "\n",
    "## Tupel\n",
    "\n",
    "Was ist der Hauptunterschied zwischen Tupeln und Listen?\n",
    "\n",
    "#### Tupel sind unveränderlich\n",
    "\n",
    "Wie erstellt man ein Tupel?\n",
    "\n",
    "    t = (1,2,3)\n",
    "\n",
    "## Set\n",
    "\n",
    "Was ist einzigartig an Sets?\n",
    "\n",
    "Benutze ein Set, um die einzigartigen Werte der folgenden Liste zu finden:"
   ]
  },
  {
   "cell_type": "code",
   "execution_count": 18,
   "metadata": {},
   "outputs": [
    {
     "output_type": "execute_result",
     "data": {
      "text/plain": [
       "{1, 2, 3, 4, 11, 22, 33}"
      ]
     },
     "metadata": {},
     "execution_count": 18
    }
   ],
   "source": [
    "l = [1,2,2,33,4,4,11,22,3,3,2]\n",
    "# Set erstellen\n",
    "set(l)"
   ]
  },
  {
   "cell_type": "markdown",
   "metadata": {},
   "source": [
    "## Booleans\n",
    "\n",
    "Für das folgende Quiz, bekommen wir hier eine Vorschau für die Vergleichsoperatoren:\n",
    "<table class=\"table table-bordered\">\n",
    "<tr>\n",
    "<th style=\"width:10%\">Operator</th><th style=\"width:45%\">Beschreibung</th><th>Beispiel</th>\n",
    "</tr>\n",
    "<tr>\n",
    "<td>==</td>\n",
    "<td>Wenn der Wert zweier Operanten gleich ist, wird die Bedingung True (wahr).</td>\n",
    "<td> (a == b) ist nicht True.</td>\n",
    "</tr>\n",
    "<tr>\n",
    "<td>!=</td>\n",
    "<td>Wenn der Wert zweier Operanten nicht gleich ist, wird die Bedingung True (wahr).</td>\n",
    "<td>(a != b) ist True</td>\n",
    "</tr>\n",
    "<tr>\n",
    "<td>&gt;</td>\n",
    "<td>Wenn der Wert des linken Operanten größer als der des rechten ist, dann wird die Bedingung True (wahr).</td>\n",
    "<td> (a &gt; b) ist nicht Wahr.</td>\n",
    "</tr>\n",
    "<tr>\n",
    "<td>&lt;</td>\n",
    "<td>Wenn der Wert des linken Operanten kleiner als der des rechten ist, dann wird die Bedingung True (wahr).</td>\n",
    "<td> (a &lt; b) ist True (wahr).</td>\n",
    "</tr>\n",
    "<tr>\n",
    "<td>&gt;=</td>\n",
    "<td>Wenn der Wert des linken Operanten größer als oder gleich dem des rechten ist, dann wird die Bedingung True (wahr).</td>\n",
    "<td> (a &gt;= b) ist nicht True (wahr). </td>\n",
    "</tr>\n",
    "<tr>\n",
    "<td>&lt;=</td>\n",
    "<td>Wenn der Wert des linken Operanten kleiner als oder gleich dem des rechten ist, dann wird die Bedingung True (wahr).</td>\n",
    "<td> (a &lt;= b) ist True (wahr). </td>\n",
    "</tr>\n",
    "</table>\n",
    "\n",
    "Was wird der Boolean Wert sein, den folgende Codes erzeugen? Antwortet bevor ihr die Zellen ausführt!"
   ]
  },
  {
   "cell_type": "code",
   "execution_count": 19,
   "metadata": {},
   "outputs": [
    {
     "output_type": "execute_result",
     "data": {
      "text/plain": [
       "False"
      ]
     },
     "metadata": {},
     "execution_count": 19
    }
   ],
   "source": [
    "# Zuerst beantworten, dann ausführen\n",
    "2 > 3"
   ]
  },
  {
   "cell_type": "code",
   "execution_count": 20,
   "metadata": {},
   "outputs": [
    {
     "output_type": "execute_result",
     "data": {
      "text/plain": [
       "False"
      ]
     },
     "metadata": {},
     "execution_count": 20
    }
   ],
   "source": [
    "# Zuerst beantworten, dann ausführen\n",
    "3 <= 2"
   ]
  },
  {
   "cell_type": "code",
   "execution_count": 21,
   "metadata": {},
   "outputs": [
    {
     "output_type": "execute_result",
     "data": {
      "text/plain": [
       "False"
      ]
     },
     "metadata": {},
     "execution_count": 21
    }
   ],
   "source": [
    "# Zuerst beantworten, dann ausführen\n",
    "3 == 2.0"
   ]
  },
  {
   "cell_type": "code",
   "execution_count": 22,
   "metadata": {},
   "outputs": [
    {
     "output_type": "execute_result",
     "data": {
      "text/plain": [
       "True"
      ]
     },
     "metadata": {},
     "execution_count": 22
    }
   ],
   "source": [
    "# Zuerst beantworten, dann ausführen\n",
    "3.0 == 3"
   ]
  },
  {
   "cell_type": "code",
   "execution_count": 23,
   "metadata": {},
   "outputs": [
    {
     "output_type": "execute_result",
     "data": {
      "text/plain": [
       "False"
      ]
     },
     "metadata": {},
     "execution_count": 23
    }
   ],
   "source": [
    "# Zuerst beantworten, dann ausführen\n",
    "4**0.5 != 2"
   ]
  },
  {
   "cell_type": "markdown",
   "metadata": {},
   "source": [
    "Letzte Frage: Was ergibt der folgende Codeblock?"
   ]
  },
  {
   "cell_type": "code",
   "execution_count": 24,
   "metadata": {},
   "outputs": [
    {
     "output_type": "execute_result",
     "data": {
      "text/plain": [
       "False"
      ]
     },
     "metadata": {},
     "execution_count": 24
    }
   ],
   "source": [
    "# Zwei verschachtelte Listen\n",
    "l_one = [1,2,[3,4]]\n",
    "l_two = [1,2,{'k1':4}]\n",
    "\n",
    "#True or False?\n",
    "l_one[2][0] >= l_two[2]['k1']"
   ]
  },
  {
   "cell_type": "markdown",
   "metadata": {},
   "source": [
    "## Gut gemacht! Das war deine erste Übung."
   ]
  }
 ],
 "metadata": {
  "kernelspec": {
   "display_name": "Python 3",
   "language": "python",
   "name": "python3"
  },
  "language_info": {
   "codemirror_mode": {
    "name": "ipython",
    "version": 3
   },
   "file_extension": ".py",
   "mimetype": "text/x-python",
   "name": "python",
   "nbconvert_exporter": "python",
   "pygments_lexer": "ipython3",
   "version": "3.8.5"
  }
 },
 "nbformat": 4,
 "nbformat_minor": 2
}