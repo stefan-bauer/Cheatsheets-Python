{
 "cells": [
  {
   "cell_type": "markdown",
   "metadata": {
    "collapsed": true
   },
   "source": [
    "# Ausgabe Formatierung\n",
    "Quelle: Datamics\n",
    "In dieser Lektion werden wir kurz behandeln, auf welche verschiedene Arten wir unsere print Anweisungen formatieren können. Da wir mehr und mehr programmieren wird es nützlich sein, print Anweisungen zu haben, in denen eine Variable eingesetzt wird.\n",
    "\n",
    "Das einfachste Beispiel für eine print Anweisung ist folgendes:"
   ]
  },
  {
   "cell_type": "code",
   "execution_count": 1,
   "metadata": {},
   "outputs": [
    {
     "output_type": "stream",
     "name": "stdout",
     "text": [
      "Das ist ein String\n"
     ]
    }
   ],
   "source": [
    "print(\"Das ist ein String\")"
   ]
  },
  {
   "cell_type": "markdown",
   "metadata": {},
   "source": [
    "## Strings\n",
    "\n",
    "Wir können %s nutzen, um Strings in unser print Statement einzufügen."
   ]
  },
  {
   "cell_type": "code",
   "execution_count": 2,
   "metadata": {},
   "outputs": [
    {
     "output_type": "stream",
     "name": "stdout",
     "text": [
      "Setze einen String mit einem mod und s ein: STRING\n"
     ]
    }
   ],
   "source": [
    "s = 'STRING'\n",
    "print('Setze einen String mit einem mod und s ein: %s' %(s))"
   ]
  },
  {
   "cell_type": "markdown",
   "metadata": {},
   "source": [
    "## Kommazahlen\n",
    "\n",
    "Kommazahlen nutzen das Format %n1.n2f, wobei das n1 für die Mindestanzahl an Stellen bestimmt, die der String beinhalten soll. Diese werden durch Leerzeichen ersetzt, sollte die Zahl nicht so viele Stellen haben. Der n2 Platzhalter steht dafür, wie viele Zahlen nach dem Dezimalpunkt angezeigt werden sollen. Schauen wir uns einige Beispiele an:"
   ]
  },
  {
   "cell_type": "code",
   "execution_count": 3,
   "metadata": {},
   "outputs": [
    {
     "output_type": "stream",
     "name": "stdout",
     "text": [
      "Kommazahlen: 13.14\n"
     ]
    }
   ],
   "source": [
    "print('Kommazahlen: %1.2f' %(13.144))"
   ]
  },
  {
   "cell_type": "code",
   "execution_count": 4,
   "metadata": {},
   "outputs": [
    {
     "output_type": "stream",
     "name": "stdout",
     "text": [
      "Kommazahlen: 13\n"
     ]
    }
   ],
   "source": [
    "print('Kommazahlen: %1.0f' %(13.144))"
   ]
  },
  {
   "cell_type": "code",
   "execution_count": 5,
   "metadata": {},
   "outputs": [
    {
     "output_type": "stream",
     "name": "stdout",
     "text": [
      "Kommazahlen: 13.14400\n"
     ]
    }
   ],
   "source": [
    "print('Kommazahlen: %1.5f' %(13.144))"
   ]
  },
  {
   "cell_type": "code",
   "execution_count": 6,
   "metadata": {},
   "outputs": [
    {
     "output_type": "stream",
     "name": "stdout",
     "text": [
      "Kommazahlen:      13.14\n"
     ]
    }
   ],
   "source": [
    "print('Kommazahlen: %10.2f' %(13.144))"
   ]
  },
  {
   "cell_type": "code",
   "execution_count": 7,
   "metadata": {},
   "outputs": [
    {
     "output_type": "stream",
     "name": "stdout",
     "text": [
      "Kommazahlen:                     13.14\n"
     ]
    }
   ],
   "source": [
    "print('Kommazahlen: %25.2f' %(13.144))"
   ]
  },
  {
   "cell_type": "markdown",
   "metadata": {},
   "source": [
    "## Umwandlungsformat Methoden\n",
    "\n",
    "Es sollte an dieser Stelle angemerkt werden, dass die zwei Methoden %s und &r jedes Python Objekt in einen String umwandeln. Dabei werden zwei unterschiedliche Methoden verwendet: str() und repr(). Wir werden später noch mehr über diese Methoden lernen, aber wir können uns bereits merken, dass nahezu jedes Python Objekt durch diese Methoden übergeben werden kann."
   ]
  },
  {
   "cell_type": "code",
   "execution_count": 8,
   "metadata": {},
   "outputs": [
    {
     "output_type": "stream",
     "name": "stdout",
     "text": [
      "Hier ist eine Nummer: 123.1. Hier ist ein String: Hi\n"
     ]
    }
   ],
   "source": [
    "print('Hier ist eine Nummer: %s. Hier ist ein String: %s' %(123.1,'Hi'))"
   ]
  },
  {
   "cell_type": "code",
   "execution_count": 9,
   "metadata": {},
   "outputs": [
    {
     "output_type": "stream",
     "name": "stdout",
     "text": [
      "Hier ist eine Nummer: 123.1. Hier ist ein String: 'Hi'\n"
     ]
    }
   ],
   "source": [
    "print('Hier ist eine Nummer: %r. Hier ist ein String: %r' %(123.1,'Hi'))"
   ]
  },
  {
   "cell_type": "markdown",
   "metadata": {},
   "source": [
    "## Multiples Formatieren\n",
    "\n",
    "Wir können ein Tupel an das mod Symbol übergeben um multiple Formate in unserem print Statement auszugeben:"
   ]
  },
  {
   "cell_type": "code",
   "execution_count": 10,
   "metadata": {},
   "outputs": [
    {
     "output_type": "stream",
     "name": "stdout",
     "text": [
      "Erstens: Hi!, Zweitens: 3.14, Drittens: 22\n"
     ]
    }
   ],
   "source": [
    "print('Erstens: %s, Zweitens: %1.2f, Drittens: %r' %('Hi!',3.14,22))"
   ]
  },
  {
   "cell_type": "markdown",
   "metadata": {},
   "source": [
    "## Nutzen der string .format() Methode\n",
    "\n",
    "Der beste Weg um Objekte in unsere Strings zu formatieren ist es, die `format` Methode zu nutzen. Die Syntax lautet:\n",
    "\n",
    "    'String hier {var1} und {var2}' .format(var1='Etwas1',var2='Etwas2')\n",
    "    \n",
    "Hier sind einige Beispiele:"
   ]
  },
  {
   "cell_type": "code",
   "execution_count": 11,
   "metadata": {},
   "outputs": [
    {
     "output_type": "stream",
     "name": "stdout",
     "text": [
      "Das ist ein String mit einer Einfügung\n"
     ]
    }
   ],
   "source": [
    "print('Das ist ein String mit einer {p}' .format(p='Einfügung'))"
   ]
  },
  {
   "cell_type": "code",
   "execution_count": 12,
   "metadata": {},
   "outputs": [
    {
     "output_type": "stream",
     "name": "stdout",
     "text": [
      "Eins: Hi!, Zwei: Hi!, Drei: Hi!\n"
     ]
    }
   ],
   "source": [
    "# Mehrere male:\n",
    "print('Eins: {p}, Zwei: {p}, Drei: {p}' .format(p='Hi!'))"
   ]
  },
  {
   "cell_type": "code",
   "execution_count": 13,
   "metadata": {},
   "outputs": [
    {
     "output_type": "stream",
     "name": "stdout",
     "text": [
      "Objekt 1: 1, Objekt 2: zwei, Objekt 3: 12.3\n"
     ]
    }
   ],
   "source": [
    "# Mehrere Objekte:\n",
    "print('Objekt 1: {a}, Objekt 2: {b}, Objekt 3: {c}' .format(a=1,b='zwei',c=12.3))"
   ]
  },
  {
   "cell_type": "markdown",
   "metadata": {},
   "source": [
    "Das sind die Grundlagen der String Formatierung. Denkt daran, dass Python 2 die print \"...\" Anweisung nutzt, nicht die print Funktion!"
   ]
  }
 ],
 "metadata": {
  "kernelspec": {
   "display_name": "Python 3",
   "language": "python",
   "name": "python3"
  },
  "language_info": {
   "codemirror_mode": {
    "name": "ipython",
    "version": 3
   },
   "file_extension": ".py",
   "mimetype": "text/x-python",
   "name": "python",
   "nbconvert_exporter": "python",
   "pygments_lexer": "ipython3",
   "version": "3.8.5"
  }
 },
 "nbformat": 4,
 "nbformat_minor": 2
}