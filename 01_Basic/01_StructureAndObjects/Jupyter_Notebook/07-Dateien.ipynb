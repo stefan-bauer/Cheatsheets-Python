{
 "cells": [
  {
   "cell_type": "markdown",
   "metadata": {
    "collapsed": true
   },
   "source": [
    "# Dateien\n",
    "\n",
    "Quelle: Datamics\n",
    "\n",
    "Python nutzt Datei Objekte, um mit externen Dateien auf Computern zu interagieren. Diese Datei Objekte können jegliche Art von Datei sein, die du auf deinem Computer hast: von Audio-, über Text- und E-Mail-Daten bis hin zu Excel Dokumenten usw. Dabei gilt es zu beachten, dass wahrscheinlich einige Libraries oder Module installiert werden müssen, um mit den verschiedenen Dateitypen zu interagieren. Diese sind simpel zu erhalten (wir werden den Download von Modulen später behandeln). \n",
    "\n",
    "## Hintergrund zu Dateien\n",
    "\n",
    "Was Dateien auszeichnet ist, dass sie auch unabhängig von der Programmausführung bestehen können. Anders als es bspw. unsere Variablen im Code tun. Dateien werden deshalb als nicht flüchtig bzw. als persistent bezeichnet.\n",
    "\n",
    "*Randnotiz: Das Wort \"Datei\" ist eine Schöpfung aus den beiden deutschen Wörtern \"Daten\" und \"Kartei\".*\n",
    "\n",
    "Die Daten (also Nullen und Einsen), die in einer Datei gespeichert sind, erhalten im Endeffekt immer erst durch ein Programm oder das Betriebssystem eine Bedeutung. \n",
    "\n",
    "## Dateien in Python\n",
    "\n",
    "Python bietet eine vorinstallierte *Öffnen* Funktion, die es uns erlaubt, mit grundlegenden Datei Typen zu arbeiten. Als erstes brauchen wir jedoch eine Datei. Wir werden iPython \"Magie\" nutzen, um eine Text Datei zu erstellen.\n",
    "\n",
    "## iPython Datei Erstellung"
   ]
  },
  {
   "cell_type": "code",
   "execution_count": 1,
   "metadata": {},
   "outputs": [
    {
     "name": "stdout",
     "output_type": "stream",
     "text": [
      "Writing test.txt\n"
     ]
    }
   ],
   "source": [
    "%%writefile test.txt\n",
    "Hallo, das ist eine kurze Testdatei"
   ]
  },
  {
   "cell_type": "markdown",
   "metadata": {},
   "source": [
    "## Python öffnet eine Datei\n",
    "\n",
    "Wir können eine Datei mit der open() Funktion öffnen. Die open Funktion hat Parameter als Input. Lasst uns anschauen, wie es funktioniert:"
   ]
  },
  {
   "cell_type": "code",
   "execution_count": 2,
   "metadata": {
    "collapsed": true
   },
   "outputs": [],
   "source": [
    "# Die text.txt Datei öffnen, die wir gerade erstellt haben\n",
    "my_file = open('test.txt')"
   ]
  },
  {
   "cell_type": "code",
   "execution_count": 3,
   "metadata": {},
   "outputs": [
    {
     "data": {
      "text/plain": [
       "'Hallo, das ist eine kurze Testdatei'"
      ]
     },
     "execution_count": 3,
     "metadata": {},
     "output_type": "execute_result"
    }
   ],
   "source": [
    "# Jetzt können wir den Inhalt der Datei lesen\n",
    "my_file.read()"
   ]
  },
  {
   "cell_type": "code",
   "execution_count": 4,
   "metadata": {},
   "outputs": [
    {
     "data": {
      "text/plain": [
       "''"
      ]
     },
     "execution_count": 4,
     "metadata": {},
     "output_type": "execute_result"
    }
   ],
   "source": [
    "# Was passiert aber, wenn wir erneut lesen wollen?\n",
    "my_file.read()"
   ]
  },
  {
   "cell_type": "markdown",
   "metadata": {},
   "source": [
    "Das passiert, weil man sich Python beim Lesen als Cursor vorstellen kann, der bis zum Ende der Datei geht. Dort bleibt er stehen und befindet sich dort nach dem ersten read Befehl. Es gibt also nichts mehr zu lesen. Wir können den Cursor folgendermaßen zurücksetzen:"
   ]
  },
  {
   "cell_type": "code",
   "execution_count": 5,
   "metadata": {},
   "outputs": [
    {
     "data": {
      "text/plain": [
       "0"
      ]
     },
     "execution_count": 5,
     "metadata": {},
     "output_type": "execute_result"
    }
   ],
   "source": [
    "# Den Anfang der Datein (Index 0) suchen\n",
    "my_file.seek(0)"
   ]
  },
  {
   "cell_type": "code",
   "execution_count": 6,
   "metadata": {},
   "outputs": [
    {
     "data": {
      "text/plain": [
       "'Hallo, das ist eine kurze Testdatei'"
      ]
     },
     "execution_count": 6,
     "metadata": {},
     "output_type": "execute_result"
    }
   ],
   "source": [
    "my_file.read()"
   ]
  },
  {
   "cell_type": "markdown",
   "metadata": {},
   "source": [
    "Um nicht immer wieder zum Anfang zu müssen können wir auch die `readlines` Funktion nutzen. Bei großen Dateien sollte man allerdings Vorsicht walten lassen, da alles im Speicher gehalten wird. Wie man mit großen Dateien umgehen kann schauen wir uns später im Kurs an."
   ]
  },
  {
   "cell_type": "code",
   "execution_count": 7,
   "metadata": {},
   "outputs": [
    {
     "data": {
      "text/plain": [
       "[]"
      ]
     },
     "execution_count": 7,
     "metadata": {},
     "output_type": "execute_result"
    }
   ],
   "source": [
    "# readlines() gibt eine Liste aller Zeilen in der Datei zurück\n",
    "my_file.readlines()"
   ]
  },
  {
   "cell_type": "markdown",
   "metadata": {},
   "source": [
    "## In eine Datei schreiben\n",
    "\n",
    "Per Standard erlaubt uns die `open` Funktion nur, Dateien zu lesen. Wir müssen den Parameter 'w' übergeben, um Inhalte überschreiben zu können. Zum Beispiel:"
   ]
  },
  {
   "cell_type": "code",
   "execution_count": 8,
   "metadata": {
    "collapsed": true
   },
   "outputs": [],
   "source": [
    "# Wir fügen einen zweiten Parameter 'w' hinzu, der für Schreiben (write) steht\n",
    "my_file = open('test.txt','w')"
   ]
  },
  {
   "cell_type": "code",
   "execution_count": 9,
   "metadata": {},
   "outputs": [
    {
     "data": {
      "text/plain": [
       "23"
      ]
     },
     "execution_count": 9,
     "metadata": {},
     "output_type": "execute_result"
    }
   ],
   "source": [
    "# In die Datei schreiben\n",
    "my_file.write('Das ist eine neue Zeile')"
   ]
  },
  {
   "cell_type": "code",
   "execution_count": 10,
   "metadata": {},
   "outputs": [
    {
     "data": {
      "text/plain": [
       "'Das ist eine neue Zeile'"
      ]
     },
     "execution_count": 10,
     "metadata": {},
     "output_type": "execute_result"
    }
   ],
   "source": [
    "# Die Datei lesen\n",
    "my_file = open('test.txt', 'r')\n",
    "my_file.read()"
   ]
  },
  {
   "cell_type": "markdown",
   "metadata": {},
   "source": [
    "## Iterationen in einer Datei\n",
    "\n",
    "Es folgte eine kurze Vorschau einer for Schleife, mit der wir Iterationen in einer Datei ausführen. Zunächst erstellen wir mit iPython eine neue Datei:"
   ]
  },
  {
   "cell_type": "code",
   "execution_count": 11,
   "metadata": {},
   "outputs": [
    {
     "name": "stdout",
     "output_type": "stream",
     "text": [
      "Writing neu.txt\n"
     ]
    }
   ],
   "source": [
    "%%writefile neu.txt\n",
    "Erste Zeile\n",
    "Zweite Zeile"
   ]
  },
  {
   "cell_type": "markdown",
   "metadata": {},
   "source": [
    "Jetzt können wir unserem Programm sagen, durch jede Zeile der Datei zu gehen und etwas zu tun:"
   ]
  },
  {
   "cell_type": "code",
   "execution_count": 12,
   "metadata": {},
   "outputs": [
    {
     "name": "stdout",
     "output_type": "stream",
     "text": [
      "Erste Zeile\n",
      "\n",
      "Zweite Zeile\n"
     ]
    }
   ],
   "source": [
    "for zeile in open('neu.txt'):\n",
    "    print(zeile)"
   ]
  },
  {
   "cell_type": "markdown",
   "metadata": {},
   "source": [
    "Macht euch keine Sorgen darüber, bereits alles hiervon komplett zu verstehen. For Schleifen werden bald behandelt. Aber wir können schon einmal beleuchten, was wir oben gemacht haben. Wir haben programmiert für jede Zeile der Datei die Zeile auszugeben. Wichtige Punkte hierbei sind:\n",
    "\n",
    "1. Wir hätten 'zeile' jegliche Bezeichnungen geben können (siehe nächstes Beispiel).\n",
    "2. Da wir nicht .read() ausgeführt haben, wurde die Datei nicht in den Speicher geladen.\n",
    "3. Achtet auf die Einrückung der zweiten Zeile Code. Das ist in Python notwendig.\n",
    "\n",
    "Wir werden später mehr darüber lernen. Als nächstes kommen: Sets und Booleans!"
   ]
  },
  {
   "cell_type": "code",
   "execution_count": 13,
   "metadata": {},
   "outputs": [
    {
     "name": "stdout",
     "output_type": "stream",
     "text": [
      "Erste Zeile\n",
      "\n",
      "Zweite Zeile\n"
     ]
    }
   ],
   "source": [
    "for esz7 in open('neu.txt'):\n",
    "        print(esz7)"
   ]
  }
 ],
 "metadata": {
  "kernelspec": {
   "display_name": "Python 3",
   "language": "python",
   "name": "python3"
  },
  "language_info": {
   "codemirror_mode": {
    "name": "ipython",
    "version": 3
   },
   "file_extension": ".py",
   "mimetype": "text/x-python",
   "name": "python",
   "nbconvert_exporter": "python",
   "pygments_lexer": "ipython3",
   "version": "3.8.5"
  }
 },
 "nbformat": 4,
 "nbformat_minor": 2
}