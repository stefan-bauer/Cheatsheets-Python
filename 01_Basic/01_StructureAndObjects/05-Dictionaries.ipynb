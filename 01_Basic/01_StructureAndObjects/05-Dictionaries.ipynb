{
 "cells": [
  {
   "cell_type": "markdown",
   "metadata": {
    "collapsed": true
   },
   "source": [
    "# Dictionaries\n",
    "Quelle:Datamics\n",
    "\n",
    "Wir haben bereits über Sequenzen in Python gesprochen. Jetzt werden wir einen Gang hochschalten und mehr über *Mappings* in Python lernen. Sofern ihr andere Sprachen kennt, könnt ihr dies ungefähr mit *Hash* Tabellen oder einer *Map* vergleichen.\n",
    "\n",
    "Diese Lektion über Dictionaries beinhaltet:\n",
    "\n",
    "1. Erstellen eines Dictionary\n",
    "2. Zugriff auf Objekte eines Dictionary\n",
    "3. Veschachtelte Dictonaries\n",
    "4. Grundlegende Dictionary Methoden\n",
    "\n",
    "Was sind also diese <i>Mappings</i>? \n",
    "\n",
    "Mappings sind eine Sammlung von Objekten die über einen <i>Key</i> (dt.: Schlüssel) gespeichert werden. Das ist anders als bei Sequenzen, in denen Objekte über ihre relative Position gespeichert werden. Das ist eine wichtige Unterscheidung, da Mappings die Reihenfolge nicht berücksichtigen, da Objekte über einen Key definiert sind.\n",
    "\n",
    "Ein Python Dictonary besteht aus einem Key und einem zugehörigen Wert. Sie beinhalten also Key-Value (dt.: Schlüssel-Wert) Paare. Deren Werte können nahezu jedes Python Objekt sein.\n",
    "\n",
    "Dicitonaries gehören zu den wichtigsten Datentypen in Python; kaum ein Programm kommt ohne sie aus. Sie teilen folgende Eigenschaften mit Listen:\n",
    "* Dictionaries können leicht verändert werden\n",
    "* Dictionaries können beliebig wachsen und schrumpfen\n",
    "\n",
    "## Erstellen eines Dictionary\n",
    "\n",
    "Lasst uns betrachten, wie wir Dictionaries erstellen, um ein besseres Verständnis für sie zu erhalten!"
   ]
  },
  {
   "cell_type": "code",
   "execution_count": 41,
   "metadata": {
    "collapsed": true
   },
   "outputs": [],
   "source": [
    "# Erstellen eines Dictionary mit {} and : um Key und Wert zu trennen\n",
    "mein_dict = {'Key1':'Wert1','Key2':'Wert2'}"
   ]
  },
  {
   "cell_type": "code",
   "execution_count": 42,
   "metadata": {},
   "outputs": [
    {
     "output_type": "execute_result",
     "data": {
      "text/plain": [
       "'Wert2'"
      ]
     },
     "metadata": {},
     "execution_count": 42
    }
   ],
   "source": [
    "# Werte über ihren Key aufrufen\n",
    "mein_dict['Key2']"
   ]
  },
  {
   "cell_type": "markdown",
   "metadata": {},
   "source": [
    "Es ist wichtig festzuhalten, dass Dictionaries sehr flexibel sind in Hinsicht auf die Daten Arten, die sie beinhalten könne. Zum Beispiel:"
   ]
  },
  {
   "cell_type": "code",
   "execution_count": 43,
   "metadata": {
    "collapsed": true
   },
   "outputs": [],
   "source": [
    "mein_dict = {'Key1':123,'Key2':[12,23,34],'Key3':['Item1','Item2','Item3']}"
   ]
  },
  {
   "cell_type": "code",
   "execution_count": 44,
   "metadata": {},
   "outputs": [
    {
     "output_type": "execute_result",
     "data": {
      "text/plain": [
       "['Item1', 'Item2', 'Item3']"
      ]
     },
     "metadata": {},
     "execution_count": 44
    }
   ],
   "source": [
    "# Jetzt können wir Items aus dem Dictionary aufrufen\n",
    "mein_dict['Key3']"
   ]
  },
  {
   "cell_type": "code",
   "execution_count": 45,
   "metadata": {},
   "outputs": [
    {
     "output_type": "execute_result",
     "data": {
      "text/plain": [
       "'Item1'"
      ]
     },
     "metadata": {},
     "execution_count": 45
    }
   ],
   "source": [
    "# Wir können auch einen Index dieses Wertes aufrufen\n",
    "mein_dict['Key3'][0]"
   ]
  },
  {
   "cell_type": "code",
   "execution_count": 46,
   "metadata": {},
   "outputs": [
    {
     "output_type": "execute_result",
     "data": {
      "text/plain": [
       "'ITEM1'"
      ]
     },
     "metadata": {},
     "execution_count": 46
    }
   ],
   "source": [
    "# Und dann können wir noch Methoden auf den Index anwenden\n",
    "mein_dict['Key3'][0].upper()"
   ]
  },
  {
   "cell_type": "markdown",
   "metadata": {},
   "source": [
    "Wir können die Werte beeinflussen. Wie hier:"
   ]
  },
  {
   "cell_type": "code",
   "execution_count": 47,
   "metadata": {},
   "outputs": [
    {
     "output_type": "execute_result",
     "data": {
      "text/plain": [
       "123"
      ]
     },
     "metadata": {},
     "execution_count": 47
    }
   ],
   "source": [
    "mein_dict['Key1']"
   ]
  },
  {
   "cell_type": "code",
   "execution_count": 48,
   "metadata": {
    "collapsed": true
   },
   "outputs": [],
   "source": [
    "# Wir ziehen 123 vom Wert ab\n",
    "mein_dict['Key1'] = mein_dict['Key1'] - 123"
   ]
  },
  {
   "cell_type": "code",
   "execution_count": 49,
   "metadata": {},
   "outputs": [
    {
     "output_type": "execute_result",
     "data": {
      "text/plain": [
       "0"
      ]
     },
     "metadata": {},
     "execution_count": 49
    }
   ],
   "source": [
    "# Check\n",
    "mein_dict['Key1']"
   ]
  },
  {
   "cell_type": "markdown",
   "metadata": {},
   "source": [
    "Ein kleiner Hinweis: Python hat eine eingebaute Methode um Selbstaddition (oder -subtraktion, -multiplikation, -division) durchzuführen. Wir hätten für das obenstehende Statement auch += oder -= verwenden können."
   ]
  },
  {
   "cell_type": "code",
   "execution_count": 50,
   "metadata": {},
   "outputs": [
    {
     "output_type": "execute_result",
     "data": {
      "text/plain": [
       "-123"
      ]
     },
     "metadata": {},
     "execution_count": 50
    }
   ],
   "source": [
    "# Das Objekt sich selbst minus 123 gleichsetzen\n",
    "mein_dict['Key1'] -= 123\n",
    "mein_dict['Key1']"
   ]
  },
  {
   "cell_type": "markdown",
   "metadata": {},
   "source": [
    "Wir können Keys auch per Zuweisung erstellen. Wenn wir beispielsweise mit einem leeren Dictionary beginnen, können wir dieses kontinuierlich erweitern."
   ]
  },
  {
   "cell_type": "code",
   "execution_count": 51,
   "metadata": {
    "collapsed": true
   },
   "outputs": [],
   "source": [
    "# Ein neues Dictionary erstellen\n",
    "d = {}"
   ]
  },
  {
   "cell_type": "code",
   "execution_count": 52,
   "metadata": {
    "collapsed": true
   },
   "outputs": [],
   "source": [
    "# Eine neuen Key durch Zuweisung erstellen\n",
    "d['Tier'] = 'Hund'"
   ]
  },
  {
   "cell_type": "code",
   "execution_count": 53,
   "metadata": {
    "collapsed": true
   },
   "outputs": [],
   "source": [
    "# Das geht übrigens mit allen Objekten\n",
    "d['Antwort'] = 42"
   ]
  },
  {
   "cell_type": "code",
   "execution_count": 54,
   "metadata": {},
   "outputs": [
    {
     "output_type": "execute_result",
     "data": {
      "text/plain": [
       "{'Tier': 'Hund', 'Antwort': 42}"
      ]
     },
     "metadata": {},
     "execution_count": 54
    }
   ],
   "source": [
    "# Check\n",
    "d"
   ]
  },
  {
   "cell_type": "markdown",
   "metadata": {},
   "source": [
    "## Verschachteln von Dictionaries\n",
    "\n",
    "Hoffentlich erkennt ihr, wie mächtig Python durch seine flexiblen Verwendungsmöglichkeiten von Verschachtelungen bzw. Einbettungen und Methoden ist. Hier folgt ein Dictionary innerhalb eines Dictionary:"
   ]
  },
  {
   "cell_type": "code",
   "execution_count": 55,
   "metadata": {
    "collapsed": true
   },
   "outputs": [],
   "source": [
    "# Dictionary innerhalb eines Dictionary innerhalb eines Dictionary\n",
    "d = {'Key':{'SubKey':{'SubSubKey':'Wert'}}}"
   ]
  },
  {
   "cell_type": "markdown",
   "metadata": {},
   "source": [
    "Wow! Das ist wie bei Inception. Lasst uns überprüfen, wie wir auf diese Werte zugreifen können."
   ]
  },
  {
   "cell_type": "code",
   "execution_count": 56,
   "metadata": {},
   "outputs": [
    {
     "output_type": "execute_result",
     "data": {
      "text/plain": [
       "'Wert'"
      ]
     },
     "metadata": {},
     "execution_count": 56
    }
   ],
   "source": [
    "# Die Keys nacheinander aufrufen\n",
    "d['Key']['SubKey']['SubSubKey']"
   ]
  },
  {
   "cell_type": "markdown",
   "metadata": {},
   "source": [
    "## Einige Dictionary Methoden\n",
    "\n",
    "Es gibt einige Methoden, die wir auf das Dictionary anwenden können. Lasst uns eine schnelle Einführung durchgehen:"
   ]
  },
  {
   "cell_type": "code",
   "execution_count": 57,
   "metadata": {
    "collapsed": true
   },
   "outputs": [],
   "source": [
    "# Ein typisches Dictionary erstellen\n",
    "d = {'Key1':1,'Key2':2,'Key3':3}"
   ]
  },
  {
   "cell_type": "code",
   "execution_count": 58,
   "metadata": {},
   "outputs": [
    {
     "output_type": "execute_result",
     "data": {
      "text/plain": [
       "dict_keys(['Key1', 'Key2', 'Key3'])"
      ]
     },
     "metadata": {},
     "execution_count": 58
    }
   ],
   "source": [
    "# Methode, die alle Keys eines Dictionary ausgibt\n",
    "d.keys()"
   ]
  },
  {
   "cell_type": "code",
   "execution_count": 59,
   "metadata": {},
   "outputs": [
    {
     "output_type": "execute_result",
     "data": {
      "text/plain": [
       "dict_values([1, 2, 3])"
      ]
     },
     "metadata": {},
     "execution_count": 59
    }
   ],
   "source": [
    "# Methode, die alle Werte ausgibt\n",
    "d.values()"
   ]
  },
  {
   "cell_type": "code",
   "execution_count": 60,
   "metadata": {},
   "outputs": [
    {
     "output_type": "execute_result",
     "data": {
      "text/plain": [
       "dict_items([('Key1', 1), ('Key2', 2), ('Key3', 3)])"
      ]
     },
     "metadata": {},
     "execution_count": 60
    }
   ],
   "source": [
    "# Methode, die Tupel aller Items wiedergibt\n",
    "d.items()"
   ]
  },
  {
   "cell_type": "markdown",
   "metadata": {},
   "source": [
    "Hoffentlich habt ihr jetzt ein gutes Grundverständnis darüber, wie Dictionaries erstellt werden. Es gibt darüber noch viel mehr zu lernen, worauf wir zu einem späteren Zeitpunkt zurückkommen werden. Was nach dieser Lektion wichtig zu wissen ist, ist wie Dictionaries erstellt werden und wie auf ihre Werte zugegriffen werden kann."
   ]
  }
 ],
 "metadata": {
  "kernelspec": {
   "display_name": "Python 3",
   "language": "python",
   "name": "python3"
  },
  "language_info": {
   "codemirror_mode": {
    "name": "ipython",
    "version": 3
   },
   "file_extension": ".py",
   "mimetype": "text/x-python",
   "name": "python",
   "nbconvert_exporter": "python",
   "pygments_lexer": "ipython3",
   "version": "3.8.5"
  }
 },
 "nbformat": 4,
 "nbformat_minor": 2
}