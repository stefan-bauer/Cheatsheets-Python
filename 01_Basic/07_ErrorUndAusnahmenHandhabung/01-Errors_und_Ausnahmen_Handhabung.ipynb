{
 "cells": [
  {
   "cell_type": "markdown",
   "metadata": {
    "collapsed": true
   },
   "source": [
    "# Errors und Ausnahmen Handhabung\n",
    "\n",
    "Quelle:Datamics\n",
    "\n",
    "## Hintergrund\n",
    "\n",
    "Die Fehlersuche ist beim Coden von Programmen und Skripten einer der umfangreichsten Schritte. Manche Studien gehen von bis zu 50% aus. Deshalb ist es extrem wichtig, effektive Methoden zur Suche von Fehlern im Code zu kennen. \n",
    "\n",
    "Im Allgemeinen gibt es zwei wichtige unterschiedliche Arten von Fehlern.\n",
    "* Syntaxfehler: Das sind beispielsweise Tippfehler wie ein vergessener `:` nach einem `if`. Das kann natürlich jedem mal passieren. Solche Fehler sind eher \"kleine\" Probleme. Meistens lassen sie sich schnell finden und beheben.\n",
    "* Semantische Fehler: Das sind Fehler in der Logik des Programmes. Sie treten dann auf, wenn das Programm nicht das erledigt, was es soll. Das kann auch passieren, wenn syntaktisch alles korrekt ist. Um diese Fehler finden zu können ist es eine Voraussetzung, die Intention hinter dem Code zu kennen.\n",
    "\n",
    "Innerhalb der *Semantischen Fehler* unterscheiden wir folgende zwei Kategorien:\n",
    "* Fehler, die aus dem falschen Verständnis der Sprache herrühren. Zum Beispiel die falsche Verwendung der `range` Funktion.\n",
    "* Fehler, die daher kommen, dass der Programmierer die Intention des Programms nicht verstanden hat bzw. diese nicht richtig umgesetzt hat\n",
    "\n",
    "## Errors in Python\n",
    "\n",
    "In dieser Lektion werden wir mehr über Errors und die Handhabung von Ausnahmen lernen! Und bis zu diesem Punkt im Kurs sind wir auch schon dem ein oder anderen Error begegnet. Zum Beispiel:"
   ]
  },
  {
   "cell_type": "code",
   "execution_count": 1,
   "metadata": {},
   "outputs": [
    {
     "ename": "SyntaxError",
     "evalue": "EOL while scanning string literal (<ipython-input-1-46b1df83c2e8>, line 1)",
     "output_type": "error",
     "traceback": [
      "\u001b[0;36m  File \u001b[0;32m\"<ipython-input-1-46b1df83c2e8>\"\u001b[0;36m, line \u001b[0;32m1\u001b[0m\n\u001b[0;31m    print(\"Helloi)\u001b[0m\n\u001b[0m                  ^\u001b[0m\n\u001b[0;31mSyntaxError\u001b[0m\u001b[0;31m:\u001b[0m EOL while scanning string literal\n"
     ]
    }
   ],
   "source": [
    "print(\"Hello)"
   ]
  },
  {
   "cell_type": "markdown",
   "metadata": {},
   "source": [
    "Seht, wir erhalten einen SyntaxError mit der weiteren Beschreibung, dass es sich um einen EOL (End of Line Error) beim Lesen des Strings handelt. Das ist spezifisch genug, um zu erkennen, dass wir ein Anführungszeichen am Ende des Strings vergessen haben. Diese unterschiedlichen Error Arten zu verstehen wird euch helfen, den Code viel schneller zu debuggen. Debuggen heißt erfolgreich, fehlerlos auszuführen.\n",
    "\n",
    "Diese Art von Error und Beschreibung wird als Ausnahme (Exception) bezeichnet. Selbst wenn eine Anweisung oder ein Ausdruck syntaktisch korrekt ist, können Errors beim Ausführen auftauchen. Errors die beim Ausführen gefunden werden heißen Ausnahmen und sind nicht unbedingt fatal.\n",
    "\n",
    "Ihr könnt alle vorgegebenen (built-in)  Ausnahmen [hier](https://docs.python.org/3/library/exceptions.html) nachlesen. Lasst uns jetzt lernen, wie wir mit Errors und Ausnahmen umgehen können.\n",
    "\n",
    "## try und except\n",
    "\n",
    "Die grundsätzliche Terminologie und Syntax, die in Python zum Umgang mit Errors verwendet wird, ist die <b>try</b> und <b>except</b> (versuchen und ausnahmen definieren) Anweisung. Der Code, der eine Ausnahme verursachen könnte, wird in den <i>try</i> Block geschrieben. Wie mit den Ausnahmen umgegangen werden soll wird in den <i>except</i> Blocks definiert. Die Syntax sieht folgendermaßen aus:\n",
    "\n",
    "    try:\n",
    "       Hier werden die Operationen ausgeführt...\n",
    "       ...\n",
    "    except AusnahmeI:\n",
    "       Kommt es zu AusnahmeI, dann führe diesen Block aus.\n",
    "    except AusnahmeII:\n",
    "       Kommt es zu AusnahmeII, dann führe diesen Block aus.\n",
    "       ...\n",
    "    else:\n",
    "       Gibt es keine Ausnahme, dann führe diesen Block aus.\n",
    "       \n",
    "Wir können außerdem auch auf alle Ausnahmen überprüfen, indem wir einfach nur `except` eingeben. Um das alles besser zu verstehen schauen wir uns jetzt ein Beispiel an:"
   ]
  },
  {
   "cell_type": "code",
   "execution_count": 2,
   "metadata": {},
   "outputs": [
    {
     "name": "stdout",
     "output_type": "stream",
     "text": [
      "Inhalt erfolgreich geschrieben\n"
     ]
    }
   ],
   "source": [
    "try:\n",
    "    f = open('testdatei','w')\n",
    "    f.write('Test schreibe dies')\n",
    "except IOError:\n",
    "    # Überprüft, ob es einen IOError gibt und führt in dem Fall die print Anweisung aus\n",
    "   print(\"Error: Konnte Datei nicht finden oder schreiben\")\n",
    "else:\n",
    "   print(\"Inhalt erfolgreich geschrieben\")\n",
    "   f.close()"
   ]
  },
  {
   "cell_type": "markdown",
   "metadata": {},
   "source": [
    "Jetzt können wir schauen, was passiert, wenn wir die Datei ohne Schreiberlaubnis öffnen (nur mit 'r'):"
   ]
  },
  {
   "cell_type": "code",
   "execution_count": 3,
   "metadata": {},
   "outputs": [
    {
     "name": "stdout",
     "output_type": "stream",
     "text": [
      "Error: Konnte Datei nicht finden oder schreiben\n"
     ]
    }
   ],
   "source": [
    "try:\n",
    "    f = open('testdatei','r')\n",
    "    f.write('Test schreibe dies')\n",
    "except IOError:\n",
    "    # Überprüft, ob es einen IOError gibt und führt in dem Fall die print Anweisung aus\n",
    "   print(\"Error: Konnte Datei nicht finden oder schreiben\")\n",
    "else:\n",
    "   print(\"Inhalt erfolgreich geschrieben\")\n",
    "   f.close()"
   ]
  },
  {
   "cell_type": "markdown",
   "metadata": {},
   "source": [
    "Toll! Seht wie wir nur eine print Anweisung ausgeführt haben. Der Code wurde trotzdem ausgeführt und wir waren in der Lage weitere Aktionen auszuführen. Das ist extrem nützlich, wenn man auf mögliche Input Errors im Code achten muss. So könnt ihr euch auf den Error vorbereiten und den Code weiterlaufen lassen, anstatt den Code abbrechen zu lassen, wie wir es oben gesehen haben.\n",
    "\n",
    "Wir hätten außerdem auch einfach nur `except` schreiben können, wären wir uns über die Art der Ausnahme nicht sicher gewesen:"
   ]
  },
  {
   "cell_type": "code",
   "execution_count": 4,
   "metadata": {},
   "outputs": [
    {
     "name": "stdout",
     "output_type": "stream",
     "text": [
      "Error: Konnte Datei nicht finden oder schreiben\n"
     ]
    }
   ],
   "source": [
    "try:\n",
    "    f = open('testdatei','r')\n",
    "    f.write('Test schreibe dies')\n",
    "except:\n",
    "    # Überprüft, ob es einen IOError gibt und führt in dem Fall die print Anweisung aus\n",
    "   print(\"Error: Konnte Datei nicht finden oder schreiben\")\n",
    "else:\n",
    "   print(\"Inhalt erfolgreich geschrieben\")\n",
    "   f.close()"
   ]
  },
  {
   "cell_type": "markdown",
   "metadata": {},
   "source": [
    "Gut! Denn das bedeutet, dass wir uns die Liste der Ausnahmen nicht merken müssen. Was wäre, wenn wir wollten, dass der Code nach der Ausnahme weiterläuft? Hier kommt <b>finally</b> ins Spiel.\n",
    "\n",
    "## finally\n",
    "\n",
    "Der `finally` Block im Code wird immer ausgeführt, unabhängig davon, ob eine Ausnahme festgestellt wurde oder nicht. Die Syntax lautet:\n",
    "\n",
    "    try:\n",
    "        Code Block hier\n",
    "        ...\n",
    "        Durch irgendeine Ausnahme könnte dieser Code übersprungen werden!\n",
    "    finally:\n",
    "        Dieser Code Block wird immer ausgeführt!\n",
    "        \n",
    "Ein Beispiel:"
   ]
  },
  {
   "cell_type": "code",
   "execution_count": 5,
   "metadata": {
    "scrolled": true
   },
   "outputs": [
    {
     "name": "stdout",
     "output_type": "stream",
     "text": [
      "Führe diesen Code Block immer aus!\n"
     ]
    }
   ],
   "source": [
    "try:\n",
    "   f = open(\"testdatei\", \"w\")\n",
    "   f.write(\"Test schreibe dies\")\n",
    "finally:\n",
    "   print(\"Führe diesen Code Block immer aus!\")"
   ]
  },
  {
   "cell_type": "markdown",
   "metadata": {},
   "source": [
    "Wir können dies auch in Verbindung mit `except` nutzen. Lasst uns dazu ein neues Beispiel anschauen, dass darauf achtet, ob ein User falschen Input eingibt:"
   ]
  },
  {
   "cell_type": "code",
   "execution_count": 9,
   "metadata": {
    "collapsed": true
   },
   "outputs": [],
   "source": [
    "def intfrage():\n",
    "    try:\n",
    "        val = int(input(\"Bitte gebe eine Zahl ein: \"))\n",
    "    except:\n",
    "        print(\"Sieht aus, als ob du keine Zahl eingegeben hast!\")\n",
    "    finally:\n",
    "        print(\"Aber immerhin wurde ich ausgeführt!\")\n",
    "    print(val)"
   ]
  },
  {
   "cell_type": "code",
   "execution_count": 10,
   "metadata": {},
   "outputs": [
    {
     "name": "stdout",
     "output_type": "stream",
     "text": [
      "Bitte gebe eine Zahl ein: 5\n",
      "Aber immerhin wurde ich ausgeführt!\n",
      "5\n"
     ]
    }
   ],
   "source": [
    "intfrage()"
   ]
  },
  {
   "cell_type": "code",
   "execution_count": 11,
   "metadata": {},
   "outputs": [
    {
     "name": "stdout",
     "output_type": "stream",
     "text": [
      "Bitte gebe eine Zahl ein: fünf\n",
      "Sieht aus, als ob du keine Zahl eingegeben hast!\n",
      "Aber immerhin wurde ich ausgeführt!\n"
     ]
    },
    {
     "ename": "UnboundLocalError",
     "evalue": "local variable 'val' referenced before assignment",
     "output_type": "error",
     "traceback": [
      "\u001b[0;31m---------------------------------------------------------------------------\u001b[0m",
      "\u001b[0;31mUnboundLocalError\u001b[0m                         Traceback (most recent call last)",
      "\u001b[0;32m<ipython-input-11-c92cc9e7f0d9>\u001b[0m in \u001b[0;36m<module>\u001b[0;34m()\u001b[0m\n\u001b[0;32m----> 1\u001b[0;31m \u001b[0mintfrage\u001b[0m\u001b[0;34m(\u001b[0m\u001b[0;34m)\u001b[0m\u001b[0;34m\u001b[0m\u001b[0m\n\u001b[0m",
      "\u001b[0;32m<ipython-input-9-1e6e085460f3>\u001b[0m in \u001b[0;36mintfrage\u001b[0;34m()\u001b[0m\n\u001b[1;32m      6\u001b[0m     \u001b[0;32mfinally\u001b[0m\u001b[0;34m:\u001b[0m\u001b[0;34m\u001b[0m\u001b[0m\n\u001b[1;32m      7\u001b[0m         \u001b[0mprint\u001b[0m\u001b[0;34m(\u001b[0m\u001b[0;34m\"Aber immerhin wurde ich ausgeführt!\"\u001b[0m\u001b[0;34m)\u001b[0m\u001b[0;34m\u001b[0m\u001b[0m\n\u001b[0;32m----> 8\u001b[0;31m     \u001b[0mprint\u001b[0m\u001b[0;34m(\u001b[0m\u001b[0mval\u001b[0m\u001b[0;34m)\u001b[0m\u001b[0;34m\u001b[0m\u001b[0m\n\u001b[0m",
      "\u001b[0;31mUnboundLocalError\u001b[0m: local variable 'val' referenced before assignment"
     ]
    }
   ],
   "source": [
    "intfrage()"
   ]
  },
  {
   "cell_type": "markdown",
   "metadata": {},
   "source": [
    "Wir erhalten hier trotzdem einen Error, wenn wir versuchen val auszugeben. Das liegt daran, dass es nie richtig zugewiesen wurde. Wir können einen weiteren Versuch implementieren:"
   ]
  },
  {
   "cell_type": "code",
   "execution_count": 12,
   "metadata": {
    "collapsed": true
   },
   "outputs": [],
   "source": [
    "def intfrage():\n",
    "    try:\n",
    "        val = int(input(\"Bitte gebe eine Zahl ein: \"))\n",
    "    except:\n",
    "        print(\"Sieht aus, als ob du keine Zahl eingegeben hast!\")\n",
    "        val = int(input(\"Bitte gebe eine Zahl ein: \"))\n",
    "    finally:\n",
    "        print(\"Aber immerhin wurde ich ausgeführt!\")\n",
    "    print(val)"
   ]
  },
  {
   "cell_type": "code",
   "execution_count": 13,
   "metadata": {},
   "outputs": [
    {
     "name": "stdout",
     "output_type": "stream",
     "text": [
      "Bitte gebe eine Zahl ein: f\n",
      "Sieht aus, als ob du keine Zahl eingegeben hast!\n",
      "Bitte gebe eine Zahl ein: f\n",
      "Aber immerhin wurde ich ausgeführt!\n"
     ]
    },
    {
     "ename": "ValueError",
     "evalue": "invalid literal for int() with base 10: 'f'",
     "output_type": "error",
     "traceback": [
      "\u001b[0;31m---------------------------------------------------------------------------\u001b[0m",
      "\u001b[0;31mValueError\u001b[0m                                Traceback (most recent call last)",
      "\u001b[0;32m<ipython-input-12-cbb9a584ec3a>\u001b[0m in \u001b[0;36mintfrage\u001b[0;34m()\u001b[0m\n\u001b[1;32m      2\u001b[0m     \u001b[0;32mtry\u001b[0m\u001b[0;34m:\u001b[0m\u001b[0;34m\u001b[0m\u001b[0m\n\u001b[0;32m----> 3\u001b[0;31m         \u001b[0mval\u001b[0m \u001b[0;34m=\u001b[0m \u001b[0mint\u001b[0m\u001b[0;34m(\u001b[0m\u001b[0minput\u001b[0m\u001b[0;34m(\u001b[0m\u001b[0;34m\"Bitte gebe eine Zahl ein: \"\u001b[0m\u001b[0;34m)\u001b[0m\u001b[0;34m)\u001b[0m\u001b[0;34m\u001b[0m\u001b[0m\n\u001b[0m\u001b[1;32m      4\u001b[0m     \u001b[0;32mexcept\u001b[0m\u001b[0;34m:\u001b[0m\u001b[0;34m\u001b[0m\u001b[0m\n",
      "\u001b[0;31mValueError\u001b[0m: invalid literal for int() with base 10: 'f'",
      "\nDuring handling of the above exception, another exception occurred:\n",
      "\u001b[0;31mValueError\u001b[0m                                Traceback (most recent call last)",
      "\u001b[0;32m<ipython-input-13-c92cc9e7f0d9>\u001b[0m in \u001b[0;36m<module>\u001b[0;34m()\u001b[0m\n\u001b[0;32m----> 1\u001b[0;31m \u001b[0mintfrage\u001b[0m\u001b[0;34m(\u001b[0m\u001b[0;34m)\u001b[0m\u001b[0;34m\u001b[0m\u001b[0m\n\u001b[0m",
      "\u001b[0;32m<ipython-input-12-cbb9a584ec3a>\u001b[0m in \u001b[0;36mintfrage\u001b[0;34m()\u001b[0m\n\u001b[1;32m      4\u001b[0m     \u001b[0;32mexcept\u001b[0m\u001b[0;34m:\u001b[0m\u001b[0;34m\u001b[0m\u001b[0m\n\u001b[1;32m      5\u001b[0m         \u001b[0mprint\u001b[0m\u001b[0;34m(\u001b[0m\u001b[0;34m\"Sieht aus, als ob du keine Zahl eingegeben hast!\"\u001b[0m\u001b[0;34m)\u001b[0m\u001b[0;34m\u001b[0m\u001b[0m\n\u001b[0;32m----> 6\u001b[0;31m         \u001b[0mval\u001b[0m \u001b[0;34m=\u001b[0m \u001b[0mint\u001b[0m\u001b[0;34m(\u001b[0m\u001b[0minput\u001b[0m\u001b[0;34m(\u001b[0m\u001b[0;34m\"Bitte gebe eine Zahl ein: \"\u001b[0m\u001b[0;34m)\u001b[0m\u001b[0;34m)\u001b[0m\u001b[0;34m\u001b[0m\u001b[0m\n\u001b[0m\u001b[1;32m      7\u001b[0m     \u001b[0;32mfinally\u001b[0m\u001b[0;34m:\u001b[0m\u001b[0;34m\u001b[0m\u001b[0m\n\u001b[1;32m      8\u001b[0m         \u001b[0mprint\u001b[0m\u001b[0;34m(\u001b[0m\u001b[0;34m\"Aber immerhin wurde ich ausgeführt!\"\u001b[0m\u001b[0;34m)\u001b[0m\u001b[0;34m\u001b[0m\u001b[0m\n",
      "\u001b[0;31mValueError\u001b[0m: invalid literal for int() with base 10: 'f'"
     ]
    }
   ],
   "source": [
    "intfrage()"
   ]
  },
  {
   "cell_type": "markdown",
   "metadata": {},
   "source": [
    "Hmm...das hat jetzt nur genau einen weiteren Versuch gestattet. Wie können wir das kontinuierlich überprüfen? Indem wir eine while Schleife verwenden!"
   ]
  },
  {
   "cell_type": "code",
   "execution_count": 14,
   "metadata": {
    "collapsed": true
   },
   "outputs": [],
   "source": [
    "def intfrage():\n",
    "    while True:\n",
    "        try:\n",
    "            val = int(input(\"Bitte gebe eine Zahl ein: \"))\n",
    "        except:\n",
    "            print(\"Sieht aus, als ob du keine Zahl eingegeben hast!\")\n",
    "            continue\n",
    "        else:\n",
    "            print(\"Ja, das ist eine Zahl!\")\n",
    "            break\n",
    "        finally:\n",
    "            print(\"Aber immerhin wurde ich ausgeführt!\")\n",
    "    print(val)"
   ]
  },
  {
   "cell_type": "code",
   "execution_count": 15,
   "metadata": {},
   "outputs": [
    {
     "name": "stdout",
     "output_type": "stream",
     "text": [
      "Bitte gebe eine Zahl ein: fünf\n",
      "Sieht aus, als ob du keine Zahl eingegeben hast!\n",
      "Aber immerhin wurde ich ausgeführt!\n",
      "Bitte gebe eine Zahl ein: vier\n",
      "Sieht aus, als ob du keine Zahl eingegeben hast!\n",
      "Aber immerhin wurde ich ausgeführt!\n",
      "Bitte gebe eine Zahl ein: drei\n",
      "Sieht aus, als ob du keine Zahl eingegeben hast!\n",
      "Aber immerhin wurde ich ausgeführt!\n",
      "Bitte gebe eine Zahl ein: 2\n",
      "Ja, das ist eine Zahl!\n",
      "Aber immerhin wurde ich ausgeführt!\n"
     ]
    }
   ],
   "source": [
    "intfrage()"
   ]
  },
  {
   "cell_type": "markdown",
   "metadata": {},
   "source": [
    "Großartig! Jetzt wisst ihr, wie ihr mit Errors und Ausnahmen in Python umgehen könnt. Denkt immer an die try, except, else und finally Notation!"
   ]
  }
 ],
 "metadata": {
  "kernelspec": {
   "display_name": "Python 3",
   "language": "python",
   "name": "python3"
  },
  "language_info": {
   "codemirror_mode": {
    "name": "ipython",
    "version": 3
   },
   "file_extension": ".py",
   "mimetype": "text/x-python",
   "name": "python",
   "nbconvert_exporter": "python",
   "pygments_lexer": "ipython3",
   "version": "3.8.5"
  }
 },
 "nbformat": 4,
 "nbformat_minor": 2
}