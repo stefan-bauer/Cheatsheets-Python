{
 "cells": [
  {
   "cell_type": "markdown",
   "metadata": {
    "collapsed": true
   },
   "source": [
    "# Errors und Ausnahmen Aufgabe\n",
    "\n",
    "Quelle: Datamics\n",
    "\n",
    "## Problem 1\n",
    "\n",
    "Bearbeite die Ausnahme, die der folgende Code produziert, indem du try und except Blocks verwendest."
   ]
  },
  {
   "cell_type": "code",
   "execution_count": 3,
   "metadata": {},
   "outputs": [
    {
     "name": "stdout",
     "output_type": "stream",
     "text": [
      "Ein Error trat auf!\n"
     ]
    }
   ],
   "source": [
    "try:\n",
    "    for i in ['a','b','c']:\n",
    "        print(i**2)\n",
    "except:\n",
    "    print(\"Ein Error trat auf!\")"
   ]
  },
  {
   "cell_type": "markdown",
   "metadata": {},
   "source": [
    "## Problem 2\n",
    "\n",
    "Bearbeite die Ausnahme, die der folgende Code produziert, indem du try und except Blocks verwendest. Nutze dann einen finally Block, um auszugeben \"Alles erledigt!\"."
   ]
  },
  {
   "cell_type": "code",
   "execution_count": 4,
   "metadata": {},
   "outputs": [
    {
     "name": "stdout",
     "output_type": "stream",
     "text": [
      "Kann nicht durch Null teilen!\n",
      "Alles erledigt!\n"
     ]
    }
   ],
   "source": [
    "x = 5\n",
    "y = 0\n",
    "try:\n",
    "    z = x/y\n",
    "except ZeroDivisionError:\n",
    "    print(\"Kann nicht durch Null teilen!\")\n",
    "finally:\n",
    "    print(\"Alles erledigt!\")"
   ]
  },
  {
   "cell_type": "markdown",
   "metadata": {},
   "source": [
    "## Problem 3\n",
    "\n",
    "Schreibe eine Funktion, die nach einer Ganzzahl fragt und deren Quadrat als Ergebnis ausgibt (print Anweisung). Nutze eine while Schleife mit try, except und else Block, um auf falsche Eingaben vorbereitet zu sein."
   ]
  },
  {
   "cell_type": "code",
   "execution_count": 11,
   "metadata": {
    "collapsed": true
   },
   "outputs": [],
   "source": [
    "def ask():\n",
    "    \n",
    "    while True:\n",
    "        try:\n",
    "            n = int(input('Eine Ganzzahl eingeben: '))\n",
    "        except:\n",
    "            print(\"Es trat ein Fehler auf. Bitte erneut versuchen!\")\n",
    "            continue\n",
    "        else:\n",
    "            break\n",
    "            \n",
    "        \n",
    "    print (\"Danke, deine Zahl zum Quadrat ist: \",n**2)"
   ]
  },
  {
   "cell_type": "code",
   "execution_count": 12,
   "metadata": {},
   "outputs": [
    {
     "name": "stdout",
     "output_type": "stream",
     "text": [
      "Eine Ganzzahl eingeben: null\n",
      "Es trat ein Fehler auf. Bitte erneut versuchen!\n",
      "Eine Ganzzahl eingeben: 8\n",
      "Danke, deine Zahl zum Quadrat ist:  64\n"
     ]
    }
   ],
   "source": [
    "ask()"
   ]
  },
  {
   "cell_type": "markdown",
   "metadata": {},
   "source": [
    "## Gut gemacht!"
   ]
  }
 ],
 "metadata": {
  "kernelspec": {
   "display_name": "Python 3",
   "language": "python",
   "name": "python3"
  },
  "language_info": {
   "codemirror_mode": {
    "name": "ipython",
    "version": 3
   },
   "file_extension": ".py",
   "mimetype": "text/x-python",
   "name": "python",
   "nbconvert_exporter": "python",
   "pygments_lexer": "ipython3",
   "version": "3.8.5"
  }
 },
 "nbformat": 4,
 "nbformat_minor": 2
}