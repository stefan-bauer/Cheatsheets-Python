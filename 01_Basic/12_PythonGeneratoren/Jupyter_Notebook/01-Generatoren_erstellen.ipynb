{
 "cells": [
  {
   "cell_type": "markdown",
   "metadata": {
    "collapsed": true
   },
   "source": [
    "# Iteratoren und Generatoren\n",
    "\n",
    "Quelle: Datamics\n",
    "\n",
    "In diesem Abschnitt des Kurses werden wir mehr über die Unterschiede von Iteration und Generation in Python lernen. Und darüber hinaus, wie wir durch die `yield` Anweisung unsere eigenen Generatoren erstellen können. Generatoren erlauben es uns, zu generieren während wir fortschreiten, anstatt alles im Speicher zu halten.\n",
    "\n",
    "Wir haben das bereits thematisiert, als wir uns die range() Funktion in Python 2 und die entsprechende xrange() Funktion angeschaut haben, von denen letztere ein Generator ist.\n",
    "\n",
    "Wir können das ein wenig vertiefen. Wir wissen bereits, wie wir mit <b>def</b> und <b>return</b> Funktionen erstellen können. Generator Funktionen erlauben es uns, eine Funktion zu schreiben, die einen Wert ausgibt und später dort weitermacht, wo sie aufgehört hat. Diese Art von Funktion ist in Python ein Generator, der es uns erlaubt über Zeit hinweg eine Sequenz von Werten zu generieren. Der Hauptunterschied im Sinne der Syntax wird die <b>yield</b> Anweisung sein.\n",
    "\n",
    "In den meisten Aspekten wirken Generatoren wie normale Funktionen. Sie unterscheiden sich hauptsächlich darin, dass eine Generator Funktion, sobald sie kompiliert wird, zu einem Objekt wird, das Iteration unterstützt. Das bedeutet, dass sie beim Ausführen nicht nur einen Wert zurückgeben und dann aussteigen wird. Die Generator Funktion wird automatisch aussetzen, aber an dieser Stelle bleiben. Der größte Vorteil davon liegt darin, dass nicht immer alle Werte von Anfang an berechnet werden müssen, sondern die Generator Funktion nach vorherigen Berechnungen pausiert wird. Dieses Feature nennt man <i>state suspension</i>. \n",
    "\n",
    "Um ein besseres Verständnis für Generatoren zu erhalten, lasst uns einige erstellen:"
   ]
  },
  {
   "cell_type": "code",
   "execution_count": 1,
   "metadata": {
    "collapsed": true
   },
   "outputs": [],
   "source": [
    "# Generator Funktion für den Raum einer Nummer (hoch 3)\n",
    "def genraum(n):\n",
    "    for num in range(n):\n",
    "        yield num**3"
   ]
  },
  {
   "cell_type": "code",
   "execution_count": 2,
   "metadata": {},
   "outputs": [
    {
     "name": "stdout",
     "output_type": "stream",
     "text": [
      "0\n",
      "1\n",
      "8\n",
      "27\n",
      "64\n",
      "125\n",
      "216\n",
      "343\n",
      "512\n",
      "729\n"
     ]
    }
   ],
   "source": [
    "for x in genraum(10):\n",
    "    print(x)"
   ]
  },
  {
   "cell_type": "markdown",
   "metadata": {},
   "source": [
    "Wunderbar! Jetzt wo wir eine Generator Funktion erstellt haben, müssen wir nicht auf jeden einzelnen Raum achten, den wir erstellt haben. \n",
    "\n",
    "Generatoren sind am besten dafür geeignet, große Sets von Ergebnissen zu berechnen. Und das in Fällen, in denen wir keinen Speicher für alle Ergebnisse auf einmal aufbringen wollen.\n",
    "\n",
    "Wie wir bereits in vorherigen Lektionen angemerkt haben geben viele Standard Funktionen, die in Python 2 noch Listen erzeugt haben, jetzt in Python 3 Generatoren aus.\n",
    "\n",
    "Lasst uns als weiteres Beispiel Fibonacci Reihen wählen:"
   ]
  },
  {
   "cell_type": "code",
   "execution_count": 3,
   "metadata": {
    "collapsed": true
   },
   "outputs": [],
   "source": [
    "def genfibon(n):\n",
    "    '''\n",
    "    Eine Fibonacci Reihe bis zur Zahl n erstellen\n",
    "    '''\n",
    "    a = 1\n",
    "    b = 1\n",
    "    for i in range(n):\n",
    "        yield a\n",
    "        a,b = b,a+b"
   ]
  },
  {
   "cell_type": "code",
   "execution_count": 4,
   "metadata": {},
   "outputs": [
    {
     "name": "stdout",
     "output_type": "stream",
     "text": [
      "1\n",
      "1\n",
      "2\n",
      "3\n",
      "5\n",
      "8\n",
      "13\n",
      "21\n",
      "34\n",
      "55\n"
     ]
    }
   ],
   "source": [
    "for num in genfibon(10):\n",
    "    print(num)"
   ]
  },
  {
   "cell_type": "markdown",
   "metadata": {},
   "source": [
    "Was wäre, wenn das eine normale Funktion wäre? Wie würde sie aussehen?"
   ]
  },
  {
   "cell_type": "code",
   "execution_count": 5,
   "metadata": {
    "collapsed": true
   },
   "outputs": [],
   "source": [
    "def fibon(n):\n",
    "    a = 1\n",
    "    b = 1\n",
    "    output = []\n",
    "    \n",
    "    for i in range(n):\n",
    "        output.append(a)\n",
    "        a,b = b,a+b\n",
    "        \n",
    "    return output"
   ]
  },
  {
   "cell_type": "code",
   "execution_count": 6,
   "metadata": {},
   "outputs": [
    {
     "data": {
      "text/plain": [
       "[1, 1, 2, 3, 5, 8, 13, 21, 34, 55]"
      ]
     },
     "execution_count": 6,
     "metadata": {},
     "output_type": "execute_result"
    }
   ],
   "source": [
    "fibon(10)"
   ]
  },
  {
   "cell_type": "markdown",
   "metadata": {},
   "source": [
    "Achtet darauf, dass wenn wir einen großen Wert für n (z.B. 100000) eingeben würden, die zweite Funktion alle einzelnen Ergebnisse speichern müsste. Dabei brauchen wir eigentlich immer nur das vorherige Ergebnis, um das nächste zu berechnen!\n",
    "\n",
    "## next() und iter()\n",
    "\n",
    "Die beiden vorinstallierten (build-in) Funktionen next() und iter() sind ein wichtiger Schlüssel zum vollen Verständnis von Generatoren.\n",
    "\n",
    "Die `next` Funktion erlaubt es uns, das nächste (next) Element einer Sequenz zu wählen. Seht her:"
   ]
  },
  {
   "cell_type": "code",
   "execution_count": 7,
   "metadata": {
    "collapsed": true
   },
   "outputs": [],
   "source": [
    "def simple_gen():\n",
    "    for x in range(3):\n",
    "        yield x"
   ]
  },
  {
   "cell_type": "code",
   "execution_count": 8,
   "metadata": {
    "collapsed": true
   },
   "outputs": [],
   "source": [
    "# simple_gen zuweisen\n",
    "g = simple_gen()"
   ]
  },
  {
   "cell_type": "code",
   "execution_count": 10,
   "metadata": {},
   "outputs": [
    {
     "name": "stdout",
     "output_type": "stream",
     "text": [
      "0\n"
     ]
    }
   ],
   "source": [
    "print(next(g))"
   ]
  },
  {
   "cell_type": "code",
   "execution_count": 11,
   "metadata": {},
   "outputs": [
    {
     "name": "stdout",
     "output_type": "stream",
     "text": [
      "1\n"
     ]
    }
   ],
   "source": [
    "print(next(g))"
   ]
  },
  {
   "cell_type": "code",
   "execution_count": 12,
   "metadata": {},
   "outputs": [
    {
     "name": "stdout",
     "output_type": "stream",
     "text": [
      "2\n"
     ]
    }
   ],
   "source": [
    "print(next(g))"
   ]
  },
  {
   "cell_type": "code",
   "execution_count": 13,
   "metadata": {},
   "outputs": [
    {
     "ename": "StopIteration",
     "evalue": "",
     "output_type": "error",
     "traceback": [
      "\u001b[0;31m---------------------------------------------------------------------------\u001b[0m",
      "\u001b[0;31mStopIteration\u001b[0m                             Traceback (most recent call last)",
      "\u001b[0;32m<ipython-input-13-bc24f410ad62>\u001b[0m in \u001b[0;36m<module>\u001b[0;34m()\u001b[0m\n\u001b[0;32m----> 1\u001b[0;31m \u001b[0mprint\u001b[0m\u001b[0;34m(\u001b[0m\u001b[0mnext\u001b[0m\u001b[0;34m(\u001b[0m\u001b[0mg\u001b[0m\u001b[0;34m)\u001b[0m\u001b[0;34m)\u001b[0m\u001b[0;34m\u001b[0m\u001b[0m\n\u001b[0m",
      "\u001b[0;31mStopIteration\u001b[0m: "
     ]
    }
   ],
   "source": [
    "print(next(g))"
   ]
  },
  {
   "cell_type": "markdown",
   "metadata": {},
   "source": [
    "Nachdem wir alle Werte erzeugt haben, führte next() zu einem <i>Stopiteration</i> Error. Worüber uns dieser Error informiert, ist die Tatsache, dass alle Werte erzeugt wurden.\n",
    "\n",
    "Ihr könntet euch wundern, warum wir diesen Error nicht bei Schleifen erhalten? Die for Schleife achtet selbst auf diesen Error und stoppt dann die Durchführung. \n",
    "\n",
    "Lasst uns fortschreiten und sehen, wie wir iter() verwenden. Ihr wisst sicherlich noch, dass Strings iterierbar sind:"
   ]
  },
  {
   "cell_type": "code",
   "execution_count": 14,
   "metadata": {},
   "outputs": [
    {
     "name": "stdout",
     "output_type": "stream",
     "text": [
      "h\n",
      "a\n",
      "l\n",
      "l\n",
      "o\n"
     ]
    }
   ],
   "source": [
    "s = \"hallo\"\n",
    "\n",
    "# Über String iterieren\n",
    "for buchst in s:\n",
    "    print(buchst)"
   ]
  },
  {
   "cell_type": "markdown",
   "metadata": {},
   "source": [
    "Das bedeutet allerdings nicht, dass Strings selbst ein Iterator sind. Wir können das mit der next() Funktion überprüfen:"
   ]
  },
  {
   "cell_type": "code",
   "execution_count": 15,
   "metadata": {},
   "outputs": [
    {
     "ename": "TypeError",
     "evalue": "'str' object is not an iterator",
     "output_type": "error",
     "traceback": [
      "\u001b[0;31m---------------------------------------------------------------------------\u001b[0m",
      "\u001b[0;31mTypeError\u001b[0m                                 Traceback (most recent call last)",
      "\u001b[0;32m<ipython-input-15-bc0566bea448>\u001b[0m in \u001b[0;36m<module>\u001b[0;34m()\u001b[0m\n\u001b[0;32m----> 1\u001b[0;31m \u001b[0mnext\u001b[0m\u001b[0;34m(\u001b[0m\u001b[0ms\u001b[0m\u001b[0;34m)\u001b[0m\u001b[0;34m\u001b[0m\u001b[0m\n\u001b[0m",
      "\u001b[0;31mTypeError\u001b[0m: 'str' object is not an iterator"
     ]
    }
   ],
   "source": [
    "next(s)"
   ]
  },
  {
   "cell_type": "markdown",
   "metadata": {},
   "source": [
    "Interessant! Das bedeutet, dass String Objekte Iteration unterstützen, wir aber nicht direkt darüber iterieren können, wie es eine Generator Funktion könnte. Die iter() Funktion erlaubt uns genau das!"
   ]
  },
  {
   "cell_type": "code",
   "execution_count": 16,
   "metadata": {
    "collapsed": true
   },
   "outputs": [],
   "source": [
    "s_iter = iter(s)"
   ]
  },
  {
   "cell_type": "code",
   "execution_count": 17,
   "metadata": {},
   "outputs": [
    {
     "data": {
      "text/plain": [
       "'h'"
      ]
     },
     "execution_count": 17,
     "metadata": {},
     "output_type": "execute_result"
    }
   ],
   "source": [
    "next(s_iter)"
   ]
  },
  {
   "cell_type": "code",
   "execution_count": 18,
   "metadata": {},
   "outputs": [
    {
     "data": {
      "text/plain": [
       "'a'"
      ]
     },
     "execution_count": 18,
     "metadata": {},
     "output_type": "execute_result"
    }
   ],
   "source": [
    "next(s_iter)"
   ]
  },
  {
   "cell_type": "markdown",
   "metadata": {},
   "source": [
    "Großartig! Jetzt wisst ihr, wie man Objekte die iterierbar sind in Iteratoren selbst umwandelt!\n",
    "\n",
    "Der größte Takeaway von dieser Lektion ist es, das `yield` Kennwort zu benutzen, um aus einer Funktion einen Generator zu machen. Diese Änderung kann euch eine Menge Speicherkapazität in Anwendungsfällen sparen."
   ]
  }
 ],
 "metadata": {
  "kernelspec": {
   "display_name": "Python 3",
   "language": "python",
   "name": "python3"
  },
  "language_info": {
   "codemirror_mode": {
    "name": "ipython",
    "version": 3
   },
   "file_extension": ".py",
   "mimetype": "text/x-python",
   "name": "python",
   "nbconvert_exporter": "python",
   "pygments_lexer": "ipython3",
   "version": "3.8.5"
  }
 },
 "nbformat": 4,
 "nbformat_minor": 2
}