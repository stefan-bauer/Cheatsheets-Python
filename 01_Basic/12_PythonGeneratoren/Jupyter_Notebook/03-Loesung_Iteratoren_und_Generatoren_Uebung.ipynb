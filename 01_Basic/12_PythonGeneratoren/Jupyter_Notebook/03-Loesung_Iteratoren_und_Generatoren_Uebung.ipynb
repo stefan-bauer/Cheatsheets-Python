{
 "cells": [
  {
   "cell_type": "markdown",
   "metadata": {
    "collapsed": true
   },
   "source": [
    "# Iteratoren und Generatoren Übung - Lösung\n",
    "\n",
    "Quelle: Datamics\n",
    "\n",
    "## Aufgabe 1\n",
    "\n",
    "Erstelle einen Generator, der die Quadratzahlen von Zahlen bis zu einer Zahl N erstellt."
   ]
  },
  {
   "cell_type": "code",
   "execution_count": 1,
   "metadata": {
    "collapsed": true
   },
   "outputs": [],
   "source": [
    "def genquadrate(N):\n",
    "    for i in range(N):\n",
    "        yield i ** 2"
   ]
  },
  {
   "cell_type": "code",
   "execution_count": 2,
   "metadata": {},
   "outputs": [
    {
     "name": "stdout",
     "output_type": "stream",
     "text": [
      "0\n",
      "1\n",
      "4\n",
      "9\n",
      "16\n",
      "25\n",
      "36\n",
      "49\n",
      "64\n",
      "81\n"
     ]
    }
   ],
   "source": [
    "for x in genquadrate(10):\n",
    "    print(x)"
   ]
  },
  {
   "cell_type": "markdown",
   "metadata": {},
   "source": [
    "## Aufgabe 2\n",
    "\n",
    "Erstelle einen Generator der N zufällige Nummer zwischen einer unteren und oberen Grenze (das sind die Inputs) ausgibt. Nutzt beispielsweise die random Bibliothek. Zum Beispiel:"
   ]
  },
  {
   "cell_type": "code",
   "execution_count": 5,
   "metadata": {},
   "outputs": [
    {
     "data": {
      "text/plain": [
       "10"
      ]
     },
     "execution_count": 5,
     "metadata": {},
     "output_type": "execute_result"
    }
   ],
   "source": [
    "import random\n",
    "\n",
    "random.randint(1,10)"
   ]
  },
  {
   "cell_type": "code",
   "execution_count": 8,
   "metadata": {
    "collapsed": true
   },
   "outputs": [],
   "source": [
    "def zuf_zahl(unten,oben,N):\n",
    "    for i in range(N):\n",
    "        yield random.randint(unten, oben)"
   ]
  },
  {
   "cell_type": "code",
   "execution_count": 9,
   "metadata": {},
   "outputs": [
    {
     "name": "stdout",
     "output_type": "stream",
     "text": [
      "5\n",
      "4\n",
      "5\n",
      "9\n",
      "1\n",
      "5\n",
      "9\n",
      "7\n",
      "4\n",
      "2\n",
      "2\n",
      "10\n"
     ]
    }
   ],
   "source": [
    "for num in zuf_zahl(1,10,12):\n",
    "    print(num)"
   ]
  },
  {
   "cell_type": "markdown",
   "metadata": {},
   "source": [
    "## Aufgabe 3\n",
    "\n",
    "Verwende die iter() Funktion, um den String zu konvertieren."
   ]
  },
  {
   "cell_type": "code",
   "execution_count": 10,
   "metadata": {},
   "outputs": [
    {
     "name": "stdout",
     "output_type": "stream",
     "text": [
      "H\n"
     ]
    }
   ],
   "source": [
    "s = \"Hallo\"\n",
    "\n",
    "# Code hier\n",
    "s = iter(s)\n",
    "print(next(s))"
   ]
  },
  {
   "cell_type": "markdown",
   "metadata": {},
   "source": [
    "## Aufgabe 4\n",
    "\n",
    "Erklärt einen Anwendungsfall für einen Generator durch die Verwendung der yield Anweisung wo du nicht eine normale Funktion mit einer return Anweisung verwenden willst.\n",
    "\n",
    "<b>Antwort: Wenn der Output potentiell eine große Menge an Speicher benötigt und man nur beabsichtigt zu iterieren, dann würde man einen Generator verwenden.</b>"
   ]
  },
  {
   "cell_type": "markdown",
   "metadata": {},
   "source": [
    "## Extra Punkte!\n",
    "\n",
    "Kannst du erklären, was <i>gencomp</i> im Code unten ist? (Hinweis: wir haben das nie in unseren Lektionen gelernt. Ihr könnt Google/Stack Overflow verwenden!)"
   ]
  },
  {
   "cell_type": "code",
   "execution_count": 12,
   "metadata": {},
   "outputs": [
    {
     "name": "stdout",
     "output_type": "stream",
     "text": [
      "4\n",
      "5\n"
     ]
    }
   ],
   "source": [
    "meine_liste = [1,2,3,4,5]\n",
    "\n",
    "gencomp = (item for item in meine_liste if item > 3)\n",
    "\n",
    "for item in gencomp:\n",
    "    print(item)"
   ]
  },
  {
   "cell_type": "markdown",
   "metadata": {},
   "source": [
    "Hinweis: \"generator comprehension\" suchen..."
   ]
  },
  {
   "cell_type": "markdown",
   "metadata": {},
   "source": [
    "# Gut gemacht!"
   ]
  }
 ],
 "metadata": {
  "kernelspec": {
   "display_name": "Python 3",
   "language": "python",
   "name": "python3"
  },
  "language_info": {
   "codemirror_mode": {
    "name": "ipython",
    "version": 3
   },
   "file_extension": ".py",
   "mimetype": "text/x-python",
   "name": "python",
   "nbconvert_exporter": "python",
   "pygments_lexer": "ipython3",
   "version": "3.8.5"
  }
 },
 "nbformat": 4,
 "nbformat_minor": 2
}