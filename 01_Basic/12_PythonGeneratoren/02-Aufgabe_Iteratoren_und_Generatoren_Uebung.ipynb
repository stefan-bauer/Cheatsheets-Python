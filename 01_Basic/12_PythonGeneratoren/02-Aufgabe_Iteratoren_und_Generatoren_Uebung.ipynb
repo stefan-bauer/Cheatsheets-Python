{
 "cells": [
  {
   "cell_type": "markdown",
   "metadata": {
    "collapsed": true
   },
   "source": [
    "# Iteratoren und Generatoren Übung - Aufgabe\n",
    "\n",
    "Quelle: Datamics\n",
    "\n",
    "## Aufgabe 1\n",
    "\n",
    "Erstelle einen Generator, der die Quadratzahlen von Zahlen bis zu einer Zahl N erstellt."
   ]
  },
  {
   "cell_type": "code",
   "execution_count": 3,
   "metadata": {
    "collapsed": true
   },
   "outputs": [],
   "source": [
    "def genquadrate(N):\n",
    "    pass"
   ]
  },
  {
   "cell_type": "code",
   "execution_count": null,
   "metadata": {
    "collapsed": true
   },
   "outputs": [],
   "source": [
    "for x in genquadrate(10):\n",
    "    print(x)"
   ]
  },
  {
   "cell_type": "markdown",
   "metadata": {},
   "source": [
    "## Aufgabe 2\n",
    "\n",
    "Erstelle einen Generator der N zufällige Nummern zwischen einer unteren und oberen Grenze (das sind die Inputs des Nutzers) ausgibt. Nutzt beispielsweise die random Bibliothek. Zum Beispiel:"
   ]
  },
  {
   "cell_type": "code",
   "execution_count": 7,
   "metadata": {},
   "outputs": [
    {
     "data": {
      "text/plain": [
       "1"
      ]
     },
     "execution_count": 7,
     "metadata": {},
     "output_type": "execute_result"
    }
   ],
   "source": [
    "import random\n",
    "\n",
    "random.randint(1,10)"
   ]
  },
  {
   "cell_type": "code",
   "execution_count": 8,
   "metadata": {
    "collapsed": true
   },
   "outputs": [],
   "source": [
    "def zuf_zahl(unten,oben,N):\n",
    "    pass"
   ]
  },
  {
   "cell_type": "code",
   "execution_count": null,
   "metadata": {
    "collapsed": true
   },
   "outputs": [],
   "source": [
    "for num in zuf_zahl(1,10,12):\n",
    "    print(num)"
   ]
  },
  {
   "cell_type": "markdown",
   "metadata": {},
   "source": [
    "## Aufgabe 3\n",
    "\n",
    "Verwende die iter() Funktion, um den String zu konvertieren."
   ]
  },
  {
   "cell_type": "code",
   "execution_count": 10,
   "metadata": {
    "collapsed": true
   },
   "outputs": [],
   "source": [
    "s = \"Hallo\"\n",
    "\n",
    "# Code hier\n"
   ]
  },
  {
   "cell_type": "markdown",
   "metadata": {},
   "source": [
    "## Aufgabe 4\n",
    "\n",
    "Erklärt einen Anwendungsfall für einen Generator durch die Verwendung der `yield` Anweisung, wo du nicht eine normale Funktion mit einer return Anweisung verwenden willst."
   ]
  },
  {
   "cell_type": "markdown",
   "metadata": {},
   "source": [
    "## Extra Punkte!\n",
    "\n",
    "Kannst du erklären, was <i>gencomp</i> im Code unten ist? (Hinweis: wir haben das nie in unseren Lektionen gelernt. Ihr könnt Google/Stack Overflow verwenden!)"
   ]
  },
  {
   "cell_type": "code",
   "execution_count": 12,
   "metadata": {},
   "outputs": [
    {
     "name": "stdout",
     "output_type": "stream",
     "text": [
      "4\n",
      "5\n"
     ]
    }
   ],
   "source": [
    "meine_liste = [1,2,3,4,5]\n",
    "\n",
    "gencomp = (item for item in meine_liste if item > 3)\n",
    "\n",
    "for item in gencomp:\n",
    "    print(item)"
   ]
  },
  {
   "cell_type": "markdown",
   "metadata": {},
   "source": [
    "Hinweis: \"generator comprehension\" suchen..."
   ]
  },
  {
   "cell_type": "markdown",
   "metadata": {},
   "source": [
    "# Gut gemacht!"
   ]
  }
 ],
 "metadata": {
  "kernelspec": {
   "display_name": "Python 3",
   "language": "python",
   "name": "python3"
  },
  "language_info": {
   "codemirror_mode": {
    "name": "ipython",
    "version": 3
   },
   "file_extension": ".py",
   "mimetype": "text/x-python",
   "name": "python",
   "nbconvert_exporter": "python",
   "pygments_lexer": "ipython3",
   "version": "3.8.5"
  }
 },
 "nbformat": 4,
 "nbformat_minor": 2
}