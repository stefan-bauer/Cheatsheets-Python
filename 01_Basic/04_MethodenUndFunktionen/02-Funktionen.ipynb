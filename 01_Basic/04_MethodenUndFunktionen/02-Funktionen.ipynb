{
 "cells": [
  {
   "cell_type": "markdown",
   "metadata": {
    "collapsed": true
   },
   "source": [
    "# Funktionen\n",
    "\n",
    "Quelle: Datamics\n",
    "\n",
    "## Einführung zu Funktionen\n",
    "\n",
    "Diese Lektion wird sich damit beschäftigen, was eine Funktion in Python ist und wie sie erstellt wird. Funktionen werden einer unserer Hauptbestandteile sein, wenn wir immer umfangreichere Codes schreiben. \n",
    "\n",
    "In anderen Programmiersprachen kennt man sie auch unter den Namen Subroutinen, Routinen, Prozeduren, Methoden und Unterprogrammen. \n",
    "\n",
    "<b>Was sind also Funktionen in Python?</b>\n",
    "\n",
    "Formell gesehen ist eine Funktion ein nützliches Hilfsmittel, um einzelne Statements zu gruppieren, um sie dann mehr als einmal aufrufen zu können. Sie können außerdem Parameter definieren, die uns als Input für die Funktion dienen können.\n",
    "\n",
    "Ganz grundsätzlich betrachtet erlauben es uns Funktionen, den selben Code nicht immer wieder schreiben zu müssen. Wenn ihr zurückdenkt an unsere Lektion zu Strings und Listen in Python, dann erinnert euch an die Funktion len(), die wir genutzt haben, um die Länge eines Strings bzw. einer Liste zu erhalten. Da die Überprüfung der Länge einer Sequenz eine widerkehrende Aufgabe ist, ist es somit eine solche Aufgabe, die wir in eine Funktion packen wollen würden.\n",
    "\n",
    "### Die Vorteile von Funktionen\n",
    "\n",
    "Aus ihren Eigenschaften ergeben sich zwei wichtige Vorteile für die Programmierung bzw. Softwareentwicklung:\n",
    "\n",
    "* Die Benutzung von Funktionen erhöht die Verständlichkeit und Qualität eines Programmes oder Skriptes.\n",
    "* Außerdem senkt die Verwendung von Funktionen auch die Kosten für die Softwareentwicklung und die Wartung der Software.\n",
    "\n",
    "Funktionen werden eine der einfachsten Möglichkeiten sein, um Code in Python wiederzuverwenden. Und es wird uns ermöglichen, über Programm Design nachzudenken (worüber wir später noch viel genauer sprechen werden, sobald es um OOP geht).\n",
    "\n",
    "## def Anweisungen\n",
    "\n",
    "Folgendermaßen ist eine Funktion in Python aufgebaut:"
   ]
  },
  {
   "cell_type": "code",
   "execution_count": 1,
   "metadata": {
    "collapsed": true
   },
   "outputs": [],
   "source": [
    "def name_der_funktion(par1,par2):\n",
    "    '''\n",
    "    Hier kommt die Beschreibung (doc-string) einer Funktion hin\n",
    "    '''\n",
    "    # Tue hier Dinge\n",
    "    # Gebe gewünschtes Ergebnis aus"
   ]
  },
  {
   "cell_type": "markdown",
   "metadata": {},
   "source": [
    "Wir beginnen mit `def` gefolgt von einem Leerzeichen und dem Namen der Funktion. Die Namen sollten möglichst präzise und eindeutig gewählt werden. Ein Beispiel ist die len() Bezeichnung für eine length() Funktion. Außerdem sollte man darauf achten, keine Namen zu verwenden, die durch vorinstallierte (built-in) Python Funktionen belegt sind (wie z.B. len).\n",
    "\n",
    "Als nächstes kommt ein Paar von Klammern, die die Parametern beinhalten, die jeweils durch Komma getrennt sind. Diese Parameter sind der Input für eure Funktion. Wir können diese innerhalb der Funktion verwenden und auf sie verweisen. Danach setzen wir einen Doppelpunkt.\n",
    "\n",
    "Danach folgt die Beschreibung (doc-string) der Funktion. Diese stellt eine kurze Beschreibung der Funktion und dessen, was sie tut, dar. Durch die Verwendung von iPython und den Notebooks können wir diese Beschreibung lesen, indem wir Shift + Tab nach einem Funktionsnamen drücken. Beschreibungen sind bei einfachen Funktionen nicht notwendig, aber es ist eine bewährte Verfahrensweise diese einzufügen, damit man selbst oder andere Leute den Code schnell verstehen.\n",
    "\n",
    "Nach all dem beginnt man den tatsächlichen Code zu schreiben, der ausgeführt werden soll.\n",
    "\n",
    "Der beste Weg um Funktionen zu lernen ist es, einige Beispiele zu betrachten. Lasst uns dies deshalb tun und Bezug nehmen auf einige Objekte und Daten Strukturen, die wir bereits kennengelernt haben.\n",
    "\n",
    "### Beispiel 1: Eine einfache print 'hallo' Funktion:"
   ]
  },
  {
   "cell_type": "code",
   "execution_count": 2,
   "metadata": {
    "collapsed": true
   },
   "outputs": [],
   "source": [
    "def sag_hallo():\n",
    "    print('Hallo')"
   ]
  },
  {
   "cell_type": "code",
   "execution_count": 3,
   "metadata": {},
   "outputs": [
    {
     "name": "stdout",
     "output_type": "stream",
     "text": [
      "Hallo\n"
     ]
    }
   ],
   "source": [
    "# Funktion ausführen\n",
    "sag_hallo()"
   ]
  },
  {
   "cell_type": "markdown",
   "metadata": {},
   "source": [
    "### Beispiel 2: Eine einfache Begrüßungs Funktion, die Leute mit ihrem Namen begrüßt"
   ]
  },
  {
   "cell_type": "code",
   "execution_count": 24,
   "metadata": {
    "collapsed": true
   },
   "outputs": [],
   "source": [
    "def gruß(name):\n",
    "    print('Hallo',name)"
   ]
  },
  {
   "cell_type": "code",
   "execution_count": 25,
   "metadata": {},
   "outputs": [
    {
     "name": "stdout",
     "output_type": "stream",
     "text": [
      "Hallo David\n"
     ]
    }
   ],
   "source": [
    "#Funktion ausführen\n",
    "gruß('David')"
   ]
  },
  {
   "cell_type": "markdown",
   "metadata": {},
   "source": [
    "## return nutzen\n",
    "\n",
    "Lasst uns einige Beispiele betrachten, die das return Statement benutzen. return erlaubt es einer Funktion ein Ergebnis zurückzugeben, das dann als Variable gespeichert oder in beliebiger anderer Weise verwendet werden kann.\n",
    "\n",
    "### Beispiel 3: Additions Funktion"
   ]
  },
  {
   "cell_type": "code",
   "execution_count": 26,
   "metadata": {
    "collapsed": true
   },
   "outputs": [],
   "source": [
    "def add_num(num1,num2):\n",
    "    return num1+num2"
   ]
  },
  {
   "cell_type": "code",
   "execution_count": 27,
   "metadata": {},
   "outputs": [
    {
     "data": {
      "text/plain": [
       "9"
      ]
     },
     "execution_count": 27,
     "metadata": {},
     "output_type": "execute_result"
    }
   ],
   "source": [
    "add_num(4,5)"
   ]
  },
  {
   "cell_type": "code",
   "execution_count": 28,
   "metadata": {
    "collapsed": true
   },
   "outputs": [],
   "source": [
    "# Wir können das Ergebnis auch als Variable speichern\n",
    "ergebnis = add_num(3,7)"
   ]
  },
  {
   "cell_type": "code",
   "execution_count": 30,
   "metadata": {},
   "outputs": [
    {
     "name": "stdout",
     "output_type": "stream",
     "text": [
      "10\n"
     ]
    }
   ],
   "source": [
    "print(ergebnis)"
   ]
  },
  {
   "cell_type": "code",
   "execution_count": 31,
   "metadata": {},
   "outputs": [
    {
     "name": "stdout",
     "output_type": "stream",
     "text": [
      "einszwei\n"
     ]
    }
   ],
   "source": [
    "# Was passiert, wenn wir zwei Strings eingeben?\n",
    "print(add_num('eins','zwei'))"
   ]
  },
  {
   "cell_type": "markdown",
   "metadata": {},
   "source": [
    "Beachtet, dass dadurch, dass wir keine Variablen Arten in Python definieren, diese Funktion dazu genutzt werden kann, sowohl Nummern als auch Sequenzen zu addieren. Wir werden später lernen, wie wir Kontrollen einbauen können, die überprüfen, ob ein Nutzer korrekte Parameter in die Funktion eingegeben hat. \n",
    "\n",
    "Lasst uns außerdem damit beginnen, `break`, `continue` und `pass` Anweisungen zu nutzen. Wir haben sie in der while Lektion eingeführt.\n",
    "\n",
    "Dazu werden wir abschließend ein Beispiel durchgehen, dass eine Funktion zeigt, die überprüft, ob eine Zahl eine Primzahl ist (eine häufige Aufgabe in Bewerbungsgesprächen).\n",
    "\n",
    "Wir wissen, dass eine Zahl eine Primzahl ist, wenn sie nur gerade durch 1 und sich selbst teilbar ist. Lasst uns eine erste Funktion schreiben, die dies mit Hilfe von Modulo überprüft."
   ]
  },
  {
   "cell_type": "code",
   "execution_count": 32,
   "metadata": {
    "collapsed": true
   },
   "outputs": [],
   "source": [
    "def ist_prim(num):\n",
    "    '''\n",
    "    Erste Methode um Primzahlen zu testen\n",
    "    '''\n",
    "    for n in range(2,num):\n",
    "        if num % n == 0:\n",
    "            print(\"Keine Primzahl\")\n",
    "            break\n",
    "    else:\n",
    "        print(\"Primzahl\")"
   ]
  },
  {
   "cell_type": "code",
   "execution_count": 33,
   "metadata": {},
   "outputs": [
    {
     "name": "stdout",
     "output_type": "stream",
     "text": [
      "Keine Primzahl\n"
     ]
    }
   ],
   "source": [
    "ist_prim(16)"
   ]
  },
  {
   "cell_type": "markdown",
   "metadata": {},
   "source": [
    "Achtet darauf, wie wir break nach der print Anweisung benutzen! Wir können diese Überprüfung noch verbessern, indem wir nach der Quadratwurzel der Zielzahl überprüfen. Außerdem können wir alle geraden Zahlen auslassen, sobald wir 2 überprüft haben. Und zusätzlich werden wir zu Boolean Werten wechseln, um zu sehen, wie wir die return Anweisung verwenden:"
   ]
  },
  {
   "cell_type": "code",
   "execution_count": 39,
   "metadata": {
    "collapsed": true
   },
   "outputs": [],
   "source": [
    "import math\n",
    "\n",
    "def ist_prim(num):\n",
    "    '''\n",
    "    Bessere Methode, um Primzahlen zu überprüfen\n",
    "    '''\n",
    "    if num % 2 == 0 and num > 2:\n",
    "        return False\n",
    "    for i in range(3, int(math.sqrt(num)) + 1, 2):\n",
    "        if num % i == 0:\n",
    "            return False\n",
    "    return True"
   ]
  },
  {
   "cell_type": "code",
   "execution_count": 40,
   "metadata": {},
   "outputs": [
    {
     "data": {
      "text/plain": [
       "False"
      ]
     },
     "execution_count": 40,
     "metadata": {},
     "output_type": "execute_result"
    }
   ],
   "source": [
    "ist_prim(9)"
   ]
  },
  {
   "cell_type": "markdown",
   "metadata": {},
   "source": [
    "Großartig! Ihr solltet nun ein Grundverständnis dafür entwickelt haben, wie ihr eure eigenen Funktionen in Python schreiben könnt und  euch so das wiederholte schreiben des gleichen Codes spart."
   ]
  }
 ],
 "metadata": {
  "kernelspec": {
   "display_name": "Python 3",
   "language": "python",
   "name": "python3"
  },
  "language_info": {
   "codemirror_mode": {
    "name": "ipython",
    "version": 3
   },
   "file_extension": ".py",
   "mimetype": "text/x-python",
   "name": "python",
   "nbconvert_exporter": "python",
   "pygments_lexer": "ipython3",
   "version": "3.8.5"
  }
 },
 "nbformat": 4,
 "nbformat_minor": 2
}