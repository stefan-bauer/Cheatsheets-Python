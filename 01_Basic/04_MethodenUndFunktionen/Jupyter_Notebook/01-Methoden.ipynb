{
 "cells": [
  {
   "cell_type": "markdown",
   "metadata": {
    "collapsed": true
   },
   "source": [
    "# Methoden\n",
    "\n",
    "Quelle:Datamics\n",
    "\n",
    "Wir haben schon ein paar Beispiele für Methoden gesehen, als wir uns mit Objekten und Daten Strukturen in Python befasst haben. Methoden sind eigentlich Funktionen, die in Objekte eingebaut sind. Später im Kurs werden wir noch lernen, wie wir unsere eigenen Objekte und Methoden erstellen, indem wir Objektorientierte Programmierung (OOP) und Klassen nutzen.\n",
    "\n",
    "Methoden führen spezifische Aktionen mit dem Objekt durch und können Parameter aufnehmen, so wie es Funktionen tun. Diese Lektion soll als kurze Einführung zu Methoden dienen und euch zum Denken über das Design von Methoden anregen. Darauf kommen wir zurück, wenn wir die OOP erreichen.\n",
    "\n",
    "Methoden sind in folgender Form gestaltet:\n",
    "\n",
    "    object.method(arg1,arg2,arg3,...)\n",
    "    \n",
    "Ihr werdet später sehen, dass wir uns Methoden so vorstellen können, dass sie einen \"selbst\" (en.: self) Parameter haben, der sich aufs Objekt bezieht. Wir können diesen Parameter jetzt nicht sehen, werden in aber später im Kurs nutzen, wenn wir uns mit OOP beschäftigen.\n",
    "\n",
    "Lasst uns schnell die Methoden zu einer Liste anschauen:"
   ]
  },
  {
   "cell_type": "code",
   "execution_count": 1,
   "metadata": {
    "collapsed": true
   },
   "outputs": [],
   "source": [
    "# Liste erstellen\n",
    "l = [1,2,3,4,5,]"
   ]
  },
  {
   "cell_type": "markdown",
   "metadata": {},
   "source": [
    "Glücklicherweise können wir mit iPython und dem Jupyter Notebook schnell sehen, welche möglichen Methoden ein Objekt hat, indem wir die Tab Taste benutzen. Die Methoden für Listen sind:\n",
    "\n",
    "* append\n",
    "* count\n",
    "* extend\n",
    "* insert\n",
    "* pop\n",
    "* remove\n",
    "* reverse\n",
    "* sort\n",
    "\n",
    "Lasst uns einige ausprobieren:"
   ]
  },
  {
   "cell_type": "code",
   "execution_count": 2,
   "metadata": {},
   "outputs": [
    {
     "data": {
      "text/plain": [
       "[1, 2, 3, 4, 5, 6]"
      ]
     },
     "execution_count": 2,
     "metadata": {},
     "output_type": "execute_result"
    }
   ],
   "source": [
    "# append lässt uns Elemente ans Ende der Liste anhängen\n",
    "l.append(6)\n",
    "# Check\n",
    "l"
   ]
  },
  {
   "cell_type": "code",
   "execution_count": 3,
   "metadata": {},
   "outputs": [
    {
     "data": {
      "text/plain": [
       "1"
      ]
     },
     "execution_count": 3,
     "metadata": {},
     "output_type": "execute_result"
    }
   ],
   "source": [
    "# Count wertet die Anzahl an Erscheinungen eines Wertes aus\n",
    "l.count(2)"
   ]
  },
  {
   "cell_type": "markdown",
   "metadata": {},
   "source": [
    "Ihr könnt an jeder Stelle Shift + Tab benutzen, um im Jupyter Notebook mehr Hilfe zu den Methoden zu erhalten. Im Allgemeinen kann man in Python die help() Funktion benutzen:"
   ]
  },
  {
   "cell_type": "code",
   "execution_count": 4,
   "metadata": {},
   "outputs": [
    {
     "name": "stdout",
     "output_type": "stream",
     "text": [
      "Help on built-in function count:\n",
      "\n",
      "count(...)\n",
      "    L.count(value) -> integer -- return number of occurrences of value\n",
      "\n"
     ]
    }
   ],
   "source": [
    "help(l.count)"
   ]
  },
  {
   "cell_type": "markdown",
   "metadata": {},
   "source": [
    "Traut euch ruhig, mit den restlichen Methoden für Listen etwas herumzuspielen. Später in dieser Sektion wird das Quiz die Nutzung von help() und Google Suche nach einigen Methoden beinhalten.\n",
    "\n",
    "Toll! Durch diese Lektion solltet ihr wie selbstverständlich Methoden zu Objekten aufrufen können."
   ]
  }
 ],
 "metadata": {
  "kernelspec": {
   "display_name": "Python 3",
   "language": "python",
   "name": "python3"
  },
  "language_info": {
   "codemirror_mode": {
    "name": "ipython",
    "version": 3
   },
   "file_extension": ".py",
   "mimetype": "text/x-python",
   "name": "python",
   "nbconvert_exporter": "python",
   "pygments_lexer": "ipython3",
   "version": "3.8.5"
  }
 },
 "nbformat": 4,
 "nbformat_minor": 2
}