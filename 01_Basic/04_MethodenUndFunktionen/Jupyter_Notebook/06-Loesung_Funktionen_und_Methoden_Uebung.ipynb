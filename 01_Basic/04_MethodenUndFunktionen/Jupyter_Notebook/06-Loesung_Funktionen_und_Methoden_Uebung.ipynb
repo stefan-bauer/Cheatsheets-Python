{
 "cells": [
  {
   "cell_type": "markdown",
   "metadata": {
    "collapsed": true
   },
   "source": [
    "# Funktionen und Methoden Übung - Lösung\n",
    "\n",
    "Quelle: Datamics\n",
    "\n",
    "Vervollständigt die folgenden Fragen:\n",
    "\n",
    "Schreibe eine Funktion, die das Volumen einer Kugel berechnet, wenn der Radius gegeben ist."
   ]
  },
  {
   "cell_type": "code",
   "execution_count": 1,
   "metadata": {
    "collapsed": true
   },
   "outputs": [],
   "source": [
    "def vol(rad):\n",
    "    return (4/3)*(3.14)*(rad**3)"
   ]
  },
  {
   "cell_type": "markdown",
   "metadata": {},
   "source": [
    "Schreibe eine Funktion, die überprüft, ob sich eine Zahl in einem bestimmten Bereich (range) befindet."
   ]
  },
  {
   "cell_type": "code",
   "execution_count": 3,
   "metadata": {
    "collapsed": true
   },
   "outputs": [],
   "source": [
    "def  bereich_check(zahl,unten,oben):\n",
    "    # Überprüfen, ob eine Zahl zwischen unten und oben liegt.\n",
    "    if zahl in range (unten,oben+1):\n",
    "        print('%s ist im Bereich',zahl)"
   ]
  },
  {
   "cell_type": "markdown",
   "metadata": {},
   "source": [
    "Und jetzt das gleiche, wenn du nur einen Boolean Wert erhalten wollen würdest."
   ]
  },
  {
   "cell_type": "code",
   "execution_count": 3,
   "metadata": {
    "collapsed": true
   },
   "outputs": [],
   "source": [
    "def bereich_boolean(zahl,unten,oben):\n",
    "    return zahl in range(unten,oben+1)"
   ]
  },
  {
   "cell_type": "markdown",
   "metadata": {},
   "source": [
    "Schreibe eine Python Funktion, die die groß- und kleingeschriebene Buchstaben in einem String zählt und ausgibt."
   ]
  },
  {
   "cell_type": "code",
   "execution_count": 5,
   "metadata": {
    "collapsed": true
   },
   "outputs": [],
   "source": [
    "def gross_klein(s):\n",
    "    d={'gross':0,'klein':0}\n",
    "    for c in s:\n",
    "        if c.isupper():\n",
    "            d['gross']+=1\n",
    "        elif c.islower():\n",
    "            d['klein']+=1\n",
    "        else:\n",
    "            pass\n",
    "    print('Original String: ',s)\n",
    "    print('Anzahl großer Buchstaben: ',d['gross'])\n",
    "    print('Anzahl kleiner Buchstaben: ',d['klein'])"
   ]
  },
  {
   "cell_type": "markdown",
   "metadata": {},
   "source": [
    "Schreibe eine Python Funktion, die eine Liste als Input nimmt und eine weitere Liste ausgibt, die nur noch einzigartige Werte enthält."
   ]
  },
  {
   "cell_type": "code",
   "execution_count": 4,
   "metadata": {
    "collapsed": true
   },
   "outputs": [],
   "source": [
    "def einzig_liste(l):\n",
    "    x=[]\n",
    "    for a in l:\n",
    "        if a not in x:\n",
    "            x.append(a)\n",
    "    return x"
   ]
  },
  {
   "cell_type": "markdown",
   "metadata": {},
   "source": [
    "Schreibe eine Funktion, die alle Werte innerhalb einer Liste multipliziert."
   ]
  },
  {
   "cell_type": "code",
   "execution_count": 6,
   "metadata": {
    "collapsed": true
   },
   "outputs": [],
   "source": [
    "def multi(zahlen):\n",
    "    total = 1\n",
    "    for x in zahlen:\n",
    "        total *= x\n",
    "    return total"
   ]
  },
  {
   "cell_type": "markdown",
   "metadata": {},
   "source": [
    "Schreibe eine Python Funktion, die überprüft, ob ein eingegebener String ein Palindrom ist, oder nicht.\n",
    "\n",
    "Hinweis: Ein Palindrom ist ein Wort, das vorwärts und rückwärts gleich gelesen wird. Zum Beispiel: Otto."
   ]
  },
  {
   "cell_type": "code",
   "execution_count": 7,
   "metadata": {
    "collapsed": true
   },
   "outputs": [],
   "source": [
    "def palindrom(s):\n",
    "    s = s.replace(' ','') # Alle Leerzeichen ersetzen\n",
    "    return s == s[-1]"
   ]
  },
  {
   "cell_type": "markdown",
   "metadata": {},
   "source": [
    "#### Schwer:\n",
    "\n",
    "Schreibe eine Funktion, die überprüft, ob ein Satz ein Pangramm ist.\n",
    "\n",
    "Hinweis: Ein Pangramm ist ein Satz, der jeden Buchstaben des Alphabets enthält.\n",
    "\n",
    "Hinweis: Schaut euch das String Modul an"
   ]
  },
  {
   "cell_type": "code",
   "execution_count": 8,
   "metadata": {
    "collapsed": true
   },
   "outputs": [],
   "source": [
    "import string\n",
    "\n",
    "def pangramm(s, alphabet=string.ascii_lowercase):\n",
    "    alphaset = set(alphabet)\n",
    "    return len(alphaset) <= len(set(s.lower()))"
   ]
  },
  {
   "cell_type": "markdown",
   "metadata": {},
   "source": [
    "## Gute Arbeit!"
   ]
  }
 ],
 "metadata": {
  "kernelspec": {
   "display_name": "Python 3",
   "language": "python",
   "name": "python3"
  },
  "language_info": {
   "codemirror_mode": {
    "name": "ipython",
    "version": 3
   },
   "file_extension": ".py",
   "mimetype": "text/x-python",
   "name": "python",
   "nbconvert_exporter": "python",
   "pygments_lexer": "ipython3",
   "version": "3.8.5"
  }
 },
 "nbformat": 4,
 "nbformat_minor": 2
}