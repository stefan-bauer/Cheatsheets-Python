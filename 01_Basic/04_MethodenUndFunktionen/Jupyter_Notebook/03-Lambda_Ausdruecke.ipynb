{
 "cells": [
  {
   "cell_type": "markdown",
   "metadata": {
    "collapsed": true
   },
   "source": [
    "# Lambda Ausdrücke\n",
    "\n",
    "Quelle: Datamics\n",
    "\n",
    "Eines der nützlichsten (und für Anfänger verwirrendsten) Tools von Python ist der Lambda Ausdruck. Lambda Ausdrücke erlauben es uns \"anonyme\" Funktionen zu erstellen. Das bedeutet, dass wir schnell ad-hoc Funktionen erstellen können, ohne eine Funktion ordnungsgemäß mit def definieren zu müssen.\n",
    "\n",
    "Anonyme Funktionen sind insbesondere bei der Verwendung von `map`, `reduce` und `filter` von Vorteil. Wir werden auf diese drei Funktionen in gesonderten Kapiteln später im Kurs eingehen.\n",
    "\n",
    "Funktions-Objekte, die von Lambda Ausdrücken zurückgegeben werden, funktionieren genau gleich wie solche, die durch `def` erstellt wurden. Der besondere Unterschied, der Lambda in manchen Fällen so nützlich macht, ist folgender:\n",
    "\n",
    "**Lambda's Aufbau besteht aus einem einzigen Ausdruck.**\n",
    "\n",
    "Der Aufbau von Lambda ist gleich dem, den wir nach `def` schreiben würden. Wir schreiben das Ergebnis nur als Ausdruck, im Gegensatz dazu, es explizit zurückzugeben. Weil es auf einen Ausdruck limitiert ist, ist ein Lambda weniger allgemein als ein def. Wir können somit nur das Design verschmälern, um Verschachtelung zu limitieren. Lambda ist dafür gedacht, einfache Funktionen zu coden, wohingegen def größere Aufgaben erledigt.\n",
    "\n",
    "Dabei kann Lambda eine beliebige Anzahl von Parametern aufnehmen, in seinem Ausdruck verarbeiten und schließlich immer ein einziges Ergebnis zurückgeben.\n",
    "\n",
    "Lasst uns uns einem Lambda Ausdruck langsam nähern, indem wir eine Funktion nach und nach zusammenfassen."
   ]
  },
  {
   "cell_type": "code",
   "execution_count": 3,
   "metadata": {
    "collapsed": true
   },
   "outputs": [],
   "source": [
    "def square(num):\n",
    "    result = num**2\n",
    "    return result"
   ]
  },
  {
   "cell_type": "code",
   "execution_count": 4,
   "metadata": {},
   "outputs": [
    {
     "data": {
      "text/plain": [
       "4"
      ]
     },
     "execution_count": 4,
     "metadata": {},
     "output_type": "execute_result"
    }
   ],
   "source": [
    "square(2)"
   ]
  },
  {
   "cell_type": "code",
   "execution_count": 5,
   "metadata": {
    "collapsed": true
   },
   "outputs": [],
   "source": [
    "# Zusammenfassen\n",
    "def square(num):\n",
    "    return num**2"
   ]
  },
  {
   "cell_type": "code",
   "execution_count": 6,
   "metadata": {},
   "outputs": [
    {
     "data": {
      "text/plain": [
       "9"
      ]
     },
     "execution_count": 6,
     "metadata": {},
     "output_type": "execute_result"
    }
   ],
   "source": [
    "square(3)"
   ]
  },
  {
   "cell_type": "code",
   "execution_count": 7,
   "metadata": {
    "collapsed": true
   },
   "outputs": [],
   "source": [
    "# Alles in eienr Zeile geschrieben, obwohl es sonst schlechter Style ist\n",
    "def square(num): return num**2"
   ]
  },
  {
   "cell_type": "code",
   "execution_count": 8,
   "metadata": {},
   "outputs": [
    {
     "data": {
      "text/plain": [
       "16"
      ]
     },
     "execution_count": 8,
     "metadata": {},
     "output_type": "execute_result"
    }
   ],
   "source": [
    "square(4)"
   ]
  },
  {
   "cell_type": "markdown",
   "metadata": {},
   "source": [
    "Diese Form versucht ein Lambda zu ersetzen. Sie kann dann folgendermaßen geschrieben werden:"
   ]
  },
  {
   "cell_type": "code",
   "execution_count": 9,
   "metadata": {},
   "outputs": [
    {
     "data": {
      "text/plain": [
       "<function __main__.<lambda>>"
      ]
     },
     "execution_count": 9,
     "metadata": {},
     "output_type": "execute_result"
    }
   ],
   "source": [
    "lambda num: num**2"
   ]
  },
  {
   "cell_type": "code",
   "execution_count": 10,
   "metadata": {
    "collapsed": true
   },
   "outputs": [],
   "source": [
    "# Diese Funktion einem Namen zuweisen:\n",
    "square = lambda num: num**2"
   ]
  },
  {
   "cell_type": "code",
   "execution_count": 11,
   "metadata": {},
   "outputs": [
    {
     "data": {
      "text/plain": [
       "25"
      ]
     },
     "execution_count": 11,
     "metadata": {},
     "output_type": "execute_result"
    }
   ],
   "source": [
    "square(5)"
   ]
  },
  {
   "cell_type": "markdown",
   "metadata": {},
   "source": [
    "Und hier haben wir es! Die Zusammenfassung einer Funktion zu einem Lambda Audruck. Schauen wir uns einige weitere Beispiele an:\n",
    "\n",
    "### Beispiel 1: Überprüfen ob eine Zahl gerade ist"
   ]
  },
  {
   "cell_type": "code",
   "execution_count": 12,
   "metadata": {
    "collapsed": true
   },
   "outputs": [],
   "source": [
    "even = lambda x: x%2==0"
   ]
  },
  {
   "cell_type": "code",
   "execution_count": 13,
   "metadata": {},
   "outputs": [
    {
     "data": {
      "text/plain": [
       "False"
      ]
     },
     "execution_count": 13,
     "metadata": {},
     "output_type": "execute_result"
    }
   ],
   "source": [
    "even(3)"
   ]
  },
  {
   "cell_type": "code",
   "execution_count": 14,
   "metadata": {},
   "outputs": [
    {
     "data": {
      "text/plain": [
       "True"
      ]
     },
     "execution_count": 14,
     "metadata": {},
     "output_type": "execute_result"
    }
   ],
   "source": [
    "even(4)"
   ]
  },
  {
   "cell_type": "markdown",
   "metadata": {},
   "source": [
    "### Beispiel 2: Erstes Zeichen eines Strings ausgeben"
   ]
  },
  {
   "cell_type": "code",
   "execution_count": 15,
   "metadata": {
    "collapsed": true
   },
   "outputs": [],
   "source": [
    "erstes = lambda s: s[0]"
   ]
  },
  {
   "cell_type": "code",
   "execution_count": 16,
   "metadata": {},
   "outputs": [
    {
     "data": {
      "text/plain": [
       "'H'"
      ]
     },
     "execution_count": 16,
     "metadata": {},
     "output_type": "execute_result"
    }
   ],
   "source": [
    "erstes('Hallo')"
   ]
  },
  {
   "cell_type": "markdown",
   "metadata": {},
   "source": [
    "### Beispiel 3: Einen String umkehren"
   ]
  },
  {
   "cell_type": "code",
   "execution_count": 17,
   "metadata": {
    "collapsed": true
   },
   "outputs": [],
   "source": [
    "umk = lambda s: s[::-1]"
   ]
  },
  {
   "cell_type": "code",
   "execution_count": 18,
   "metadata": {},
   "outputs": [
    {
     "data": {
      "text/plain": [
       "'ollaH'"
      ]
     },
     "execution_count": 18,
     "metadata": {},
     "output_type": "execute_result"
    }
   ],
   "source": [
    "umk('Hallo')"
   ]
  },
  {
   "cell_type": "markdown",
   "metadata": {},
   "source": [
    "### Beispiel 4: Genau wie bei normalen Funktionen können wir mehr als einen Parameter aufnehmen"
   ]
  },
  {
   "cell_type": "code",
   "execution_count": 19,
   "metadata": {
    "collapsed": true
   },
   "outputs": [],
   "source": [
    "add = lambda x,y: x+y"
   ]
  },
  {
   "cell_type": "code",
   "execution_count": 20,
   "metadata": {},
   "outputs": [
    {
     "data": {
      "text/plain": [
       "7"
      ]
     },
     "execution_count": 20,
     "metadata": {},
     "output_type": "execute_result"
    }
   ],
   "source": [
    "add(3,4)"
   ]
  },
  {
   "cell_type": "markdown",
   "metadata": {},
   "source": [
    "Lambda Ausdrücke können in Verbindung mit map(), filter() und reduce() wirklich glänzen. Jede dieser Funktionen hat eine eigene Lektion. Wenn ihr wirklich an Lambda interessiert seid, dann könnt ihr euch diese anschauen."
   ]
  }
 ],
 "metadata": {
  "kernelspec": {
   "display_name": "Python 3",
   "language": "python",
   "name": "python3"
  },
  "language_info": {
   "codemirror_mode": {
    "name": "ipython",
    "version": 3
   },
   "file_extension": ".py",
   "mimetype": "text/x-python",
   "name": "python",
   "nbconvert_exporter": "python",
   "pygments_lexer": "ipython3",
   "version": "3.8.5"
  }
 },
 "nbformat": 4,
 "nbformat_minor": 2
}