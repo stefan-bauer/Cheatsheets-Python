{
 "cells": [
  {
   "cell_type": "markdown",
   "metadata": {
    "collapsed": true
   },
   "source": [
    "# Verschachtelte Anweisungen und Geltungsbereich\n",
    "\n",
    "Quelle: Datamics\n",
    "\n",
    "Jetzt, da wir unsere eigenen Funktionen zu schreiben gelernt haben, ist es wichtig zu verstehen, wie Python mit Variablen Namen umgeht. Wenn wir einen Variable Namen erstellen wird dieser im sogenannten Namensraum (en.: name space) gespeichert. Variablen Namen haben außerdem einen Geltungsbereich, welcher bestimmt, welche anderen Teile des Codes diesen Namen kennen. \n",
    "\n",
    "Lasst und mit einem kurzen Gedankenexperiment beginnen:"
   ]
  },
  {
   "cell_type": "code",
   "execution_count": 3,
   "metadata": {
    "collapsed": true
   },
   "outputs": [],
   "source": [
    "x = 25\n",
    "\n",
    "x = 25\n",
    "\n",
    "def drucker():\n",
    "    x = 50\n",
    "    return x\n",
    "\n",
    "print(x)\n",
    "print(drucker())"
   ]
  },
  {
   "cell_type": "markdown",
   "metadata": {},
   "source": [
    "Was denkt ihr, wird die Ausgabe für unseren drucker() sein wird? Und was wird print(x) ausgeben? 25 oder 50?"
   ]
  },
  {
   "cell_type": "code",
   "execution_count": 4,
   "metadata": {},
   "outputs": [
    {
     "name": "stdout",
     "output_type": "stream",
     "text": [
      "25\n"
     ]
    }
   ],
   "source": [
    "print(x)"
   ]
  },
  {
   "cell_type": "code",
   "execution_count": 5,
   "metadata": {},
   "outputs": [
    {
     "name": "stdout",
     "output_type": "stream",
     "text": [
      "50\n"
     ]
    }
   ],
   "source": [
    "print(drucker())"
   ]
  },
  {
   "cell_type": "markdown",
   "metadata": {},
   "source": [
    "Interessant! Aber woher weiß Python, welches x wir mit unserem Code meinen? Hier kommt das Konzept des Geltungsbereichs ins Spiel. Python befolgt einige Regeln, um zu entscheiden, welche Variable (so wie x) gemeint ist. Lasst uns diese Regeln betrachten:\n",
    "\n",
    "Dir Idee des Geltungsbereichs ist sehr wichtig zu verstehen, um Variablennamen richtig zu vergeben und aufzurufen.\n",
    "\n",
    "Einfach ausgedrückt kann diese Idee bei 3 grundsätzlichen Regeln beschrieben werden:\n",
    "\n",
    "1. Namenszuweisungen werden lokale Namen per Standard erstellen oder ändern\n",
    "2. Namensreferenzen durchlaufen 4 Bereiche, die da heißen:\n",
    "    * lokal\n",
    "    * einschließende Funktionen\n",
    "    * global\n",
    "    * bereits eingebaut\n",
    "3. Namen die in globalen und nichtlokalen Anweisungen definiert werden ordnen Namen dem Geltungsbereich einschließender Funktionen zu.\n",
    "\n",
    "#### LEGB Regel\n",
    "\n",
    "L: Lokal - Namen die in irgendeiner Form innerhalb einer Funktion (def oder lambda) zugewiesen werden und nicht global in dieser Funktion definiert sind.\n",
    "\n",
    "E: Einschließende Funktionen - Namen im lokalen Geltungsbereich aller einschließenden Funktionen (def oder lambda) von innen nach außen.\n",
    "\n",
    "G: Globale (Module) - Namen die auf der höchsten Ebene einer Datei zugewiesen werden oder innerhalb einer Funktion als global ausgewiesen werden.\n",
    "\n",
    "B: Bereits (in Python) eingebaute - Namen die bereits in die vorinstallierten Module wie range, open, usw. eingebaut sind.\n",
    "\n",
    "## Kurzes Beispiel für LEGB\n",
    "\n",
    "### Lokal"
   ]
  },
  {
   "cell_type": "code",
   "execution_count": 6,
   "metadata": {
    "collapsed": true
   },
   "outputs": [],
   "source": [
    "# x ist hier Lokal\n",
    "f = lambda x:x**2"
   ]
  },
  {
   "cell_type": "markdown",
   "metadata": {},
   "source": [
    "### Einschließende Funktionen\n",
    "\n",
    "Das passiert, wenn wir eine Funktion in einer Funktion haben."
   ]
  },
  {
   "cell_type": "code",
   "execution_count": 8,
   "metadata": {},
   "outputs": [
    {
     "name": "stdout",
     "output_type": "stream",
     "text": [
      "Hallo David\n"
     ]
    }
   ],
   "source": [
    "name = 'Das ist ein globaler Name'\n",
    "\n",
    "def gruss():\n",
    "    # Einschließende Funktion\n",
    "    name = 'David'\n",
    "    \n",
    "    def hallo():\n",
    "        print('Hallo '+name)\n",
    "    \n",
    "    hallo()\n",
    "\n",
    "gruss()"
   ]
  },
  {
   "cell_type": "markdown",
   "metadata": {},
   "source": [
    "Achtet darauf, wie David verwendet wurde, weil die hallo() Funktion in der gruss() Funktion eingeschlossen ist!\n",
    "\n",
    "### Global\n",
    "\n",
    "In Jupyter können wir schnell überprüfen, ob eine Variable global ist, indem wir schauen, ob eine andere Zelle auf sie zugreifen kann."
   ]
  },
  {
   "cell_type": "code",
   "execution_count": 9,
   "metadata": {},
   "outputs": [
    {
     "name": "stdout",
     "output_type": "stream",
     "text": [
      "Das ist ein globaler Name\n"
     ]
    }
   ],
   "source": [
    "print(name)"
   ]
  },
  {
   "cell_type": "markdown",
   "metadata": {},
   "source": [
    "### Bereits eingebaute\n",
    "\n",
    "Das sind die vorinstallierten Funktionsnamen in Python. Überschreibt diese besser nicht!"
   ]
  },
  {
   "cell_type": "code",
   "execution_count": 10,
   "metadata": {},
   "outputs": [
    {
     "data": {
      "text/plain": [
       "<function len>"
      ]
     },
     "execution_count": 10,
     "metadata": {},
     "output_type": "execute_result"
    }
   ],
   "source": [
    "len"
   ]
  },
  {
   "cell_type": "markdown",
   "metadata": {},
   "source": [
    "## Lokale Variablen\n",
    "\n",
    "Wenn ihr Variablen innerhalb einer Funktionsdefinition deklariert, dann sind sie in keiner Weise mit anderen Variablen außerhalb der Funktion verknüpft, die denselben Namen haben. D.h. die Namen  von Variablen sind lokal in Bezug auf Funktionen. Das ist somit der Geltungsbereich der Variablen. Alle Variablen haben den Geltungsbereich des Blocks in dem sie deklariert werden ausgehend von dem Punkt, an dem sie definiert werden.\n",
    "\n",
    "Ein Beispiel:"
   ]
  },
  {
   "cell_type": "code",
   "execution_count": 11,
   "metadata": {},
   "outputs": [
    {
     "name": "stdout",
     "output_type": "stream",
     "text": [
      "x ist 50\n",
      "Lokales x ist jetzt 2\n",
      "x ist noch 50\n"
     ]
    }
   ],
   "source": [
    "x = 50\n",
    "\n",
    "def funk(x):\n",
    "    print('x ist',x)\n",
    "    x = 2\n",
    "    print('Lokales x ist jetzt',x)\n",
    "\n",
    "funk(x)\n",
    "print('x ist noch',x)"
   ]
  },
  {
   "cell_type": "markdown",
   "metadata": {},
   "source": [
    "Das erste Mal, wenn wir den Wert des Namens x ausgeben, also mit der ersten Zeile innerhalb der funk(x) Funktion, nutzt Python die Definition im Hauptblock, also über der Funktion.\n",
    "\n",
    "Danach ordnen wir x den Wert 2 zu. Der Name x ist lokal für unsere Funktion. Wenn wir also den Wert von x in der Funktion ändern, dann bleibt das x des Hauptblocks unberührt.\n",
    "\n",
    "Mit der letzten print() Anweisung geben wir den Wert des x des Hauptblocks aus. Dadurch können wir bestätigen, dass es wirklich unberührt von der lokalen Definition innerhalb der Funktion geblieben ist.\n",
    "\n",
    "## Die global Anweisung\n",
    "\n",
    "Wenn man einen Wert einem Namen des Hauptblocks eines Programms zuordnen möchte, dann muss man Python sagen, dass die Zuweisung nicht lokal, sondern global ist. Dies tun wir durch die Verwendung der global Anweisung. Es ist unmöglich einen Wert einer Variablen außerhalb der Funktion ohne die gloabl Anweisung zuzuordnen.\n",
    "\n",
    "Ihr könnt den Wert solcher Variablen, die außerhalb der Funktion definiert sind, verwenden, sofern es innerhalb keine Variable mit gleichem Namen gibt. Nichtsdestotrotz empfehlen wir das nicht, da es so schwer für den Leser wird, den Code zu lesen. Die global Anweisung macht den Geltungsbereich für alle Leser klar.\n",
    "\n",
    "Ein Beispiel:"
   ]
  },
  {
   "cell_type": "code",
   "execution_count": 12,
   "metadata": {},
   "outputs": [
    {
     "name": "stdout",
     "output_type": "stream",
     "text": [
      "Bevor wir funk() aufrufen ist x:  50\n",
      "Diese Funktion nutzt jetzt das globale x!\n",
      "Durch global wird x zu:  50\n",
      "funk() wurde ausgeführt, x geändert zu:  2\n",
      "Der Wert von x außerhalb von funk() ist jetzt:  2\n"
     ]
    }
   ],
   "source": [
    "x = 50\n",
    "\n",
    "def funk():\n",
    "    global x\n",
    "    print('Diese Funktion nutzt jetzt das globale x!')\n",
    "    print('Durch global wird x zu: ',x)\n",
    "    x = 2\n",
    "    print('funk() wurde ausgeführt, x geändert zu: ',x)\n",
    "\n",
    "print('Bevor wir funk() aufrufen ist x: ',x)\n",
    "funk()\n",
    "print('Der Wert von x außerhalb von funk() ist jetzt: ',x)"
   ]
  },
  {
   "cell_type": "markdown",
   "metadata": {},
   "source": [
    "Die global Anweisung wurde benutzt, um zu definieren, dass x hier eine globale Variable ist. Dadruch ändert sich, wenn wir x innerhalb der Funktion einen Wert zuweisen, auch der des x im Hauptblock des Codes.\n",
    "\n",
    "Man kann mehrere Variablen auf einmal als global deklarieren. Zum Beispiel:\n",
    "\n",
    "    global x, y, z\n",
    "  \n",
    "## Zusammenfassung\n",
    "\n",
    "Ihr solltet jetzt ein gutes Verständnis dafür haben, wie sich der Geltungsbereich von Variablen in Python ausdrückt. Ein letzte Anmerkung hierzu ist, dass ihr globals() und locals() nutzen könnt, um zu überprüfen, welche eurer Variablen aktuell als global oder lokal gespeichert sind.\n",
    "\n",
    "Ein anderer Punkt, den man im Gedächtnis behalten sollte, ist, dass in Python alles Objekte sind. Ich kann Funktionen Variablen zuweisen, so wie ich Zahlen zuweisen kann. Wir werden dies noch einmal brauchen, wenn wir in der Sektion der Dekoratoren sind."
   ]
  }
 ],
 "metadata": {
  "kernelspec": {
   "display_name": "Python 3",
   "language": "python",
   "name": "python3"
  },
  "language_info": {
   "codemirror_mode": {
    "name": "ipython",
    "version": 3
   },
   "file_extension": ".py",
   "mimetype": "text/x-python",
   "name": "python",
   "nbconvert_exporter": "python",
   "pygments_lexer": "ipython3",
   "version": "3.8.5"
  }
 },
 "nbformat": 4,
 "nbformat_minor": 2
}