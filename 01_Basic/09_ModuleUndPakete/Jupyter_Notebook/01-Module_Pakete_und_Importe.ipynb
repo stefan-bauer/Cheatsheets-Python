{
 "cells": [
  {
   "cell_type": "markdown",
   "metadata": {
    "collapsed": true
   },
   "source": [
    "# Module, Pakete und Importe\n",
    "\n",
    "Quelle: Datamics\n",
    "\n",
    "## Was sind Module?\n",
    "\n",
    "Die Verwendung von Modulen in der Programmierung basiert auf dem Konzept des modularen Designs. Dies ist ein Konzept, dass aus dem Ingeniuerwesen stammt. Es hat sich lange vor Computern entwickelt. \n",
    "\n",
    "Mit modularem Design bezeichnet man die Zerlegung eines komplexen Gesamtsystems in einzelne Einheiten, die für sich genommen selbstständig funktionieren können. Und genau diese Einheiten nennt man häufig \"*Module*\". \n",
    "\n",
    "## Warum sind Module wichtig?\n",
    "\n",
    "Module finden sich in sehr vielen Produkten wieder. Prominente Beispiele sind Autos, Smartphones und Computer. Insbesondere letztere sind so weit modularisiert, wie es nur geht. Das gilt für die Hardware ebenso, wie für die Software, die auf den Rechnern läuft.\n",
    "\n",
    "Sie sind deshalb so extrem wichtig, weil sie es ermöglichen, lesbare, zuverlässige und insbesondere gut wartbare Programme zu schreiben. Gerade bei großen Software-Projekten ermöglichen sie eine einfacherer Entwicklungsarbeit. Dabei geht man so vor, dass Programme in logische Teilblöcke (die Module) zerlegt werden. Diese können von unterschiedlichen Teams bearbeitet und später kombiniert werden.\n",
    "\n",
    "## Module in Python\n",
    "\n",
    "Es gibt in dieser Lektion nicht wirklich viel Code, da es für die Inhalte nur an wenigen Stellen Sinn ergibt. Schaut euch die Video Lektion und die zusätzlichen Ressourcen an, um mehr Infos zu erhalten.\n",
    "\n",
    "Hierfür ist die [offizielle Dokumentation](https://docs.python.org/3/tutorial/modules.html) die beste Quelle.\n",
    "\n",
    "Noch etwas extra Info, um zu helfen:\n",
    "\n",
    "Module und Pakete in Python sind einfach Python Dateien mit der .py Endung. Sie implementieren eine Reihe von Funktionen. Module werden durch das `import` Kommando importiert.\n",
    "\n",
    "Um ein Modul zu importieren nutzen wir das `import` Kommando. Schaut euch dazu auch die vollständige Liste der vorinstallierten (built-in) Module an.\n",
    "\n",
    "Wenn ein Modul das erste Mal in ein Python Skript geladen wird, erfolgt die Initialisierung durch einmaliges Ausführen des Modul Codes. Wenn ein anderes Modul nun ein bereits geladenes Modul enthält, wird dieses nicht ein zweites mal geladen\n",
    "\n",
    "Wenn wir beispielsweise das `math` Modul importieren wollen, tippen wir einfach:"
   ]
  },
  {
   "cell_type": "code",
   "execution_count": 1,
   "metadata": {
    "collapsed": true
   },
   "outputs": [],
   "source": [
    "# Die Library importieren\n",
    "import math"
   ]
  },
  {
   "cell_type": "code",
   "execution_count": 2,
   "metadata": {},
   "outputs": [
    {
     "data": {
      "text/plain": [
       "3"
      ]
     },
     "execution_count": 2,
     "metadata": {},
     "output_type": "execute_result"
    }
   ],
   "source": [
    "# Anwendung (Aufrunden)\n",
    "math.ceil(2.4)"
   ]
  },
  {
   "cell_type": "markdown",
   "metadata": {},
   "source": [
    "## Beinhaltete Module erkunden\n",
    "\n",
    "Zwei sehr wichtige Funktionen, um Module zu erkunden, sind die `dir` und die `help` Funktion.\n",
    "\n",
    "Wir können schauen, welche Funktionen in einem Modul beinhaltet sind, indem wir `dir` nutzen:"
   ]
  },
  {
   "cell_type": "code",
   "execution_count": 3,
   "metadata": {},
   "outputs": [
    {
     "name": "stdout",
     "output_type": "stream",
     "text": [
      "['__doc__', '__file__', '__loader__', '__name__', '__package__', '__spec__', 'acos', 'acosh', 'asin', 'asinh', 'atan', 'atan2', 'atanh', 'ceil', 'copysign', 'cos', 'cosh', 'degrees', 'e', 'erf', 'erfc', 'exp', 'expm1', 'fabs', 'factorial', 'floor', 'fmod', 'frexp', 'fsum', 'gamma', 'gcd', 'hypot', 'inf', 'isclose', 'isfinite', 'isinf', 'isnan', 'ldexp', 'lgamma', 'log', 'log10', 'log1p', 'log2', 'modf', 'nan', 'pi', 'pow', 'radians', 'sin', 'sinh', 'sqrt', 'tan', 'tanh', 'tau', 'trunc']\n"
     ]
    }
   ],
   "source": [
    "print(dir(math))"
   ]
  },
  {
   "cell_type": "markdown",
   "metadata": {},
   "source": [
    "Sobald wir die Funktion gefunden haben, die wir aus einem bestimmten Modul benutzen wollen, können wir mehr darüber erfahren, indem wir `help` nutzen."
   ]
  },
  {
   "cell_type": "code",
   "execution_count": 4,
   "metadata": {},
   "outputs": [
    {
     "name": "stdout",
     "output_type": "stream",
     "text": [
      "Help on built-in function ceil in module math:\n",
      "\n",
      "ceil(...)\n",
      "    ceil(x)\n",
      "    \n",
      "    Return the ceiling of x as an Integral.\n",
      "    This is the smallest integer >= x.\n",
      "\n"
     ]
    }
   ],
   "source": [
    "help(math.ceil)"
   ]
  },
  {
   "cell_type": "markdown",
   "metadata": {},
   "source": [
    "## Module schreiben\n",
    "\n",
    "Python Module zu schreiben ist sehr einfach. Was müssen wir also tun, um ein Modul zu erstellen? Dazu erstellt man einfach eine .py Datei mit dem Namen des Moduls. Diese kann dann mit dem Python Dateinamen (ohne .py Endung) und `import` importiert werden.\n",
    "\n",
    "## Pakete schreiben\n",
    "\n",
    "Wenn ein Programm oder Projekt immer umfangreicher wird kann es passieren, dass selbst die Anzahl unserer Module sehr groß wird. Das erschwert es, die Gesamtheit des Codes nachzuvollziehen und zu warten. Was können wir also tun, um zu verhindern, dass wir den Überblick über unsere Module verlieren? Pakete \"schnüren\".\n",
    "\n",
    "Pakete sind Namensräume die selbst mehrere Pakete und Module beinhalten. Sie sind einfach Verzeichnisse, allerdings mit einem Twist.\n",
    "\n",
    "Jedes Paket in Python ist ein Verzeichnis (Ordner), welches eine spezielle Datei namens **\\__init\\__.py** beinhalten muss. Diese Datei kann leer sein; sie zeigt lediglich an, dass das entsprechende Verzeichnis ein Python Paket ist, das wie ein Modul importiert werden kann.\n",
    "\n",
    "Wenn wir ein Verzeichnis erstellen, dass `foo` heißt, können wir darin ein Modul erstellen, das `bar` heißt. Außerdem müssen wir an die **\\__init\\__.py** Datei denken.\n",
    "\n",
    "Um das Modul `bar` zu nutzen, können wir es auf zwei Arten importieren:"
   ]
  },
  {
   "cell_type": "code",
   "execution_count": null,
   "metadata": {
    "collapsed": true
   },
   "outputs": [],
   "source": [
    "# Nur ein Beispiel, funktioniert hier nicht\n",
    "import foo.bar"
   ]
  },
  {
   "cell_type": "code",
   "execution_count": null,
   "metadata": {
    "collapsed": true
   },
   "outputs": [],
   "source": [
    "# oder auf diese Weise\n",
    "from foo import bar"
   ]
  },
  {
   "cell_type": "markdown",
   "metadata": {},
   "source": [
    "Bei der ersten Variante müssen wir immer das foo Präfix benutzen, wenn wir das Modul bar adressieren wollen. Bei der zweiten Variante müssen wir das nicht, da wir das Modul zu unserem Module  Namensraum hinzugefügt haben.\n",
    "\n",
    "Die **\\__init\\__.py** Datei kann darüber entscheiden, welche Module das Paket als API exportiert, während andere Module intern gehalten werden, indem wir die **\\__all\\__** Variable überschreiben:"
   ]
  },
  {
   "cell_type": "code",
   "execution_count": null,
   "metadata": {
    "collapsed": true
   },
   "outputs": [],
   "source": [
    "__init__.py:\n",
    "\n",
    "__all__ = [\"bar\"]"
   ]
  }
 ],
 "metadata": {
  "kernelspec": {
   "display_name": "Python 3",
   "language": "python",
   "name": "python3"
  },
  "language_info": {
   "codemirror_mode": {
    "name": "ipython",
    "version": 3
   },
   "file_extension": ".py",
   "mimetype": "text/x-python",
   "name": "python",
   "nbconvert_exporter": "python",
   "pygments_lexer": "ipython3",
   "version": "3.8.5"
  }
 },
 "nbformat": 4,
 "nbformat_minor": 2
}