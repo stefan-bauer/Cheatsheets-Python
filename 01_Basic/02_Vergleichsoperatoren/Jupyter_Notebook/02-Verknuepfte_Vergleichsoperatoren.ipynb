{
 "cells": [
  {
   "cell_type": "markdown",
   "metadata": {
    "collapsed": true
   },
   "source": [
    "# Verknüpfte Vergleichsoperatoren\n",
    "\n",
    "Quelle: Datamics\n",
    "\n",
    "Ein interessantes Feature von Python ist die Möglichkeit mehrere Vergleiche zu verknüpfen und so komplexere Überprüfungen durchzuführen. Wir können diese verknüpften Vergleiche als Kurzschrift für größere Boolean Ausdrücke verwenden.\n",
    "\n",
    "In dieser Lektion werden wir lernen, wie wir mehrere Vergleiche verknüpfen können, sowie zwei weitere wichtige Statements in Python: <b>and</b> und <b>or</b>.\n",
    "\n",
    "Hier ein paar Beispiele für Verknüpfungen:"
   ]
  },
  {
   "cell_type": "code",
   "execution_count": 1,
   "metadata": {},
   "outputs": [
    {
     "data": {
      "text/plain": [
       "True"
      ]
     },
     "execution_count": 1,
     "metadata": {},
     "output_type": "execute_result"
    }
   ],
   "source": [
    "1 < 2 < 3"
   ]
  },
  {
   "cell_type": "markdown",
   "metadata": {},
   "source": [
    "Das obige Statement überprüft, ob 1 kleiner als 2 ist <b>und</b> 2 gleichzeitig kleiner als 3 ist. Wir hätten dies auch mit dem <b>and</b> Statement schreiben können:"
   ]
  },
  {
   "cell_type": "code",
   "execution_count": 2,
   "metadata": {},
   "outputs": [
    {
     "data": {
      "text/plain": [
       "True"
      ]
     },
     "execution_count": 2,
     "metadata": {},
     "output_type": "execute_result"
    }
   ],
   "source": [
    "1<2 and 2<3"
   ]
  },
  {
   "cell_type": "markdown",
   "metadata": {},
   "source": [
    "Das <b>and</b> Statement stellt sicher, dass zwei Vergleiche zur selben Zeit True (wahr) sind. Lasst uns ein weiteres Beispiel betrachten:"
   ]
  },
  {
   "cell_type": "code",
   "execution_count": 3,
   "metadata": {},
   "outputs": [
    {
     "data": {
      "text/plain": [
       "True"
      ]
     },
     "execution_count": 3,
     "metadata": {},
     "output_type": "execute_result"
    }
   ],
   "source": [
    "1 < 3 > 2"
   ]
  },
  {
   "cell_type": "markdown",
   "metadata": {},
   "source": [
    "Das obige Statement überprüft, ob 3 größer als die beiden anderen Werte ist. Erneut könnten wir das and Statement verwenden:"
   ]
  },
  {
   "cell_type": "code",
   "execution_count": 4,
   "metadata": {},
   "outputs": [
    {
     "data": {
      "text/plain": [
       "True"
      ]
     },
     "execution_count": 4,
     "metadata": {},
     "output_type": "execute_result"
    }
   ],
   "source": [
    "1<3 and 3>2"
   ]
  },
  {
   "cell_type": "markdown",
   "metadata": {},
   "source": [
    "Es ist wichtig festzuhalten, dass Python beide einzelnen Vergleiche überprüft. Wir können außerdem auch <b>or</b> verwenden, um Vergleiche durchzuführen. Zum Beispiel so:"
   ]
  },
  {
   "cell_type": "code",
   "execution_count": 5,
   "metadata": {},
   "outputs": [
    {
     "data": {
      "text/plain": [
       "True"
      ]
     },
     "execution_count": 5,
     "metadata": {},
     "output_type": "execute_result"
    }
   ],
   "source": [
    "1==2 or 2<3"
   ]
  },
  {
   "cell_type": "markdown",
   "metadata": {},
   "source": [
    "Durch das or Statement muss nun nur einer der beiden Vergleiche True (wahr) sein, damit das Gesamtergebnis True (wahr) ist. Hier noch ein weiteres Beispiel, um dies deutlich zu machen:"
   ]
  },
  {
   "cell_type": "code",
   "execution_count": 6,
   "metadata": {},
   "outputs": [
    {
     "data": {
      "text/plain": [
       "True"
      ]
     },
     "execution_count": 6,
     "metadata": {},
     "output_type": "execute_result"
    }
   ],
   "source": [
    "1==1 or 100==1"
   ]
  },
  {
   "cell_type": "markdown",
   "metadata": {},
   "source": [
    "Toll! Als kleine Zusammenfassung dieser Lektion: Ihr solltet ein gutes Verständnis für <b>and</b> und <b>or</b> und deren Verwendung bekommen haben. Außerdem darüber, wie man verknüpfte Vergleiche liest und erstellt.\n",
    "\n",
    "Weiter geht es in einem kurzen Quiz zu dieser Sektion!"
   ]
  }
 ],
 "metadata": {
  "kernelspec": {
   "display_name": "Python 3",
   "language": "python",
   "name": "python3"
  },
  "language_info": {
   "codemirror_mode": {
    "name": "ipython",
    "version": 3
   },
   "file_extension": ".py",
   "mimetype": "text/x-python",
   "name": "python",
   "nbconvert_exporter": "python",
   "pygments_lexer": "ipython3",
   "version": "3.8.5"
  }
 },
 "nbformat": 4,
 "nbformat_minor": 2
}